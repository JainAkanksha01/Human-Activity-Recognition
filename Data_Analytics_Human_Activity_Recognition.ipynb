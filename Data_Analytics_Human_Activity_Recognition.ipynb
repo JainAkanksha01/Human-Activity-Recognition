{
 "cells": [
  {
   "cell_type": "markdown",
   "id": "0ae37db1",
   "metadata": {},
   "source": [
    "## Data Analytics for Human Activity Recognition using Smartphone Sensors"
   ]
  },
  {
   "cell_type": "code",
   "execution_count": 48,
   "id": "3253b007",
   "metadata": {},
   "outputs": [],
   "source": [
    "import pandas as pd\n",
    "import numpy as np\n",
    "import json\n",
    "from collections import Counter\n",
    "\n",
    "import plotly.graph_objects as go\n",
    "import plotly.figure_factory as ff\n",
    "from plotly.subplots import make_subplots\n",
    "import plotly.express as px\n",
    "from plotly.offline import init_notebook_mode, iplot\n",
    "from plotly.colors import n_colors\n",
    "\n",
    "from IPython.core.display import display, HTML, Javascript \n",
    "import IPython.display\n",
    "from IPython.display import display, clear_output\n",
    "\n",
    "import ipywidgets as widgets\n",
    "from ipywidgets import interact, interact_manual\n",
    "\n",
    "import matplotlib as mpl\n",
    "import matplotlib.pyplot as plt\n",
    "\n",
    "import warnings\n",
    "warnings.filterwarnings('ignore')"
   ]
  },
  {
   "cell_type": "code",
   "execution_count": 49,
   "id": "07a36a34",
   "metadata": {},
   "outputs": [],
   "source": [
    "df = pd.read_csv(\"kaggle_survey_2022_responses.csv\")"
   ]
  },
  {
   "cell_type": "code",
   "execution_count": 50,
   "id": "3a656d86",
   "metadata": {},
   "outputs": [
    {
     "data": {
      "text/html": [
       "<div>\n",
       "<style scoped>\n",
       "    .dataframe tbody tr th:only-of-type {\n",
       "        vertical-align: middle;\n",
       "    }\n",
       "\n",
       "    .dataframe tbody tr th {\n",
       "        vertical-align: top;\n",
       "    }\n",
       "\n",
       "    .dataframe thead th {\n",
       "        text-align: right;\n",
       "    }\n",
       "</style>\n",
       "<table border=\"1\" class=\"dataframe\">\n",
       "  <thead>\n",
       "    <tr style=\"text-align: right;\">\n",
       "      <th></th>\n",
       "      <th>Duration (in seconds)</th>\n",
       "      <th>Q2</th>\n",
       "      <th>Q3</th>\n",
       "      <th>Q4</th>\n",
       "      <th>Q5</th>\n",
       "      <th>Q6_1</th>\n",
       "      <th>Q6_2</th>\n",
       "      <th>Q6_3</th>\n",
       "      <th>Q6_4</th>\n",
       "      <th>Q6_5</th>\n",
       "      <th>...</th>\n",
       "      <th>Q44_3</th>\n",
       "      <th>Q44_4</th>\n",
       "      <th>Q44_5</th>\n",
       "      <th>Q44_6</th>\n",
       "      <th>Q44_7</th>\n",
       "      <th>Q44_8</th>\n",
       "      <th>Q44_9</th>\n",
       "      <th>Q44_10</th>\n",
       "      <th>Q44_11</th>\n",
       "      <th>Q44_12</th>\n",
       "    </tr>\n",
       "  </thead>\n",
       "  <tbody>\n",
       "    <tr>\n",
       "      <th>0</th>\n",
       "      <td>Duration (in seconds)</td>\n",
       "      <td>What is your age (# years)?</td>\n",
       "      <td>What is your gender? - Selected Choice</td>\n",
       "      <td>In which country do you currently reside?</td>\n",
       "      <td>Are you currently a student? (high school, uni...</td>\n",
       "      <td>On which platforms have you begun or completed...</td>\n",
       "      <td>On which platforms have you begun or completed...</td>\n",
       "      <td>On which platforms have you begun or completed...</td>\n",
       "      <td>On which platforms have you begun or completed...</td>\n",
       "      <td>On which platforms have you begun or completed...</td>\n",
       "      <td>...</td>\n",
       "      <td>Who/what are your favorite media sources that ...</td>\n",
       "      <td>Who/what are your favorite media sources that ...</td>\n",
       "      <td>Who/what are your favorite media sources that ...</td>\n",
       "      <td>Who/what are your favorite media sources that ...</td>\n",
       "      <td>Who/what are your favorite media sources that ...</td>\n",
       "      <td>Who/what are your favorite media sources that ...</td>\n",
       "      <td>Who/what are your favorite media sources that ...</td>\n",
       "      <td>Who/what are your favorite media sources that ...</td>\n",
       "      <td>Who/what are your favorite media sources that ...</td>\n",
       "      <td>Who/what are your favorite media sources that ...</td>\n",
       "    </tr>\n",
       "    <tr>\n",
       "      <th>1</th>\n",
       "      <td>121</td>\n",
       "      <td>30-34</td>\n",
       "      <td>Man</td>\n",
       "      <td>India</td>\n",
       "      <td>No</td>\n",
       "      <td>NaN</td>\n",
       "      <td>NaN</td>\n",
       "      <td>NaN</td>\n",
       "      <td>NaN</td>\n",
       "      <td>NaN</td>\n",
       "      <td>...</td>\n",
       "      <td>NaN</td>\n",
       "      <td>NaN</td>\n",
       "      <td>NaN</td>\n",
       "      <td>NaN</td>\n",
       "      <td>NaN</td>\n",
       "      <td>NaN</td>\n",
       "      <td>NaN</td>\n",
       "      <td>NaN</td>\n",
       "      <td>NaN</td>\n",
       "      <td>NaN</td>\n",
       "    </tr>\n",
       "    <tr>\n",
       "      <th>2</th>\n",
       "      <td>462</td>\n",
       "      <td>30-34</td>\n",
       "      <td>Man</td>\n",
       "      <td>Algeria</td>\n",
       "      <td>No</td>\n",
       "      <td>NaN</td>\n",
       "      <td>NaN</td>\n",
       "      <td>NaN</td>\n",
       "      <td>NaN</td>\n",
       "      <td>NaN</td>\n",
       "      <td>...</td>\n",
       "      <td>NaN</td>\n",
       "      <td>NaN</td>\n",
       "      <td>NaN</td>\n",
       "      <td>NaN</td>\n",
       "      <td>NaN</td>\n",
       "      <td>NaN</td>\n",
       "      <td>NaN</td>\n",
       "      <td>NaN</td>\n",
       "      <td>NaN</td>\n",
       "      <td>NaN</td>\n",
       "    </tr>\n",
       "    <tr>\n",
       "      <th>3</th>\n",
       "      <td>293</td>\n",
       "      <td>18-21</td>\n",
       "      <td>Man</td>\n",
       "      <td>Egypt</td>\n",
       "      <td>Yes</td>\n",
       "      <td>Coursera</td>\n",
       "      <td>edX</td>\n",
       "      <td>NaN</td>\n",
       "      <td>DataCamp</td>\n",
       "      <td>NaN</td>\n",
       "      <td>...</td>\n",
       "      <td>NaN</td>\n",
       "      <td>Kaggle (notebooks, forums, etc)</td>\n",
       "      <td>NaN</td>\n",
       "      <td>YouTube (Kaggle YouTube, Cloud AI Adventures, ...</td>\n",
       "      <td>Podcasts (Chai Time Data Science, O’Reilly Dat...</td>\n",
       "      <td>NaN</td>\n",
       "      <td>NaN</td>\n",
       "      <td>NaN</td>\n",
       "      <td>NaN</td>\n",
       "      <td>NaN</td>\n",
       "    </tr>\n",
       "    <tr>\n",
       "      <th>4</th>\n",
       "      <td>851</td>\n",
       "      <td>55-59</td>\n",
       "      <td>Man</td>\n",
       "      <td>France</td>\n",
       "      <td>No</td>\n",
       "      <td>Coursera</td>\n",
       "      <td>NaN</td>\n",
       "      <td>Kaggle Learn Courses</td>\n",
       "      <td>NaN</td>\n",
       "      <td>NaN</td>\n",
       "      <td>...</td>\n",
       "      <td>NaN</td>\n",
       "      <td>Kaggle (notebooks, forums, etc)</td>\n",
       "      <td>Course Forums (forums.fast.ai, Coursera forums...</td>\n",
       "      <td>NaN</td>\n",
       "      <td>NaN</td>\n",
       "      <td>Blogs (Towards Data Science, Analytics Vidhya,...</td>\n",
       "      <td>NaN</td>\n",
       "      <td>NaN</td>\n",
       "      <td>NaN</td>\n",
       "      <td>NaN</td>\n",
       "    </tr>\n",
       "  </tbody>\n",
       "</table>\n",
       "<p>5 rows × 296 columns</p>\n",
       "</div>"
      ],
      "text/plain": [
       "   Duration (in seconds)                           Q2  \\\n",
       "0  Duration (in seconds)  What is your age (# years)?   \n",
       "1                    121                        30-34   \n",
       "2                    462                        30-34   \n",
       "3                    293                        18-21   \n",
       "4                    851                        55-59   \n",
       "\n",
       "                                       Q3  \\\n",
       "0  What is your gender? - Selected Choice   \n",
       "1                                     Man   \n",
       "2                                     Man   \n",
       "3                                     Man   \n",
       "4                                     Man   \n",
       "\n",
       "                                          Q4  \\\n",
       "0  In which country do you currently reside?   \n",
       "1                                      India   \n",
       "2                                    Algeria   \n",
       "3                                      Egypt   \n",
       "4                                     France   \n",
       "\n",
       "                                                  Q5  \\\n",
       "0  Are you currently a student? (high school, uni...   \n",
       "1                                                 No   \n",
       "2                                                 No   \n",
       "3                                                Yes   \n",
       "4                                                 No   \n",
       "\n",
       "                                                Q6_1  \\\n",
       "0  On which platforms have you begun or completed...   \n",
       "1                                                NaN   \n",
       "2                                                NaN   \n",
       "3                                           Coursera   \n",
       "4                                           Coursera   \n",
       "\n",
       "                                                Q6_2  \\\n",
       "0  On which platforms have you begun or completed...   \n",
       "1                                                NaN   \n",
       "2                                                NaN   \n",
       "3                                                edX   \n",
       "4                                                NaN   \n",
       "\n",
       "                                                Q6_3  \\\n",
       "0  On which platforms have you begun or completed...   \n",
       "1                                                NaN   \n",
       "2                                                NaN   \n",
       "3                                                NaN   \n",
       "4                               Kaggle Learn Courses   \n",
       "\n",
       "                                                Q6_4  \\\n",
       "0  On which platforms have you begun or completed...   \n",
       "1                                                NaN   \n",
       "2                                                NaN   \n",
       "3                                           DataCamp   \n",
       "4                                                NaN   \n",
       "\n",
       "                                                Q6_5  ...  \\\n",
       "0  On which platforms have you begun or completed...  ...   \n",
       "1                                                NaN  ...   \n",
       "2                                                NaN  ...   \n",
       "3                                                NaN  ...   \n",
       "4                                                NaN  ...   \n",
       "\n",
       "                                               Q44_3  \\\n",
       "0  Who/what are your favorite media sources that ...   \n",
       "1                                                NaN   \n",
       "2                                                NaN   \n",
       "3                                                NaN   \n",
       "4                                                NaN   \n",
       "\n",
       "                                               Q44_4  \\\n",
       "0  Who/what are your favorite media sources that ...   \n",
       "1                                                NaN   \n",
       "2                                                NaN   \n",
       "3                    Kaggle (notebooks, forums, etc)   \n",
       "4                    Kaggle (notebooks, forums, etc)   \n",
       "\n",
       "                                               Q44_5  \\\n",
       "0  Who/what are your favorite media sources that ...   \n",
       "1                                                NaN   \n",
       "2                                                NaN   \n",
       "3                                                NaN   \n",
       "4  Course Forums (forums.fast.ai, Coursera forums...   \n",
       "\n",
       "                                               Q44_6  \\\n",
       "0  Who/what are your favorite media sources that ...   \n",
       "1                                                NaN   \n",
       "2                                                NaN   \n",
       "3  YouTube (Kaggle YouTube, Cloud AI Adventures, ...   \n",
       "4                                                NaN   \n",
       "\n",
       "                                               Q44_7  \\\n",
       "0  Who/what are your favorite media sources that ...   \n",
       "1                                                NaN   \n",
       "2                                                NaN   \n",
       "3  Podcasts (Chai Time Data Science, O’Reilly Dat...   \n",
       "4                                                NaN   \n",
       "\n",
       "                                               Q44_8  \\\n",
       "0  Who/what are your favorite media sources that ...   \n",
       "1                                                NaN   \n",
       "2                                                NaN   \n",
       "3                                                NaN   \n",
       "4  Blogs (Towards Data Science, Analytics Vidhya,...   \n",
       "\n",
       "                                               Q44_9  \\\n",
       "0  Who/what are your favorite media sources that ...   \n",
       "1                                                NaN   \n",
       "2                                                NaN   \n",
       "3                                                NaN   \n",
       "4                                                NaN   \n",
       "\n",
       "                                              Q44_10  \\\n",
       "0  Who/what are your favorite media sources that ...   \n",
       "1                                                NaN   \n",
       "2                                                NaN   \n",
       "3                                                NaN   \n",
       "4                                                NaN   \n",
       "\n",
       "                                              Q44_11  \\\n",
       "0  Who/what are your favorite media sources that ...   \n",
       "1                                                NaN   \n",
       "2                                                NaN   \n",
       "3                                                NaN   \n",
       "4                                                NaN   \n",
       "\n",
       "                                              Q44_12  \n",
       "0  Who/what are your favorite media sources that ...  \n",
       "1                                                NaN  \n",
       "2                                                NaN  \n",
       "3                                                NaN  \n",
       "4                                                NaN  \n",
       "\n",
       "[5 rows x 296 columns]"
      ]
     },
     "execution_count": 50,
     "metadata": {},
     "output_type": "execute_result"
    }
   ],
   "source": [
    "df.head(5)"
   ]
  },
  {
   "cell_type": "code",
   "execution_count": 51,
   "id": "a960c9e7",
   "metadata": {},
   "outputs": [],
   "source": [
    "questions_titles =  df[0:1]"
   ]
  },
  {
   "cell_type": "code",
   "execution_count": 52,
   "id": "10c3e4e3",
   "metadata": {},
   "outputs": [],
   "source": [
    "df = df[1:]"
   ]
  },
  {
   "cell_type": "code",
   "execution_count": 53,
   "id": "bc113ece",
   "metadata": {},
   "outputs": [],
   "source": [
    "def create_scatter_plot(\n",
    "    x_axis_values,\n",
    "    y_axis_values, \n",
    "    hover_template,\n",
    "    marker_color, \n",
    "    marker_size, \n",
    "    title,\n",
    "    subtitle,\n",
    "    subtitle_explain):\n",
    "    \"\"\"It creates a Scatter Plot.\"\"\"\n",
    "    \n",
    "    # Define the trace\n",
    "    trace = go.Scatter(\n",
    "        x=x_axis_values, \n",
    "        y=y_axis_values,\n",
    "        mode='markers', \n",
    "        hovertemplate=hover_template,\n",
    "        marker=dict(\n",
    "            color=marker_color,\n",
    "            size=marker_size,\n",
    "            showscale=True,\n",
    "            colorbar=dict(title=\"Percent\"),\n",
    "            opacity=0.7,\n",
    "            colorscale = 'RdBu_r'\n",
    "        )\n",
    "    )\n",
    "\n",
    "    # Define the layout\n",
    "    layout = go.Layout(\n",
    "        width=900, \n",
    "        height=950, \n",
    "        plot_bgcolor=\"#fff\", \n",
    "        paper_bgcolor=\"#fff\", \n",
    "        showlegend = False, \n",
    "        title = {\n",
    "            'text' : f\"<span style='font-size:30px; font-family:Times New Roman'>{title}</span><br><br><sup>{subtitle}</sup><br><sup>{subtitle_explain}</sup>\", \n",
    "            'x':0.5,\n",
    "            'xanchor': 'center'\n",
    "        }, \n",
    "        font = {\"color\" : '#7b6b59'},\n",
    "        margin = dict(t=170),\n",
    "    )\n",
    "    \n",
    "    fig = go.Figure(data = [trace], layout = layout)\n",
    "    \n",
    "    fig.update_xaxes(\n",
    "        showline=False,\n",
    "        linewidth=1,\n",
    "        linecolor='#c9c4c3',\n",
    "        gridcolor='#c9c4c3',\n",
    "        tickfont=dict(size=14, family='Verdana', color='#7b6b59'), \n",
    "        title=\"\",\n",
    "        title_font=dict(size=14, family='Verdana', color='#f57369'),\n",
    "        showgrid=False, \n",
    "        tickangle=325\n",
    "    )\n",
    "    fig.update_yaxes(\n",
    "        showline=False,\n",
    "        linewidth=1,\n",
    "        linecolor='#000',\n",
    "        gridcolor='#fff',\n",
    "        tickfont=dict(size=14, family='Verdana', color='#a43725'), \n",
    "        title=\"\",\n",
    "        title_font=dict(size=14, family='Verdana', color='#f57369'),\n",
    "        showgrid=False\n",
    "    )\n",
    "\n",
    "    fig.show()\n"
   ]
  },
  {
   "cell_type": "code",
   "execution_count": 54,
   "id": "6875ba92",
   "metadata": {},
   "outputs": [],
   "source": [
    "def get_bar_plot_trace(x_values, y_values, display_text, top_n, rest_n, hovertext, orientation=\"h\"):\n",
    "    \"\"\"It creates the trace for a bar plot.\"\"\"\n",
    "    \n",
    "    trace = go.Bar(\n",
    "        y = y_values,\n",
    "        x = x_values,\n",
    "        name = \"\",\n",
    "        orientation = orientation,\n",
    "        marker = dict(color = [\"#E6b6a4\"]*rest_n +  [\"#a43725\"]*top_n),\n",
    "        text = display_text,\n",
    "        texttemplate =  \"<b style='color: #fff'>%{text}% </b>\",\n",
    "        textposition = [\"outside\"]*rest_n + [\"inside\"]*top_n,\n",
    "        hovertext=hovertext\n",
    "    )\n",
    "    \n",
    "    return trace\n"
   ]
  },
  {
   "cell_type": "code",
   "execution_count": 55,
   "id": "dcf1954d",
   "metadata": {},
   "outputs": [],
   "source": [
    "def create_single_bar_plot(x_values, y_values, display_text, top_n, rest_n, hovertext, title, subtitle=\"\", orientation=\"h\"):\n",
    "    \"\"\"It creates single bar plots.\"\"\"\n",
    "\n",
    "    trace = get_bar_plot_trace(x_values, y_values, display_text, top_n, rest_n, hovertext, orientation)\n",
    "\n",
    "    large_title_format = f\"<span style='font-size:30px; font-family:Times New Roman'>{title}</span>\"\n",
    "    \n",
    "    layout = dict(\n",
    "        title = large_title_format,\n",
    "        font = dict(color = '#7b6b59'),\n",
    "        margin = dict(t=120),\n",
    "        yaxis={'categoryorder':'array','categoryarray': x_values},\n",
    "        xaxis=dict(side=\"top\", zerolinecolor = \"#4d4d4d\", zerolinewidth = 0.5, gridcolor=\"#e7e7e7\", tickformat=\",.1%\"),\n",
    "        width = 800,\n",
    "        height= 700,\n",
    "        plot_bgcolor = \"white\"\n",
    "    )\n",
    "\n",
    "    fig = go.Figure(data = trace, layout = layout)\n",
    "    fig.show()\n",
    "    "
   ]
  },
  {
   "cell_type": "code",
   "execution_count": 56,
   "id": "f7ec6ac2",
   "metadata": {},
   "outputs": [],
   "source": [
    "def create_box_plot(df, x_column_name, y_column_name, title):\n",
    "    \"\"\"It creates bar plots.\"\"\"\n",
    "\n",
    "    fig = px.box(\n",
    "        df, \n",
    "        x=x_column_name, \n",
    "        y=y_column_name,\n",
    "        title=f\"<span style='font-size:30px; color:#7b6b59; font-family:Times New Roman'>{title}</span>\")\n",
    "\n",
    "    layout = go.Layout(\n",
    "        xaxis= {\"title\": \"\"},\n",
    "        yaxis= {\"title\": \"Compensation in USD\"},\n",
    "        font = dict(color = 'black'),\n",
    "        paper_bgcolor='rgba(0,0,0,0)',\n",
    "        plot_bgcolor='rgba(0,0,0,0)',\n",
    "        height=800,\n",
    "        width=1050\n",
    "    )\n",
    "\n",
    "    fig.update_layout(layout)\n",
    "    fig.update_yaxes(showline=True, linewidth=1, gridcolor='lightgrey')\n",
    "    fig.update_traces(marker_color='#b39a74')\n",
    "\n",
    "    fig.show() "
   ]
  },
  {
   "cell_type": "code",
   "execution_count": 57,
   "id": "2d8b99ab",
   "metadata": {},
   "outputs": [],
   "source": [
    "def create_heatmap(z, x, y, annotation_text, color_scale, title, subtitle=\"\", xlabel=\"\", ylabel=\"\"):\n",
    "    \"\"\"It creates a heatmap.\"\"\"\n",
    "\n",
    "    fig = ff.create_annotated_heatmap(z, x=x, y=y, annotation_text=annotation_text,  colorscale=color_scale)\n",
    "\n",
    "    large_title_format = f\"<span style='font-size:30px; font-family:Times New Roman'>{title}</span>\"\n",
    "    small_title_format = f\"<span style='font-size:14px; font-family:Helvetica'>{subtitle}</b></span>\"\n",
    "\n",
    "\n",
    "    layout = dict(\n",
    "        title = large_title_format + \"<br>\" + small_title_format,\n",
    "        font = dict(color = '#7b6b59'),\n",
    "         xaxis= {\"title\": xlabel},\n",
    "        yaxis= {\"title\": ylabel},\n",
    "\n",
    "    )\n",
    "\n",
    "    fig['layout'].update(layout)\n",
    "    fig[\"layout\"][\"xaxis\"].update(side=\"bottom\")\n",
    "    fig.show()"
   ]
  },
  {
   "cell_type": "code",
   "execution_count": 58,
   "id": "455d7ab4",
   "metadata": {},
   "outputs": [],
   "source": [
    "map_ml_adoption = {\n",
    "    \"No (we do not use ML methods)\": \"Not Started\" , \n",
    "    \"We are exploring ML methods (and may one day put a model into production)\": \"Exploration Stage\",\n",
    "    \"We use ML methods for generating insights (but do not put working models into production)\": \"Generating Insights\", \n",
    "    \"We recently started using ML methods (i.e., models in production for less than 2 years)\": \"Models in Production\",\n",
    "    \"We have well established ML methods (i.e., models in production for more than 2 years)\": \"Models in Production\",\n",
    "    \"I do not know\": \"Not Known\",\n",
    "    np.nan: \"Not Known\"\n",
    "}"
   ]
  },
  {
   "cell_type": "code",
   "execution_count": 59,
   "id": "5ab3ef01",
   "metadata": {},
   "outputs": [],
   "source": [
    "# Colors for different Machine Learning Adoption Stages\n",
    "ml_adoption_color_discrete_map={\n",
    "    \"Models in Production\":\"#a43725\", \n",
    "    \"Generating Insights\": \"#c07156\", \n",
    "    \"Exploration Stage\":\"#E6b6a4\",\n",
    "    \"Not Started\": \"#e0d5bd\",\n",
    "    \"Not Known\": \"#beb29e\"\n",
    "}"
   ]
  },
  {
   "cell_type": "code",
   "execution_count": 60,
   "id": "9944d9b1",
   "metadata": {},
   "outputs": [],
   "source": [
    "# Rephrasing the ML Adoption (state) by adding numbers for sorting them alphabetically\n",
    "map_ml_usage = {\n",
    "    \"No (we do not use ML methods)\": \"0. Not Started<br><sup>(No ML)</sup>\" , \n",
    "    \"We are exploring ML methods (and may one day put a model into production)\": \"1. Exploration<br><sup>Only Exploring ML</sup>\",\n",
    "    \"We use ML methods for generating insights (but do not put working models into production)\": \"2. Beginner Stage<br><sup>Use ML only for Insights</sup>\", \n",
    "    \"We recently started using ML methods (i.e., models in production for less than 2 years)\": \"3. Intermediate Stage<br><sup>Recently Started Using ML</sup>\",\n",
    "    \"We have well established ML methods (i.e., models in production for more than 2 years)\": \"4. Advance Stage<br><sup>Well Established ML</sup>\",\n",
    "    \"I do not know\": \"Not Known\",\n",
    "    np.nan: \"Not Known\"   \n",
    "}\n"
   ]
  },
  {
   "cell_type": "code",
   "execution_count": 61,
   "id": "45cb3596",
   "metadata": {},
   "outputs": [],
   "source": [
    "# Rephrasing the Company Size by adding numbers for sorting them alphabetically\n",
    "map_company_size = {\n",
    "    \"0-49 employees\": \"1. 0-49 employees\" , \n",
    "    \"50-249 employees\": \"2. 50-249 employees\",\n",
    "    \"250-999 employees\": \"3. 250-999 employees\",\n",
    "    \"1000-9,999 employees\": \"4. 1000-9,999 employees\",\n",
    "    \"10,000 or more employees\": \"5. 10,000 or more employees\",\n",
    "    np.nan: np.nan   \n",
    "}\n"
   ]
  },
  {
   "cell_type": "code",
   "execution_count": 62,
   "id": "ba1a66d3",
   "metadata": {},
   "outputs": [],
   "source": [
    "# Rephrasing the Coding experience by adding numbers for sorting them alphabetically\n",
    "map_programming_experience = {\n",
    "    \"I have never written code\": \"1. 0 years\",\n",
    "    \"< 1 years\": \"2. < 1 years\",\n",
    "    \"1-3 years\": \"3. 1-3 years\",\n",
    "    \"3-5 years\": \"4. 3-5 years\",\n",
    "    \"5-10 years\": \"5. 5-10 years\",\n",
    "    \"10-20 years\": \"6. 10-20 years\",\n",
    "    \"20+ years\": \"7. 20+ years\",\n",
    "    np.nan: np.nan\n",
    "}"
   ]
  },
  {
   "cell_type": "code",
   "execution_count": 63,
   "id": "e7c4feaf",
   "metadata": {},
   "outputs": [],
   "source": [
    "# Rephrasing the Machine Learning experience by adding numbers for sorting them alphabetically\n",
    "map_ml_experience = {\n",
    "    \"I do not use machine learning methods\": \"1. 0 years\",\n",
    "    \"Under 1 year\": \"2. < 1 years\",\n",
    "    \"1-2 years\": \"3. 1-2 years\",\n",
    "    \"2-3 years\": \"4. 2-3 years\",\n",
    "    \"3-4 years\": \"5. 3-4 years\",\n",
    "    \"4-5 years\": \"6. 4-5 years\",\n",
    "    \"5-10 years\": \"7. 5-10 years\",\n",
    "    \"10-20 years\": \"8. 10-20 years\",\n",
    "    \"20+ years\": \"9. 20+ years\",\n",
    "    np.nan: np.nan\n",
    "}\n"
   ]
  },
  {
   "cell_type": "code",
   "execution_count": 64,
   "id": "d00bb5d3",
   "metadata": {},
   "outputs": [],
   "source": [
    "# Rephrasing the Data Science Teams Size by adding numbers for sorting them alphabetically\n",
    "map_data_team_size = {\n",
    "    \"0\": \"1. 0\",\n",
    "    \"1-2\": \"2. 1-2\",\n",
    "    \"3-4\": \"3. 3-4\",\n",
    "    \"5-9\": \"4. 5-9\",\n",
    "    \"10-14\": \"5. 10-14\",\n",
    "    \"15-19\": \"6. 15-19\",\n",
    "    \"20+\": \"7. 20+\",\n",
    "    np.nan: np.nan\n",
    "}"
   ]
  },
  {
   "cell_type": "code",
   "execution_count": 65,
   "id": "8c67feb6",
   "metadata": {},
   "outputs": [],
   "source": [
    "# Get a plotly Dataset with all the countries along with the continent in which they belong\n",
    "countries_df = px.data.gapminder().query(\"year == 2007\")\n",
    "countries_df[\"country\"] = countries_df[\"country\"].str.strip()\n",
    "\n",
    "map_country_continent = {\n",
    "    \"United States of America\": \"Americas\", \n",
    "    \"United Kingdom of Great Britain and Northern Ireland\": \"Europe\",\n",
    "    \"South Korea\": \"Asia\", \n",
    "    \"Russia\": \"Europe\",\n",
    "    \"Viet Nam\": \"Asia\",\n",
    "    \"Hong Kong (S.A.R.)\": \"Asia\",\n",
    "    \"Ukraine\": \"Europe\",\n",
    "    \"United Arab Emirates\": \"Asia\",\n",
    "    \"Iran, Islamic Republic of...\": \"Asia\",\n",
    "    \n",
    "}"
   ]
  },
  {
   "cell_type": "code",
   "execution_count": 66,
   "id": "696a5b21",
   "metadata": {},
   "outputs": [],
   "source": [
    "def fix_map_country_continent(map_countries: dict, country:str, continent:str):\n",
    "    \"\"\"It maps a country to its continent\"\"\"\n",
    "    if country in map_countries:\n",
    "        return map_countries[country]\n",
    "    \n",
    "    return continent"
   ]
  },
  {
   "cell_type": "code",
   "execution_count": 67,
   "id": "aa8644b6",
   "metadata": {},
   "outputs": [],
   "source": [
    "def usage_of_a_product_or_service(question_title: str, row: pd.Series, columns_list: list) -> str:\n",
    "    \"\"\"It takes as input a question title with multiple choices answers and checks\n",
    "    if the respondent has selected at least one of the answers or not. \n",
    "    For instance, if we want to check if a respondent uses cloud computing platforms, question 31, then we should \n",
    "    check if the participant has selected any cloud computing platform choice Q31_1, Q31_2, etc. \n",
    "    \"\"\"\n",
    "    for col in columns_list:\n",
    "        if col.startswith(question_title):\n",
    "\n",
    "            if not pd.isnull(row[col]) and row[col].strip().lower() != \"none\":\n",
    "                return \"Yes\"\n",
    "    # If all the columns (choices), Q31_1, Q31_2, etc have empty values then the user hasn't selected \n",
    "    # any platform so we return NO as the answer\n",
    "    return \"No\""
   ]
  },
  {
   "cell_type": "code",
   "execution_count": 68,
   "id": "2e83bd94",
   "metadata": {},
   "outputs": [],
   "source": [
    "def categorize_education(education:str) -> str:\n",
    "    \"\"\"Assigns more general categories to education levels.\"\"\"\n",
    "    if education in [\n",
    "        \"No formal education past high school\", \n",
    "        \"Some college/university study without earning a bachelor’s degree\"\n",
    "    ]:\n",
    "        return \"Lower than Bachelor\"\n",
    "    \n",
    "    if education == \"Bachelor’s degree\":\n",
    "        return \"Bachelor\"\n",
    "    \n",
    "    if education == \"Master’s degree\":\n",
    "        return \"Master\"\n",
    "    \n",
    "    if education in [\"Doctoral degree\", \"Professional doctorate\"]:\n",
    "        return \"Higher than Master\"\n",
    "    \n",
    "    return \"Other\""
   ]
  },
  {
   "cell_type": "code",
   "execution_count": 69,
   "id": "7f0e60fe",
   "metadata": {},
   "outputs": [],
   "source": [
    "def extract_and_count_all_the_multiple_choice_answers(question, df):\n",
    "    \"\"\"If we have a question with multiple choices it returns a data\n",
    "    frame with the number of occurrences of each choice in the responses. \n",
    "    \"\"\"\n",
    "    \n",
    "    # e.g List of choices for Question, e.g. Q19 (computer vision methods)\n",
    "    choices_list = [choice for choice in df.columns if choice.startswith(question)]\n",
    "    dfs_list = []\n",
    "    for col in choices_list:\n",
    "        dfs_list.append(df.groupby([col]).agg({\"Q2\" : \"count\"}).reset_index().rename(columns={col: question, \"Q2\": \"counts\"}))\n",
    "\n",
    "    agg_df = pd.concat(dfs_list)\n",
    "    agg_df[\"relative_percent\"] = agg_df.apply(lambda x : (x[\"counts\"] / df.shape[0]), axis = 1)\n",
    "    agg_df = agg_df.sort_values(by=[\"relative_percent\"], ascending=True)\n",
    "    \n",
    "    return agg_df\n",
    "\n"
   ]
  },
  {
   "cell_type": "code",
   "execution_count": 70,
   "id": "8b1b7ebb",
   "metadata": {},
   "outputs": [],
   "source": [
    "def assign_label(service:str):\n",
    "    \"\"\"It returns the company name to which the product belongs. \n",
    "    It takes care only of the 3 big techs: Google, Microsoft, Amazon.\n",
    "    \"\"\"\n",
    "    \n",
    "    if \"google\" in service.lower():\n",
    "        return \"Google\"\n",
    "    \n",
    "    if \"aws\" in service.lower() or \"amazon\" in service.lower():\n",
    "        return \"Amazon\"\n",
    "    \n",
    "    if \"azure\" in service.lower() or \"microsoft\" in service.lower():\n",
    "        return \"Microsoft\"\n",
    "    \n",
    "    if \"ibm\" in service.lower():\n",
    "        return \"IBM\"\n",
    "\n",
    "    return \"Other\""
   ]
  },
  {
   "cell_type": "code",
   "execution_count": 71,
   "id": "bf26fe66",
   "metadata": {},
   "outputs": [],
   "source": [
    "def extract_the_number_of_responses(question_title: str, row: pd.Series, columns_list: list) -> str:\n",
    "    \"\"\"It takes as input an answer from a multiple-choice question and counts the number \n",
    "    of respondents that have chosen it.\n",
    "    \"\"\"\n",
    "    num_responses = 0 \n",
    "    for col in columns_list:\n",
    "        if col.startswith(question_title):\n",
    "            if not pd.isnull(row[col]):\n",
    "                num_responses = num_responses + 1 \n",
    "\n",
    "    return num_responses\n"
   ]
  },
  {
   "cell_type": "code",
   "execution_count": 72,
   "id": "6acb8937",
   "metadata": {},
   "outputs": [],
   "source": [
    "def wrap_df_text(df):\n",
    "    return display(HTML(df.style.background_gradient(axis=0,  cmap='YlOrBr', subset=[\"Average number of selected choices\"]).to_html().replace(\"\\\\n\",\"<br>\")))"
   ]
  },
  {
   "cell_type": "code",
   "execution_count": 73,
   "id": "18cb22f1",
   "metadata": {},
   "outputs": [],
   "source": [
    "scope_df = df[\n",
    "    (df[\"Q5\"] == \"No\") & \n",
    "    (df[\"Q24\"].notnull()) &\n",
    "    (df[\"Q23\"] != \"Currently not employed\")\n",
    "]\n"
   ]
  },
  {
   "cell_type": "code",
   "execution_count": 74,
   "id": "f9d67389",
   "metadata": {},
   "outputs": [],
   "source": [
    "scope_df = df[\n",
    "    (df[\"Q5\"] == \"No\") & \n",
    "    (df[\"Q24\"].notnull()) &\n",
    "    (df[\"Q23\"] != \"Currently not employed\")\n",
    "]\n",
    "\n",
    "\n",
    "# Assign more general categories to the state of Machine Learning Adoption in industry\n",
    "scope_df[\"ML_adoption_class\"] = scope_df[\"Q27\"].apply(lambda x : map_ml_adoption[x])\n",
    "\n",
    "# Rephrasing the ML Adoption (state) by adding numbers for sorting them alphabetically\n",
    "scope_df[\"ML_adoption\"] = scope_df[\"Q27\"].apply(lambda x : map_ml_usage[x])\n",
    "\n",
    "# Rephrasing the size of the company by adding numbers for sorting them alphabetically\n",
    "scope_df[\"Q25\"] = scope_df[\"Q25\"].apply(lambda x : map_company_size[x])\n",
    "\n",
    "# Check if the respondent used Cloud Computing Platforms\n",
    "scope_df[\"Cloud_usage\"] = scope_df.apply(lambda row: usage_of_a_product_or_service(\"Q31\", row, list(scope_df.columns)), axis=1)\n",
    "scope_df[\"NLP_methods_usage\"] = scope_df.apply(lambda row: usage_of_a_product_or_service(\"Q20\", row, list(scope_df.columns)), axis=1)\n",
    "scope_df[\"CV_methods_usage\"] = scope_df.apply(lambda row: usage_of_a_product_or_service(\"Q19\", row, list(scope_df.columns)), axis=1)\n",
    "scope_df[\"GPU_usage\"] = scope_df.apply(lambda row: usage_of_a_product_or_service(\"Q42\", row, list(scope_df.columns)), axis=1)\n",
    "\n",
    "\n",
    "scope_df[\"Q11\"] = scope_df[\"Q11\"].apply(lambda x : map_programming_experience[x])\n",
    "scope_df[\"Q16\"] = scope_df[\"Q16\"].apply(lambda x : map_ml_experience[x])\n",
    "scope_df[\"Q26\"] = scope_df[\"Q26\"].apply(lambda x : map_data_team_size[x])\n",
    "\n",
    "industry_totals = scope_df[\"Q24\"].value_counts().to_dict()"
   ]
  },
  {
   "cell_type": "code",
   "execution_count": 75,
   "id": "5074e6d4",
   "metadata": {},
   "outputs": [
    {
     "data": {
      "image/png": "[encoded data removed]",
      "text/plain": [
       "<Figure size 600x500 with 1 Axes>"
      ]
     },
     "metadata": {},
     "output_type": "display_data"
    }
   ],
   "source": [
    "mpl.rcParams.update(mpl.rcParamsDefault)\n",
    "\n",
    "fig1 = plt.figure(figsize=(6,5),facecolor='white')\n",
    "\n",
    "\n",
    "ax1 = fig1.add_subplot(1,1,1)\n",
    "font = 'monospace'\n",
    "ax1.text(0.8, 0.8, \"Key figures\",color='white',fontsize=24, fontweight='bold', fontfamily=font, ha='center')\n",
    "\n",
    "\n",
    "ax1.text(0, 0.4, \"{:,d}\".format(df.shape[0]), color='white', fontsize=20, fontweight='bold', fontfamily=font, ha='center')\n",
    "ax1.text(0, 0.001, \"Number of respondents \\nin the survey\",color='white',fontsize=15, fontweight='light', fontfamily=font,ha='center')\n",
    "\n",
    "ax1.text(0.7, 0.4, \"{}\".format(scope_df.shape[0]), color='white', fontsize=20, fontweight='bold', fontfamily=font, ha='center')\n",
    "ax1.text(0.7, 0.001, \"Number of professionals \\n(who are currently employed \\nin a particuler industry)\",color='white',fontsize=15, fontweight='light', fontfamily=font,ha='center')\n",
    "\n",
    "\n",
    "ax1.text(1.5, 0.4, \"{}\".format(round((scope_df.shape[0]/df.shape[0] )*100, 2))+\"%\", color='white', fontsize=20, fontweight='bold', fontfamily=font, ha='center')\n",
    "ax1.text(1.5, 0.001, \"Number of the responders are \\nin the analysis scope\",color='white',fontsize=15, fontweight='light', fontfamily=font, ha='center')\n",
    "\n",
    "ax1.set_yticklabels('')\n",
    "ax1.tick_params(axis='y',length=0)\n",
    "ax1.tick_params(axis='x',length=0)\n",
    "ax1.set_xticklabels('')\n",
    "\n",
    "for direction in ['top','right','left','bottom']:\n",
    "    ax1.spines[direction].set_visible(False)\n",
    "\n",
    "fig1.subplots_adjust(top=0.9, bottom=0.2, left=0, hspace=1)\n",
    "\n",
    "fig1.patch.set_linewidth(8)\n",
    "fig1.patch.set_edgecolor('white')\n",
    "fig1.patch.set_facecolor('black')\n",
    "ax1.set_facecolor('black')\n",
    "    \n",
    "\n",
    "plt.show()"
   ]
  },
  {
   "cell_type": "code",
   "execution_count": 76,
   "id": "a451823a",
   "metadata": {},
   "outputs": [],
   "source": [
    "multiple_choice_questions = {}\n",
    "seen_columns = []\n",
    "\n",
    "for col in df.columns:\n",
    "    question = col.split(\"_\")[0]\n",
    "    if question in seen_columns:\n",
    "        if question not in multiple_choice_questions:\n",
    "            multiple_choice_questions[question] = 2\n",
    "        else: \n",
    "            multiple_choice_questions[question] = multiple_choice_questions[question] + 1\n",
    "    else:\n",
    "        seen_columns.append(question)\n",
    "\n",
    "# Create a new column in the dataframe for each of the multiple-choice questions which\n",
    "# shows the number of the choices that the respondent selected for each one respectively.\n",
    "for col in list(multiple_choice_questions.keys()):\n",
    "    scope_df[f\"{col}_number_of_responses\"] = scope_df.apply(\n",
    "        lambda x : extract_the_number_of_responses(col,x, df.columns), axis = 1)\n",
    "    "
   ]
  },
  {
   "cell_type": "code",
   "execution_count": 77,
   "id": "6bccc40f",
   "metadata": {},
   "outputs": [
    {
     "data": {
      "text/html": [
       "<style type=\"text/css\">\n",
       "#T_ce5c2_row0_col2, #T_ce5c2_row6_col2 {\n",
       "  background-color: #ffffe5;\n",
       "  color: #000000;\n",
       "}\n",
       "#T_ce5c2_row1_col2 {\n",
       "  background-color: #6bc072;\n",
       "  color: #000000;\n",
       "}\n",
       "#T_ce5c2_row2_col2 {\n",
       "  background-color: #3aa257;\n",
       "  color: #f1f1f1;\n",
       "}\n",
       "#T_ce5c2_row3_col2 {\n",
       "  background-color: #aedd8e;\n",
       "  color: #000000;\n",
       "}\n",
       "#T_ce5c2_row4_col2 {\n",
       "  background-color: #a1d889;\n",
       "  color: #000000;\n",
       "}\n",
       "#T_ce5c2_row5_col2 {\n",
       "  background-color: #004529;\n",
       "  color: #f1f1f1;\n",
       "}\n",
       "</style>\n",
       "<table id=\"T_ce5c2\">\n",
       "  <thead>\n",
       "    <tr>\n",
       "      <th class=\"blank level0\" >&nbsp;</th>\n",
       "      <th id=\"T_ce5c2_level0_col0\" class=\"col_heading level0 col0\" >Years of Machine Learning Experience</th>\n",
       "      <th id=\"T_ce5c2_level0_col1\" class=\"col_heading level0 col1\" >Nbr of respondents</th>\n",
       "      <th id=\"T_ce5c2_level0_col2\" class=\"col_heading level0 col2\" >%</th>\n",
       "    </tr>\n",
       "  </thead>\n",
       "  <tbody>\n",
       "    <tr>\n",
       "      <th id=\"T_ce5c2_level0_row0\" class=\"row_heading level0 row0\" >0</th>\n",
       "      <td id=\"T_ce5c2_row0_col0\" class=\"data row0 col0\" >2. < 1 years</td>\n",
       "      <td id=\"T_ce5c2_row0_col1\" class=\"data row0 col1\" >11</td>\n",
       "      <td id=\"T_ce5c2_row0_col2\" class=\"data row0 col2\" >6.400000</td>\n",
       "    </tr>\n",
       "    <tr>\n",
       "      <th id=\"T_ce5c2_level0_row1\" class=\"row_heading level0 row1\" >1</th>\n",
       "      <td id=\"T_ce5c2_row1_col0\" class=\"data row1 col0\" >3. 1-2 years</td>\n",
       "      <td id=\"T_ce5c2_row1_col1\" class=\"data row1 col1\" >28</td>\n",
       "      <td id=\"T_ce5c2_row1_col2\" class=\"data row1 col2\" >16.280000</td>\n",
       "    </tr>\n",
       "    <tr>\n",
       "      <th id=\"T_ce5c2_level0_row2\" class=\"row_heading level0 row2\" >2</th>\n",
       "      <td id=\"T_ce5c2_row2_col0\" class=\"data row2 col0\" >4. 2-3 years</td>\n",
       "      <td id=\"T_ce5c2_row2_col1\" class=\"data row2 col1\" >32</td>\n",
       "      <td id=\"T_ce5c2_row2_col2\" class=\"data row2 col2\" >18.600000</td>\n",
       "    </tr>\n",
       "    <tr>\n",
       "      <th id=\"T_ce5c2_level0_row3\" class=\"row_heading level0 row3\" >3</th>\n",
       "      <td id=\"T_ce5c2_row3_col0\" class=\"data row3 col0\" >5. 3-4 years</td>\n",
       "      <td id=\"T_ce5c2_row3_col1\" class=\"data row3 col1\" >23</td>\n",
       "      <td id=\"T_ce5c2_row3_col2\" class=\"data row3 col2\" >13.370000</td>\n",
       "    </tr>\n",
       "    <tr>\n",
       "      <th id=\"T_ce5c2_level0_row4\" class=\"row_heading level0 row4\" >4</th>\n",
       "      <td id=\"T_ce5c2_row4_col0\" class=\"data row4 col0\" >6. 4-5 years</td>\n",
       "      <td id=\"T_ce5c2_row4_col1\" class=\"data row4 col1\" >24</td>\n",
       "      <td id=\"T_ce5c2_row4_col2\" class=\"data row4 col2\" >13.950000</td>\n",
       "    </tr>\n",
       "    <tr>\n",
       "      <th id=\"T_ce5c2_level0_row5\" class=\"row_heading level0 row5\" >5</th>\n",
       "      <td id=\"T_ce5c2_row5_col0\" class=\"data row5 col0\" >7. 5-10 years</td>\n",
       "      <td id=\"T_ce5c2_row5_col1\" class=\"data row5 col1\" >43</td>\n",
       "      <td id=\"T_ce5c2_row5_col2\" class=\"data row5 col2\" >25.000000</td>\n",
       "    </tr>\n",
       "    <tr>\n",
       "      <th id=\"T_ce5c2_level0_row6\" class=\"row_heading level0 row6\" >6</th>\n",
       "      <td id=\"T_ce5c2_row6_col0\" class=\"data row6 col0\" >8. 10-20 years</td>\n",
       "      <td id=\"T_ce5c2_row6_col1\" class=\"data row6 col1\" >11</td>\n",
       "      <td id=\"T_ce5c2_row6_col2\" class=\"data row6 col2\" >6.400000</td>\n",
       "    </tr>\n",
       "  </tbody>\n",
       "</table>\n"
      ],
      "text/plain": [
       "<pandas.io.formats.style.Styler at 0x156866550>"
      ]
     },
     "execution_count": 77,
     "metadata": {},
     "output_type": "execute_result"
    }
   ],
   "source": [
    "respondents_mean_responses = scope_df[[f\"{col}_number_of_responses\" for col in list(multiple_choice_questions.keys())]].mean(axis = 1).reset_index().rename(columns={0: \"Mean number of responses\"})\n",
    "#respondents_mean_responses[\"Mean number of responses\"].mean()\n",
    "# (respondents_mean_responses[\n",
    "#     respondents_mean_responses[\"Mean number of responses\"] > 3\n",
    "# ].shape[0]/scope_df.shape[0])*100\n",
    "\n",
    "outliers = scope_df.filter(items=respondents_mean_responses[respondents_mean_responses[\"Mean number of responses\"] > 3][\"index\"].to_list(), axis=0)\n",
    "outliers = outliers.groupby(\n",
    "    [\"Q16\"]\n",
    ").agg(\n",
    "    {\"Q2\" : \"count\"}\n",
    ").reset_index().rename(\n",
    "    columns={\"Q2\": \"Nbr of respondents\", \"Q16\": \"Years of Machine Learning Experience\"}\n",
    ").sort_values(by=[\"Years of Machine Learning Experience\"])\n",
    "outliers[\"%\"] = outliers.apply(lambda x : x[\"Nbr of respondents\"] / outliers[\"Nbr of respondents\"].sum(), axis = 1)\n",
    "outliers[\"%\"] = np.round(outliers[\"%\"]* 100, 2)\n",
    "outliers.style.background_gradient(axis=0,  cmap='YlGn', subset=[\"%\"])"
   ]
  },
  {
   "cell_type": "code",
   "execution_count": 78,
   "id": "10c15f1c",
   "metadata": {},
   "outputs": [
    {
     "data": {
      "text/html": [
       "<style type=\"text/css\">\n",
       "#T_6e7dc_row0_col2 {\n",
       "  background-color: #ffffe5;\n",
       "  color: #000000;\n",
       "}\n",
       "#T_6e7dc_row1_col2 {\n",
       "  background-color: #4cb063;\n",
       "  color: #f1f1f1;\n",
       "}\n",
       "#T_6e7dc_row2_col2, #T_6e7dc_row5_col2 {\n",
       "  background-color: #97d385;\n",
       "  color: #000000;\n",
       "}\n",
       "#T_6e7dc_row3_col2 {\n",
       "  background-color: #004529;\n",
       "  color: #f1f1f1;\n",
       "}\n",
       "#T_6e7dc_row4_col2 {\n",
       "  background-color: #248644;\n",
       "  color: #f1f1f1;\n",
       "}\n",
       "</style>\n",
       "<table id=\"T_6e7dc\">\n",
       "  <thead>\n",
       "    <tr>\n",
       "      <th class=\"blank level0\" >&nbsp;</th>\n",
       "      <th id=\"T_6e7dc_level0_col0\" class=\"col_heading level0 col0\" >Years of Coding Experience</th>\n",
       "      <th id=\"T_6e7dc_level0_col1\" class=\"col_heading level0 col1\" >Nbr of respondents</th>\n",
       "      <th id=\"T_6e7dc_level0_col2\" class=\"col_heading level0 col2\" >%</th>\n",
       "    </tr>\n",
       "  </thead>\n",
       "  <tbody>\n",
       "    <tr>\n",
       "      <th id=\"T_6e7dc_level0_row0\" class=\"row_heading level0 row0\" >0</th>\n",
       "      <td id=\"T_6e7dc_row0_col0\" class=\"data row0 col0\" >2. < 1 years</td>\n",
       "      <td id=\"T_6e7dc_row0_col1\" class=\"data row0 col1\" >10</td>\n",
       "      <td id=\"T_6e7dc_row0_col2\" class=\"data row0 col2\" >5.810000</td>\n",
       "    </tr>\n",
       "    <tr>\n",
       "      <th id=\"T_6e7dc_level0_row1\" class=\"row_heading level0 row1\" >1</th>\n",
       "      <td id=\"T_6e7dc_row1_col0\" class=\"data row1 col0\" >3. 1-3 years</td>\n",
       "      <td id=\"T_6e7dc_row1_col1\" class=\"data row1 col1\" >31</td>\n",
       "      <td id=\"T_6e7dc_row1_col2\" class=\"data row1 col2\" >18.020000</td>\n",
       "    </tr>\n",
       "    <tr>\n",
       "      <th id=\"T_6e7dc_level0_row2\" class=\"row_heading level0 row2\" >2</th>\n",
       "      <td id=\"T_6e7dc_row2_col0\" class=\"data row2 col0\" >4. 3-5 years</td>\n",
       "      <td id=\"T_6e7dc_row2_col1\" class=\"data row2 col1\" >25</td>\n",
       "      <td id=\"T_6e7dc_row2_col2\" class=\"data row2 col2\" >14.530000</td>\n",
       "    </tr>\n",
       "    <tr>\n",
       "      <th id=\"T_6e7dc_level0_row3\" class=\"row_heading level0 row3\" >3</th>\n",
       "      <td id=\"T_6e7dc_row3_col0\" class=\"data row3 col0\" >5. 5-10 years</td>\n",
       "      <td id=\"T_6e7dc_row3_col1\" class=\"data row3 col1\" >45</td>\n",
       "      <td id=\"T_6e7dc_row3_col2\" class=\"data row3 col2\" >26.160000</td>\n",
       "    </tr>\n",
       "    <tr>\n",
       "      <th id=\"T_6e7dc_level0_row4\" class=\"row_heading level0 row4\" >4</th>\n",
       "      <td id=\"T_6e7dc_row4_col0\" class=\"data row4 col0\" >6. 10-20 years</td>\n",
       "      <td id=\"T_6e7dc_row4_col1\" class=\"data row4 col1\" >36</td>\n",
       "      <td id=\"T_6e7dc_row4_col2\" class=\"data row4 col2\" >20.930000</td>\n",
       "    </tr>\n",
       "    <tr>\n",
       "      <th id=\"T_6e7dc_level0_row5\" class=\"row_heading level0 row5\" >5</th>\n",
       "      <td id=\"T_6e7dc_row5_col0\" class=\"data row5 col0\" >7. 20+ years</td>\n",
       "      <td id=\"T_6e7dc_row5_col1\" class=\"data row5 col1\" >25</td>\n",
       "      <td id=\"T_6e7dc_row5_col2\" class=\"data row5 col2\" >14.530000</td>\n",
       "    </tr>\n",
       "  </tbody>\n",
       "</table>\n"
      ],
      "text/plain": [
       "<pandas.io.formats.style.Styler at 0x16a1affd0>"
      ]
     },
     "execution_count": 78,
     "metadata": {},
     "output_type": "execute_result"
    }
   ],
   "source": [
    "outliers = scope_df.filter(items=respondents_mean_responses[respondents_mean_responses[\"Mean number of responses\"] > 3][\"index\"].to_list(), axis=0)\n",
    "outliers = outliers.groupby(\n",
    "    [\"Q11\"]\n",
    ").agg(\n",
    "    {\"Q2\" : \"count\"}\n",
    ").reset_index().rename(\n",
    "    columns={\"Q2\": \"Nbr of respondents\", \"Q11\": \"Years of Coding Experience\"}\n",
    ").sort_values(by=[\"Years of Coding Experience\"])\n",
    "outliers[\"%\"] = outliers.apply(lambda x : x[\"Nbr of respondents\"] / outliers[\"Nbr of respondents\"].sum(), axis = 1)\n",
    "outliers[\"%\"] = np.round(outliers[\"%\"]* 100, 2)\n",
    "outliers.style.background_gradient(axis=0,  cmap='YlGn', subset=[\"%\"])"
   ]
  },
  {
   "cell_type": "code",
   "execution_count": 79,
   "id": "0b1a0597",
   "metadata": {},
   "outputs": [
    {
     "data": {
      "text/html": [
       "<style type=\"text/css\">\n",
       "#T_244df_row0_col3, #T_244df_row1_col3, #T_244df_row3_col3, #T_244df_row6_col3, #T_244df_row7_col3, #T_244df_row12_col3 {\n",
       "  background-color: #e1640e;\n",
       "  color: #f1f1f1;\n",
       "}\n",
       "#T_244df_row2_col3, #T_244df_row10_col3, #T_244df_row20_col3, #T_244df_row22_col3, #T_244df_row23_col3 {\n",
       "  background-color: #ffffe5;\n",
       "  color: #000000;\n",
       "}\n",
       "#T_244df_row4_col3, #T_244df_row8_col3, #T_244df_row24_col3 {\n",
       "  background-color: #662506;\n",
       "  color: #f1f1f1;\n",
       "}\n",
       "#T_244df_row5_col3, #T_244df_row9_col3, #T_244df_row11_col3, #T_244df_row13_col3, #T_244df_row14_col3, #T_244df_row15_col3, #T_244df_row16_col3, #T_244df_row17_col3, #T_244df_row18_col3, #T_244df_row19_col3, #T_244df_row21_col3 {\n",
       "  background-color: #fece65;\n",
       "  color: #000000;\n",
       "}\n",
       "</style>\n",
       "<table id=\"T_244df\">\n",
       "  <thead>\n",
       "    <tr>\n",
       "      <th class=\"blank level0\" >&nbsp;</th>\n",
       "      <th id=\"T_244df_level0_col0\" class=\"col_heading level0 col0\" >Question</th>\n",
       "      <th id=\"T_244df_level0_col1\" class=\"col_heading level0 col1\" >Question Title</th>\n",
       "      <th id=\"T_244df_level0_col2\" class=\"col_heading level0 col2\" >Nbr of available Choices</th>\n",
       "      <th id=\"T_244df_level0_col3\" class=\"col_heading level0 col3\" >Average number of selected choices</th>\n",
       "    </tr>\n",
       "  </thead>\n",
       "  <tbody>\n",
       "    <tr>\n",
       "      <th id=\"T_244df_level0_row0\" class=\"row_heading level0 row0\" >0</th>\n",
       "      <td id=\"T_244df_row0_col0\" class=\"data row0 col0\" >Q6</td>\n",
       "      <td id=\"T_244df_row0_col1\" class=\"data row0 col1\" >On which platforms have you begun or completed data science courses?</td>\n",
       "      <td id=\"T_244df_row0_col2\" class=\"data row0 col2\" >12</td>\n",
       "      <td id=\"T_244df_row0_col3\" class=\"data row0 col3\" >2</td>\n",
       "    </tr>\n",
       "    <tr>\n",
       "      <th id=\"T_244df_level0_row1\" class=\"row_heading level0 row1\" >1</th>\n",
       "      <td id=\"T_244df_row1_col0\" class=\"data row1 col0\" >Q7</td>\n",
       "      <td id=\"T_244df_row1_col1\" class=\"data row1 col1\" >What products or platforms did you find to be most helpful when you first\n",
       "started studying data science?</td>\n",
       "      <td id=\"T_244df_row1_col2\" class=\"data row1 col2\" >7</td>\n",
       "      <td id=\"T_244df_row1_col3\" class=\"data row1 col3\" >2</td>\n",
       "    </tr>\n",
       "    <tr>\n",
       "      <th id=\"T_244df_level0_row2\" class=\"row_heading level0 row2\" >2</th>\n",
       "      <td id=\"T_244df_row2_col0\" class=\"data row2 col0\" >Q10</td>\n",
       "      <td id=\"T_244df_row2_col1\" class=\"data row2 col1\" >Did your research make use of machine learning? - Yes, the research made\n",
       "advances related to some novel machine learning method (theoretical research)</td>\n",
       "      <td id=\"T_244df_row2_col2\" class=\"data row2 col2\" >3</td>\n",
       "      <td id=\"T_244df_row2_col3\" class=\"data row2 col3\" >0</td>\n",
       "    </tr>\n",
       "    <tr>\n",
       "      <th id=\"T_244df_level0_row3\" class=\"row_heading level0 row3\" >3</th>\n",
       "      <td id=\"T_244df_row3_col0\" class=\"data row3 col0\" >Q12</td>\n",
       "      <td id=\"T_244df_row3_col1\" class=\"data row3 col1\" >What programming languages do you use on a regular basis?</td>\n",
       "      <td id=\"T_244df_row3_col2\" class=\"data row3 col2\" >15</td>\n",
       "      <td id=\"T_244df_row3_col3\" class=\"data row3 col3\" >2</td>\n",
       "    </tr>\n",
       "    <tr>\n",
       "      <th id=\"T_244df_level0_row4\" class=\"row_heading level0 row4\" >4</th>\n",
       "      <td id=\"T_244df_row4_col0\" class=\"data row4 col0\" >Q13</td>\n",
       "      <td id=\"T_244df_row4_col1\" class=\"data row4 col1\" >Which of the following integrated development environments (IDE's) do you use on\n",
       "a regular basis?</td>\n",
       "      <td id=\"T_244df_row4_col2\" class=\"data row4 col2\" >14</td>\n",
       "      <td id=\"T_244df_row4_col3\" class=\"data row4 col3\" >3</td>\n",
       "    </tr>\n",
       "    <tr>\n",
       "      <th id=\"T_244df_level0_row5\" class=\"row_heading level0 row5\" >5</th>\n",
       "      <td id=\"T_244df_row5_col0\" class=\"data row5 col0\" >Q14</td>\n",
       "      <td id=\"T_244df_row5_col1\" class=\"data row5 col1\" >Do you use any of the following hosted notebook products?</td>\n",
       "      <td id=\"T_244df_row5_col2\" class=\"data row5 col2\" >16</td>\n",
       "      <td id=\"T_244df_row5_col3\" class=\"data row5 col3\" >1</td>\n",
       "    </tr>\n",
       "    <tr>\n",
       "      <th id=\"T_244df_level0_row6\" class=\"row_heading level0 row6\" >6</th>\n",
       "      <td id=\"T_244df_row6_col0\" class=\"data row6 col0\" >Q15</td>\n",
       "      <td id=\"T_244df_row6_col1\" class=\"data row6 col1\" >Do you use any of the following data visualization libraries on a regular basis?</td>\n",
       "      <td id=\"T_244df_row6_col2\" class=\"data row6 col2\" >15</td>\n",
       "      <td id=\"T_244df_row6_col3\" class=\"data row6 col3\" >2</td>\n",
       "    </tr>\n",
       "    <tr>\n",
       "      <th id=\"T_244df_level0_row7\" class=\"row_heading level0 row7\" >7</th>\n",
       "      <td id=\"T_244df_row7_col0\" class=\"data row7 col0\" >Q17</td>\n",
       "      <td id=\"T_244df_row7_col1\" class=\"data row7 col1\" >Which of the following machine learning frameworks do you use on a regular\n",
       "basis?</td>\n",
       "      <td id=\"T_244df_row7_col2\" class=\"data row7 col2\" >15</td>\n",
       "      <td id=\"T_244df_row7_col3\" class=\"data row7 col3\" >2</td>\n",
       "    </tr>\n",
       "    <tr>\n",
       "      <th id=\"T_244df_level0_row8\" class=\"row_heading level0 row8\" >8</th>\n",
       "      <td id=\"T_244df_row8_col0\" class=\"data row8 col0\" >Q18</td>\n",
       "      <td id=\"T_244df_row8_col1\" class=\"data row8 col1\" >Which of the following ML algorithms do you use on a regular basis?</td>\n",
       "      <td id=\"T_244df_row8_col2\" class=\"data row8 col2\" >14</td>\n",
       "      <td id=\"T_244df_row8_col3\" class=\"data row8 col3\" >3</td>\n",
       "    </tr>\n",
       "    <tr>\n",
       "      <th id=\"T_244df_level0_row9\" class=\"row_heading level0 row9\" >9</th>\n",
       "      <td id=\"T_244df_row9_col0\" class=\"data row9 col0\" >Q19</td>\n",
       "      <td id=\"T_244df_row9_col1\" class=\"data row9 col1\" >Which categories of computer vision methods do you use on a regular basis?</td>\n",
       "      <td id=\"T_244df_row9_col2\" class=\"data row9 col2\" >8</td>\n",
       "      <td id=\"T_244df_row9_col3\" class=\"data row9 col3\" >1</td>\n",
       "    </tr>\n",
       "    <tr>\n",
       "      <th id=\"T_244df_level0_row10\" class=\"row_heading level0 row10\" >10</th>\n",
       "      <td id=\"T_244df_row10_col0\" class=\"data row10 col0\" >Q20</td>\n",
       "      <td id=\"T_244df_row10_col1\" class=\"data row10 col1\" >Which of the following natural language processing (NLP) methods do you use on a\n",
       "regular basis?</td>\n",
       "      <td id=\"T_244df_row10_col2\" class=\"data row10 col2\" >6</td>\n",
       "      <td id=\"T_244df_row10_col3\" class=\"data row10 col3\" >0</td>\n",
       "    </tr>\n",
       "    <tr>\n",
       "      <th id=\"T_244df_level0_row11\" class=\"row_heading level0 row11\" >11</th>\n",
       "      <td id=\"T_244df_row11_col0\" class=\"data row11 col0\" >Q21</td>\n",
       "      <td id=\"T_244df_row11_col1\" class=\"data row11 col1\" >Do you download pre-trained model weights from any of the following services?</td>\n",
       "      <td id=\"T_244df_row11_col2\" class=\"data row11 col2\" >10</td>\n",
       "      <td id=\"T_244df_row11_col3\" class=\"data row11 col3\" >1</td>\n",
       "    </tr>\n",
       "    <tr>\n",
       "      <th id=\"T_244df_level0_row12\" class=\"row_heading level0 row12\" >12</th>\n",
       "      <td id=\"T_244df_row12_col0\" class=\"data row12 col0\" >Q28</td>\n",
       "      <td id=\"T_244df_row12_col1\" class=\"data row12 col1\" >Select any activities that make up an important part of your role at work:</td>\n",
       "      <td id=\"T_244df_row12_col2\" class=\"data row12 col2\" >8</td>\n",
       "      <td id=\"T_244df_row12_col3\" class=\"data row12 col3\" >2</td>\n",
       "    </tr>\n",
       "    <tr>\n",
       "      <th id=\"T_244df_level0_row13\" class=\"row_heading level0 row13\" >13</th>\n",
       "      <td id=\"T_244df_row13_col0\" class=\"data row13 col0\" >Q31</td>\n",
       "      <td id=\"T_244df_row13_col1\" class=\"data row13 col1\" >Which of the following cloud computing platforms do you use?</td>\n",
       "      <td id=\"T_244df_row13_col2\" class=\"data row13 col2\" >12</td>\n",
       "      <td id=\"T_244df_row13_col3\" class=\"data row13 col3\" >1</td>\n",
       "    </tr>\n",
       "    <tr>\n",
       "      <th id=\"T_244df_level0_row14\" class=\"row_heading level0 row14\" >14</th>\n",
       "      <td id=\"T_244df_row14_col0\" class=\"data row14 col0\" >Q33</td>\n",
       "      <td id=\"T_244df_row14_col1\" class=\"data row14 col1\" >Do you use any of the following cloud computing products?</td>\n",
       "      <td id=\"T_244df_row14_col2\" class=\"data row14 col2\" >5</td>\n",
       "      <td id=\"T_244df_row14_col3\" class=\"data row14 col3\" >1</td>\n",
       "    </tr>\n",
       "    <tr>\n",
       "      <th id=\"T_244df_level0_row15\" class=\"row_heading level0 row15\" >15</th>\n",
       "      <td id=\"T_244df_row15_col0\" class=\"data row15 col0\" >Q34</td>\n",
       "      <td id=\"T_244df_row15_col1\" class=\"data row15 col1\" >Do you use any of the following data storage products?</td>\n",
       "      <td id=\"T_244df_row15_col2\" class=\"data row15 col2\" >8</td>\n",
       "      <td id=\"T_244df_row15_col3\" class=\"data row15 col3\" >1</td>\n",
       "    </tr>\n",
       "    <tr>\n",
       "      <th id=\"T_244df_level0_row16\" class=\"row_heading level0 row16\" >16</th>\n",
       "      <td id=\"T_244df_row16_col0\" class=\"data row16 col0\" >Q35</td>\n",
       "      <td id=\"T_244df_row16_col1\" class=\"data row16 col1\" >Do you use any of the following data products (relational databases, data\n",
       "warehouses, data lakes, or similar)?</td>\n",
       "      <td id=\"T_244df_row16_col2\" class=\"data row16 col2\" >16</td>\n",
       "      <td id=\"T_244df_row16_col3\" class=\"data row16 col3\" >1</td>\n",
       "    </tr>\n",
       "    <tr>\n",
       "      <th id=\"T_244df_level0_row17\" class=\"row_heading level0 row17\" >17</th>\n",
       "      <td id=\"T_244df_row17_col0\" class=\"data row17 col0\" >Q36</td>\n",
       "      <td id=\"T_244df_row17_col1\" class=\"data row17 col1\" >Do you use any of the following business intelligence tools?</td>\n",
       "      <td id=\"T_244df_row17_col2\" class=\"data row17 col2\" >15</td>\n",
       "      <td id=\"T_244df_row17_col3\" class=\"data row17 col3\" >1</td>\n",
       "    </tr>\n",
       "    <tr>\n",
       "      <th id=\"T_244df_level0_row18\" class=\"row_heading level0 row18\" >18</th>\n",
       "      <td id=\"T_244df_row18_col0\" class=\"data row18 col0\" >Q37</td>\n",
       "      <td id=\"T_244df_row18_col1\" class=\"data row18 col1\" >Do you use any of the following managed machine learning products on a regular\n",
       "basis?</td>\n",
       "      <td id=\"T_244df_row18_col2\" class=\"data row18 col2\" >13</td>\n",
       "      <td id=\"T_244df_row18_col3\" class=\"data row18 col3\" >1</td>\n",
       "    </tr>\n",
       "    <tr>\n",
       "      <th id=\"T_244df_level0_row19\" class=\"row_heading level0 row19\" >19</th>\n",
       "      <td id=\"T_244df_row19_col0\" class=\"data row19 col0\" >Q38</td>\n",
       "      <td id=\"T_244df_row19_col1\" class=\"data row19 col1\" >Do you use any of the following automated machine learning tools?</td>\n",
       "      <td id=\"T_244df_row19_col2\" class=\"data row19 col2\" >8</td>\n",
       "      <td id=\"T_244df_row19_col3\" class=\"data row19 col3\" >1</td>\n",
       "    </tr>\n",
       "    <tr>\n",
       "      <th id=\"T_244df_level0_row20\" class=\"row_heading level0 row20\" >20</th>\n",
       "      <td id=\"T_244df_row20_col0\" class=\"data row20 col0\" >Q39</td>\n",
       "      <td id=\"T_244df_row20_col1\" class=\"data row20 col1\" >Do you use any of the following products to serve your machine learning models?</td>\n",
       "      <td id=\"T_244df_row20_col2\" class=\"data row20 col2\" >12</td>\n",
       "      <td id=\"T_244df_row20_col3\" class=\"data row20 col3\" >0</td>\n",
       "    </tr>\n",
       "    <tr>\n",
       "      <th id=\"T_244df_level0_row21\" class=\"row_heading level0 row21\" >21</th>\n",
       "      <td id=\"T_244df_row21_col0\" class=\"data row21 col0\" >Q40</td>\n",
       "      <td id=\"T_244df_row21_col1\" class=\"data row21 col1\" >Do you use any tools to help monitor your machine learning models and/or\n",
       "experiments?</td>\n",
       "      <td id=\"T_244df_row21_col2\" class=\"data row21 col2\" >15</td>\n",
       "      <td id=\"T_244df_row21_col3\" class=\"data row21 col3\" >1</td>\n",
       "    </tr>\n",
       "    <tr>\n",
       "      <th id=\"T_244df_level0_row22\" class=\"row_heading level0 row22\" >22</th>\n",
       "      <td id=\"T_244df_row22_col0\" class=\"data row22 col0\" >Q41</td>\n",
       "      <td id=\"T_244df_row22_col1\" class=\"data row22 col1\" >Do you use any of the following responsible or ethical AI products in your\n",
       "machine learning practices?</td>\n",
       "      <td id=\"T_244df_row22_col2\" class=\"data row22 col2\" >9</td>\n",
       "      <td id=\"T_244df_row22_col3\" class=\"data row22 col3\" >0</td>\n",
       "    </tr>\n",
       "    <tr>\n",
       "      <th id=\"T_244df_level0_row23\" class=\"row_heading level0 row23\" >23</th>\n",
       "      <td id=\"T_244df_row23_col0\" class=\"data row23 col0\" >Q42</td>\n",
       "      <td id=\"T_244df_row23_col1\" class=\"data row23 col1\" >Do you use any of the following types of specialized hardware when training\n",
       "machine learning models?</td>\n",
       "      <td id=\"T_244df_row23_col2\" class=\"data row23 col2\" >9</td>\n",
       "      <td id=\"T_244df_row23_col3\" class=\"data row23 col3\" >0</td>\n",
       "    </tr>\n",
       "    <tr>\n",
       "      <th id=\"T_244df_level0_row24\" class=\"row_heading level0 row24\" >24</th>\n",
       "      <td id=\"T_244df_row24_col0\" class=\"data row24 col0\" >Q44</td>\n",
       "      <td id=\"T_244df_row24_col1\" class=\"data row24 col1\" >Who/what are your favorite media sources that report on data science topics?</td>\n",
       "      <td id=\"T_244df_row24_col2\" class=\"data row24 col2\" >12</td>\n",
       "      <td id=\"T_244df_row24_col3\" class=\"data row24 col3\" >3</td>\n",
       "    </tr>\n",
       "  </tbody>\n",
       "</table>\n"
      ],
      "text/plain": [
       "<IPython.core.display.HTML object>"
      ]
     },
     "metadata": {},
     "output_type": "display_data"
    }
   ],
   "source": [
    "outlier_analysis = []\n",
    "\n",
    "for col in list(multiple_choice_questions.keys()):\n",
    "    mean_responses = round(scope_df[f\"{col}_number_of_responses\"].mean())\n",
    "    outlier_analysis.append([\n",
    "        col,\n",
    "        multiple_choice_questions[col], \n",
    "        mean_responses,\n",
    "    ])\n",
    "    \n",
    "average_responses = pd.DataFrame(outlier_analysis, columns = [\"Question\", \"Nbr of available Choices\", \"Average number of selected choices\"])\n",
    "average_responses[\"Question Title\"] = questions_titles[[f\"{col}_1\" for col in list(multiple_choice_questions.keys())]].loc[0].to_list()\n",
    "average_responses[\"Question Title\"] = average_responses[\"Question Title\"].apply(lambda x : x.split(\"(Select\")[0].strip())\n",
    "\n",
    "#Updates the DataFrame in place\n",
    "scope_df.drop([f\"{col}_number_of_responses\" for col in list(multiple_choice_questions.keys())], axis = 1, inplace=True)\n",
    "\n",
    "average_responses[\"Question Title\"] = average_responses['Question Title'].str.wrap(80)\n",
    "average_responses = average_responses[[\"Question\", \"Question Title\", \"Nbr of available Choices\", \"Average number of selected choices\"]]\n",
    "wrap_df_text(average_responses)"
   ]
  },
  {
   "cell_type": "code",
   "execution_count": 80,
   "id": "d5863c37",
   "metadata": {},
   "outputs": [
    {
     "data": {
      "image/png": "[encoded data removed]",
      "text/plain": [
       "<Figure size 1000x500 with 1 Axes>"
      ]
     },
     "metadata": {},
     "output_type": "display_data"
    }
   ],
   "source": [
    "def get_label_rotation(angle, offset):\n",
    "    # Rotation must be specified in degrees\n",
    "    rotation = np.rad2deg(angle + offset)\n",
    "    if angle <= np.pi:\n",
    "     #   alignment = \"left\"\n",
    "        alignment = \"right\"\n",
    "        rotation = rotation + 180\n",
    "    else: \n",
    "     #   alignment = \"left\"\n",
    "        alignment = \"left\"\n",
    "    return rotation, alignment\n",
    "\n",
    "\n",
    "def add_labels(angles, values, labels, offset, ax):\n",
    "    \n",
    "    # This is the space between the end of the bar and the label\n",
    "    padding = 8\n",
    "    \n",
    "    # Iterate over angles, values, and labels, to add all of them.\n",
    "    for angle, value, label, in zip(angles, values, labels):\n",
    "        angle = angle \n",
    "        \n",
    "        # Obtain text rotation and alignment\n",
    "        rotation, alignment = get_label_rotation(angle, offset)\n",
    "        y = value + padding\n",
    "        # And finally add the text\n",
    "        ax.text(\n",
    "            x=angle, \n",
    "            y=y, \n",
    "            s=label, \n",
    "            ha=alignment, \n",
    "            va=\"center\", \n",
    "            rotation=rotation, \n",
    "            rotation_mode=\"anchor\",\n",
    "\n",
    "        ) \n",
    "\n",
    "\n",
    "ANGLES = np.linspace(0, 2 * np.pi, scope_df[\"Q24\"].nunique(), endpoint=False)\n",
    "VALUES = np.round(scope_df[\"Q24\"].value_counts(normalize=True).values, 2)*400\n",
    "LABELS = scope_df[\"Q24\"].value_counts().index\n",
    "\n",
    "\n",
    "# Determine the width of each bar. \n",
    "# The circumference is '2 * pi', so we divide that total width over the number of bars.\n",
    "WIDTH = 2 * np.pi / len(VALUES)\n",
    "\n",
    "# Determines where to place the first bar. \n",
    "# By default, matplotlib starts at 0 (the first bar is horizontal)\n",
    "# but here we say we want to start at pi/2 (90 deg)\n",
    "OFFSET = np.pi / 2\n",
    "\n",
    "fig, ax = plt.subplots(figsize=(10, 5), subplot_kw={\"projection\": \"polar\"})\n",
    "\n",
    "# Specify offset\n",
    "ax.set_theta_offset(OFFSET)\n",
    "\n",
    "# Set limits for radial (y) axis. The negative lower bound creates the whole in the middle.\n",
    "ax.set_ylim(-100, 100)\n",
    "\n",
    "# Remove all spines\n",
    "ax.set_frame_on(False)\n",
    "\n",
    "# Remove grid and tick marks\n",
    "ax.xaxis.grid(False)\n",
    "ax.yaxis.grid(False)\n",
    "ax.set_xticks([])\n",
    "ax.set_yticks([])\n",
    "\n",
    "# Add bars\n",
    "ax.bar(\n",
    "    ANGLES, VALUES, width=WIDTH, linewidth=2,\n",
    "    color=\"#D0EC00\", edgecolor=\"white\"\n",
    ")\n",
    "\n",
    "final_labels = []\n",
    "test = list(np.round(scope_df[\"Q24\"].value_counts(normalize=True).values*100,2))\n",
    "count = 0 \n",
    "for label in LABELS:\n",
    "    final_labels.append(f\"{label}: {test[count]}%\")\n",
    "    count = count+ 1\n",
    "np.array(final_labels)\n",
    "\n",
    "# Add labels\n",
    "add_labels(ANGLES, VALUES, final_labels, OFFSET, ax)\n",
    "plt.show() "
   ]
  },
  {
   "cell_type": "code",
   "execution_count": 81,
   "id": "39651c1c",
   "metadata": {},
   "outputs": [
    {
     "data": {
      "application/vnd.plotly.v1+json": {
       "config": {
        "plotlyServerURL": "https://plot.ly"
       },
       "data": [
        {
         "hole": 0.4,
         "labels": [
          "Models in Production",
          "Not Started",
          "Not Known",
          "Exploration Stage",
          "Generating Insights"
         ],
         "marker": {
          "colors": [
           "#a43725",
           "#e0d5bd",
           "#beb29e",
           "#E6b6a4",
           "#c07156"
          ]
         },
         "type": "pie",
         "values": [
          2987,
          1970,
          1660,
          1552,
          925
         ]
        }
       ],
       "layout": {
        "font": {
         "color": "#7b6b59"
        },
        "margin": {
         "pad": 0,
         "t": 80
        },
        "showlegend": true,
        "template": {
         "data": {
          "bar": [
           {
            "error_x": {
             "color": "#2a3f5f"
            },
            "error_y": {
             "color": "#2a3f5f"
            },
            "marker": {
             "line": {
              "color": "#E5ECF6",
              "width": 0.5
             },
             "pattern": {
              "fillmode": "overlay",
              "size": 10,
              "solidity": 0.2
             }
            },
            "type": "bar"
           }
          ],
          "barpolar": [
           {
            "marker": {
             "line": {
              "color": "#E5ECF6",
              "width": 0.5
             },
             "pattern": {
              "fillmode": "overlay",
              "size": 10,
              "solidity": 0.2
             }
            },
            "type": "barpolar"
           }
          ],
          "carpet": [
           {
            "aaxis": {
             "endlinecolor": "#2a3f5f",
             "gridcolor": "white",
             "linecolor": "white",
             "minorgridcolor": "white",
             "startlinecolor": "#2a3f5f"
            },
            "baxis": {
             "endlinecolor": "#2a3f5f",
             "gridcolor": "white",
             "linecolor": "white",
             "minorgridcolor": "white",
             "startlinecolor": "#2a3f5f"
            },
            "type": "carpet"
           }
          ],
          "choropleth": [
           {
            "colorbar": {
             "outlinewidth": 0,
             "ticks": ""
            },
            "type": "choropleth"
           }
          ],
          "contour": [
           {
            "colorbar": {
             "outlinewidth": 0,
             "ticks": ""
            },
            "colorscale": [
             [
              0,
              "#0d0887"
             ],
             [
              0.1111111111111111,
              "#46039f"
             ],
             [
              0.2222222222222222,
              "#7201a8"
             ],
             [
              0.3333333333333333,
              "#9c179e"
             ],
             [
              0.4444444444444444,
              "#bd3786"
             ],
             [
              0.5555555555555556,
              "#d8576b"
             ],
             [
              0.6666666666666666,
              "#ed7953"
             ],
             [
              0.7777777777777778,
              "#fb9f3a"
             ],
             [
              0.8888888888888888,
              "#fdca26"
             ],
             [
              1,
              "#f0f921"
             ]
            ],
            "type": "contour"
           }
          ],
          "contourcarpet": [
           {
            "colorbar": {
             "outlinewidth": 0,
             "ticks": ""
            },
            "type": "contourcarpet"
           }
          ],
          "heatmap": [
           {
            "colorbar": {
             "outlinewidth": 0,
             "ticks": ""
            },
            "colorscale": [
             [
              0,
              "#0d0887"
             ],
             [
              0.1111111111111111,
              "#46039f"
             ],
             [
              0.2222222222222222,
              "#7201a8"
             ],
             [
              0.3333333333333333,
              "#9c179e"
             ],
             [
              0.4444444444444444,
              "#bd3786"
             ],
             [
              0.5555555555555556,
              "#d8576b"
             ],
             [
              0.6666666666666666,
              "#ed7953"
             ],
             [
              0.7777777777777778,
              "#fb9f3a"
             ],
             [
              0.8888888888888888,
              "#fdca26"
             ],
             [
              1,
              "#f0f921"
             ]
            ],
            "type": "heatmap"
           }
          ],
          "heatmapgl": [
           {
            "colorbar": {
             "outlinewidth": 0,
             "ticks": ""
            },
            "colorscale": [
             [
              0,
              "#0d0887"
             ],
             [
              0.1111111111111111,
              "#46039f"
             ],
             [
              0.2222222222222222,
              "#7201a8"
             ],
             [
              0.3333333333333333,
              "#9c179e"
             ],
             [
              0.4444444444444444,
              "#bd3786"
             ],
             [
              0.5555555555555556,
              "#d8576b"
             ],
             [
              0.6666666666666666,
              "#ed7953"
             ],
             [
              0.7777777777777778,
              "#fb9f3a"
             ],
             [
              0.8888888888888888,
              "#fdca26"
             ],
             [
              1,
              "#f0f921"
             ]
            ],
            "type": "heatmapgl"
           }
          ],
          "histogram": [
           {
            "marker": {
             "pattern": {
              "fillmode": "overlay",
              "size": 10,
              "solidity": 0.2
             }
            },
            "type": "histogram"
           }
          ],
          "histogram2d": [
           {
            "colorbar": {
             "outlinewidth": 0,
             "ticks": ""
            },
            "colorscale": [
             [
              0,
              "#0d0887"
             ],
             [
              0.1111111111111111,
              "#46039f"
             ],
             [
              0.2222222222222222,
              "#7201a8"
             ],
             [
              0.3333333333333333,
              "#9c179e"
             ],
             [
              0.4444444444444444,
              "#bd3786"
             ],
             [
              0.5555555555555556,
              "#d8576b"
             ],
             [
              0.6666666666666666,
              "#ed7953"
             ],
             [
              0.7777777777777778,
              "#fb9f3a"
             ],
             [
              0.8888888888888888,
              "#fdca26"
             ],
             [
              1,
              "#f0f921"
             ]
            ],
            "type": "histogram2d"
           }
          ],
          "histogram2dcontour": [
           {
            "colorbar": {
             "outlinewidth": 0,
             "ticks": ""
            },
            "colorscale": [
             [
              0,
              "#0d0887"
             ],
             [
              0.1111111111111111,
              "#46039f"
             ],
             [
              0.2222222222222222,
              "#7201a8"
             ],
             [
              0.3333333333333333,
              "#9c179e"
             ],
             [
              0.4444444444444444,
              "#bd3786"
             ],
             [
              0.5555555555555556,
              "#d8576b"
             ],
             [
              0.6666666666666666,
              "#ed7953"
             ],
             [
              0.7777777777777778,
              "#fb9f3a"
             ],
             [
              0.8888888888888888,
              "#fdca26"
             ],
             [
              1,
              "#f0f921"
             ]
            ],
            "type": "histogram2dcontour"
           }
          ],
          "mesh3d": [
           {
            "colorbar": {
             "outlinewidth": 0,
             "ticks": ""
            },
            "type": "mesh3d"
           }
          ],
          "parcoords": [
           {
            "line": {
             "colorbar": {
              "outlinewidth": 0,
              "ticks": ""
             }
            },
            "type": "parcoords"
           }
          ],
          "pie": [
           {
            "automargin": true,
            "type": "pie"
           }
          ],
          "scatter": [
           {
            "fillpattern": {
             "fillmode": "overlay",
             "size": 10,
             "solidity": 0.2
            },
            "type": "scatter"
           }
          ],
          "scatter3d": [
           {
            "line": {
             "colorbar": {
              "outlinewidth": 0,
              "ticks": ""
             }
            },
            "marker": {
             "colorbar": {
              "outlinewidth": 0,
              "ticks": ""
             }
            },
            "type": "scatter3d"
           }
          ],
          "scattercarpet": [
           {
            "marker": {
             "colorbar": {
              "outlinewidth": 0,
              "ticks": ""
             }
            },
            "type": "scattercarpet"
           }
          ],
          "scattergeo": [
           {
            "marker": {
             "colorbar": {
              "outlinewidth": 0,
              "ticks": ""
             }
            },
            "type": "scattergeo"
           }
          ],
          "scattergl": [
           {
            "marker": {
             "colorbar": {
              "outlinewidth": 0,
              "ticks": ""
             }
            },
            "type": "scattergl"
           }
          ],
          "scattermapbox": [
           {
            "marker": {
             "colorbar": {
              "outlinewidth": 0,
              "ticks": ""
             }
            },
            "type": "scattermapbox"
           }
          ],
          "scatterpolar": [
           {
            "marker": {
             "colorbar": {
              "outlinewidth": 0,
              "ticks": ""
             }
            },
            "type": "scatterpolar"
           }
          ],
          "scatterpolargl": [
           {
            "marker": {
             "colorbar": {
              "outlinewidth": 0,
              "ticks": ""
             }
            },
            "type": "scatterpolargl"
           }
          ],
          "scatterternary": [
           {
            "marker": {
             "colorbar": {
              "outlinewidth": 0,
              "ticks": ""
             }
            },
            "type": "scatterternary"
           }
          ],
          "surface": [
           {
            "colorbar": {
             "outlinewidth": 0,
             "ticks": ""
            },
            "colorscale": [
             [
              0,
              "#0d0887"
             ],
             [
              0.1111111111111111,
              "#46039f"
             ],
             [
              0.2222222222222222,
              "#7201a8"
             ],
             [
              0.3333333333333333,
              "#9c179e"
             ],
             [
              0.4444444444444444,
              "#bd3786"
             ],
             [
              0.5555555555555556,
              "#d8576b"
             ],
             [
              0.6666666666666666,
              "#ed7953"
             ],
             [
              0.7777777777777778,
              "#fb9f3a"
             ],
             [
              0.8888888888888888,
              "#fdca26"
             ],
             [
              1,
              "#f0f921"
             ]
            ],
            "type": "surface"
           }
          ],
          "table": [
           {
            "cells": {
             "fill": {
              "color": "#EBF0F8"
             },
             "line": {
              "color": "white"
             }
            },
            "header": {
             "fill": {
              "color": "#C8D4E3"
             },
             "line": {
              "color": "white"
             }
            },
            "type": "table"
           }
          ]
         },
         "layout": {
          "annotationdefaults": {
           "arrowcolor": "#2a3f5f",
           "arrowhead": 0,
           "arrowwidth": 1
          },
          "autotypenumbers": "strict",
          "coloraxis": {
           "colorbar": {
            "outlinewidth": 0,
            "ticks": ""
           }
          },
          "colorscale": {
           "diverging": [
            [
             0,
             "#8e0152"
            ],
            [
             0.1,
             "#c51b7d"
            ],
            [
             0.2,
             "#de77ae"
            ],
            [
             0.3,
             "#f1b6da"
            ],
            [
             0.4,
             "#fde0ef"
            ],
            [
             0.5,
             "#f7f7f7"
            ],
            [
             0.6,
             "#e6f5d0"
            ],
            [
             0.7,
             "#b8e186"
            ],
            [
             0.8,
             "#7fbc41"
            ],
            [
             0.9,
             "#4d9221"
            ],
            [
             1,
             "#276419"
            ]
           ],
           "sequential": [
            [
             0,
             "#0d0887"
            ],
            [
             0.1111111111111111,
             "#46039f"
            ],
            [
             0.2222222222222222,
             "#7201a8"
            ],
            [
             0.3333333333333333,
             "#9c179e"
            ],
            [
             0.4444444444444444,
             "#bd3786"
            ],
            [
             0.5555555555555556,
             "#d8576b"
            ],
            [
             0.6666666666666666,
             "#ed7953"
            ],
            [
             0.7777777777777778,
             "#fb9f3a"
            ],
            [
             0.8888888888888888,
             "#fdca26"
            ],
            [
             1,
             "#f0f921"
            ]
           ],
           "sequentialminus": [
            [
             0,
             "#0d0887"
            ],
            [
             0.1111111111111111,
             "#46039f"
            ],
            [
             0.2222222222222222,
             "#7201a8"
            ],
            [
             0.3333333333333333,
             "#9c179e"
            ],
            [
             0.4444444444444444,
             "#bd3786"
            ],
            [
             0.5555555555555556,
             "#d8576b"
            ],
            [
             0.6666666666666666,
             "#ed7953"
            ],
            [
             0.7777777777777778,
             "#fb9f3a"
            ],
            [
             0.8888888888888888,
             "#fdca26"
            ],
            [
             1,
             "#f0f921"
            ]
           ]
          },
          "colorway": [
           "#636efa",
           "#EF553B",
           "#00cc96",
           "#ab63fa",
           "#FFA15A",
           "#19d3f3",
           "#FF6692",
           "#B6E880",
           "#FF97FF",
           "#FECB52"
          ],
          "font": {
           "color": "#2a3f5f"
          },
          "geo": {
           "bgcolor": "white",
           "lakecolor": "white",
           "landcolor": "#E5ECF6",
           "showlakes": true,
           "showland": true,
           "subunitcolor": "white"
          },
          "hoverlabel": {
           "align": "left"
          },
          "hovermode": "closest",
          "mapbox": {
           "style": "light"
          },
          "paper_bgcolor": "white",
          "plot_bgcolor": "#E5ECF6",
          "polar": {
           "angularaxis": {
            "gridcolor": "white",
            "linecolor": "white",
            "ticks": ""
           },
           "bgcolor": "#E5ECF6",
           "radialaxis": {
            "gridcolor": "white",
            "linecolor": "white",
            "ticks": ""
           }
          },
          "scene": {
           "xaxis": {
            "backgroundcolor": "#E5ECF6",
            "gridcolor": "white",
            "gridwidth": 2,
            "linecolor": "white",
            "showbackground": true,
            "ticks": "",
            "zerolinecolor": "white"
           },
           "yaxis": {
            "backgroundcolor": "#E5ECF6",
            "gridcolor": "white",
            "gridwidth": 2,
            "linecolor": "white",
            "showbackground": true,
            "ticks": "",
            "zerolinecolor": "white"
           },
           "zaxis": {
            "backgroundcolor": "#E5ECF6",
            "gridcolor": "white",
            "gridwidth": 2,
            "linecolor": "white",
            "showbackground": true,
            "ticks": "",
            "zerolinecolor": "white"
           }
          },
          "shapedefaults": {
           "line": {
            "color": "#2a3f5f"
           }
          },
          "ternary": {
           "aaxis": {
            "gridcolor": "white",
            "linecolor": "white",
            "ticks": ""
           },
           "baxis": {
            "gridcolor": "white",
            "linecolor": "white",
            "ticks": ""
           },
           "bgcolor": "#E5ECF6",
           "caxis": {
            "gridcolor": "white",
            "linecolor": "white",
            "ticks": ""
           }
          },
          "title": {
           "x": 0.05
          },
          "xaxis": {
           "automargin": true,
           "gridcolor": "white",
           "linecolor": "white",
           "ticks": "",
           "title": {
            "standoff": 15
           },
           "zerolinecolor": "white",
           "zerolinewidth": 2
          },
          "yaxis": {
           "automargin": true,
           "gridcolor": "white",
           "linecolor": "white",
           "ticks": "",
           "title": {
            "standoff": 15
           },
           "zerolinecolor": "white",
           "zerolinewidth": 2
          }
         }
        },
        "title": {
         "text": "<span style='font-size:30px; font-family:Times New Roman'>The State of the ML Adoption in Inudstry in 2022</span><br><span style='font-size:14px; font-family:Helvetica'></b></span>"
        }
       }
      },
      "text/html": [
       "<div>                            <div id=\"21700ed0-0a20-4cdb-9374-06ddd94325b6\" class=\"plotly-graph-div\" style=\"height:525px; width:100%;\"></div>            <script type=\"text/javascript\">                require([\"plotly\"], function(Plotly) {                    window.PLOTLYENV=window.PLOTLYENV || {};                                    if (document.getElementById(\"21700ed0-0a20-4cdb-9374-06ddd94325b6\")) {                    Plotly.newPlot(                        \"21700ed0-0a20-4cdb-9374-06ddd94325b6\",                        [{\"hole\":0.4,\"labels\":[\"Models in Production\",\"Not Started\",\"Not Known\",\"Exploration Stage\",\"Generating Insights\"],\"values\":[2987,1970,1660,1552,925],\"type\":\"pie\",\"marker\":{\"colors\":[\"#a43725\",\"#e0d5bd\",\"#beb29e\",\"#E6b6a4\",\"#c07156\"]}}],                        {\"template\":{\"data\":{\"histogram2dcontour\":[{\"type\":\"histogram2dcontour\",\"colorbar\":{\"outlinewidth\":0,\"ticks\":\"\"},\"colorscale\":[[0.0,\"#0d0887\"],[0.1111111111111111,\"#46039f\"],[0.2222222222222222,\"#7201a8\"],[0.3333333333333333,\"#9c179e\"],[0.4444444444444444,\"#bd3786\"],[0.5555555555555556,\"#d8576b\"],[0.6666666666666666,\"#ed7953\"],[0.7777777777777778,\"#fb9f3a\"],[0.8888888888888888,\"#fdca26\"],[1.0,\"#f0f921\"]]}],\"choropleth\":[{\"type\":\"choropleth\",\"colorbar\":{\"outlinewidth\":0,\"ticks\":\"\"}}],\"histogram2d\":[{\"type\":\"histogram2d\",\"colorbar\":{\"outlinewidth\":0,\"ticks\":\"\"},\"colorscale\":[[0.0,\"#0d0887\"],[0.1111111111111111,\"#46039f\"],[0.2222222222222222,\"#7201a8\"],[0.3333333333333333,\"#9c179e\"],[0.4444444444444444,\"#bd3786\"],[0.5555555555555556,\"#d8576b\"],[0.6666666666666666,\"#ed7953\"],[0.7777777777777778,\"#fb9f3a\"],[0.8888888888888888,\"#fdca26\"],[1.0,\"#f0f921\"]]}],\"heatmap\":[{\"type\":\"heatmap\",\"colorbar\":{\"outlinewidth\":0,\"ticks\":\"\"},\"colorscale\":[[0.0,\"#0d0887\"],[0.1111111111111111,\"#46039f\"],[0.2222222222222222,\"#7201a8\"],[0.3333333333333333,\"#9c179e\"],[0.4444444444444444,\"#bd3786\"],[0.5555555555555556,\"#d8576b\"],[0.6666666666666666,\"#ed7953\"],[0.7777777777777778,\"#fb9f3a\"],[0.8888888888888888,\"#fdca26\"],[1.0,\"#f0f921\"]]}],\"heatmapgl\":[{\"type\":\"heatmapgl\",\"colorbar\":{\"outlinewidth\":0,\"ticks\":\"\"},\"colorscale\":[[0.0,\"#0d0887\"],[0.1111111111111111,\"#46039f\"],[0.2222222222222222,\"#7201a8\"],[0.3333333333333333,\"#9c179e\"],[0.4444444444444444,\"#bd3786\"],[0.5555555555555556,\"#d8576b\"],[0.6666666666666666,\"#ed7953\"],[0.7777777777777778,\"#fb9f3a\"],[0.8888888888888888,\"#fdca26\"],[1.0,\"#f0f921\"]]}],\"contourcarpet\":[{\"type\":\"contourcarpet\",\"colorbar\":{\"outlinewidth\":0,\"ticks\":\"\"}}],\"contour\":[{\"type\":\"contour\",\"colorbar\":{\"outlinewidth\":0,\"ticks\":\"\"},\"colorscale\":[[0.0,\"#0d0887\"],[0.1111111111111111,\"#46039f\"],[0.2222222222222222,\"#7201a8\"],[0.3333333333333333,\"#9c179e\"],[0.4444444444444444,\"#bd3786\"],[0.5555555555555556,\"#d8576b\"],[0.6666666666666666,\"#ed7953\"],[0.7777777777777778,\"#fb9f3a\"],[0.8888888888888888,\"#fdca26\"],[1.0,\"#f0f921\"]]}],\"surface\":[{\"type\":\"surface\",\"colorbar\":{\"outlinewidth\":0,\"ticks\":\"\"},\"colorscale\":[[0.0,\"#0d0887\"],[0.1111111111111111,\"#46039f\"],[0.2222222222222222,\"#7201a8\"],[0.3333333333333333,\"#9c179e\"],[0.4444444444444444,\"#bd3786\"],[0.5555555555555556,\"#d8576b\"],[0.6666666666666666,\"#ed7953\"],[0.7777777777777778,\"#fb9f3a\"],[0.8888888888888888,\"#fdca26\"],[1.0,\"#f0f921\"]]}],\"mesh3d\":[{\"type\":\"mesh3d\",\"colorbar\":{\"outlinewidth\":0,\"ticks\":\"\"}}],\"scatter\":[{\"fillpattern\":{\"fillmode\":\"overlay\",\"size\":10,\"solidity\":0.2},\"type\":\"scatter\"}],\"parcoords\":[{\"type\":\"parcoords\",\"line\":{\"colorbar\":{\"outlinewidth\":0,\"ticks\":\"\"}}}],\"scatterpolargl\":[{\"type\":\"scatterpolargl\",\"marker\":{\"colorbar\":{\"outlinewidth\":0,\"ticks\":\"\"}}}],\"bar\":[{\"error_x\":{\"color\":\"#2a3f5f\"},\"error_y\":{\"color\":\"#2a3f5f\"},\"marker\":{\"line\":{\"color\":\"#E5ECF6\",\"width\":0.5},\"pattern\":{\"fillmode\":\"overlay\",\"size\":10,\"solidity\":0.2}},\"type\":\"bar\"}],\"scattergeo\":[{\"type\":\"scattergeo\",\"marker\":{\"colorbar\":{\"outlinewidth\":0,\"ticks\":\"\"}}}],\"scatterpolar\":[{\"type\":\"scatterpolar\",\"marker\":{\"colorbar\":{\"outlinewidth\":0,\"ticks\":\"\"}}}],\"histogram\":[{\"marker\":{\"pattern\":{\"fillmode\":\"overlay\",\"size\":10,\"solidity\":0.2}},\"type\":\"histogram\"}],\"scattergl\":[{\"type\":\"scattergl\",\"marker\":{\"colorbar\":{\"outlinewidth\":0,\"ticks\":\"\"}}}],\"scatter3d\":[{\"type\":\"scatter3d\",\"line\":{\"colorbar\":{\"outlinewidth\":0,\"ticks\":\"\"}},\"marker\":{\"colorbar\":{\"outlinewidth\":0,\"ticks\":\"\"}}}],\"scattermapbox\":[{\"type\":\"scattermapbox\",\"marker\":{\"colorbar\":{\"outlinewidth\":0,\"ticks\":\"\"}}}],\"scatterternary\":[{\"type\":\"scatterternary\",\"marker\":{\"colorbar\":{\"outlinewidth\":0,\"ticks\":\"\"}}}],\"scattercarpet\":[{\"type\":\"scattercarpet\",\"marker\":{\"colorbar\":{\"outlinewidth\":0,\"ticks\":\"\"}}}],\"carpet\":[{\"aaxis\":{\"endlinecolor\":\"#2a3f5f\",\"gridcolor\":\"white\",\"linecolor\":\"white\",\"minorgridcolor\":\"white\",\"startlinecolor\":\"#2a3f5f\"},\"baxis\":{\"endlinecolor\":\"#2a3f5f\",\"gridcolor\":\"white\",\"linecolor\":\"white\",\"minorgridcolor\":\"white\",\"startlinecolor\":\"#2a3f5f\"},\"type\":\"carpet\"}],\"table\":[{\"cells\":{\"fill\":{\"color\":\"#EBF0F8\"},\"line\":{\"color\":\"white\"}},\"header\":{\"fill\":{\"color\":\"#C8D4E3\"},\"line\":{\"color\":\"white\"}},\"type\":\"table\"}],\"barpolar\":[{\"marker\":{\"line\":{\"color\":\"#E5ECF6\",\"width\":0.5},\"pattern\":{\"fillmode\":\"overlay\",\"size\":10,\"solidity\":0.2}},\"type\":\"barpolar\"}],\"pie\":[{\"automargin\":true,\"type\":\"pie\"}]},\"layout\":{\"autotypenumbers\":\"strict\",\"colorway\":[\"#636efa\",\"#EF553B\",\"#00cc96\",\"#ab63fa\",\"#FFA15A\",\"#19d3f3\",\"#FF6692\",\"#B6E880\",\"#FF97FF\",\"#FECB52\"],\"font\":{\"color\":\"#2a3f5f\"},\"hovermode\":\"closest\",\"hoverlabel\":{\"align\":\"left\"},\"paper_bgcolor\":\"white\",\"plot_bgcolor\":\"#E5ECF6\",\"polar\":{\"bgcolor\":\"#E5ECF6\",\"angularaxis\":{\"gridcolor\":\"white\",\"linecolor\":\"white\",\"ticks\":\"\"},\"radialaxis\":{\"gridcolor\":\"white\",\"linecolor\":\"white\",\"ticks\":\"\"}},\"ternary\":{\"bgcolor\":\"#E5ECF6\",\"aaxis\":{\"gridcolor\":\"white\",\"linecolor\":\"white\",\"ticks\":\"\"},\"baxis\":{\"gridcolor\":\"white\",\"linecolor\":\"white\",\"ticks\":\"\"},\"caxis\":{\"gridcolor\":\"white\",\"linecolor\":\"white\",\"ticks\":\"\"}},\"coloraxis\":{\"colorbar\":{\"outlinewidth\":0,\"ticks\":\"\"}},\"colorscale\":{\"sequential\":[[0.0,\"#0d0887\"],[0.1111111111111111,\"#46039f\"],[0.2222222222222222,\"#7201a8\"],[0.3333333333333333,\"#9c179e\"],[0.4444444444444444,\"#bd3786\"],[0.5555555555555556,\"#d8576b\"],[0.6666666666666666,\"#ed7953\"],[0.7777777777777778,\"#fb9f3a\"],[0.8888888888888888,\"#fdca26\"],[1.0,\"#f0f921\"]],\"sequentialminus\":[[0.0,\"#0d0887\"],[0.1111111111111111,\"#46039f\"],[0.2222222222222222,\"#7201a8\"],[0.3333333333333333,\"#9c179e\"],[0.4444444444444444,\"#bd3786\"],[0.5555555555555556,\"#d8576b\"],[0.6666666666666666,\"#ed7953\"],[0.7777777777777778,\"#fb9f3a\"],[0.8888888888888888,\"#fdca26\"],[1.0,\"#f0f921\"]],\"diverging\":[[0,\"#8e0152\"],[0.1,\"#c51b7d\"],[0.2,\"#de77ae\"],[0.3,\"#f1b6da\"],[0.4,\"#fde0ef\"],[0.5,\"#f7f7f7\"],[0.6,\"#e6f5d0\"],[0.7,\"#b8e186\"],[0.8,\"#7fbc41\"],[0.9,\"#4d9221\"],[1,\"#276419\"]]},\"xaxis\":{\"gridcolor\":\"white\",\"linecolor\":\"white\",\"ticks\":\"\",\"title\":{\"standoff\":15},\"zerolinecolor\":\"white\",\"automargin\":true,\"zerolinewidth\":2},\"yaxis\":{\"gridcolor\":\"white\",\"linecolor\":\"white\",\"ticks\":\"\",\"title\":{\"standoff\":15},\"zerolinecolor\":\"white\",\"automargin\":true,\"zerolinewidth\":2},\"scene\":{\"xaxis\":{\"backgroundcolor\":\"#E5ECF6\",\"gridcolor\":\"white\",\"linecolor\":\"white\",\"showbackground\":true,\"ticks\":\"\",\"zerolinecolor\":\"white\",\"gridwidth\":2},\"yaxis\":{\"backgroundcolor\":\"#E5ECF6\",\"gridcolor\":\"white\",\"linecolor\":\"white\",\"showbackground\":true,\"ticks\":\"\",\"zerolinecolor\":\"white\",\"gridwidth\":2},\"zaxis\":{\"backgroundcolor\":\"#E5ECF6\",\"gridcolor\":\"white\",\"linecolor\":\"white\",\"showbackground\":true,\"ticks\":\"\",\"zerolinecolor\":\"white\",\"gridwidth\":2}},\"shapedefaults\":{\"line\":{\"color\":\"#2a3f5f\"}},\"annotationdefaults\":{\"arrowcolor\":\"#2a3f5f\",\"arrowhead\":0,\"arrowwidth\":1},\"geo\":{\"bgcolor\":\"white\",\"landcolor\":\"#E5ECF6\",\"subunitcolor\":\"white\",\"showland\":true,\"showlakes\":true,\"lakecolor\":\"white\"},\"title\":{\"x\":0.05},\"mapbox\":{\"style\":\"light\"}}},\"font\":{\"color\":\"#7b6b59\"},\"margin\":{\"t\":80,\"pad\":0},\"title\":{\"text\":\"<span style='font-size:30px; font-family:Times New Roman'>The State of the ML Adoption in Inudstry in 2022</span><br><span style='font-size:14px; font-family:Helvetica'></b></span>\"},\"showlegend\":true},                        {\"responsive\": true}                    ).then(function(){\n",
       "                            \n",
       "var gd = document.getElementById('21700ed0-0a20-4cdb-9374-06ddd94325b6');\n",
       "var x = new MutationObserver(function (mutations, observer) {{\n",
       "        var display = window.getComputedStyle(gd).display;\n",
       "        if (!display || display === 'none') {{\n",
       "            console.log([gd, 'removed!']);\n",
       "            Plotly.purge(gd);\n",
       "            observer.disconnect();\n",
       "        }}\n",
       "}});\n",
       "\n",
       "// Listen for the removal of the full notebook cells\n",
       "var notebookContainer = gd.closest('#notebook-container');\n",
       "if (notebookContainer) {{\n",
       "    x.observe(notebookContainer, {childList: true});\n",
       "}}\n",
       "\n",
       "// Listen for the clearing of the current output cell\n",
       "var outputEl = gd.closest('.output');\n",
       "if (outputEl) {{\n",
       "    x.observe(outputEl, {childList: true});\n",
       "}}\n",
       "\n",
       "                        })                };                });            </script>        </div>"
      ]
     },
     "metadata": {},
     "output_type": "display_data"
    },
    {
     "data": {
      "application/vnd.plotly.v1+json": {
       "config": {
        "plotlyServerURL": "https://plot.ly"
       },
       "data": [
        {
         "branchvalues": "total",
         "customdata": [
          [
           "Not Started"
          ],
          [
           "Exploration Stage"
          ],
          [
           "Generating Insights"
          ],
          [
           "Models in Production"
          ],
          [
           "Models in Production"
          ],
          [
           "Not Known"
          ],
          [
           "Exploration Stage"
          ],
          [
           "Generating Insights"
          ],
          [
           "Models in Production"
          ],
          [
           "Not Known"
          ],
          [
           "Not Started"
          ]
         ],
         "domain": {
          "x": [
           0,
           1
          ],
          "y": [
           0,
           1
          ]
         },
         "hovertemplate": "labels=%{label}<br>counts=%{value}<br>parent=%{parent}<br>id=%{id}<br>ML_adoption_class=%{customdata[0]}<extra></extra>",
         "ids": [
          "Not Started/0. Not Started<br><sup>(No ML)</sup>",
          "Exploration Stage/1. Exploration<br><sup>Only Exploring ML</sup>",
          "Generating Insights/2. Beginner Stage<br><sup>Use ML only for Insights</sup>",
          "Models in Production/3. Intermediate Stage<br><sup>Recently Started Using ML</sup>",
          "Models in Production/4. Advance Stage<br><sup>Well Established ML</sup>",
          "Not Known/Not Known",
          "Exploration Stage",
          "Generating Insights",
          "Models in Production",
          "Not Known",
          "Not Started"
         ],
         "labels": [
          "0. Not Started<br><sup>(No ML)</sup>",
          "1. Exploration<br><sup>Only Exploring ML</sup>",
          "2. Beginner Stage<br><sup>Use ML only for Insights</sup>",
          "3. Intermediate Stage<br><sup>Recently Started Using ML</sup>",
          "4. Advance Stage<br><sup>Well Established ML</sup>",
          "Not Known",
          "Exploration Stage",
          "Generating Insights",
          "Models in Production",
          "Not Known",
          "Not Started"
         ],
         "marker": {
          "colors": [
           "#e0d5bd",
           "#E6b6a4",
           "#c07156",
           "#a43725",
           "#a43725",
           "#beb29e",
           "#E6b6a4",
           "#c07156",
           "#a43725",
           "#beb29e",
           "#e0d5bd"
          ]
         },
         "name": "",
         "parents": [
          "Not Started",
          "Exploration Stage",
          "Generating Insights",
          "Models in Production",
          "Models in Production",
          "Not Known",
          "",
          "",
          "",
          "",
          ""
         ],
         "type": "sunburst",
         "values": [
          1970,
          1552,
          925,
          1209,
          1778,
          1660,
          1552,
          925,
          2987,
          1660,
          1970
         ]
        }
       ],
       "layout": {
        "legend": {
         "tracegroupgap": 0
        },
        "margin": {
         "l": 0,
         "pad": 0,
         "t": 80
        },
        "showlegend": false,
        "template": {
         "data": {
          "bar": [
           {
            "error_x": {
             "color": "#2a3f5f"
            },
            "error_y": {
             "color": "#2a3f5f"
            },
            "marker": {
             "line": {
              "color": "#E5ECF6",
              "width": 0.5
             },
             "pattern": {
              "fillmode": "overlay",
              "size": 10,
              "solidity": 0.2
             }
            },
            "type": "bar"
           }
          ],
          "barpolar": [
           {
            "marker": {
             "line": {
              "color": "#E5ECF6",
              "width": 0.5
             },
             "pattern": {
              "fillmode": "overlay",
              "size": 10,
              "solidity": 0.2
             }
            },
            "type": "barpolar"
           }
          ],
          "carpet": [
           {
            "aaxis": {
             "endlinecolor": "#2a3f5f",
             "gridcolor": "white",
             "linecolor": "white",
             "minorgridcolor": "white",
             "startlinecolor": "#2a3f5f"
            },
            "baxis": {
             "endlinecolor": "#2a3f5f",
             "gridcolor": "white",
             "linecolor": "white",
             "minorgridcolor": "white",
             "startlinecolor": "#2a3f5f"
            },
            "type": "carpet"
           }
          ],
          "choropleth": [
           {
            "colorbar": {
             "outlinewidth": 0,
             "ticks": ""
            },
            "type": "choropleth"
           }
          ],
          "contour": [
           {
            "colorbar": {
             "outlinewidth": 0,
             "ticks": ""
            },
            "colorscale": [
             [
              0,
              "#0d0887"
             ],
             [
              0.1111111111111111,
              "#46039f"
             ],
             [
              0.2222222222222222,
              "#7201a8"
             ],
             [
              0.3333333333333333,
              "#9c179e"
             ],
             [
              0.4444444444444444,
              "#bd3786"
             ],
             [
              0.5555555555555556,
              "#d8576b"
             ],
             [
              0.6666666666666666,
              "#ed7953"
             ],
             [
              0.7777777777777778,
              "#fb9f3a"
             ],
             [
              0.8888888888888888,
              "#fdca26"
             ],
             [
              1,
              "#f0f921"
             ]
            ],
            "type": "contour"
           }
          ],
          "contourcarpet": [
           {
            "colorbar": {
             "outlinewidth": 0,
             "ticks": ""
            },
            "type": "contourcarpet"
           }
          ],
          "heatmap": [
           {
            "colorbar": {
             "outlinewidth": 0,
             "ticks": ""
            },
            "colorscale": [
             [
              0,
              "#0d0887"
             ],
             [
              0.1111111111111111,
              "#46039f"
             ],
             [
              0.2222222222222222,
              "#7201a8"
             ],
             [
              0.3333333333333333,
              "#9c179e"
             ],
             [
              0.4444444444444444,
              "#bd3786"
             ],
             [
              0.5555555555555556,
              "#d8576b"
             ],
             [
              0.6666666666666666,
              "#ed7953"
             ],
             [
              0.7777777777777778,
              "#fb9f3a"
             ],
             [
              0.8888888888888888,
              "#fdca26"
             ],
             [
              1,
              "#f0f921"
             ]
            ],
            "type": "heatmap"
           }
          ],
          "heatmapgl": [
           {
            "colorbar": {
             "outlinewidth": 0,
             "ticks": ""
            },
            "colorscale": [
             [
              0,
              "#0d0887"
             ],
             [
              0.1111111111111111,
              "#46039f"
             ],
             [
              0.2222222222222222,
              "#7201a8"
             ],
             [
              0.3333333333333333,
              "#9c179e"
             ],
             [
              0.4444444444444444,
              "#bd3786"
             ],
             [
              0.5555555555555556,
              "#d8576b"
             ],
             [
              0.6666666666666666,
              "#ed7953"
             ],
             [
              0.7777777777777778,
              "#fb9f3a"
             ],
             [
              0.8888888888888888,
              "#fdca26"
             ],
             [
              1,
              "#f0f921"
             ]
            ],
            "type": "heatmapgl"
           }
          ],
          "histogram": [
           {
            "marker": {
             "pattern": {
              "fillmode": "overlay",
              "size": 10,
              "solidity": 0.2
             }
            },
            "type": "histogram"
           }
          ],
          "histogram2d": [
           {
            "colorbar": {
             "outlinewidth": 0,
             "ticks": ""
            },
            "colorscale": [
             [
              0,
              "#0d0887"
             ],
             [
              0.1111111111111111,
              "#46039f"
             ],
             [
              0.2222222222222222,
              "#7201a8"
             ],
             [
              0.3333333333333333,
              "#9c179e"
             ],
             [
              0.4444444444444444,
              "#bd3786"
             ],
             [
              0.5555555555555556,
              "#d8576b"
             ],
             [
              0.6666666666666666,
              "#ed7953"
             ],
             [
              0.7777777777777778,
              "#fb9f3a"
             ],
             [
              0.8888888888888888,
              "#fdca26"
             ],
             [
              1,
              "#f0f921"
             ]
            ],
            "type": "histogram2d"
           }
          ],
          "histogram2dcontour": [
           {
            "colorbar": {
             "outlinewidth": 0,
             "ticks": ""
            },
            "colorscale": [
             [
              0,
              "#0d0887"
             ],
             [
              0.1111111111111111,
              "#46039f"
             ],
             [
              0.2222222222222222,
              "#7201a8"
             ],
             [
              0.3333333333333333,
              "#9c179e"
             ],
             [
              0.4444444444444444,
              "#bd3786"
             ],
             [
              0.5555555555555556,
              "#d8576b"
             ],
             [
              0.6666666666666666,
              "#ed7953"
             ],
             [
              0.7777777777777778,
              "#fb9f3a"
             ],
             [
              0.8888888888888888,
              "#fdca26"
             ],
             [
              1,
              "#f0f921"
             ]
            ],
            "type": "histogram2dcontour"
           }
          ],
          "mesh3d": [
           {
            "colorbar": {
             "outlinewidth": 0,
             "ticks": ""
            },
            "type": "mesh3d"
           }
          ],
          "parcoords": [
           {
            "line": {
             "colorbar": {
              "outlinewidth": 0,
              "ticks": ""
             }
            },
            "type": "parcoords"
           }
          ],
          "pie": [
           {
            "automargin": true,
            "type": "pie"
           }
          ],
          "scatter": [
           {
            "fillpattern": {
             "fillmode": "overlay",
             "size": 10,
             "solidity": 0.2
            },
            "type": "scatter"
           }
          ],
          "scatter3d": [
           {
            "line": {
             "colorbar": {
              "outlinewidth": 0,
              "ticks": ""
             }
            },
            "marker": {
             "colorbar": {
              "outlinewidth": 0,
              "ticks": ""
             }
            },
            "type": "scatter3d"
           }
          ],
          "scattercarpet": [
           {
            "marker": {
             "colorbar": {
              "outlinewidth": 0,
              "ticks": ""
             }
            },
            "type": "scattercarpet"
           }
          ],
          "scattergeo": [
           {
            "marker": {
             "colorbar": {
              "outlinewidth": 0,
              "ticks": ""
             }
            },
            "type": "scattergeo"
           }
          ],
          "scattergl": [
           {
            "marker": {
             "colorbar": {
              "outlinewidth": 0,
              "ticks": ""
             }
            },
            "type": "scattergl"
           }
          ],
          "scattermapbox": [
           {
            "marker": {
             "colorbar": {
              "outlinewidth": 0,
              "ticks": ""
             }
            },
            "type": "scattermapbox"
           }
          ],
          "scatterpolar": [
           {
            "marker": {
             "colorbar": {
              "outlinewidth": 0,
              "ticks": ""
             }
            },
            "type": "scatterpolar"
           }
          ],
          "scatterpolargl": [
           {
            "marker": {
             "colorbar": {
              "outlinewidth": 0,
              "ticks": ""
             }
            },
            "type": "scatterpolargl"
           }
          ],
          "scatterternary": [
           {
            "marker": {
             "colorbar": {
              "outlinewidth": 0,
              "ticks": ""
             }
            },
            "type": "scatterternary"
           }
          ],
          "surface": [
           {
            "colorbar": {
             "outlinewidth": 0,
             "ticks": ""
            },
            "colorscale": [
             [
              0,
              "#0d0887"
             ],
             [
              0.1111111111111111,
              "#46039f"
             ],
             [
              0.2222222222222222,
              "#7201a8"
             ],
             [
              0.3333333333333333,
              "#9c179e"
             ],
             [
              0.4444444444444444,
              "#bd3786"
             ],
             [
              0.5555555555555556,
              "#d8576b"
             ],
             [
              0.6666666666666666,
              "#ed7953"
             ],
             [
              0.7777777777777778,
              "#fb9f3a"
             ],
             [
              0.8888888888888888,
              "#fdca26"
             ],
             [
              1,
              "#f0f921"
             ]
            ],
            "type": "surface"
           }
          ],
          "table": [
           {
            "cells": {
             "fill": {
              "color": "#EBF0F8"
             },
             "line": {
              "color": "white"
             }
            },
            "header": {
             "fill": {
              "color": "#C8D4E3"
             },
             "line": {
              "color": "white"
             }
            },
            "type": "table"
           }
          ]
         },
         "layout": {
          "annotationdefaults": {
           "arrowcolor": "#2a3f5f",
           "arrowhead": 0,
           "arrowwidth": 1
          },
          "autotypenumbers": "strict",
          "coloraxis": {
           "colorbar": {
            "outlinewidth": 0,
            "ticks": ""
           }
          },
          "colorscale": {
           "diverging": [
            [
             0,
             "#8e0152"
            ],
            [
             0.1,
             "#c51b7d"
            ],
            [
             0.2,
             "#de77ae"
            ],
            [
             0.3,
             "#f1b6da"
            ],
            [
             0.4,
             "#fde0ef"
            ],
            [
             0.5,
             "#f7f7f7"
            ],
            [
             0.6,
             "#e6f5d0"
            ],
            [
             0.7,
             "#b8e186"
            ],
            [
             0.8,
             "#7fbc41"
            ],
            [
             0.9,
             "#4d9221"
            ],
            [
             1,
             "#276419"
            ]
           ],
           "sequential": [
            [
             0,
             "#0d0887"
            ],
            [
             0.1111111111111111,
             "#46039f"
            ],
            [
             0.2222222222222222,
             "#7201a8"
            ],
            [
             0.3333333333333333,
             "#9c179e"
            ],
            [
             0.4444444444444444,
             "#bd3786"
            ],
            [
             0.5555555555555556,
             "#d8576b"
            ],
            [
             0.6666666666666666,
             "#ed7953"
            ],
            [
             0.7777777777777778,
             "#fb9f3a"
            ],
            [
             0.8888888888888888,
             "#fdca26"
            ],
            [
             1,
             "#f0f921"
            ]
           ],
           "sequentialminus": [
            [
             0,
             "#0d0887"
            ],
            [
             0.1111111111111111,
             "#46039f"
            ],
            [
             0.2222222222222222,
             "#7201a8"
            ],
            [
             0.3333333333333333,
             "#9c179e"
            ],
            [
             0.4444444444444444,
             "#bd3786"
            ],
            [
             0.5555555555555556,
             "#d8576b"
            ],
            [
             0.6666666666666666,
             "#ed7953"
            ],
            [
             0.7777777777777778,
             "#fb9f3a"
            ],
            [
             0.8888888888888888,
             "#fdca26"
            ],
            [
             1,
             "#f0f921"
            ]
           ]
          },
          "colorway": [
           "#636efa",
           "#EF553B",
           "#00cc96",
           "#ab63fa",
           "#FFA15A",
           "#19d3f3",
           "#FF6692",
           "#B6E880",
           "#FF97FF",
           "#FECB52"
          ],
          "font": {
           "color": "#2a3f5f"
          },
          "geo": {
           "bgcolor": "white",
           "lakecolor": "white",
           "landcolor": "#E5ECF6",
           "showlakes": true,
           "showland": true,
           "subunitcolor": "white"
          },
          "hoverlabel": {
           "align": "left"
          },
          "hovermode": "closest",
          "mapbox": {
           "style": "light"
          },
          "paper_bgcolor": "white",
          "plot_bgcolor": "#E5ECF6",
          "polar": {
           "angularaxis": {
            "gridcolor": "white",
            "linecolor": "white",
            "ticks": ""
           },
           "bgcolor": "#E5ECF6",
           "radialaxis": {
            "gridcolor": "white",
            "linecolor": "white",
            "ticks": ""
           }
          },
          "scene": {
           "xaxis": {
            "backgroundcolor": "#E5ECF6",
            "gridcolor": "white",
            "gridwidth": 2,
            "linecolor": "white",
            "showbackground": true,
            "ticks": "",
            "zerolinecolor": "white"
           },
           "yaxis": {
            "backgroundcolor": "#E5ECF6",
            "gridcolor": "white",
            "gridwidth": 2,
            "linecolor": "white",
            "showbackground": true,
            "ticks": "",
            "zerolinecolor": "white"
           },
           "zaxis": {
            "backgroundcolor": "#E5ECF6",
            "gridcolor": "white",
            "gridwidth": 2,
            "linecolor": "white",
            "showbackground": true,
            "ticks": "",
            "zerolinecolor": "white"
           }
          },
          "shapedefaults": {
           "line": {
            "color": "#2a3f5f"
           }
          },
          "ternary": {
           "aaxis": {
            "gridcolor": "white",
            "linecolor": "white",
            "ticks": ""
           },
           "baxis": {
            "gridcolor": "white",
            "linecolor": "white",
            "ticks": ""
           },
           "bgcolor": "#E5ECF6",
           "caxis": {
            "gridcolor": "white",
            "linecolor": "white",
            "ticks": ""
           }
          },
          "title": {
           "x": 0.05
          },
          "xaxis": {
           "automargin": true,
           "gridcolor": "white",
           "linecolor": "white",
           "ticks": "",
           "title": {
            "standoff": 15
           },
           "zerolinecolor": "white",
           "zerolinewidth": 2
          },
          "yaxis": {
           "automargin": true,
           "gridcolor": "white",
           "linecolor": "white",
           "ticks": "",
           "title": {
            "standoff": 15
           },
           "zerolinecolor": "white",
           "zerolinewidth": 2
          }
         }
        }
       }
      },
      "text/html": [
       "<div>                            <div id=\"263072c6-c047-4058-938e-ee567cad34bc\" class=\"plotly-graph-div\" style=\"height:525px; width:100%;\"></div>            <script type=\"text/javascript\">                require([\"plotly\"], function(Plotly) {                    window.PLOTLYENV=window.PLOTLYENV || {};                                    if (document.getElementById(\"263072c6-c047-4058-938e-ee567cad34bc\")) {                    Plotly.newPlot(                        \"263072c6-c047-4058-938e-ee567cad34bc\",                        [{\"branchvalues\":\"total\",\"customdata\":[[\"Not Started\"],[\"Exploration Stage\"],[\"Generating Insights\"],[\"Models in Production\"],[\"Models in Production\"],[\"Not Known\"],[\"Exploration Stage\"],[\"Generating Insights\"],[\"Models in Production\"],[\"Not Known\"],[\"Not Started\"]],\"domain\":{\"x\":[0.0,1.0],\"y\":[0.0,1.0]},\"hovertemplate\":\"labels=%{label}<br>counts=%{value}<br>parent=%{parent}<br>id=%{id}<br>ML_adoption_class=%{customdata[0]}<extra></extra>\",\"ids\":[\"Not Started/0. Not Started<br><sup>(No ML)</sup>\",\"Exploration Stage/1. Exploration<br><sup>Only Exploring ML</sup>\",\"Generating Insights/2. Beginner Stage<br><sup>Use ML only for Insights</sup>\",\"Models in Production/3. Intermediate Stage<br><sup>Recently Started Using ML</sup>\",\"Models in Production/4. Advance Stage<br><sup>Well Established ML</sup>\",\"Not Known/Not Known\",\"Exploration Stage\",\"Generating Insights\",\"Models in Production\",\"Not Known\",\"Not Started\"],\"labels\":[\"0. Not Started<br><sup>(No ML)</sup>\",\"1. Exploration<br><sup>Only Exploring ML</sup>\",\"2. Beginner Stage<br><sup>Use ML only for Insights</sup>\",\"3. Intermediate Stage<br><sup>Recently Started Using ML</sup>\",\"4. Advance Stage<br><sup>Well Established ML</sup>\",\"Not Known\",\"Exploration Stage\",\"Generating Insights\",\"Models in Production\",\"Not Known\",\"Not Started\"],\"marker\":{\"colors\":[\"#e0d5bd\",\"#E6b6a4\",\"#c07156\",\"#a43725\",\"#a43725\",\"#beb29e\",\"#E6b6a4\",\"#c07156\",\"#a43725\",\"#beb29e\",\"#e0d5bd\"]},\"name\":\"\",\"parents\":[\"Not Started\",\"Exploration Stage\",\"Generating Insights\",\"Models in Production\",\"Models in Production\",\"Not Known\",\"\",\"\",\"\",\"\",\"\"],\"values\":[1970,1552,925,1209,1778,1660,1552,925,2987,1660,1970],\"type\":\"sunburst\"}],                        {\"template\":{\"data\":{\"histogram2dcontour\":[{\"type\":\"histogram2dcontour\",\"colorbar\":{\"outlinewidth\":0,\"ticks\":\"\"},\"colorscale\":[[0.0,\"#0d0887\"],[0.1111111111111111,\"#46039f\"],[0.2222222222222222,\"#7201a8\"],[0.3333333333333333,\"#9c179e\"],[0.4444444444444444,\"#bd3786\"],[0.5555555555555556,\"#d8576b\"],[0.6666666666666666,\"#ed7953\"],[0.7777777777777778,\"#fb9f3a\"],[0.8888888888888888,\"#fdca26\"],[1.0,\"#f0f921\"]]}],\"choropleth\":[{\"type\":\"choropleth\",\"colorbar\":{\"outlinewidth\":0,\"ticks\":\"\"}}],\"histogram2d\":[{\"type\":\"histogram2d\",\"colorbar\":{\"outlinewidth\":0,\"ticks\":\"\"},\"colorscale\":[[0.0,\"#0d0887\"],[0.1111111111111111,\"#46039f\"],[0.2222222222222222,\"#7201a8\"],[0.3333333333333333,\"#9c179e\"],[0.4444444444444444,\"#bd3786\"],[0.5555555555555556,\"#d8576b\"],[0.6666666666666666,\"#ed7953\"],[0.7777777777777778,\"#fb9f3a\"],[0.8888888888888888,\"#fdca26\"],[1.0,\"#f0f921\"]]}],\"heatmap\":[{\"type\":\"heatmap\",\"colorbar\":{\"outlinewidth\":0,\"ticks\":\"\"},\"colorscale\":[[0.0,\"#0d0887\"],[0.1111111111111111,\"#46039f\"],[0.2222222222222222,\"#7201a8\"],[0.3333333333333333,\"#9c179e\"],[0.4444444444444444,\"#bd3786\"],[0.5555555555555556,\"#d8576b\"],[0.6666666666666666,\"#ed7953\"],[0.7777777777777778,\"#fb9f3a\"],[0.8888888888888888,\"#fdca26\"],[1.0,\"#f0f921\"]]}],\"heatmapgl\":[{\"type\":\"heatmapgl\",\"colorbar\":{\"outlinewidth\":0,\"ticks\":\"\"},\"colorscale\":[[0.0,\"#0d0887\"],[0.1111111111111111,\"#46039f\"],[0.2222222222222222,\"#7201a8\"],[0.3333333333333333,\"#9c179e\"],[0.4444444444444444,\"#bd3786\"],[0.5555555555555556,\"#d8576b\"],[0.6666666666666666,\"#ed7953\"],[0.7777777777777778,\"#fb9f3a\"],[0.8888888888888888,\"#fdca26\"],[1.0,\"#f0f921\"]]}],\"contourcarpet\":[{\"type\":\"contourcarpet\",\"colorbar\":{\"outlinewidth\":0,\"ticks\":\"\"}}],\"contour\":[{\"type\":\"contour\",\"colorbar\":{\"outlinewidth\":0,\"ticks\":\"\"},\"colorscale\":[[0.0,\"#0d0887\"],[0.1111111111111111,\"#46039f\"],[0.2222222222222222,\"#7201a8\"],[0.3333333333333333,\"#9c179e\"],[0.4444444444444444,\"#bd3786\"],[0.5555555555555556,\"#d8576b\"],[0.6666666666666666,\"#ed7953\"],[0.7777777777777778,\"#fb9f3a\"],[0.8888888888888888,\"#fdca26\"],[1.0,\"#f0f921\"]]}],\"surface\":[{\"type\":\"surface\",\"colorbar\":{\"outlinewidth\":0,\"ticks\":\"\"},\"colorscale\":[[0.0,\"#0d0887\"],[0.1111111111111111,\"#46039f\"],[0.2222222222222222,\"#7201a8\"],[0.3333333333333333,\"#9c179e\"],[0.4444444444444444,\"#bd3786\"],[0.5555555555555556,\"#d8576b\"],[0.6666666666666666,\"#ed7953\"],[0.7777777777777778,\"#fb9f3a\"],[0.8888888888888888,\"#fdca26\"],[1.0,\"#f0f921\"]]}],\"mesh3d\":[{\"type\":\"mesh3d\",\"colorbar\":{\"outlinewidth\":0,\"ticks\":\"\"}}],\"scatter\":[{\"fillpattern\":{\"fillmode\":\"overlay\",\"size\":10,\"solidity\":0.2},\"type\":\"scatter\"}],\"parcoords\":[{\"type\":\"parcoords\",\"line\":{\"colorbar\":{\"outlinewidth\":0,\"ticks\":\"\"}}}],\"scatterpolargl\":[{\"type\":\"scatterpolargl\",\"marker\":{\"colorbar\":{\"outlinewidth\":0,\"ticks\":\"\"}}}],\"bar\":[{\"error_x\":{\"color\":\"#2a3f5f\"},\"error_y\":{\"color\":\"#2a3f5f\"},\"marker\":{\"line\":{\"color\":\"#E5ECF6\",\"width\":0.5},\"pattern\":{\"fillmode\":\"overlay\",\"size\":10,\"solidity\":0.2}},\"type\":\"bar\"}],\"scattergeo\":[{\"type\":\"scattergeo\",\"marker\":{\"colorbar\":{\"outlinewidth\":0,\"ticks\":\"\"}}}],\"scatterpolar\":[{\"type\":\"scatterpolar\",\"marker\":{\"colorbar\":{\"outlinewidth\":0,\"ticks\":\"\"}}}],\"histogram\":[{\"marker\":{\"pattern\":{\"fillmode\":\"overlay\",\"size\":10,\"solidity\":0.2}},\"type\":\"histogram\"}],\"scattergl\":[{\"type\":\"scattergl\",\"marker\":{\"colorbar\":{\"outlinewidth\":0,\"ticks\":\"\"}}}],\"scatter3d\":[{\"type\":\"scatter3d\",\"line\":{\"colorbar\":{\"outlinewidth\":0,\"ticks\":\"\"}},\"marker\":{\"colorbar\":{\"outlinewidth\":0,\"ticks\":\"\"}}}],\"scattermapbox\":[{\"type\":\"scattermapbox\",\"marker\":{\"colorbar\":{\"outlinewidth\":0,\"ticks\":\"\"}}}],\"scatterternary\":[{\"type\":\"scatterternary\",\"marker\":{\"colorbar\":{\"outlinewidth\":0,\"ticks\":\"\"}}}],\"scattercarpet\":[{\"type\":\"scattercarpet\",\"marker\":{\"colorbar\":{\"outlinewidth\":0,\"ticks\":\"\"}}}],\"carpet\":[{\"aaxis\":{\"endlinecolor\":\"#2a3f5f\",\"gridcolor\":\"white\",\"linecolor\":\"white\",\"minorgridcolor\":\"white\",\"startlinecolor\":\"#2a3f5f\"},\"baxis\":{\"endlinecolor\":\"#2a3f5f\",\"gridcolor\":\"white\",\"linecolor\":\"white\",\"minorgridcolor\":\"white\",\"startlinecolor\":\"#2a3f5f\"},\"type\":\"carpet\"}],\"table\":[{\"cells\":{\"fill\":{\"color\":\"#EBF0F8\"},\"line\":{\"color\":\"white\"}},\"header\":{\"fill\":{\"color\":\"#C8D4E3\"},\"line\":{\"color\":\"white\"}},\"type\":\"table\"}],\"barpolar\":[{\"marker\":{\"line\":{\"color\":\"#E5ECF6\",\"width\":0.5},\"pattern\":{\"fillmode\":\"overlay\",\"size\":10,\"solidity\":0.2}},\"type\":\"barpolar\"}],\"pie\":[{\"automargin\":true,\"type\":\"pie\"}]},\"layout\":{\"autotypenumbers\":\"strict\",\"colorway\":[\"#636efa\",\"#EF553B\",\"#00cc96\",\"#ab63fa\",\"#FFA15A\",\"#19d3f3\",\"#FF6692\",\"#B6E880\",\"#FF97FF\",\"#FECB52\"],\"font\":{\"color\":\"#2a3f5f\"},\"hovermode\":\"closest\",\"hoverlabel\":{\"align\":\"left\"},\"paper_bgcolor\":\"white\",\"plot_bgcolor\":\"#E5ECF6\",\"polar\":{\"bgcolor\":\"#E5ECF6\",\"angularaxis\":{\"gridcolor\":\"white\",\"linecolor\":\"white\",\"ticks\":\"\"},\"radialaxis\":{\"gridcolor\":\"white\",\"linecolor\":\"white\",\"ticks\":\"\"}},\"ternary\":{\"bgcolor\":\"#E5ECF6\",\"aaxis\":{\"gridcolor\":\"white\",\"linecolor\":\"white\",\"ticks\":\"\"},\"baxis\":{\"gridcolor\":\"white\",\"linecolor\":\"white\",\"ticks\":\"\"},\"caxis\":{\"gridcolor\":\"white\",\"linecolor\":\"white\",\"ticks\":\"\"}},\"coloraxis\":{\"colorbar\":{\"outlinewidth\":0,\"ticks\":\"\"}},\"colorscale\":{\"sequential\":[[0.0,\"#0d0887\"],[0.1111111111111111,\"#46039f\"],[0.2222222222222222,\"#7201a8\"],[0.3333333333333333,\"#9c179e\"],[0.4444444444444444,\"#bd3786\"],[0.5555555555555556,\"#d8576b\"],[0.6666666666666666,\"#ed7953\"],[0.7777777777777778,\"#fb9f3a\"],[0.8888888888888888,\"#fdca26\"],[1.0,\"#f0f921\"]],\"sequentialminus\":[[0.0,\"#0d0887\"],[0.1111111111111111,\"#46039f\"],[0.2222222222222222,\"#7201a8\"],[0.3333333333333333,\"#9c179e\"],[0.4444444444444444,\"#bd3786\"],[0.5555555555555556,\"#d8576b\"],[0.6666666666666666,\"#ed7953\"],[0.7777777777777778,\"#fb9f3a\"],[0.8888888888888888,\"#fdca26\"],[1.0,\"#f0f921\"]],\"diverging\":[[0,\"#8e0152\"],[0.1,\"#c51b7d\"],[0.2,\"#de77ae\"],[0.3,\"#f1b6da\"],[0.4,\"#fde0ef\"],[0.5,\"#f7f7f7\"],[0.6,\"#e6f5d0\"],[0.7,\"#b8e186\"],[0.8,\"#7fbc41\"],[0.9,\"#4d9221\"],[1,\"#276419\"]]},\"xaxis\":{\"gridcolor\":\"white\",\"linecolor\":\"white\",\"ticks\":\"\",\"title\":{\"standoff\":15},\"zerolinecolor\":\"white\",\"automargin\":true,\"zerolinewidth\":2},\"yaxis\":{\"gridcolor\":\"white\",\"linecolor\":\"white\",\"ticks\":\"\",\"title\":{\"standoff\":15},\"zerolinecolor\":\"white\",\"automargin\":true,\"zerolinewidth\":2},\"scene\":{\"xaxis\":{\"backgroundcolor\":\"#E5ECF6\",\"gridcolor\":\"white\",\"linecolor\":\"white\",\"showbackground\":true,\"ticks\":\"\",\"zerolinecolor\":\"white\",\"gridwidth\":2},\"yaxis\":{\"backgroundcolor\":\"#E5ECF6\",\"gridcolor\":\"white\",\"linecolor\":\"white\",\"showbackground\":true,\"ticks\":\"\",\"zerolinecolor\":\"white\",\"gridwidth\":2},\"zaxis\":{\"backgroundcolor\":\"#E5ECF6\",\"gridcolor\":\"white\",\"linecolor\":\"white\",\"showbackground\":true,\"ticks\":\"\",\"zerolinecolor\":\"white\",\"gridwidth\":2}},\"shapedefaults\":{\"line\":{\"color\":\"#2a3f5f\"}},\"annotationdefaults\":{\"arrowcolor\":\"#2a3f5f\",\"arrowhead\":0,\"arrowwidth\":1},\"geo\":{\"bgcolor\":\"white\",\"landcolor\":\"#E5ECF6\",\"subunitcolor\":\"white\",\"showland\":true,\"showlakes\":true,\"lakecolor\":\"white\"},\"title\":{\"x\":0.05},\"mapbox\":{\"style\":\"light\"}}},\"legend\":{\"tracegroupgap\":0},\"margin\":{\"t\":80,\"pad\":0,\"l\":0},\"showlegend\":false},                        {\"responsive\": true}                    ).then(function(){\n",
       "                            \n",
       "var gd = document.getElementById('263072c6-c047-4058-938e-ee567cad34bc');\n",
       "var x = new MutationObserver(function (mutations, observer) {{\n",
       "        var display = window.getComputedStyle(gd).display;\n",
       "        if (!display || display === 'none') {{\n",
       "            console.log([gd, 'removed!']);\n",
       "            Plotly.purge(gd);\n",
       "            observer.disconnect();\n",
       "        }}\n",
       "}});\n",
       "\n",
       "// Listen for the removal of the full notebook cells\n",
       "var notebookContainer = gd.closest('#notebook-container');\n",
       "if (notebookContainer) {{\n",
       "    x.observe(notebookContainer, {childList: true});\n",
       "}}\n",
       "\n",
       "// Listen for the clearing of the current output cell\n",
       "var outputEl = gd.closest('.output');\n",
       "if (outputEl) {{\n",
       "    x.observe(outputEl, {childList: true});\n",
       "}}\n",
       "\n",
       "                        })                };                });            </script>        </div>"
      ]
     },
     "metadata": {},
     "output_type": "display_data"
    }
   ],
   "source": [
    "ml_adoption = scope_df.groupby(\n",
    "    [\"ML_adoption_class\", \"ML_adoption\"]\n",
    ").agg(\n",
    "    {\"Q2\" : \"count\"}\n",
    ").reset_index().rename(\n",
    "    columns={\"Q2\": \"counts\"}\n",
    ")\n",
    "\n",
    "## First Plot\n",
    "fig = go.Figure(data=[go.Pie(\n",
    "    labels=scope_df[\"ML_adoption_class\"].value_counts().index.to_list(), \n",
    "    values=list(scope_df[\"ML_adoption_class\"].value_counts().values),\n",
    "    hole=.4\n",
    ")])\n",
    "\n",
    "fig.update_traces(marker=dict(colors=['#a43725', '#e0d5bd', '#beb29e', '#E6b6a4', '#c07156']))\n",
    "\n",
    "large_title_format = \"<span style='font-size:30px; font-family:Times New Roman'>The State of the ML Adoption in Inudstry in 2022</span>\"\n",
    "small_title_format = \"<span style='font-size:14px; font-family:Helvetica'></b></span>\"\n",
    "\n",
    "layout = dict(\n",
    "    title = large_title_format + \"<br>\" + small_title_format,\n",
    "    font = dict(color = '#7b6b59'),\n",
    "    showlegend = True,\n",
    "    margin = dict(t=80,pad=0),\n",
    "\n",
    ")\n",
    "fig[\"layout\"].update(layout)\n",
    "\n",
    "fig.show()\n",
    "\n",
    "## Second Plot\n",
    "fig = px.sunburst(\n",
    "    ml_adoption, \n",
    "    path=[\"ML_adoption_class\", \"ML_adoption\"], \n",
    "    values=\"counts\", \n",
    "    color=\"ML_adoption_class\",\n",
    "    color_discrete_map=ml_adoption_color_discrete_map\n",
    ")\n",
    "\n",
    "layout = dict(\n",
    "    showlegend = False,\n",
    "    margin = dict(t=80,pad=0, l=0),\n",
    "\n",
    ")\n",
    "fig[\"layout\"].update(layout)\n",
    "\n",
    "fig.show()"
   ]
  },
  {
   "cell_type": "code",
   "execution_count": 82,
   "id": "e598bbff",
   "metadata": {},
   "outputs": [
    {
     "data": {
      "application/vnd.plotly.v1+json": {
       "config": {
        "plotlyServerURL": "https://plot.ly"
       },
       "data": [
        {
         "hovertemplate": "Industry: %{x}<br>AI Adoption Stage: %{y}<br>Percentage: %{marker.size:,}<extra></extra>",
         "marker": {
          "color": [
           28.74913614374568,
           17.622667588113337,
           11.264685556323428,
           9.606081548030408,
           5.9433310297166555,
           16.58354114713217,
           17.70573566084788,
           10.349127182044887,
           13.840399002493767,
           25.43640897755611,
           20.11173184357542,
           13.966480446927374,
           12.290502793296088,
           16.201117318435752,
           23.463687150837988,
           14.691943127962084,
           16.889271865575182,
           10.21111589831969,
           14.433433864713486,
           27.358897027143474,
           29.062500000000004,
           16.5625,
           10.625,
           15.312500000000002,
           16.5625,
           32.2,
           20,
           8,
           13.200000000000001,
           11.600000000000001,
           9.375,
           16.796875,
           12.5,
           14.84375,
           28.90625,
           31.372549019607842,
           20.677361853832444,
           9.090909090909092,
           13.903743315508022,
           10.51693404634581,
           21.544715447154474,
           17.073170731707318,
           11.788617886178862,
           20.32520325203252,
           19.51219512195122,
           18.860510805500983,
           17.288801571709232,
           11.591355599214145,
           14.931237721021612,
           20.039292730844792,
           39.175257731958766,
           17.525773195876287,
           9.278350515463918,
           8.762886597938143,
           5.154639175257731,
           13.015184381778742,
           17.570498915401302,
           9.97830802603037,
           11.496746203904555,
           36.00867678958785,
           24.133333333333333,
           14.399999999999999,
           7.733333333333333,
           11.733333333333333,
           14.399999999999999,
           23.366834170854272,
           12.562814070351758,
           9.296482412060302,
           14.572864321608039,
           27.1356783919598,
           20.666666666666668,
           15.333333333333332,
           10.666666666666668,
           14.666666666666666,
           16.666666666666664
          ],
          "colorbar": {
           "title": {
            "text": "Percent"
           }
          },
          "colorscale": [
           [
            0,
            "rgb(5,48,97)"
           ],
           [
            0.1,
            "rgb(33,102,172)"
           ],
           [
            0.2,
            "rgb(67,147,195)"
           ],
           [
            0.3,
            "rgb(146,197,222)"
           ],
           [
            0.4,
            "rgb(209,229,240)"
           ],
           [
            0.5,
            "rgb(247,247,247)"
           ],
           [
            0.6,
            "rgb(253,219,199)"
           ],
           [
            0.7,
            "rgb(244,165,130)"
           ],
           [
            0.8,
            "rgb(214,96,77)"
           ],
           [
            0.9,
            "rgb(178,24,43)"
           ],
           [
            1,
            "rgb(103,0,31)"
           ]
          ],
          "opacity": 0.7,
          "showscale": true,
          "size": [
           28.74913614374568,
           17.622667588113337,
           11.264685556323428,
           9.606081548030408,
           5.9433310297166555,
           16.58354114713217,
           17.70573566084788,
           10.349127182044887,
           13.840399002493767,
           25.43640897755611,
           20.11173184357542,
           13.966480446927374,
           12.290502793296088,
           16.201117318435752,
           23.463687150837988,
           14.691943127962084,
           16.889271865575182,
           10.21111589831969,
           14.433433864713486,
           27.358897027143474,
           29.062500000000004,
           16.5625,
           10.625,
           15.312500000000002,
           16.5625,
           32.2,
           20,
           8,
           13.200000000000001,
           11.600000000000001,
           9.375,
           16.796875,
           12.5,
           14.84375,
           28.90625,
           31.372549019607842,
           20.677361853832444,
           9.090909090909092,
           13.903743315508022,
           10.51693404634581,
           21.544715447154474,
           17.073170731707318,
           11.788617886178862,
           20.32520325203252,
           19.51219512195122,
           18.860510805500983,
           17.288801571709232,
           11.591355599214145,
           14.931237721021612,
           20.039292730844792,
           39.175257731958766,
           17.525773195876287,
           9.278350515463918,
           8.762886597938143,
           5.154639175257731,
           13.015184381778742,
           17.570498915401302,
           9.97830802603037,
           11.496746203904555,
           36.00867678958785,
           24.133333333333333,
           14.399999999999999,
           7.733333333333333,
           11.733333333333333,
           14.399999999999999,
           23.366834170854272,
           12.562814070351758,
           9.296482412060302,
           14.572864321608039,
           27.1356783919598,
           20.666666666666668,
           15.333333333333332,
           10.666666666666668,
           14.666666666666666,
           16.666666666666664
          ]
         },
         "mode": "markers",
         "type": "scatter",
         "x": [
          "Academics/Education",
          "Academics/Education",
          "Academics/Education",
          "Academics/Education",
          "Academics/Education",
          "Accounting/Finance",
          "Accounting/Finance",
          "Accounting/Finance",
          "Accounting/Finance",
          "Accounting/Finance",
          "Broadcasting/Communications",
          "Broadcasting/Communications",
          "Broadcasting/Communications",
          "Broadcasting/Communications",
          "Broadcasting/Communications",
          "Computers/Technology",
          "Computers/Technology",
          "Computers/Technology",
          "Computers/Technology",
          "Computers/Technology",
          "Energy/Mining",
          "Energy/Mining",
          "Energy/Mining",
          "Energy/Mining",
          "Energy/Mining",
          "Government/Public Service",
          "Government/Public Service",
          "Government/Public Service",
          "Government/Public Service",
          "Government/Public Service",
          "Insurance/Risk Assessment",
          "Insurance/Risk Assessment",
          "Insurance/Risk Assessment",
          "Insurance/Risk Assessment",
          "Insurance/Risk Assessment",
          "Manufacturing/Fabrication",
          "Manufacturing/Fabrication",
          "Manufacturing/Fabrication",
          "Manufacturing/Fabrication",
          "Manufacturing/Fabrication",
          "Marketing/CRM",
          "Marketing/CRM",
          "Marketing/CRM",
          "Marketing/CRM",
          "Marketing/CRM",
          "Medical/Pharmaceutical",
          "Medical/Pharmaceutical",
          "Medical/Pharmaceutical",
          "Medical/Pharmaceutical",
          "Medical/Pharmaceutical",
          "Non-profit/Service",
          "Non-profit/Service",
          "Non-profit/Service",
          "Non-profit/Service",
          "Non-profit/Service",
          "Online Service/Internet-based Services",
          "Online Service/Internet-based Services",
          "Online Service/Internet-based Services",
          "Online Service/Internet-based Services",
          "Online Service/Internet-based Services",
          "Other",
          "Other",
          "Other",
          "Other",
          "Other",
          "Retail/Sales",
          "Retail/Sales",
          "Retail/Sales",
          "Retail/Sales",
          "Retail/Sales",
          "Shipping/Transportation",
          "Shipping/Transportation",
          "Shipping/Transportation",
          "Shipping/Transportation",
          "Shipping/Transportation"
         ],
         "y": [
          " Not Started<br><sup>(No ML)</sup>",
          " Exploration<br><sup>Only Exploring ML</sup>",
          " Beginner Stage<br><sup>Use ML only for Insights</sup>",
          " Intermediate Stage<br><sup>Recently Started Using ML</sup>",
          " Advance Stage<br><sup>Well Established ML</sup>",
          " Not Started<br><sup>(No ML)</sup>",
          " Exploration<br><sup>Only Exploring ML</sup>",
          " Beginner Stage<br><sup>Use ML only for Insights</sup>",
          " Intermediate Stage<br><sup>Recently Started Using ML</sup>",
          " Advance Stage<br><sup>Well Established ML</sup>",
          " Not Started<br><sup>(No ML)</sup>",
          " Exploration<br><sup>Only Exploring ML</sup>",
          " Beginner Stage<br><sup>Use ML only for Insights</sup>",
          " Intermediate Stage<br><sup>Recently Started Using ML</sup>",
          " Advance Stage<br><sup>Well Established ML</sup>",
          " Not Started<br><sup>(No ML)</sup>",
          " Exploration<br><sup>Only Exploring ML</sup>",
          " Beginner Stage<br><sup>Use ML only for Insights</sup>",
          " Intermediate Stage<br><sup>Recently Started Using ML</sup>",
          " Advance Stage<br><sup>Well Established ML</sup>",
          " Not Started<br><sup>(No ML)</sup>",
          " Exploration<br><sup>Only Exploring ML</sup>",
          " Beginner Stage<br><sup>Use ML only for Insights</sup>",
          " Intermediate Stage<br><sup>Recently Started Using ML</sup>",
          " Advance Stage<br><sup>Well Established ML</sup>",
          " Not Started<br><sup>(No ML)</sup>",
          " Exploration<br><sup>Only Exploring ML</sup>",
          " Beginner Stage<br><sup>Use ML only for Insights</sup>",
          " Intermediate Stage<br><sup>Recently Started Using ML</sup>",
          " Advance Stage<br><sup>Well Established ML</sup>",
          " Not Started<br><sup>(No ML)</sup>",
          " Exploration<br><sup>Only Exploring ML</sup>",
          " Beginner Stage<br><sup>Use ML only for Insights</sup>",
          " Intermediate Stage<br><sup>Recently Started Using ML</sup>",
          " Advance Stage<br><sup>Well Established ML</sup>",
          " Not Started<br><sup>(No ML)</sup>",
          " Exploration<br><sup>Only Exploring ML</sup>",
          " Beginner Stage<br><sup>Use ML only for Insights</sup>",
          " Intermediate Stage<br><sup>Recently Started Using ML</sup>",
          " Advance Stage<br><sup>Well Established ML</sup>",
          " Not Started<br><sup>(No ML)</sup>",
          " Exploration<br><sup>Only Exploring ML</sup>",
          " Beginner Stage<br><sup>Use ML only for Insights</sup>",
          " Intermediate Stage<br><sup>Recently Started Using ML</sup>",
          " Advance Stage<br><sup>Well Established ML</sup>",
          " Not Started<br><sup>(No ML)</sup>",
          " Exploration<br><sup>Only Exploring ML</sup>",
          " Beginner Stage<br><sup>Use ML only for Insights</sup>",
          " Intermediate Stage<br><sup>Recently Started Using ML</sup>",
          " Advance Stage<br><sup>Well Established ML</sup>",
          " Not Started<br><sup>(No ML)</sup>",
          " Exploration<br><sup>Only Exploring ML</sup>",
          " Beginner Stage<br><sup>Use ML only for Insights</sup>",
          " Intermediate Stage<br><sup>Recently Started Using ML</sup>",
          " Advance Stage<br><sup>Well Established ML</sup>",
          " Not Started<br><sup>(No ML)</sup>",
          " Exploration<br><sup>Only Exploring ML</sup>",
          " Beginner Stage<br><sup>Use ML only for Insights</sup>",
          " Intermediate Stage<br><sup>Recently Started Using ML</sup>",
          " Advance Stage<br><sup>Well Established ML</sup>",
          " Not Started<br><sup>(No ML)</sup>",
          " Exploration<br><sup>Only Exploring ML</sup>",
          " Beginner Stage<br><sup>Use ML only for Insights</sup>",
          " Intermediate Stage<br><sup>Recently Started Using ML</sup>",
          " Advance Stage<br><sup>Well Established ML</sup>",
          " Not Started<br><sup>(No ML)</sup>",
          " Exploration<br><sup>Only Exploring ML</sup>",
          " Beginner Stage<br><sup>Use ML only for Insights</sup>",
          " Intermediate Stage<br><sup>Recently Started Using ML</sup>",
          " Advance Stage<br><sup>Well Established ML</sup>",
          " Not Started<br><sup>(No ML)</sup>",
          " Exploration<br><sup>Only Exploring ML</sup>",
          " Beginner Stage<br><sup>Use ML only for Insights</sup>",
          " Intermediate Stage<br><sup>Recently Started Using ML</sup>",
          " Advance Stage<br><sup>Well Established ML</sup>"
         ]
        }
       ],
       "layout": {
        "font": {
         "color": "#7b6b59"
        },
        "height": 950,
        "margin": {
         "t": 170
        },
        "paper_bgcolor": "#fff",
        "plot_bgcolor": "#fff",
        "showlegend": false,
        "template": {
         "data": {
          "bar": [
           {
            "error_x": {
             "color": "#2a3f5f"
            },
            "error_y": {
             "color": "#2a3f5f"
            },
            "marker": {
             "line": {
              "color": "#E5ECF6",
              "width": 0.5
             },
             "pattern": {
              "fillmode": "overlay",
              "size": 10,
              "solidity": 0.2
             }
            },
            "type": "bar"
           }
          ],
          "barpolar": [
           {
            "marker": {
             "line": {
              "color": "#E5ECF6",
              "width": 0.5
             },
             "pattern": {
              "fillmode": "overlay",
              "size": 10,
              "solidity": 0.2
             }
            },
            "type": "barpolar"
           }
          ],
          "carpet": [
           {
            "aaxis": {
             "endlinecolor": "#2a3f5f",
             "gridcolor": "white",
             "linecolor": "white",
             "minorgridcolor": "white",
             "startlinecolor": "#2a3f5f"
            },
            "baxis": {
             "endlinecolor": "#2a3f5f",
             "gridcolor": "white",
             "linecolor": "white",
             "minorgridcolor": "white",
             "startlinecolor": "#2a3f5f"
            },
            "type": "carpet"
           }
          ],
          "choropleth": [
           {
            "colorbar": {
             "outlinewidth": 0,
             "ticks": ""
            },
            "type": "choropleth"
           }
          ],
          "contour": [
           {
            "colorbar": {
             "outlinewidth": 0,
             "ticks": ""
            },
            "colorscale": [
             [
              0,
              "#0d0887"
             ],
             [
              0.1111111111111111,
              "#46039f"
             ],
             [
              0.2222222222222222,
              "#7201a8"
             ],
             [
              0.3333333333333333,
              "#9c179e"
             ],
             [
              0.4444444444444444,
              "#bd3786"
             ],
             [
              0.5555555555555556,
              "#d8576b"
             ],
             [
              0.6666666666666666,
              "#ed7953"
             ],
             [
              0.7777777777777778,
              "#fb9f3a"
             ],
             [
              0.8888888888888888,
              "#fdca26"
             ],
             [
              1,
              "#f0f921"
             ]
            ],
            "type": "contour"
           }
          ],
          "contourcarpet": [
           {
            "colorbar": {
             "outlinewidth": 0,
             "ticks": ""
            },
            "type": "contourcarpet"
           }
          ],
          "heatmap": [
           {
            "colorbar": {
             "outlinewidth": 0,
             "ticks": ""
            },
            "colorscale": [
             [
              0,
              "#0d0887"
             ],
             [
              0.1111111111111111,
              "#46039f"
             ],
             [
              0.2222222222222222,
              "#7201a8"
             ],
             [
              0.3333333333333333,
              "#9c179e"
             ],
             [
              0.4444444444444444,
              "#bd3786"
             ],
             [
              0.5555555555555556,
              "#d8576b"
             ],
             [
              0.6666666666666666,
              "#ed7953"
             ],
             [
              0.7777777777777778,
              "#fb9f3a"
             ],
             [
              0.8888888888888888,
              "#fdca26"
             ],
             [
              1,
              "#f0f921"
             ]
            ],
            "type": "heatmap"
           }
          ],
          "heatmapgl": [
           {
            "colorbar": {
             "outlinewidth": 0,
             "ticks": ""
            },
            "colorscale": [
             [
              0,
              "#0d0887"
             ],
             [
              0.1111111111111111,
              "#46039f"
             ],
             [
              0.2222222222222222,
              "#7201a8"
             ],
             [
              0.3333333333333333,
              "#9c179e"
             ],
             [
              0.4444444444444444,
              "#bd3786"
             ],
             [
              0.5555555555555556,
              "#d8576b"
             ],
             [
              0.6666666666666666,
              "#ed7953"
             ],
             [
              0.7777777777777778,
              "#fb9f3a"
             ],
             [
              0.8888888888888888,
              "#fdca26"
             ],
             [
              1,
              "#f0f921"
             ]
            ],
            "type": "heatmapgl"
           }
          ],
          "histogram": [
           {
            "marker": {
             "pattern": {
              "fillmode": "overlay",
              "size": 10,
              "solidity": 0.2
             }
            },
            "type": "histogram"
           }
          ],
          "histogram2d": [
           {
            "colorbar": {
             "outlinewidth": 0,
             "ticks": ""
            },
            "colorscale": [
             [
              0,
              "#0d0887"
             ],
             [
              0.1111111111111111,
              "#46039f"
             ],
             [
              0.2222222222222222,
              "#7201a8"
             ],
             [
              0.3333333333333333,
              "#9c179e"
             ],
             [
              0.4444444444444444,
              "#bd3786"
             ],
             [
              0.5555555555555556,
              "#d8576b"
             ],
             [
              0.6666666666666666,
              "#ed7953"
             ],
             [
              0.7777777777777778,
              "#fb9f3a"
             ],
             [
              0.8888888888888888,
              "#fdca26"
             ],
             [
              1,
              "#f0f921"
             ]
            ],
            "type": "histogram2d"
           }
          ],
          "histogram2dcontour": [
           {
            "colorbar": {
             "outlinewidth": 0,
             "ticks": ""
            },
            "colorscale": [
             [
              0,
              "#0d0887"
             ],
             [
              0.1111111111111111,
              "#46039f"
             ],
             [
              0.2222222222222222,
              "#7201a8"
             ],
             [
              0.3333333333333333,
              "#9c179e"
             ],
             [
              0.4444444444444444,
              "#bd3786"
             ],
             [
              0.5555555555555556,
              "#d8576b"
             ],
             [
              0.6666666666666666,
              "#ed7953"
             ],
             [
              0.7777777777777778,
              "#fb9f3a"
             ],
             [
              0.8888888888888888,
              "#fdca26"
             ],
             [
              1,
              "#f0f921"
             ]
            ],
            "type": "histogram2dcontour"
           }
          ],
          "mesh3d": [
           {
            "colorbar": {
             "outlinewidth": 0,
             "ticks": ""
            },
            "type": "mesh3d"
           }
          ],
          "parcoords": [
           {
            "line": {
             "colorbar": {
              "outlinewidth": 0,
              "ticks": ""
             }
            },
            "type": "parcoords"
           }
          ],
          "pie": [
           {
            "automargin": true,
            "type": "pie"
           }
          ],
          "scatter": [
           {
            "fillpattern": {
             "fillmode": "overlay",
             "size": 10,
             "solidity": 0.2
            },
            "type": "scatter"
           }
          ],
          "scatter3d": [
           {
            "line": {
             "colorbar": {
              "outlinewidth": 0,
              "ticks": ""
             }
            },
            "marker": {
             "colorbar": {
              "outlinewidth": 0,
              "ticks": ""
             }
            },
            "type": "scatter3d"
           }
          ],
          "scattercarpet": [
           {
            "marker": {
             "colorbar": {
              "outlinewidth": 0,
              "ticks": ""
             }
            },
            "type": "scattercarpet"
           }
          ],
          "scattergeo": [
           {
            "marker": {
             "colorbar": {
              "outlinewidth": 0,
              "ticks": ""
             }
            },
            "type": "scattergeo"
           }
          ],
          "scattergl": [
           {
            "marker": {
             "colorbar": {
              "outlinewidth": 0,
              "ticks": ""
             }
            },
            "type": "scattergl"
           }
          ],
          "scattermapbox": [
           {
            "marker": {
             "colorbar": {
              "outlinewidth": 0,
              "ticks": ""
             }
            },
            "type": "scattermapbox"
           }
          ],
          "scatterpolar": [
           {
            "marker": {
             "colorbar": {
              "outlinewidth": 0,
              "ticks": ""
             }
            },
            "type": "scatterpolar"
           }
          ],
          "scatterpolargl": [
           {
            "marker": {
             "colorbar": {
              "outlinewidth": 0,
              "ticks": ""
             }
            },
            "type": "scatterpolargl"
           }
          ],
          "scatterternary": [
           {
            "marker": {
             "colorbar": {
              "outlinewidth": 0,
              "ticks": ""
             }
            },
            "type": "scatterternary"
           }
          ],
          "surface": [
           {
            "colorbar": {
             "outlinewidth": 0,
             "ticks": ""
            },
            "colorscale": [
             [
              0,
              "#0d0887"
             ],
             [
              0.1111111111111111,
              "#46039f"
             ],
             [
              0.2222222222222222,
              "#7201a8"
             ],
             [
              0.3333333333333333,
              "#9c179e"
             ],
             [
              0.4444444444444444,
              "#bd3786"
             ],
             [
              0.5555555555555556,
              "#d8576b"
             ],
             [
              0.6666666666666666,
              "#ed7953"
             ],
             [
              0.7777777777777778,
              "#fb9f3a"
             ],
             [
              0.8888888888888888,
              "#fdca26"
             ],
             [
              1,
              "#f0f921"
             ]
            ],
            "type": "surface"
           }
          ],
          "table": [
           {
            "cells": {
             "fill": {
              "color": "#EBF0F8"
             },
             "line": {
              "color": "white"
             }
            },
            "header": {
             "fill": {
              "color": "#C8D4E3"
             },
             "line": {
              "color": "white"
             }
            },
            "type": "table"
           }
          ]
         },
         "layout": {
          "annotationdefaults": {
           "arrowcolor": "#2a3f5f",
           "arrowhead": 0,
           "arrowwidth": 1
          },
          "autotypenumbers": "strict",
          "coloraxis": {
           "colorbar": {
            "outlinewidth": 0,
            "ticks": ""
           }
          },
          "colorscale": {
           "diverging": [
            [
             0,
             "#8e0152"
            ],
            [
             0.1,
             "#c51b7d"
            ],
            [
             0.2,
             "#de77ae"
            ],
            [
             0.3,
             "#f1b6da"
            ],
            [
             0.4,
             "#fde0ef"
            ],
            [
             0.5,
             "#f7f7f7"
            ],
            [
             0.6,
             "#e6f5d0"
            ],
            [
             0.7,
             "#b8e186"
            ],
            [
             0.8,
             "#7fbc41"
            ],
            [
             0.9,
             "#4d9221"
            ],
            [
             1,
             "#276419"
            ]
           ],
           "sequential": [
            [
             0,
             "#0d0887"
            ],
            [
             0.1111111111111111,
             "#46039f"
            ],
            [
             0.2222222222222222,
             "#7201a8"
            ],
            [
             0.3333333333333333,
             "#9c179e"
            ],
            [
             0.4444444444444444,
             "#bd3786"
            ],
            [
             0.5555555555555556,
             "#d8576b"
            ],
            [
             0.6666666666666666,
             "#ed7953"
            ],
            [
             0.7777777777777778,
             "#fb9f3a"
            ],
            [
             0.8888888888888888,
             "#fdca26"
            ],
            [
             1,
             "#f0f921"
            ]
           ],
           "sequentialminus": [
            [
             0,
             "#0d0887"
            ],
            [
             0.1111111111111111,
             "#46039f"
            ],
            [
             0.2222222222222222,
             "#7201a8"
            ],
            [
             0.3333333333333333,
             "#9c179e"
            ],
            [
             0.4444444444444444,
             "#bd3786"
            ],
            [
             0.5555555555555556,
             "#d8576b"
            ],
            [
             0.6666666666666666,
             "#ed7953"
            ],
            [
             0.7777777777777778,
             "#fb9f3a"
            ],
            [
             0.8888888888888888,
             "#fdca26"
            ],
            [
             1,
             "#f0f921"
            ]
           ]
          },
          "colorway": [
           "#636efa",
           "#EF553B",
           "#00cc96",
           "#ab63fa",
           "#FFA15A",
           "#19d3f3",
           "#FF6692",
           "#B6E880",
           "#FF97FF",
           "#FECB52"
          ],
          "font": {
           "color": "#2a3f5f"
          },
          "geo": {
           "bgcolor": "white",
           "lakecolor": "white",
           "landcolor": "#E5ECF6",
           "showlakes": true,
           "showland": true,
           "subunitcolor": "white"
          },
          "hoverlabel": {
           "align": "left"
          },
          "hovermode": "closest",
          "mapbox": {
           "style": "light"
          },
          "paper_bgcolor": "white",
          "plot_bgcolor": "#E5ECF6",
          "polar": {
           "angularaxis": {
            "gridcolor": "white",
            "linecolor": "white",
            "ticks": ""
           },
           "bgcolor": "#E5ECF6",
           "radialaxis": {
            "gridcolor": "white",
            "linecolor": "white",
            "ticks": ""
           }
          },
          "scene": {
           "xaxis": {
            "backgroundcolor": "#E5ECF6",
            "gridcolor": "white",
            "gridwidth": 2,
            "linecolor": "white",
            "showbackground": true,
            "ticks": "",
            "zerolinecolor": "white"
           },
           "yaxis": {
            "backgroundcolor": "#E5ECF6",
            "gridcolor": "white",
            "gridwidth": 2,
            "linecolor": "white",
            "showbackground": true,
            "ticks": "",
            "zerolinecolor": "white"
           },
           "zaxis": {
            "backgroundcolor": "#E5ECF6",
            "gridcolor": "white",
            "gridwidth": 2,
            "linecolor": "white",
            "showbackground": true,
            "ticks": "",
            "zerolinecolor": "white"
           }
          },
          "shapedefaults": {
           "line": {
            "color": "#2a3f5f"
           }
          },
          "ternary": {
           "aaxis": {
            "gridcolor": "white",
            "linecolor": "white",
            "ticks": ""
           },
           "baxis": {
            "gridcolor": "white",
            "linecolor": "white",
            "ticks": ""
           },
           "bgcolor": "#E5ECF6",
           "caxis": {
            "gridcolor": "white",
            "linecolor": "white",
            "ticks": ""
           }
          },
          "title": {
           "x": 0.05
          },
          "xaxis": {
           "automargin": true,
           "gridcolor": "white",
           "linecolor": "white",
           "ticks": "",
           "title": {
            "standoff": 15
           },
           "zerolinecolor": "white",
           "zerolinewidth": 2
          },
          "yaxis": {
           "automargin": true,
           "gridcolor": "white",
           "linecolor": "white",
           "ticks": "",
           "title": {
            "standoff": 15
           },
           "zerolinecolor": "white",
           "zerolinewidth": 2
          }
         }
        },
        "title": {
         "text": "<span style='font-size:30px; font-family:Times New Roman'>Machine Learning Adoption across Industries</span><br><br><sup>Responses to Industry (Q24) and Machine Learning Adoption State (Q27) questions</sup><br><sup>The size and color of the circles on the plot represent the percentage of respondents in each industry who chose a specific machine learning <br> adoption stage. This percentage is calculated as the number of respondents in that industry who chose the specific <br> adoption stage divided by the total number of respondents in that industry.</sup>",
         "x": 0.5,
         "xanchor": "center"
        },
        "width": 900,
        "xaxis": {
         "gridcolor": "#c9c4c3",
         "linecolor": "#c9c4c3",
         "linewidth": 1,
         "showgrid": false,
         "showline": false,
         "tickangle": -35,
         "tickfont": {
          "color": "#7b6b59",
          "family": "Verdana",
          "size": 14
         },
         "title": {
          "font": {
           "color": "#f57369",
           "family": "Verdana",
           "size": 14
          },
          "text": ""
         }
        },
        "yaxis": {
         "gridcolor": "#fff",
         "linecolor": "#000",
         "linewidth": 1,
         "showgrid": false,
         "showline": false,
         "tickfont": {
          "color": "#a43725",
          "family": "Verdana",
          "size": 14
         },
         "title": {
          "font": {
           "color": "#f57369",
           "family": "Verdana",
           "size": 14
          },
          "text": ""
         }
        }
       }
      },
      "text/html": [
       "<div>                            <div id=\"dfffded5-fd78-46a0-b323-ce28733ac468\" class=\"plotly-graph-div\" style=\"height:950px; width:900px;\"></div>            <script type=\"text/javascript\">                require([\"plotly\"], function(Plotly) {                    window.PLOTLYENV=window.PLOTLYENV || {};                                    if (document.getElementById(\"dfffded5-fd78-46a0-b323-ce28733ac468\")) {                    Plotly.newPlot(                        \"dfffded5-fd78-46a0-b323-ce28733ac468\",                        [{\"hovertemplate\":\"Industry: %{x}<br>AI Adoption Stage: %{y}<br>Percentage: %{marker.size:,}<extra></extra>\",\"marker\":{\"color\":[28.74913614374568,17.622667588113337,11.264685556323428,9.606081548030408,5.9433310297166555,16.58354114713217,17.70573566084788,10.349127182044887,13.840399002493767,25.43640897755611,20.11173184357542,13.966480446927374,12.290502793296088,16.201117318435752,23.463687150837988,14.691943127962084,16.889271865575182,10.21111589831969,14.433433864713486,27.358897027143474,29.062500000000004,16.5625,10.625,15.312500000000002,16.5625,32.2,20.0,8.0,13.200000000000001,11.600000000000001,9.375,16.796875,12.5,14.84375,28.90625,31.372549019607842,20.677361853832444,9.090909090909092,13.903743315508022,10.51693404634581,21.544715447154474,17.073170731707318,11.788617886178862,20.32520325203252,19.51219512195122,18.860510805500983,17.288801571709232,11.591355599214145,14.931237721021612,20.039292730844792,39.175257731958766,17.525773195876287,9.278350515463918,8.762886597938143,5.154639175257731,13.015184381778742,17.570498915401302,9.97830802603037,11.496746203904555,36.00867678958785,24.133333333333333,14.399999999999999,7.733333333333333,11.733333333333333,14.399999999999999,23.366834170854272,12.562814070351758,9.296482412060302,14.572864321608039,27.1356783919598,20.666666666666668,15.333333333333332,10.666666666666668,14.666666666666666,16.666666666666664],\"colorbar\":{\"title\":{\"text\":\"Percent\"}},\"colorscale\":[[0.0,\"rgb(5,48,97)\"],[0.1,\"rgb(33,102,172)\"],[0.2,\"rgb(67,147,195)\"],[0.3,\"rgb(146,197,222)\"],[0.4,\"rgb(209,229,240)\"],[0.5,\"rgb(247,247,247)\"],[0.6,\"rgb(253,219,199)\"],[0.7,\"rgb(244,165,130)\"],[0.8,\"rgb(214,96,77)\"],[0.9,\"rgb(178,24,43)\"],[1.0,\"rgb(103,0,31)\"]],\"opacity\":0.7,\"showscale\":true,\"size\":[28.74913614374568,17.622667588113337,11.264685556323428,9.606081548030408,5.9433310297166555,16.58354114713217,17.70573566084788,10.349127182044887,13.840399002493767,25.43640897755611,20.11173184357542,13.966480446927374,12.290502793296088,16.201117318435752,23.463687150837988,14.691943127962084,16.889271865575182,10.21111589831969,14.433433864713486,27.358897027143474,29.062500000000004,16.5625,10.625,15.312500000000002,16.5625,32.2,20.0,8.0,13.200000000000001,11.600000000000001,9.375,16.796875,12.5,14.84375,28.90625,31.372549019607842,20.677361853832444,9.090909090909092,13.903743315508022,10.51693404634581,21.544715447154474,17.073170731707318,11.788617886178862,20.32520325203252,19.51219512195122,18.860510805500983,17.288801571709232,11.591355599214145,14.931237721021612,20.039292730844792,39.175257731958766,17.525773195876287,9.278350515463918,8.762886597938143,5.154639175257731,13.015184381778742,17.570498915401302,9.97830802603037,11.496746203904555,36.00867678958785,24.133333333333333,14.399999999999999,7.733333333333333,11.733333333333333,14.399999999999999,23.366834170854272,12.562814070351758,9.296482412060302,14.572864321608039,27.1356783919598,20.666666666666668,15.333333333333332,10.666666666666668,14.666666666666666,16.666666666666664]},\"mode\":\"markers\",\"x\":[\"Academics/Education\",\"Academics/Education\",\"Academics/Education\",\"Academics/Education\",\"Academics/Education\",\"Accounting/Finance\",\"Accounting/Finance\",\"Accounting/Finance\",\"Accounting/Finance\",\"Accounting/Finance\",\"Broadcasting/Communications\",\"Broadcasting/Communications\",\"Broadcasting/Communications\",\"Broadcasting/Communications\",\"Broadcasting/Communications\",\"Computers/Technology\",\"Computers/Technology\",\"Computers/Technology\",\"Computers/Technology\",\"Computers/Technology\",\"Energy/Mining\",\"Energy/Mining\",\"Energy/Mining\",\"Energy/Mining\",\"Energy/Mining\",\"Government/Public Service\",\"Government/Public Service\",\"Government/Public Service\",\"Government/Public Service\",\"Government/Public Service\",\"Insurance/Risk Assessment\",\"Insurance/Risk Assessment\",\"Insurance/Risk Assessment\",\"Insurance/Risk Assessment\",\"Insurance/Risk Assessment\",\"Manufacturing/Fabrication\",\"Manufacturing/Fabrication\",\"Manufacturing/Fabrication\",\"Manufacturing/Fabrication\",\"Manufacturing/Fabrication\",\"Marketing/CRM\",\"Marketing/CRM\",\"Marketing/CRM\",\"Marketing/CRM\",\"Marketing/CRM\",\"Medical/Pharmaceutical\",\"Medical/Pharmaceutical\",\"Medical/Pharmaceutical\",\"Medical/Pharmaceutical\",\"Medical/Pharmaceutical\",\"Non-profit/Service\",\"Non-profit/Service\",\"Non-profit/Service\",\"Non-profit/Service\",\"Non-profit/Service\",\"Online Service/Internet-based Services\",\"Online Service/Internet-based Services\",\"Online Service/Internet-based Services\",\"Online Service/Internet-based Services\",\"Online Service/Internet-based Services\",\"Other\",\"Other\",\"Other\",\"Other\",\"Other\",\"Retail/Sales\",\"Retail/Sales\",\"Retail/Sales\",\"Retail/Sales\",\"Retail/Sales\",\"Shipping/Transportation\",\"Shipping/Transportation\",\"Shipping/Transportation\",\"Shipping/Transportation\",\"Shipping/Transportation\"],\"y\":[\" Not Started<br><sup>(No ML)</sup>\",\" Exploration<br><sup>Only Exploring ML</sup>\",\" Beginner Stage<br><sup>Use ML only for Insights</sup>\",\" Intermediate Stage<br><sup>Recently Started Using ML</sup>\",\" Advance Stage<br><sup>Well Established ML</sup>\",\" Not Started<br><sup>(No ML)</sup>\",\" Exploration<br><sup>Only Exploring ML</sup>\",\" Beginner Stage<br><sup>Use ML only for Insights</sup>\",\" Intermediate Stage<br><sup>Recently Started Using ML</sup>\",\" Advance Stage<br><sup>Well Established ML</sup>\",\" Not Started<br><sup>(No ML)</sup>\",\" Exploration<br><sup>Only Exploring ML</sup>\",\" Beginner Stage<br><sup>Use ML only for Insights</sup>\",\" Intermediate Stage<br><sup>Recently Started Using ML</sup>\",\" Advance Stage<br><sup>Well Established ML</sup>\",\" Not Started<br><sup>(No ML)</sup>\",\" Exploration<br><sup>Only Exploring ML</sup>\",\" Beginner Stage<br><sup>Use ML only for Insights</sup>\",\" Intermediate Stage<br><sup>Recently Started Using ML</sup>\",\" Advance Stage<br><sup>Well Established ML</sup>\",\" Not Started<br><sup>(No ML)</sup>\",\" Exploration<br><sup>Only Exploring ML</sup>\",\" Beginner Stage<br><sup>Use ML only for Insights</sup>\",\" Intermediate Stage<br><sup>Recently Started Using ML</sup>\",\" Advance Stage<br><sup>Well Established ML</sup>\",\" Not Started<br><sup>(No ML)</sup>\",\" Exploration<br><sup>Only Exploring ML</sup>\",\" Beginner Stage<br><sup>Use ML only for Insights</sup>\",\" Intermediate Stage<br><sup>Recently Started Using ML</sup>\",\" Advance Stage<br><sup>Well Established ML</sup>\",\" Not Started<br><sup>(No ML)</sup>\",\" Exploration<br><sup>Only Exploring ML</sup>\",\" Beginner Stage<br><sup>Use ML only for Insights</sup>\",\" Intermediate Stage<br><sup>Recently Started Using ML</sup>\",\" Advance Stage<br><sup>Well Established ML</sup>\",\" Not Started<br><sup>(No ML)</sup>\",\" Exploration<br><sup>Only Exploring ML</sup>\",\" Beginner Stage<br><sup>Use ML only for Insights</sup>\",\" Intermediate Stage<br><sup>Recently Started Using ML</sup>\",\" Advance Stage<br><sup>Well Established ML</sup>\",\" Not Started<br><sup>(No ML)</sup>\",\" Exploration<br><sup>Only Exploring ML</sup>\",\" Beginner Stage<br><sup>Use ML only for Insights</sup>\",\" Intermediate Stage<br><sup>Recently Started Using ML</sup>\",\" Advance Stage<br><sup>Well Established ML</sup>\",\" Not Started<br><sup>(No ML)</sup>\",\" Exploration<br><sup>Only Exploring ML</sup>\",\" Beginner Stage<br><sup>Use ML only for Insights</sup>\",\" Intermediate Stage<br><sup>Recently Started Using ML</sup>\",\" Advance Stage<br><sup>Well Established ML</sup>\",\" Not Started<br><sup>(No ML)</sup>\",\" Exploration<br><sup>Only Exploring ML</sup>\",\" Beginner Stage<br><sup>Use ML only for Insights</sup>\",\" Intermediate Stage<br><sup>Recently Started Using ML</sup>\",\" Advance Stage<br><sup>Well Established ML</sup>\",\" Not Started<br><sup>(No ML)</sup>\",\" Exploration<br><sup>Only Exploring ML</sup>\",\" Beginner Stage<br><sup>Use ML only for Insights</sup>\",\" Intermediate Stage<br><sup>Recently Started Using ML</sup>\",\" Advance Stage<br><sup>Well Established ML</sup>\",\" Not Started<br><sup>(No ML)</sup>\",\" Exploration<br><sup>Only Exploring ML</sup>\",\" Beginner Stage<br><sup>Use ML only for Insights</sup>\",\" Intermediate Stage<br><sup>Recently Started Using ML</sup>\",\" Advance Stage<br><sup>Well Established ML</sup>\",\" Not Started<br><sup>(No ML)</sup>\",\" Exploration<br><sup>Only Exploring ML</sup>\",\" Beginner Stage<br><sup>Use ML only for Insights</sup>\",\" Intermediate Stage<br><sup>Recently Started Using ML</sup>\",\" Advance Stage<br><sup>Well Established ML</sup>\",\" Not Started<br><sup>(No ML)</sup>\",\" Exploration<br><sup>Only Exploring ML</sup>\",\" Beginner Stage<br><sup>Use ML only for Insights</sup>\",\" Intermediate Stage<br><sup>Recently Started Using ML</sup>\",\" Advance Stage<br><sup>Well Established ML</sup>\"],\"type\":\"scatter\"}],                        {\"font\":{\"color\":\"#7b6b59\"},\"height\":950,\"margin\":{\"t\":170},\"paper_bgcolor\":\"#fff\",\"plot_bgcolor\":\"#fff\",\"showlegend\":false,\"title\":{\"text\":\"<span style='font-size:30px; font-family:Times New Roman'>Machine Learning Adoption across Industries</span><br><br><sup>Responses to Industry (Q24) and Machine Learning Adoption State (Q27) questions</sup><br><sup>The size and color of the circles on the plot represent the percentage of respondents in each industry who chose a specific machine learning <br> adoption stage. This percentage is calculated as the number of respondents in that industry who chose the specific <br> adoption stage divided by the total number of respondents in that industry.</sup>\",\"x\":0.5,\"xanchor\":\"center\"},\"width\":900,\"template\":{\"data\":{\"histogram2dcontour\":[{\"type\":\"histogram2dcontour\",\"colorbar\":{\"outlinewidth\":0,\"ticks\":\"\"},\"colorscale\":[[0.0,\"#0d0887\"],[0.1111111111111111,\"#46039f\"],[0.2222222222222222,\"#7201a8\"],[0.3333333333333333,\"#9c179e\"],[0.4444444444444444,\"#bd3786\"],[0.5555555555555556,\"#d8576b\"],[0.6666666666666666,\"#ed7953\"],[0.7777777777777778,\"#fb9f3a\"],[0.8888888888888888,\"#fdca26\"],[1.0,\"#f0f921\"]]}],\"choropleth\":[{\"type\":\"choropleth\",\"colorbar\":{\"outlinewidth\":0,\"ticks\":\"\"}}],\"histogram2d\":[{\"type\":\"histogram2d\",\"colorbar\":{\"outlinewidth\":0,\"ticks\":\"\"},\"colorscale\":[[0.0,\"#0d0887\"],[0.1111111111111111,\"#46039f\"],[0.2222222222222222,\"#7201a8\"],[0.3333333333333333,\"#9c179e\"],[0.4444444444444444,\"#bd3786\"],[0.5555555555555556,\"#d8576b\"],[0.6666666666666666,\"#ed7953\"],[0.7777777777777778,\"#fb9f3a\"],[0.8888888888888888,\"#fdca26\"],[1.0,\"#f0f921\"]]}],\"heatmap\":[{\"type\":\"heatmap\",\"colorbar\":{\"outlinewidth\":0,\"ticks\":\"\"},\"colorscale\":[[0.0,\"#0d0887\"],[0.1111111111111111,\"#46039f\"],[0.2222222222222222,\"#7201a8\"],[0.3333333333333333,\"#9c179e\"],[0.4444444444444444,\"#bd3786\"],[0.5555555555555556,\"#d8576b\"],[0.6666666666666666,\"#ed7953\"],[0.7777777777777778,\"#fb9f3a\"],[0.8888888888888888,\"#fdca26\"],[1.0,\"#f0f921\"]]}],\"heatmapgl\":[{\"type\":\"heatmapgl\",\"colorbar\":{\"outlinewidth\":0,\"ticks\":\"\"},\"colorscale\":[[0.0,\"#0d0887\"],[0.1111111111111111,\"#46039f\"],[0.2222222222222222,\"#7201a8\"],[0.3333333333333333,\"#9c179e\"],[0.4444444444444444,\"#bd3786\"],[0.5555555555555556,\"#d8576b\"],[0.6666666666666666,\"#ed7953\"],[0.7777777777777778,\"#fb9f3a\"],[0.8888888888888888,\"#fdca26\"],[1.0,\"#f0f921\"]]}],\"contourcarpet\":[{\"type\":\"contourcarpet\",\"colorbar\":{\"outlinewidth\":0,\"ticks\":\"\"}}],\"contour\":[{\"type\":\"contour\",\"colorbar\":{\"outlinewidth\":0,\"ticks\":\"\"},\"colorscale\":[[0.0,\"#0d0887\"],[0.1111111111111111,\"#46039f\"],[0.2222222222222222,\"#7201a8\"],[0.3333333333333333,\"#9c179e\"],[0.4444444444444444,\"#bd3786\"],[0.5555555555555556,\"#d8576b\"],[0.6666666666666666,\"#ed7953\"],[0.7777777777777778,\"#fb9f3a\"],[0.8888888888888888,\"#fdca26\"],[1.0,\"#f0f921\"]]}],\"surface\":[{\"type\":\"surface\",\"colorbar\":{\"outlinewidth\":0,\"ticks\":\"\"},\"colorscale\":[[0.0,\"#0d0887\"],[0.1111111111111111,\"#46039f\"],[0.2222222222222222,\"#7201a8\"],[0.3333333333333333,\"#9c179e\"],[0.4444444444444444,\"#bd3786\"],[0.5555555555555556,\"#d8576b\"],[0.6666666666666666,\"#ed7953\"],[0.7777777777777778,\"#fb9f3a\"],[0.8888888888888888,\"#fdca26\"],[1.0,\"#f0f921\"]]}],\"mesh3d\":[{\"type\":\"mesh3d\",\"colorbar\":{\"outlinewidth\":0,\"ticks\":\"\"}}],\"scatter\":[{\"fillpattern\":{\"fillmode\":\"overlay\",\"size\":10,\"solidity\":0.2},\"type\":\"scatter\"}],\"parcoords\":[{\"type\":\"parcoords\",\"line\":{\"colorbar\":{\"outlinewidth\":0,\"ticks\":\"\"}}}],\"scatterpolargl\":[{\"type\":\"scatterpolargl\",\"marker\":{\"colorbar\":{\"outlinewidth\":0,\"ticks\":\"\"}}}],\"bar\":[{\"error_x\":{\"color\":\"#2a3f5f\"},\"error_y\":{\"color\":\"#2a3f5f\"},\"marker\":{\"line\":{\"color\":\"#E5ECF6\",\"width\":0.5},\"pattern\":{\"fillmode\":\"overlay\",\"size\":10,\"solidity\":0.2}},\"type\":\"bar\"}],\"scattergeo\":[{\"type\":\"scattergeo\",\"marker\":{\"colorbar\":{\"outlinewidth\":0,\"ticks\":\"\"}}}],\"scatterpolar\":[{\"type\":\"scatterpolar\",\"marker\":{\"colorbar\":{\"outlinewidth\":0,\"ticks\":\"\"}}}],\"histogram\":[{\"marker\":{\"pattern\":{\"fillmode\":\"overlay\",\"size\":10,\"solidity\":0.2}},\"type\":\"histogram\"}],\"scattergl\":[{\"type\":\"scattergl\",\"marker\":{\"colorbar\":{\"outlinewidth\":0,\"ticks\":\"\"}}}],\"scatter3d\":[{\"type\":\"scatter3d\",\"line\":{\"colorbar\":{\"outlinewidth\":0,\"ticks\":\"\"}},\"marker\":{\"colorbar\":{\"outlinewidth\":0,\"ticks\":\"\"}}}],\"scattermapbox\":[{\"type\":\"scattermapbox\",\"marker\":{\"colorbar\":{\"outlinewidth\":0,\"ticks\":\"\"}}}],\"scatterternary\":[{\"type\":\"scatterternary\",\"marker\":{\"colorbar\":{\"outlinewidth\":0,\"ticks\":\"\"}}}],\"scattercarpet\":[{\"type\":\"scattercarpet\",\"marker\":{\"colorbar\":{\"outlinewidth\":0,\"ticks\":\"\"}}}],\"carpet\":[{\"aaxis\":{\"endlinecolor\":\"#2a3f5f\",\"gridcolor\":\"white\",\"linecolor\":\"white\",\"minorgridcolor\":\"white\",\"startlinecolor\":\"#2a3f5f\"},\"baxis\":{\"endlinecolor\":\"#2a3f5f\",\"gridcolor\":\"white\",\"linecolor\":\"white\",\"minorgridcolor\":\"white\",\"startlinecolor\":\"#2a3f5f\"},\"type\":\"carpet\"}],\"table\":[{\"cells\":{\"fill\":{\"color\":\"#EBF0F8\"},\"line\":{\"color\":\"white\"}},\"header\":{\"fill\":{\"color\":\"#C8D4E3\"},\"line\":{\"color\":\"white\"}},\"type\":\"table\"}],\"barpolar\":[{\"marker\":{\"line\":{\"color\":\"#E5ECF6\",\"width\":0.5},\"pattern\":{\"fillmode\":\"overlay\",\"size\":10,\"solidity\":0.2}},\"type\":\"barpolar\"}],\"pie\":[{\"automargin\":true,\"type\":\"pie\"}]},\"layout\":{\"autotypenumbers\":\"strict\",\"colorway\":[\"#636efa\",\"#EF553B\",\"#00cc96\",\"#ab63fa\",\"#FFA15A\",\"#19d3f3\",\"#FF6692\",\"#B6E880\",\"#FF97FF\",\"#FECB52\"],\"font\":{\"color\":\"#2a3f5f\"},\"hovermode\":\"closest\",\"hoverlabel\":{\"align\":\"left\"},\"paper_bgcolor\":\"white\",\"plot_bgcolor\":\"#E5ECF6\",\"polar\":{\"bgcolor\":\"#E5ECF6\",\"angularaxis\":{\"gridcolor\":\"white\",\"linecolor\":\"white\",\"ticks\":\"\"},\"radialaxis\":{\"gridcolor\":\"white\",\"linecolor\":\"white\",\"ticks\":\"\"}},\"ternary\":{\"bgcolor\":\"#E5ECF6\",\"aaxis\":{\"gridcolor\":\"white\",\"linecolor\":\"white\",\"ticks\":\"\"},\"baxis\":{\"gridcolor\":\"white\",\"linecolor\":\"white\",\"ticks\":\"\"},\"caxis\":{\"gridcolor\":\"white\",\"linecolor\":\"white\",\"ticks\":\"\"}},\"coloraxis\":{\"colorbar\":{\"outlinewidth\":0,\"ticks\":\"\"}},\"colorscale\":{\"sequential\":[[0.0,\"#0d0887\"],[0.1111111111111111,\"#46039f\"],[0.2222222222222222,\"#7201a8\"],[0.3333333333333333,\"#9c179e\"],[0.4444444444444444,\"#bd3786\"],[0.5555555555555556,\"#d8576b\"],[0.6666666666666666,\"#ed7953\"],[0.7777777777777778,\"#fb9f3a\"],[0.8888888888888888,\"#fdca26\"],[1.0,\"#f0f921\"]],\"sequentialminus\":[[0.0,\"#0d0887\"],[0.1111111111111111,\"#46039f\"],[0.2222222222222222,\"#7201a8\"],[0.3333333333333333,\"#9c179e\"],[0.4444444444444444,\"#bd3786\"],[0.5555555555555556,\"#d8576b\"],[0.6666666666666666,\"#ed7953\"],[0.7777777777777778,\"#fb9f3a\"],[0.8888888888888888,\"#fdca26\"],[1.0,\"#f0f921\"]],\"diverging\":[[0,\"#8e0152\"],[0.1,\"#c51b7d\"],[0.2,\"#de77ae\"],[0.3,\"#f1b6da\"],[0.4,\"#fde0ef\"],[0.5,\"#f7f7f7\"],[0.6,\"#e6f5d0\"],[0.7,\"#b8e186\"],[0.8,\"#7fbc41\"],[0.9,\"#4d9221\"],[1,\"#276419\"]]},\"xaxis\":{\"gridcolor\":\"white\",\"linecolor\":\"white\",\"ticks\":\"\",\"title\":{\"standoff\":15},\"zerolinecolor\":\"white\",\"automargin\":true,\"zerolinewidth\":2},\"yaxis\":{\"gridcolor\":\"white\",\"linecolor\":\"white\",\"ticks\":\"\",\"title\":{\"standoff\":15},\"zerolinecolor\":\"white\",\"automargin\":true,\"zerolinewidth\":2},\"scene\":{\"xaxis\":{\"backgroundcolor\":\"#E5ECF6\",\"gridcolor\":\"white\",\"linecolor\":\"white\",\"showbackground\":true,\"ticks\":\"\",\"zerolinecolor\":\"white\",\"gridwidth\":2},\"yaxis\":{\"backgroundcolor\":\"#E5ECF6\",\"gridcolor\":\"white\",\"linecolor\":\"white\",\"showbackground\":true,\"ticks\":\"\",\"zerolinecolor\":\"white\",\"gridwidth\":2},\"zaxis\":{\"backgroundcolor\":\"#E5ECF6\",\"gridcolor\":\"white\",\"linecolor\":\"white\",\"showbackground\":true,\"ticks\":\"\",\"zerolinecolor\":\"white\",\"gridwidth\":2}},\"shapedefaults\":{\"line\":{\"color\":\"#2a3f5f\"}},\"annotationdefaults\":{\"arrowcolor\":\"#2a3f5f\",\"arrowhead\":0,\"arrowwidth\":1},\"geo\":{\"bgcolor\":\"white\",\"landcolor\":\"#E5ECF6\",\"subunitcolor\":\"white\",\"showland\":true,\"showlakes\":true,\"lakecolor\":\"white\"},\"title\":{\"x\":0.05},\"mapbox\":{\"style\":\"light\"}}},\"xaxis\":{\"tickfont\":{\"size\":14,\"family\":\"Verdana\",\"color\":\"#7b6b59\"},\"title\":{\"text\":\"\",\"font\":{\"size\":14,\"family\":\"Verdana\",\"color\":\"#f57369\"}},\"showline\":false,\"linewidth\":1,\"linecolor\":\"#c9c4c3\",\"gridcolor\":\"#c9c4c3\",\"showgrid\":false,\"tickangle\":-35},\"yaxis\":{\"tickfont\":{\"size\":14,\"family\":\"Verdana\",\"color\":\"#a43725\"},\"title\":{\"text\":\"\",\"font\":{\"size\":14,\"family\":\"Verdana\",\"color\":\"#f57369\"}},\"showline\":false,\"linewidth\":1,\"linecolor\":\"#000\",\"gridcolor\":\"#fff\",\"showgrid\":false}},                        {\"responsive\": true}                    ).then(function(){\n",
       "                            \n",
       "var gd = document.getElementById('dfffded5-fd78-46a0-b323-ce28733ac468');\n",
       "var x = new MutationObserver(function (mutations, observer) {{\n",
       "        var display = window.getComputedStyle(gd).display;\n",
       "        if (!display || display === 'none') {{\n",
       "            console.log([gd, 'removed!']);\n",
       "            Plotly.purge(gd);\n",
       "            observer.disconnect();\n",
       "        }}\n",
       "}});\n",
       "\n",
       "// Listen for the removal of the full notebook cells\n",
       "var notebookContainer = gd.closest('#notebook-container');\n",
       "if (notebookContainer) {{\n",
       "    x.observe(notebookContainer, {childList: true});\n",
       "}}\n",
       "\n",
       "// Listen for the clearing of the current output cell\n",
       "var outputEl = gd.closest('.output');\n",
       "if (outputEl) {{\n",
       "    x.observe(outputEl, {childList: true});\n",
       "}}\n",
       "\n",
       "                        })                };                });            </script>        </div>"
      ]
     },
     "metadata": {},
     "output_type": "display_data"
    }
   ],
   "source": [
    "# Get the counts of occurrences of each industry\n",
    "ai_adoption_totals = scope_df[\"Q24\"].value_counts().to_dict()\n",
    "\n",
    "# Get the counts of occurrences of each ML adoption stage per industry\n",
    "ai_adoption = scope_df.groupby([\"Q24\", \"ML_adoption\"]).agg({\"Q2\" : \"count\"}).reset_index().rename(columns={\"Q2\": \"counts\"})\n",
    "\n",
    "# Get the relative percent \n",
    "ai_adoption[\"relative_percent\"] = ai_adoption.apply(lambda x : x[\"counts\"] / ai_adoption_totals[x[\"Q24\"]], axis = 1)\n",
    "\n",
    "# Ignore categories and states like other, not known, etc. \n",
    "ai_adoption = ai_adoption[ai_adoption[\"ML_adoption\"]!= \"Not Known\"]\n",
    "\n",
    "hover_template = \"Industry: %{x}<br>\" + \"AI Adoption Stage: %{y}<br>\" + \"Percentage: %{marker.size:,}\" + \"<extra></extra>\"\n",
    "\n",
    "create_scatter_plot(\n",
    "    ai_adoption[\"Q24\"],\n",
    "    ai_adoption[\"ML_adoption\"].apply(lambda x : x.split(\".\")[-1]), \n",
    "    hover_template,\n",
    "    ai_adoption['relative_percent']*100, \n",
    "    ai_adoption['relative_percent']*100, \n",
    "    \"Machine Learning Adoption across Industries\",\n",
    "    \"Responses to Industry (Q24) and Machine Learning Adoption State (Q27) questions\",\n",
    "    \"The size and color of the circles on the plot represent the percentage of respondents in each industry who chose a specific machine learning <br> adoption stage. This percentage is calculated as the number of respondents in that industry who chose the specific <br> adoption stage divided by the total number of respondents in that industry.\"\n",
    ")"
   ]
  },
  {
   "cell_type": "code",
   "execution_count": 83,
   "id": "2c329a57",
   "metadata": {},
   "outputs": [
    {
     "data": {
      "application/vnd.plotly.v1+json": {
       "config": {
        "plotlyServerURL": "https://plot.ly"
       },
       "data": [
        {
         "fill": "toself",
         "name": "Exploration Stage",
         "r": [
          458,
          299,
          238,
          294,
          263
         ],
         "theta": [
          "1. 0-49 employees",
          "2. 50-249 employees",
          "3. 250-999 employees",
          "4. 1000-9,999 employees",
          "5. 10,000 or more employees"
         ],
         "type": "scatterpolar"
        },
        {
         "fill": "toself",
         "name": "Generating Insights",
         "r": [
          232,
          180,
          145,
          187,
          181
         ],
         "theta": [
          "1. 0-49 employees",
          "2. 50-249 employees",
          "3. 250-999 employees",
          "4. 1000-9,999 employees",
          "5. 10,000 or more employees"
         ],
         "type": "scatterpolar"
        },
        {
         "fill": "toself",
         "name": "Models in Production",
         "r": [
          505,
          429,
          413,
          681,
          959
         ],
         "theta": [
          "1. 0-49 employees",
          "2. 50-249 employees",
          "3. 250-999 employees",
          "4. 1000-9,999 employees",
          "5. 10,000 or more employees"
         ],
         "type": "scatterpolar"
        },
        {
         "fill": "toself",
         "name": "Not Known",
         "r": [
          332,
          209,
          235,
          392,
          464
         ],
         "theta": [
          "1. 0-49 employees",
          "2. 50-249 employees",
          "3. 250-999 employees",
          "4. 1000-9,999 employees",
          "5. 10,000 or more employees"
         ],
         "type": "scatterpolar"
        },
        {
         "fill": "toself",
         "name": "Not Started",
         "r": [
          603,
          447,
          331,
          334,
          255
         ],
         "theta": [
          "1. 0-49 employees",
          "2. 50-249 employees",
          "3. 250-999 employees",
          "4. 1000-9,999 employees",
          "5. 10,000 or more employees"
         ],
         "type": "scatterpolar"
        }
       ],
       "layout": {
        "font": {
         "color": "purple"
        },
        "margin": {
         "pad": 6,
         "t": 80
        },
        "showlegend": true,
        "template": {
         "data": {
          "bar": [
           {
            "error_x": {
             "color": "#2a3f5f"
            },
            "error_y": {
             "color": "#2a3f5f"
            },
            "marker": {
             "line": {
              "color": "#E5ECF6",
              "width": 0.5
             },
             "pattern": {
              "fillmode": "overlay",
              "size": 10,
              "solidity": 0.2
             }
            },
            "type": "bar"
           }
          ],
          "barpolar": [
           {
            "marker": {
             "line": {
              "color": "#E5ECF6",
              "width": 0.5
             },
             "pattern": {
              "fillmode": "overlay",
              "size": 10,
              "solidity": 0.2
             }
            },
            "type": "barpolar"
           }
          ],
          "carpet": [
           {
            "aaxis": {
             "endlinecolor": "#2a3f5f",
             "gridcolor": "white",
             "linecolor": "white",
             "minorgridcolor": "white",
             "startlinecolor": "#2a3f5f"
            },
            "baxis": {
             "endlinecolor": "#2a3f5f",
             "gridcolor": "white",
             "linecolor": "white",
             "minorgridcolor": "white",
             "startlinecolor": "#2a3f5f"
            },
            "type": "carpet"
           }
          ],
          "choropleth": [
           {
            "colorbar": {
             "outlinewidth": 0,
             "ticks": ""
            },
            "type": "choropleth"
           }
          ],
          "contour": [
           {
            "colorbar": {
             "outlinewidth": 0,
             "ticks": ""
            },
            "colorscale": [
             [
              0,
              "#0d0887"
             ],
             [
              0.1111111111111111,
              "#46039f"
             ],
             [
              0.2222222222222222,
              "#7201a8"
             ],
             [
              0.3333333333333333,
              "#9c179e"
             ],
             [
              0.4444444444444444,
              "#bd3786"
             ],
             [
              0.5555555555555556,
              "#d8576b"
             ],
             [
              0.6666666666666666,
              "#ed7953"
             ],
             [
              0.7777777777777778,
              "#fb9f3a"
             ],
             [
              0.8888888888888888,
              "#fdca26"
             ],
             [
              1,
              "#f0f921"
             ]
            ],
            "type": "contour"
           }
          ],
          "contourcarpet": [
           {
            "colorbar": {
             "outlinewidth": 0,
             "ticks": ""
            },
            "type": "contourcarpet"
           }
          ],
          "heatmap": [
           {
            "colorbar": {
             "outlinewidth": 0,
             "ticks": ""
            },
            "colorscale": [
             [
              0,
              "#0d0887"
             ],
             [
              0.1111111111111111,
              "#46039f"
             ],
             [
              0.2222222222222222,
              "#7201a8"
             ],
             [
              0.3333333333333333,
              "#9c179e"
             ],
             [
              0.4444444444444444,
              "#bd3786"
             ],
             [
              0.5555555555555556,
              "#d8576b"
             ],
             [
              0.6666666666666666,
              "#ed7953"
             ],
             [
              0.7777777777777778,
              "#fb9f3a"
             ],
             [
              0.8888888888888888,
              "#fdca26"
             ],
             [
              1,
              "#f0f921"
             ]
            ],
            "type": "heatmap"
           }
          ],
          "heatmapgl": [
           {
            "colorbar": {
             "outlinewidth": 0,
             "ticks": ""
            },
            "colorscale": [
             [
              0,
              "#0d0887"
             ],
             [
              0.1111111111111111,
              "#46039f"
             ],
             [
              0.2222222222222222,
              "#7201a8"
             ],
             [
              0.3333333333333333,
              "#9c179e"
             ],
             [
              0.4444444444444444,
              "#bd3786"
             ],
             [
              0.5555555555555556,
              "#d8576b"
             ],
             [
              0.6666666666666666,
              "#ed7953"
             ],
             [
              0.7777777777777778,
              "#fb9f3a"
             ],
             [
              0.8888888888888888,
              "#fdca26"
             ],
             [
              1,
              "#f0f921"
             ]
            ],
            "type": "heatmapgl"
           }
          ],
          "histogram": [
           {
            "marker": {
             "pattern": {
              "fillmode": "overlay",
              "size": 10,
              "solidity": 0.2
             }
            },
            "type": "histogram"
           }
          ],
          "histogram2d": [
           {
            "colorbar": {
             "outlinewidth": 0,
             "ticks": ""
            },
            "colorscale": [
             [
              0,
              "#0d0887"
             ],
             [
              0.1111111111111111,
              "#46039f"
             ],
             [
              0.2222222222222222,
              "#7201a8"
             ],
             [
              0.3333333333333333,
              "#9c179e"
             ],
             [
              0.4444444444444444,
              "#bd3786"
             ],
             [
              0.5555555555555556,
              "#d8576b"
             ],
             [
              0.6666666666666666,
              "#ed7953"
             ],
             [
              0.7777777777777778,
              "#fb9f3a"
             ],
             [
              0.8888888888888888,
              "#fdca26"
             ],
             [
              1,
              "#f0f921"
             ]
            ],
            "type": "histogram2d"
           }
          ],
          "histogram2dcontour": [
           {
            "colorbar": {
             "outlinewidth": 0,
             "ticks": ""
            },
            "colorscale": [
             [
              0,
              "#0d0887"
             ],
             [
              0.1111111111111111,
              "#46039f"
             ],
             [
              0.2222222222222222,
              "#7201a8"
             ],
             [
              0.3333333333333333,
              "#9c179e"
             ],
             [
              0.4444444444444444,
              "#bd3786"
             ],
             [
              0.5555555555555556,
              "#d8576b"
             ],
             [
              0.6666666666666666,
              "#ed7953"
             ],
             [
              0.7777777777777778,
              "#fb9f3a"
             ],
             [
              0.8888888888888888,
              "#fdca26"
             ],
             [
              1,
              "#f0f921"
             ]
            ],
            "type": "histogram2dcontour"
           }
          ],
          "mesh3d": [
           {
            "colorbar": {
             "outlinewidth": 0,
             "ticks": ""
            },
            "type": "mesh3d"
           }
          ],
          "parcoords": [
           {
            "line": {
             "colorbar": {
              "outlinewidth": 0,
              "ticks": ""
             }
            },
            "type": "parcoords"
           }
          ],
          "pie": [
           {
            "automargin": true,
            "type": "pie"
           }
          ],
          "scatter": [
           {
            "fillpattern": {
             "fillmode": "overlay",
             "size": 10,
             "solidity": 0.2
            },
            "type": "scatter"
           }
          ],
          "scatter3d": [
           {
            "line": {
             "colorbar": {
              "outlinewidth": 0,
              "ticks": ""
             }
            },
            "marker": {
             "colorbar": {
              "outlinewidth": 0,
              "ticks": ""
             }
            },
            "type": "scatter3d"
           }
          ],
          "scattercarpet": [
           {
            "marker": {
             "colorbar": {
              "outlinewidth": 0,
              "ticks": ""
             }
            },
            "type": "scattercarpet"
           }
          ],
          "scattergeo": [
           {
            "marker": {
             "colorbar": {
              "outlinewidth": 0,
              "ticks": ""
             }
            },
            "type": "scattergeo"
           }
          ],
          "scattergl": [
           {
            "marker": {
             "colorbar": {
              "outlinewidth": 0,
              "ticks": ""
             }
            },
            "type": "scattergl"
           }
          ],
          "scattermapbox": [
           {
            "marker": {
             "colorbar": {
              "outlinewidth": 0,
              "ticks": ""
             }
            },
            "type": "scattermapbox"
           }
          ],
          "scatterpolar": [
           {
            "marker": {
             "colorbar": {
              "outlinewidth": 0,
              "ticks": ""
             }
            },
            "type": "scatterpolar"
           }
          ],
          "scatterpolargl": [
           {
            "marker": {
             "colorbar": {
              "outlinewidth": 0,
              "ticks": ""
             }
            },
            "type": "scatterpolargl"
           }
          ],
          "scatterternary": [
           {
            "marker": {
             "colorbar": {
              "outlinewidth": 0,
              "ticks": ""
             }
            },
            "type": "scatterternary"
           }
          ],
          "surface": [
           {
            "colorbar": {
             "outlinewidth": 0,
             "ticks": ""
            },
            "colorscale": [
             [
              0,
              "#0d0887"
             ],
             [
              0.1111111111111111,
              "#46039f"
             ],
             [
              0.2222222222222222,
              "#7201a8"
             ],
             [
              0.3333333333333333,
              "#9c179e"
             ],
             [
              0.4444444444444444,
              "#bd3786"
             ],
             [
              0.5555555555555556,
              "#d8576b"
             ],
             [
              0.6666666666666666,
              "#ed7953"
             ],
             [
              0.7777777777777778,
              "#fb9f3a"
             ],
             [
              0.8888888888888888,
              "#fdca26"
             ],
             [
              1,
              "#f0f921"
             ]
            ],
            "type": "surface"
           }
          ],
          "table": [
           {
            "cells": {
             "fill": {
              "color": "#EBF0F8"
             },
             "line": {
              "color": "white"
             }
            },
            "header": {
             "fill": {
              "color": "#C8D4E3"
             },
             "line": {
              "color": "white"
             }
            },
            "type": "table"
           }
          ]
         },
         "layout": {
          "annotationdefaults": {
           "arrowcolor": "#2a3f5f",
           "arrowhead": 0,
           "arrowwidth": 1
          },
          "autotypenumbers": "strict",
          "coloraxis": {
           "colorbar": {
            "outlinewidth": 0,
            "ticks": ""
           }
          },
          "colorscale": {
           "diverging": [
            [
             0,
             "#8e0152"
            ],
            [
             0.1,
             "#c51b7d"
            ],
            [
             0.2,
             "#de77ae"
            ],
            [
             0.3,
             "#f1b6da"
            ],
            [
             0.4,
             "#fde0ef"
            ],
            [
             0.5,
             "#f7f7f7"
            ],
            [
             0.6,
             "#e6f5d0"
            ],
            [
             0.7,
             "#b8e186"
            ],
            [
             0.8,
             "#7fbc41"
            ],
            [
             0.9,
             "#4d9221"
            ],
            [
             1,
             "#276419"
            ]
           ],
           "sequential": [
            [
             0,
             "#0d0887"
            ],
            [
             0.1111111111111111,
             "#46039f"
            ],
            [
             0.2222222222222222,
             "#7201a8"
            ],
            [
             0.3333333333333333,
             "#9c179e"
            ],
            [
             0.4444444444444444,
             "#bd3786"
            ],
            [
             0.5555555555555556,
             "#d8576b"
            ],
            [
             0.6666666666666666,
             "#ed7953"
            ],
            [
             0.7777777777777778,
             "#fb9f3a"
            ],
            [
             0.8888888888888888,
             "#fdca26"
            ],
            [
             1,
             "#f0f921"
            ]
           ],
           "sequentialminus": [
            [
             0,
             "#0d0887"
            ],
            [
             0.1111111111111111,
             "#46039f"
            ],
            [
             0.2222222222222222,
             "#7201a8"
            ],
            [
             0.3333333333333333,
             "#9c179e"
            ],
            [
             0.4444444444444444,
             "#bd3786"
            ],
            [
             0.5555555555555556,
             "#d8576b"
            ],
            [
             0.6666666666666666,
             "#ed7953"
            ],
            [
             0.7777777777777778,
             "#fb9f3a"
            ],
            [
             0.8888888888888888,
             "#fdca26"
            ],
            [
             1,
             "#f0f921"
            ]
           ]
          },
          "colorway": [
           "#636efa",
           "#EF553B",
           "#00cc96",
           "#ab63fa",
           "#FFA15A",
           "#19d3f3",
           "#FF6692",
           "#B6E880",
           "#FF97FF",
           "#FECB52"
          ],
          "font": {
           "color": "#2a3f5f"
          },
          "geo": {
           "bgcolor": "white",
           "lakecolor": "white",
           "landcolor": "#E5ECF6",
           "showlakes": true,
           "showland": true,
           "subunitcolor": "white"
          },
          "hoverlabel": {
           "align": "left"
          },
          "hovermode": "closest",
          "mapbox": {
           "style": "light"
          },
          "paper_bgcolor": "white",
          "plot_bgcolor": "#E5ECF6",
          "polar": {
           "angularaxis": {
            "gridcolor": "white",
            "linecolor": "white",
            "ticks": ""
           },
           "bgcolor": "#E5ECF6",
           "radialaxis": {
            "gridcolor": "white",
            "linecolor": "white",
            "ticks": ""
           }
          },
          "scene": {
           "xaxis": {
            "backgroundcolor": "#E5ECF6",
            "gridcolor": "white",
            "gridwidth": 2,
            "linecolor": "white",
            "showbackground": true,
            "ticks": "",
            "zerolinecolor": "white"
           },
           "yaxis": {
            "backgroundcolor": "#E5ECF6",
            "gridcolor": "white",
            "gridwidth": 2,
            "linecolor": "white",
            "showbackground": true,
            "ticks": "",
            "zerolinecolor": "white"
           },
           "zaxis": {
            "backgroundcolor": "#E5ECF6",
            "gridcolor": "white",
            "gridwidth": 2,
            "linecolor": "white",
            "showbackground": true,
            "ticks": "",
            "zerolinecolor": "white"
           }
          },
          "shapedefaults": {
           "line": {
            "color": "#2a3f5f"
           }
          },
          "ternary": {
           "aaxis": {
            "gridcolor": "white",
            "linecolor": "white",
            "ticks": ""
           },
           "baxis": {
            "gridcolor": "white",
            "linecolor": "white",
            "ticks": ""
           },
           "bgcolor": "#E5ECF6",
           "caxis": {
            "gridcolor": "white",
            "linecolor": "white",
            "ticks": ""
           }
          },
          "title": {
           "x": 0.05
          },
          "xaxis": {
           "automargin": true,
           "gridcolor": "white",
           "linecolor": "white",
           "ticks": "",
           "title": {
            "standoff": 15
           },
           "zerolinecolor": "white",
           "zerolinewidth": 2
          },
          "yaxis": {
           "automargin": true,
           "gridcolor": "white",
           "linecolor": "white",
           "ticks": "",
           "title": {
            "standoff": 15
           },
           "zerolinecolor": "white",
           "zerolinewidth": 2
          }
         }
        },
        "title": {
         "text": "<span style='font-size:30px; font-family:Times New Roman'>Productionization of ML models by Company's size</span><br><span style='font-size:14px; font-family:Helvetica'></b></span>"
        }
       }
      },
      "text/html": [
       "<div>                            <div id=\"29e82c32-f2ba-4223-9ce5-f4b60b6a61a4\" class=\"plotly-graph-div\" style=\"height:525px; width:100%;\"></div>            <script type=\"text/javascript\">                require([\"plotly\"], function(Plotly) {                    window.PLOTLYENV=window.PLOTLYENV || {};                                    if (document.getElementById(\"29e82c32-f2ba-4223-9ce5-f4b60b6a61a4\")) {                    Plotly.newPlot(                        \"29e82c32-f2ba-4223-9ce5-f4b60b6a61a4\",                        [{\"fill\":\"toself\",\"name\":\"Exploration Stage\",\"r\":[458,299,238,294,263],\"theta\":[\"1. 0-49 employees\",\"2. 50-249 employees\",\"3. 250-999 employees\",\"4. 1000-9,999 employees\",\"5. 10,000 or more employees\"],\"type\":\"scatterpolar\"},{\"fill\":\"toself\",\"name\":\"Generating Insights\",\"r\":[232,180,145,187,181],\"theta\":[\"1. 0-49 employees\",\"2. 50-249 employees\",\"3. 250-999 employees\",\"4. 1000-9,999 employees\",\"5. 10,000 or more employees\"],\"type\":\"scatterpolar\"},{\"fill\":\"toself\",\"name\":\"Models in Production\",\"r\":[505,429,413,681,959],\"theta\":[\"1. 0-49 employees\",\"2. 50-249 employees\",\"3. 250-999 employees\",\"4. 1000-9,999 employees\",\"5. 10,000 or more employees\"],\"type\":\"scatterpolar\"},{\"fill\":\"toself\",\"name\":\"Not Known\",\"r\":[332,209,235,392,464],\"theta\":[\"1. 0-49 employees\",\"2. 50-249 employees\",\"3. 250-999 employees\",\"4. 1000-9,999 employees\",\"5. 10,000 or more employees\"],\"type\":\"scatterpolar\"},{\"fill\":\"toself\",\"name\":\"Not Started\",\"r\":[603,447,331,334,255],\"theta\":[\"1. 0-49 employees\",\"2. 50-249 employees\",\"3. 250-999 employees\",\"4. 1000-9,999 employees\",\"5. 10,000 or more employees\"],\"type\":\"scatterpolar\"}],                        {\"template\":{\"data\":{\"histogram2dcontour\":[{\"type\":\"histogram2dcontour\",\"colorbar\":{\"outlinewidth\":0,\"ticks\":\"\"},\"colorscale\":[[0.0,\"#0d0887\"],[0.1111111111111111,\"#46039f\"],[0.2222222222222222,\"#7201a8\"],[0.3333333333333333,\"#9c179e\"],[0.4444444444444444,\"#bd3786\"],[0.5555555555555556,\"#d8576b\"],[0.6666666666666666,\"#ed7953\"],[0.7777777777777778,\"#fb9f3a\"],[0.8888888888888888,\"#fdca26\"],[1.0,\"#f0f921\"]]}],\"choropleth\":[{\"type\":\"choropleth\",\"colorbar\":{\"outlinewidth\":0,\"ticks\":\"\"}}],\"histogram2d\":[{\"type\":\"histogram2d\",\"colorbar\":{\"outlinewidth\":0,\"ticks\":\"\"},\"colorscale\":[[0.0,\"#0d0887\"],[0.1111111111111111,\"#46039f\"],[0.2222222222222222,\"#7201a8\"],[0.3333333333333333,\"#9c179e\"],[0.4444444444444444,\"#bd3786\"],[0.5555555555555556,\"#d8576b\"],[0.6666666666666666,\"#ed7953\"],[0.7777777777777778,\"#fb9f3a\"],[0.8888888888888888,\"#fdca26\"],[1.0,\"#f0f921\"]]}],\"heatmap\":[{\"type\":\"heatmap\",\"colorbar\":{\"outlinewidth\":0,\"ticks\":\"\"},\"colorscale\":[[0.0,\"#0d0887\"],[0.1111111111111111,\"#46039f\"],[0.2222222222222222,\"#7201a8\"],[0.3333333333333333,\"#9c179e\"],[0.4444444444444444,\"#bd3786\"],[0.5555555555555556,\"#d8576b\"],[0.6666666666666666,\"#ed7953\"],[0.7777777777777778,\"#fb9f3a\"],[0.8888888888888888,\"#fdca26\"],[1.0,\"#f0f921\"]]}],\"heatmapgl\":[{\"type\":\"heatmapgl\",\"colorbar\":{\"outlinewidth\":0,\"ticks\":\"\"},\"colorscale\":[[0.0,\"#0d0887\"],[0.1111111111111111,\"#46039f\"],[0.2222222222222222,\"#7201a8\"],[0.3333333333333333,\"#9c179e\"],[0.4444444444444444,\"#bd3786\"],[0.5555555555555556,\"#d8576b\"],[0.6666666666666666,\"#ed7953\"],[0.7777777777777778,\"#fb9f3a\"],[0.8888888888888888,\"#fdca26\"],[1.0,\"#f0f921\"]]}],\"contourcarpet\":[{\"type\":\"contourcarpet\",\"colorbar\":{\"outlinewidth\":0,\"ticks\":\"\"}}],\"contour\":[{\"type\":\"contour\",\"colorbar\":{\"outlinewidth\":0,\"ticks\":\"\"},\"colorscale\":[[0.0,\"#0d0887\"],[0.1111111111111111,\"#46039f\"],[0.2222222222222222,\"#7201a8\"],[0.3333333333333333,\"#9c179e\"],[0.4444444444444444,\"#bd3786\"],[0.5555555555555556,\"#d8576b\"],[0.6666666666666666,\"#ed7953\"],[0.7777777777777778,\"#fb9f3a\"],[0.8888888888888888,\"#fdca26\"],[1.0,\"#f0f921\"]]}],\"surface\":[{\"type\":\"surface\",\"colorbar\":{\"outlinewidth\":0,\"ticks\":\"\"},\"colorscale\":[[0.0,\"#0d0887\"],[0.1111111111111111,\"#46039f\"],[0.2222222222222222,\"#7201a8\"],[0.3333333333333333,\"#9c179e\"],[0.4444444444444444,\"#bd3786\"],[0.5555555555555556,\"#d8576b\"],[0.6666666666666666,\"#ed7953\"],[0.7777777777777778,\"#fb9f3a\"],[0.8888888888888888,\"#fdca26\"],[1.0,\"#f0f921\"]]}],\"mesh3d\":[{\"type\":\"mesh3d\",\"colorbar\":{\"outlinewidth\":0,\"ticks\":\"\"}}],\"scatter\":[{\"fillpattern\":{\"fillmode\":\"overlay\",\"size\":10,\"solidity\":0.2},\"type\":\"scatter\"}],\"parcoords\":[{\"type\":\"parcoords\",\"line\":{\"colorbar\":{\"outlinewidth\":0,\"ticks\":\"\"}}}],\"scatterpolargl\":[{\"type\":\"scatterpolargl\",\"marker\":{\"colorbar\":{\"outlinewidth\":0,\"ticks\":\"\"}}}],\"bar\":[{\"error_x\":{\"color\":\"#2a3f5f\"},\"error_y\":{\"color\":\"#2a3f5f\"},\"marker\":{\"line\":{\"color\":\"#E5ECF6\",\"width\":0.5},\"pattern\":{\"fillmode\":\"overlay\",\"size\":10,\"solidity\":0.2}},\"type\":\"bar\"}],\"scattergeo\":[{\"type\":\"scattergeo\",\"marker\":{\"colorbar\":{\"outlinewidth\":0,\"ticks\":\"\"}}}],\"scatterpolar\":[{\"type\":\"scatterpolar\",\"marker\":{\"colorbar\":{\"outlinewidth\":0,\"ticks\":\"\"}}}],\"histogram\":[{\"marker\":{\"pattern\":{\"fillmode\":\"overlay\",\"size\":10,\"solidity\":0.2}},\"type\":\"histogram\"}],\"scattergl\":[{\"type\":\"scattergl\",\"marker\":{\"colorbar\":{\"outlinewidth\":0,\"ticks\":\"\"}}}],\"scatter3d\":[{\"type\":\"scatter3d\",\"line\":{\"colorbar\":{\"outlinewidth\":0,\"ticks\":\"\"}},\"marker\":{\"colorbar\":{\"outlinewidth\":0,\"ticks\":\"\"}}}],\"scattermapbox\":[{\"type\":\"scattermapbox\",\"marker\":{\"colorbar\":{\"outlinewidth\":0,\"ticks\":\"\"}}}],\"scatterternary\":[{\"type\":\"scatterternary\",\"marker\":{\"colorbar\":{\"outlinewidth\":0,\"ticks\":\"\"}}}],\"scattercarpet\":[{\"type\":\"scattercarpet\",\"marker\":{\"colorbar\":{\"outlinewidth\":0,\"ticks\":\"\"}}}],\"carpet\":[{\"aaxis\":{\"endlinecolor\":\"#2a3f5f\",\"gridcolor\":\"white\",\"linecolor\":\"white\",\"minorgridcolor\":\"white\",\"startlinecolor\":\"#2a3f5f\"},\"baxis\":{\"endlinecolor\":\"#2a3f5f\",\"gridcolor\":\"white\",\"linecolor\":\"white\",\"minorgridcolor\":\"white\",\"startlinecolor\":\"#2a3f5f\"},\"type\":\"carpet\"}],\"table\":[{\"cells\":{\"fill\":{\"color\":\"#EBF0F8\"},\"line\":{\"color\":\"white\"}},\"header\":{\"fill\":{\"color\":\"#C8D4E3\"},\"line\":{\"color\":\"white\"}},\"type\":\"table\"}],\"barpolar\":[{\"marker\":{\"line\":{\"color\":\"#E5ECF6\",\"width\":0.5},\"pattern\":{\"fillmode\":\"overlay\",\"size\":10,\"solidity\":0.2}},\"type\":\"barpolar\"}],\"pie\":[{\"automargin\":true,\"type\":\"pie\"}]},\"layout\":{\"autotypenumbers\":\"strict\",\"colorway\":[\"#636efa\",\"#EF553B\",\"#00cc96\",\"#ab63fa\",\"#FFA15A\",\"#19d3f3\",\"#FF6692\",\"#B6E880\",\"#FF97FF\",\"#FECB52\"],\"font\":{\"color\":\"#2a3f5f\"},\"hovermode\":\"closest\",\"hoverlabel\":{\"align\":\"left\"},\"paper_bgcolor\":\"white\",\"plot_bgcolor\":\"#E5ECF6\",\"polar\":{\"bgcolor\":\"#E5ECF6\",\"angularaxis\":{\"gridcolor\":\"white\",\"linecolor\":\"white\",\"ticks\":\"\"},\"radialaxis\":{\"gridcolor\":\"white\",\"linecolor\":\"white\",\"ticks\":\"\"}},\"ternary\":{\"bgcolor\":\"#E5ECF6\",\"aaxis\":{\"gridcolor\":\"white\",\"linecolor\":\"white\",\"ticks\":\"\"},\"baxis\":{\"gridcolor\":\"white\",\"linecolor\":\"white\",\"ticks\":\"\"},\"caxis\":{\"gridcolor\":\"white\",\"linecolor\":\"white\",\"ticks\":\"\"}},\"coloraxis\":{\"colorbar\":{\"outlinewidth\":0,\"ticks\":\"\"}},\"colorscale\":{\"sequential\":[[0.0,\"#0d0887\"],[0.1111111111111111,\"#46039f\"],[0.2222222222222222,\"#7201a8\"],[0.3333333333333333,\"#9c179e\"],[0.4444444444444444,\"#bd3786\"],[0.5555555555555556,\"#d8576b\"],[0.6666666666666666,\"#ed7953\"],[0.7777777777777778,\"#fb9f3a\"],[0.8888888888888888,\"#fdca26\"],[1.0,\"#f0f921\"]],\"sequentialminus\":[[0.0,\"#0d0887\"],[0.1111111111111111,\"#46039f\"],[0.2222222222222222,\"#7201a8\"],[0.3333333333333333,\"#9c179e\"],[0.4444444444444444,\"#bd3786\"],[0.5555555555555556,\"#d8576b\"],[0.6666666666666666,\"#ed7953\"],[0.7777777777777778,\"#fb9f3a\"],[0.8888888888888888,\"#fdca26\"],[1.0,\"#f0f921\"]],\"diverging\":[[0,\"#8e0152\"],[0.1,\"#c51b7d\"],[0.2,\"#de77ae\"],[0.3,\"#f1b6da\"],[0.4,\"#fde0ef\"],[0.5,\"#f7f7f7\"],[0.6,\"#e6f5d0\"],[0.7,\"#b8e186\"],[0.8,\"#7fbc41\"],[0.9,\"#4d9221\"],[1,\"#276419\"]]},\"xaxis\":{\"gridcolor\":\"white\",\"linecolor\":\"white\",\"ticks\":\"\",\"title\":{\"standoff\":15},\"zerolinecolor\":\"white\",\"automargin\":true,\"zerolinewidth\":2},\"yaxis\":{\"gridcolor\":\"white\",\"linecolor\":\"white\",\"ticks\":\"\",\"title\":{\"standoff\":15},\"zerolinecolor\":\"white\",\"automargin\":true,\"zerolinewidth\":2},\"scene\":{\"xaxis\":{\"backgroundcolor\":\"#E5ECF6\",\"gridcolor\":\"white\",\"linecolor\":\"white\",\"showbackground\":true,\"ticks\":\"\",\"zerolinecolor\":\"white\",\"gridwidth\":2},\"yaxis\":{\"backgroundcolor\":\"#E5ECF6\",\"gridcolor\":\"white\",\"linecolor\":\"white\",\"showbackground\":true,\"ticks\":\"\",\"zerolinecolor\":\"white\",\"gridwidth\":2},\"zaxis\":{\"backgroundcolor\":\"#E5ECF6\",\"gridcolor\":\"white\",\"linecolor\":\"white\",\"showbackground\":true,\"ticks\":\"\",\"zerolinecolor\":\"white\",\"gridwidth\":2}},\"shapedefaults\":{\"line\":{\"color\":\"#2a3f5f\"}},\"annotationdefaults\":{\"arrowcolor\":\"#2a3f5f\",\"arrowhead\":0,\"arrowwidth\":1},\"geo\":{\"bgcolor\":\"white\",\"landcolor\":\"#E5ECF6\",\"subunitcolor\":\"white\",\"showland\":true,\"showlakes\":true,\"lakecolor\":\"white\"},\"title\":{\"x\":0.05},\"mapbox\":{\"style\":\"light\"}}},\"font\":{\"color\":\"purple\"},\"margin\":{\"t\":80,\"pad\":6},\"title\":{\"text\":\"<span style='font-size:30px; font-family:Times New Roman'>Productionization of ML models by Company's size</span><br><span style='font-size:14px; font-family:Helvetica'></b></span>\"},\"showlegend\":true},                        {\"responsive\": true}                    ).then(function(){\n",
       "                            \n",
       "var gd = document.getElementById('29e82c32-f2ba-4223-9ce5-f4b60b6a61a4');\n",
       "var x = new MutationObserver(function (mutations, observer) {{\n",
       "        var display = window.getComputedStyle(gd).display;\n",
       "        if (!display || display === 'none') {{\n",
       "            console.log([gd, 'removed!']);\n",
       "            Plotly.purge(gd);\n",
       "            observer.disconnect();\n",
       "        }}\n",
       "}});\n",
       "\n",
       "// Listen for the removal of the full notebook cells\n",
       "var notebookContainer = gd.closest('#notebook-container');\n",
       "if (notebookContainer) {{\n",
       "    x.observe(notebookContainer, {childList: true});\n",
       "}}\n",
       "\n",
       "// Listen for the clearing of the current output cell\n",
       "var outputEl = gd.closest('.output');\n",
       "if (outputEl) {{\n",
       "    x.observe(outputEl, {childList: true});\n",
       "}}\n",
       "\n",
       "                        })                };                });            </script>        </div>"
      ]
     },
     "metadata": {},
     "output_type": "display_data"
    }
   ],
   "source": [
    "adoption_per_company_size = scope_df.groupby([\"Q25\", \"ML_adoption_class\"]).size().reset_index(name='counts')\n",
    "\n",
    "fig = go.Figure()\n",
    "\n",
    "for class_name in adoption_per_company_size[\"ML_adoption_class\"].unique():\n",
    "    fig.add_trace(go.Scatterpolar(\n",
    "        r=adoption_per_company_size[adoption_per_company_size[\"ML_adoption_class\"] == class_name].sort_values(by=[\"Q25\"])[\"counts\"].tolist(),\n",
    "        theta=adoption_per_company_size[adoption_per_company_size[\"ML_adoption_class\"] == class_name].sort_values(by=[\"Q25\"])[\"Q25\"].tolist(),\n",
    "        fill='toself',\n",
    "        name=class_name\n",
    "    ))\n",
    "\n",
    "large_title_format = \"<span style='font-size:30px; font-family:Times New Roman'>Productionization of ML models by Company's size</span>\"\n",
    "small_title_format = \"<span style='font-size:14px; font-family:Helvetica'></b></span>\"\n",
    "\n",
    "layout = dict(\n",
    "    title = large_title_format + \"<br>\" + small_title_format,\n",
    "    font = dict(color = 'purple'),\n",
    "    showlegend = True,\n",
    "    margin = dict(t=80,pad=6),\n",
    ")\n",
    "\n",
    "fig.update_layout(layout)\n",
    "\n",
    "fig.show()"
   ]
  },
  {
   "cell_type": "code",
   "execution_count": 84,
   "id": "4de60e4a",
   "metadata": {},
   "outputs": [
    {
     "data": {
      "application/vnd.plotly.v1+json": {
       "config": {
        "plotlyServerURL": "https://plot.ly"
       },
       "data": [
        {
         "colorscale": [
          [
           0,
           "#a43725"
          ],
          [
           1,
           "#a43725"
          ]
         ],
         "geo": "geo",
         "hovertemplate": "color=Google Cloud Platform (GCP)<br>locations=%{location}<extra></extra>",
         "locationmode": "country names",
         "locations": [
          "Algeria",
          "Argentina",
          "Bangladesh",
          "Cameroon",
          "Chile",
          "Colombia",
          "Egypt",
          "Ethiopia",
          "France",
          "Hong Kong (S.A.R.)",
          "Indonesia",
          "Iran, Islamic Republic of...",
          "Italy",
          "Japan",
          "Malaysia",
          "Mexico",
          "Morocco",
          "Nigeria",
          "Other",
          "Pakistan",
          "Peru",
          "Philippines",
          "Poland",
          "Russia",
          "Saudi Arabia",
          "South Korea",
          "Sri Lanka",
          "Taiwan",
          "Thailand",
          "Tunisia",
          "Turkey",
          "Viet Nam",
          "Zimbabwe"
         ],
         "name": "Google Cloud Platform (GCP)",
         "showlegend": true,
         "showscale": false,
         "type": "choropleth",
         "z": [
          1,
          1,
          1,
          1,
          1,
          1,
          1,
          1,
          1,
          1,
          1,
          1,
          1,
          1,
          1,
          1,
          1,
          1,
          1,
          1,
          1,
          1,
          1,
          1,
          1,
          1,
          1,
          1,
          1,
          1,
          1,
          1,
          1
         ]
        },
        {
         "colorscale": [
          [
           0,
           "#cfbd9b"
          ],
          [
           1,
           "#cfbd9b"
          ]
         ],
         "geo": "geo",
         "hovertemplate": "color=Amazon Web Services (AWS)<br>locations=%{location}<extra></extra>",
         "locationmode": "country names",
         "locations": [
          "Australia",
          "Brazil",
          "Canada",
          "Czech Republic",
          "Ecuador",
          "Germany",
          "Ghana",
          "I do not wish to disclose my location",
          "India",
          "Ireland",
          "Israel",
          "Kenya",
          "Nepal",
          "Romania",
          "Singapore",
          "Spain",
          "United Arab Emirates",
          "United Kingdom of Great Britain and Northern Ireland",
          "United States of America"
         ],
         "name": "Amazon Web Services (AWS)",
         "showlegend": true,
         "showscale": false,
         "type": "choropleth",
         "z": [
          1,
          1,
          1,
          1,
          1,
          1,
          1,
          1,
          1,
          1,
          1,
          1,
          1,
          1,
          1,
          1,
          1,
          1,
          1
         ]
        },
        {
         "colorscale": [
          [
           0,
           "#edc860"
          ],
          [
           1,
           "#edc860"
          ]
         ],
         "geo": "geo",
         "hovertemplate": "color=Microsoft Azure<br>locations=%{location}<extra></extra>",
         "locationmode": "country names",
         "locations": [
          "Belgium",
          "Netherlands",
          "Portugal",
          "South Africa",
          "Ukraine"
         ],
         "name": "Microsoft Azure",
         "showlegend": true,
         "showscale": false,
         "type": "choropleth",
         "z": [
          1,
          1,
          1,
          1,
          1
         ]
        },
        {
         "colorscale": [
          [
           0,
           "#E6b6a4"
          ],
          [
           1,
           "#E6b6a4"
          ]
         ],
         "geo": "geo",
         "hovertemplate": "color=Alibaba Cloud<br>locations=%{location}<extra></extra>",
         "locationmode": "country names",
         "locations": [
          "China"
         ],
         "name": "Alibaba Cloud",
         "showlegend": true,
         "showscale": false,
         "type": "choropleth",
         "z": [
          1
         ]
        }
       ],
       "layout": {
        "dragmode": false,
        "font": {
         "color": "#7b6b59"
        },
        "geo": {
         "center": {},
         "domain": {
          "x": [
           0,
           1
          ],
          "y": [
           0,
           1
          ]
         }
        },
        "legend": {
         "orientation": "h",
         "title": {
          "text": ""
         },
         "tracegroupgap": 0,
         "x": 1,
         "xanchor": "right",
         "y": 0.9,
         "yanchor": "bottom"
        },
        "margin": {
         "b": 10,
         "l": 10,
         "pad": 0,
         "r": 10,
         "t": 50
        },
        "template": {
         "data": {
          "bar": [
           {
            "error_x": {
             "color": "#2a3f5f"
            },
            "error_y": {
             "color": "#2a3f5f"
            },
            "marker": {
             "line": {
              "color": "#E5ECF6",
              "width": 0.5
             },
             "pattern": {
              "fillmode": "overlay",
              "size": 10,
              "solidity": 0.2
             }
            },
            "type": "bar"
           }
          ],
          "barpolar": [
           {
            "marker": {
             "line": {
              "color": "#E5ECF6",
              "width": 0.5
             },
             "pattern": {
              "fillmode": "overlay",
              "size": 10,
              "solidity": 0.2
             }
            },
            "type": "barpolar"
           }
          ],
          "carpet": [
           {
            "aaxis": {
             "endlinecolor": "#2a3f5f",
             "gridcolor": "white",
             "linecolor": "white",
             "minorgridcolor": "white",
             "startlinecolor": "#2a3f5f"
            },
            "baxis": {
             "endlinecolor": "#2a3f5f",
             "gridcolor": "white",
             "linecolor": "white",
             "minorgridcolor": "white",
             "startlinecolor": "#2a3f5f"
            },
            "type": "carpet"
           }
          ],
          "choropleth": [
           {
            "colorbar": {
             "outlinewidth": 0,
             "ticks": ""
            },
            "type": "choropleth"
           }
          ],
          "contour": [
           {
            "colorbar": {
             "outlinewidth": 0,
             "ticks": ""
            },
            "colorscale": [
             [
              0,
              "#0d0887"
             ],
             [
              0.1111111111111111,
              "#46039f"
             ],
             [
              0.2222222222222222,
              "#7201a8"
             ],
             [
              0.3333333333333333,
              "#9c179e"
             ],
             [
              0.4444444444444444,
              "#bd3786"
             ],
             [
              0.5555555555555556,
              "#d8576b"
             ],
             [
              0.6666666666666666,
              "#ed7953"
             ],
             [
              0.7777777777777778,
              "#fb9f3a"
             ],
             [
              0.8888888888888888,
              "#fdca26"
             ],
             [
              1,
              "#f0f921"
             ]
            ],
            "type": "contour"
           }
          ],
          "contourcarpet": [
           {
            "colorbar": {
             "outlinewidth": 0,
             "ticks": ""
            },
            "type": "contourcarpet"
           }
          ],
          "heatmap": [
           {
            "colorbar": {
             "outlinewidth": 0,
             "ticks": ""
            },
            "colorscale": [
             [
              0,
              "#0d0887"
             ],
             [
              0.1111111111111111,
              "#46039f"
             ],
             [
              0.2222222222222222,
              "#7201a8"
             ],
             [
              0.3333333333333333,
              "#9c179e"
             ],
             [
              0.4444444444444444,
              "#bd3786"
             ],
             [
              0.5555555555555556,
              "#d8576b"
             ],
             [
              0.6666666666666666,
              "#ed7953"
             ],
             [
              0.7777777777777778,
              "#fb9f3a"
             ],
             [
              0.8888888888888888,
              "#fdca26"
             ],
             [
              1,
              "#f0f921"
             ]
            ],
            "type": "heatmap"
           }
          ],
          "heatmapgl": [
           {
            "colorbar": {
             "outlinewidth": 0,
             "ticks": ""
            },
            "colorscale": [
             [
              0,
              "#0d0887"
             ],
             [
              0.1111111111111111,
              "#46039f"
             ],
             [
              0.2222222222222222,
              "#7201a8"
             ],
             [
              0.3333333333333333,
              "#9c179e"
             ],
             [
              0.4444444444444444,
              "#bd3786"
             ],
             [
              0.5555555555555556,
              "#d8576b"
             ],
             [
              0.6666666666666666,
              "#ed7953"
             ],
             [
              0.7777777777777778,
              "#fb9f3a"
             ],
             [
              0.8888888888888888,
              "#fdca26"
             ],
             [
              1,
              "#f0f921"
             ]
            ],
            "type": "heatmapgl"
           }
          ],
          "histogram": [
           {
            "marker": {
             "pattern": {
              "fillmode": "overlay",
              "size": 10,
              "solidity": 0.2
             }
            },
            "type": "histogram"
           }
          ],
          "histogram2d": [
           {
            "colorbar": {
             "outlinewidth": 0,
             "ticks": ""
            },
            "colorscale": [
             [
              0,
              "#0d0887"
             ],
             [
              0.1111111111111111,
              "#46039f"
             ],
             [
              0.2222222222222222,
              "#7201a8"
             ],
             [
              0.3333333333333333,
              "#9c179e"
             ],
             [
              0.4444444444444444,
              "#bd3786"
             ],
             [
              0.5555555555555556,
              "#d8576b"
             ],
             [
              0.6666666666666666,
              "#ed7953"
             ],
             [
              0.7777777777777778,
              "#fb9f3a"
             ],
             [
              0.8888888888888888,
              "#fdca26"
             ],
             [
              1,
              "#f0f921"
             ]
            ],
            "type": "histogram2d"
           }
          ],
          "histogram2dcontour": [
           {
            "colorbar": {
             "outlinewidth": 0,
             "ticks": ""
            },
            "colorscale": [
             [
              0,
              "#0d0887"
             ],
             [
              0.1111111111111111,
              "#46039f"
             ],
             [
              0.2222222222222222,
              "#7201a8"
             ],
             [
              0.3333333333333333,
              "#9c179e"
             ],
             [
              0.4444444444444444,
              "#bd3786"
             ],
             [
              0.5555555555555556,
              "#d8576b"
             ],
             [
              0.6666666666666666,
              "#ed7953"
             ],
             [
              0.7777777777777778,
              "#fb9f3a"
             ],
             [
              0.8888888888888888,
              "#fdca26"
             ],
             [
              1,
              "#f0f921"
             ]
            ],
            "type": "histogram2dcontour"
           }
          ],
          "mesh3d": [
           {
            "colorbar": {
             "outlinewidth": 0,
             "ticks": ""
            },
            "type": "mesh3d"
           }
          ],
          "parcoords": [
           {
            "line": {
             "colorbar": {
              "outlinewidth": 0,
              "ticks": ""
             }
            },
            "type": "parcoords"
           }
          ],
          "pie": [
           {
            "automargin": true,
            "type": "pie"
           }
          ],
          "scatter": [
           {
            "fillpattern": {
             "fillmode": "overlay",
             "size": 10,
             "solidity": 0.2
            },
            "type": "scatter"
           }
          ],
          "scatter3d": [
           {
            "line": {
             "colorbar": {
              "outlinewidth": 0,
              "ticks": ""
             }
            },
            "marker": {
             "colorbar": {
              "outlinewidth": 0,
              "ticks": ""
             }
            },
            "type": "scatter3d"
           }
          ],
          "scattercarpet": [
           {
            "marker": {
             "colorbar": {
              "outlinewidth": 0,
              "ticks": ""
             }
            },
            "type": "scattercarpet"
           }
          ],
          "scattergeo": [
           {
            "marker": {
             "colorbar": {
              "outlinewidth": 0,
              "ticks": ""
             }
            },
            "type": "scattergeo"
           }
          ],
          "scattergl": [
           {
            "marker": {
             "colorbar": {
              "outlinewidth": 0,
              "ticks": ""
             }
            },
            "type": "scattergl"
           }
          ],
          "scattermapbox": [
           {
            "marker": {
             "colorbar": {
              "outlinewidth": 0,
              "ticks": ""
             }
            },
            "type": "scattermapbox"
           }
          ],
          "scatterpolar": [
           {
            "marker": {
             "colorbar": {
              "outlinewidth": 0,
              "ticks": ""
             }
            },
            "type": "scatterpolar"
           }
          ],
          "scatterpolargl": [
           {
            "marker": {
             "colorbar": {
              "outlinewidth": 0,
              "ticks": ""
             }
            },
            "type": "scatterpolargl"
           }
          ],
          "scatterternary": [
           {
            "marker": {
             "colorbar": {
              "outlinewidth": 0,
              "ticks": ""
             }
            },
            "type": "scatterternary"
           }
          ],
          "surface": [
           {
            "colorbar": {
             "outlinewidth": 0,
             "ticks": ""
            },
            "colorscale": [
             [
              0,
              "#0d0887"
             ],
             [
              0.1111111111111111,
              "#46039f"
             ],
             [
              0.2222222222222222,
              "#7201a8"
             ],
             [
              0.3333333333333333,
              "#9c179e"
             ],
             [
              0.4444444444444444,
              "#bd3786"
             ],
             [
              0.5555555555555556,
              "#d8576b"
             ],
             [
              0.6666666666666666,
              "#ed7953"
             ],
             [
              0.7777777777777778,
              "#fb9f3a"
             ],
             [
              0.8888888888888888,
              "#fdca26"
             ],
             [
              1,
              "#f0f921"
             ]
            ],
            "type": "surface"
           }
          ],
          "table": [
           {
            "cells": {
             "fill": {
              "color": "#EBF0F8"
             },
             "line": {
              "color": "white"
             }
            },
            "header": {
             "fill": {
              "color": "#C8D4E3"
             },
             "line": {
              "color": "white"
             }
            },
            "type": "table"
           }
          ]
         },
         "layout": {
          "annotationdefaults": {
           "arrowcolor": "#2a3f5f",
           "arrowhead": 0,
           "arrowwidth": 1
          },
          "autotypenumbers": "strict",
          "coloraxis": {
           "colorbar": {
            "outlinewidth": 0,
            "ticks": ""
           }
          },
          "colorscale": {
           "diverging": [
            [
             0,
             "#8e0152"
            ],
            [
             0.1,
             "#c51b7d"
            ],
            [
             0.2,
             "#de77ae"
            ],
            [
             0.3,
             "#f1b6da"
            ],
            [
             0.4,
             "#fde0ef"
            ],
            [
             0.5,
             "#f7f7f7"
            ],
            [
             0.6,
             "#e6f5d0"
            ],
            [
             0.7,
             "#b8e186"
            ],
            [
             0.8,
             "#7fbc41"
            ],
            [
             0.9,
             "#4d9221"
            ],
            [
             1,
             "#276419"
            ]
           ],
           "sequential": [
            [
             0,
             "#0d0887"
            ],
            [
             0.1111111111111111,
             "#46039f"
            ],
            [
             0.2222222222222222,
             "#7201a8"
            ],
            [
             0.3333333333333333,
             "#9c179e"
            ],
            [
             0.4444444444444444,
             "#bd3786"
            ],
            [
             0.5555555555555556,
             "#d8576b"
            ],
            [
             0.6666666666666666,
             "#ed7953"
            ],
            [
             0.7777777777777778,
             "#fb9f3a"
            ],
            [
             0.8888888888888888,
             "#fdca26"
            ],
            [
             1,
             "#f0f921"
            ]
           ],
           "sequentialminus": [
            [
             0,
             "#0d0887"
            ],
            [
             0.1111111111111111,
             "#46039f"
            ],
            [
             0.2222222222222222,
             "#7201a8"
            ],
            [
             0.3333333333333333,
             "#9c179e"
            ],
            [
             0.4444444444444444,
             "#bd3786"
            ],
            [
             0.5555555555555556,
             "#d8576b"
            ],
            [
             0.6666666666666666,
             "#ed7953"
            ],
            [
             0.7777777777777778,
             "#fb9f3a"
            ],
            [
             0.8888888888888888,
             "#fdca26"
            ],
            [
             1,
             "#f0f921"
            ]
           ]
          },
          "colorway": [
           "#636efa",
           "#EF553B",
           "#00cc96",
           "#ab63fa",
           "#FFA15A",
           "#19d3f3",
           "#FF6692",
           "#B6E880",
           "#FF97FF",
           "#FECB52"
          ],
          "font": {
           "color": "#2a3f5f"
          },
          "geo": {
           "bgcolor": "white",
           "lakecolor": "white",
           "landcolor": "#E5ECF6",
           "showlakes": true,
           "showland": true,
           "subunitcolor": "white"
          },
          "hoverlabel": {
           "align": "left"
          },
          "hovermode": "closest",
          "mapbox": {
           "style": "light"
          },
          "paper_bgcolor": "white",
          "plot_bgcolor": "#E5ECF6",
          "polar": {
           "angularaxis": {
            "gridcolor": "white",
            "linecolor": "white",
            "ticks": ""
           },
           "bgcolor": "#E5ECF6",
           "radialaxis": {
            "gridcolor": "white",
            "linecolor": "white",
            "ticks": ""
           }
          },
          "scene": {
           "xaxis": {
            "backgroundcolor": "#E5ECF6",
            "gridcolor": "white",
            "gridwidth": 2,
            "linecolor": "white",
            "showbackground": true,
            "ticks": "",
            "zerolinecolor": "white"
           },
           "yaxis": {
            "backgroundcolor": "#E5ECF6",
            "gridcolor": "white",
            "gridwidth": 2,
            "linecolor": "white",
            "showbackground": true,
            "ticks": "",
            "zerolinecolor": "white"
           },
           "zaxis": {
            "backgroundcolor": "#E5ECF6",
            "gridcolor": "white",
            "gridwidth": 2,
            "linecolor": "white",
            "showbackground": true,
            "ticks": "",
            "zerolinecolor": "white"
           }
          },
          "shapedefaults": {
           "line": {
            "color": "#2a3f5f"
           }
          },
          "ternary": {
           "aaxis": {
            "gridcolor": "white",
            "linecolor": "white",
            "ticks": ""
           },
           "baxis": {
            "gridcolor": "white",
            "linecolor": "white",
            "ticks": ""
           },
           "bgcolor": "#E5ECF6",
           "caxis": {
            "gridcolor": "white",
            "linecolor": "white",
            "ticks": ""
           }
          },
          "title": {
           "x": 0.05
          },
          "xaxis": {
           "automargin": true,
           "gridcolor": "white",
           "linecolor": "white",
           "ticks": "",
           "title": {
            "standoff": 15
           },
           "zerolinecolor": "white",
           "zerolinewidth": 2
          },
          "yaxis": {
           "automargin": true,
           "gridcolor": "white",
           "linecolor": "white",
           "ticks": "",
           "title": {
            "standoff": 15
           },
           "zerolinecolor": "white",
           "zerolinewidth": 2
          }
         }
        },
        "title": {
         "text": "<span style='font-size:30px; font-family:Times New Roman'>Highly used Cloud Computing Platform in each Country</span><br><span style='font-size:14px; font-family:Helvetica'></b></span>"
        },
        "width": 750
       }
      },
      "text/html": [
       "<div>                            <div id=\"fc37b914-babc-4aa8-a6d2-94742b485f46\" class=\"plotly-graph-div\" style=\"height:525px; width:750px;\"></div>            <script type=\"text/javascript\">                require([\"plotly\"], function(Plotly) {                    window.PLOTLYENV=window.PLOTLYENV || {};                                    if (document.getElementById(\"fc37b914-babc-4aa8-a6d2-94742b485f46\")) {                    Plotly.newPlot(                        \"fc37b914-babc-4aa8-a6d2-94742b485f46\",                        [{\"colorscale\":[[0.0,\"#a43725\"],[1.0,\"#a43725\"]],\"geo\":\"geo\",\"hovertemplate\":\"color=Google Cloud Platform (GCP)<br>locations=%{location}<extra></extra>\",\"locationmode\":\"country names\",\"locations\":[\"Algeria\",\"Argentina\",\"Bangladesh\",\"Cameroon\",\"Chile\",\"Colombia\",\"Egypt\",\"Ethiopia\",\"France\",\"Hong Kong (S.A.R.)\",\"Indonesia\",\"Iran, Islamic Republic of...\",\"Italy\",\"Japan\",\"Malaysia\",\"Mexico\",\"Morocco\",\"Nigeria\",\"Other\",\"Pakistan\",\"Peru\",\"Philippines\",\"Poland\",\"Russia\",\"Saudi Arabia\",\"South Korea\",\"Sri Lanka\",\"Taiwan\",\"Thailand\",\"Tunisia\",\"Turkey\",\"Viet Nam\",\"Zimbabwe\"],\"name\":\"Google Cloud Platform (GCP)\",\"showlegend\":true,\"showscale\":false,\"z\":[1,1,1,1,1,1,1,1,1,1,1,1,1,1,1,1,1,1,1,1,1,1,1,1,1,1,1,1,1,1,1,1,1],\"type\":\"choropleth\"},{\"colorscale\":[[0.0,\"#cfbd9b\"],[1.0,\"#cfbd9b\"]],\"geo\":\"geo\",\"hovertemplate\":\"color=Amazon Web Services (AWS)<br>locations=%{location}<extra></extra>\",\"locationmode\":\"country names\",\"locations\":[\"Australia\",\"Brazil\",\"Canada\",\"Czech Republic\",\"Ecuador\",\"Germany\",\"Ghana\",\"I do not wish to disclose my location\",\"India\",\"Ireland\",\"Israel\",\"Kenya\",\"Nepal\",\"Romania\",\"Singapore\",\"Spain\",\"United Arab Emirates\",\"United Kingdom of Great Britain and Northern Ireland\",\"United States of America\"],\"name\":\"Amazon Web Services (AWS)\",\"showlegend\":true,\"showscale\":false,\"z\":[1,1,1,1,1,1,1,1,1,1,1,1,1,1,1,1,1,1,1],\"type\":\"choropleth\"},{\"colorscale\":[[0.0,\"#edc860\"],[1.0,\"#edc860\"]],\"geo\":\"geo\",\"hovertemplate\":\"color=Microsoft Azure<br>locations=%{location}<extra></extra>\",\"locationmode\":\"country names\",\"locations\":[\"Belgium\",\"Netherlands\",\"Portugal\",\"South Africa\",\"Ukraine\"],\"name\":\"Microsoft Azure\",\"showlegend\":true,\"showscale\":false,\"z\":[1,1,1,1,1],\"type\":\"choropleth\"},{\"colorscale\":[[0.0,\"#E6b6a4\"],[1.0,\"#E6b6a4\"]],\"geo\":\"geo\",\"hovertemplate\":\"color=Alibaba Cloud<br>locations=%{location}<extra></extra>\",\"locationmode\":\"country names\",\"locations\":[\"China\"],\"name\":\"Alibaba Cloud\",\"showlegend\":true,\"showscale\":false,\"z\":[1],\"type\":\"choropleth\"}],                        {\"template\":{\"data\":{\"histogram2dcontour\":[{\"type\":\"histogram2dcontour\",\"colorbar\":{\"outlinewidth\":0,\"ticks\":\"\"},\"colorscale\":[[0.0,\"#0d0887\"],[0.1111111111111111,\"#46039f\"],[0.2222222222222222,\"#7201a8\"],[0.3333333333333333,\"#9c179e\"],[0.4444444444444444,\"#bd3786\"],[0.5555555555555556,\"#d8576b\"],[0.6666666666666666,\"#ed7953\"],[0.7777777777777778,\"#fb9f3a\"],[0.8888888888888888,\"#fdca26\"],[1.0,\"#f0f921\"]]}],\"choropleth\":[{\"type\":\"choropleth\",\"colorbar\":{\"outlinewidth\":0,\"ticks\":\"\"}}],\"histogram2d\":[{\"type\":\"histogram2d\",\"colorbar\":{\"outlinewidth\":0,\"ticks\":\"\"},\"colorscale\":[[0.0,\"#0d0887\"],[0.1111111111111111,\"#46039f\"],[0.2222222222222222,\"#7201a8\"],[0.3333333333333333,\"#9c179e\"],[0.4444444444444444,\"#bd3786\"],[0.5555555555555556,\"#d8576b\"],[0.6666666666666666,\"#ed7953\"],[0.7777777777777778,\"#fb9f3a\"],[0.8888888888888888,\"#fdca26\"],[1.0,\"#f0f921\"]]}],\"heatmap\":[{\"type\":\"heatmap\",\"colorbar\":{\"outlinewidth\":0,\"ticks\":\"\"},\"colorscale\":[[0.0,\"#0d0887\"],[0.1111111111111111,\"#46039f\"],[0.2222222222222222,\"#7201a8\"],[0.3333333333333333,\"#9c179e\"],[0.4444444444444444,\"#bd3786\"],[0.5555555555555556,\"#d8576b\"],[0.6666666666666666,\"#ed7953\"],[0.7777777777777778,\"#fb9f3a\"],[0.8888888888888888,\"#fdca26\"],[1.0,\"#f0f921\"]]}],\"heatmapgl\":[{\"type\":\"heatmapgl\",\"colorbar\":{\"outlinewidth\":0,\"ticks\":\"\"},\"colorscale\":[[0.0,\"#0d0887\"],[0.1111111111111111,\"#46039f\"],[0.2222222222222222,\"#7201a8\"],[0.3333333333333333,\"#9c179e\"],[0.4444444444444444,\"#bd3786\"],[0.5555555555555556,\"#d8576b\"],[0.6666666666666666,\"#ed7953\"],[0.7777777777777778,\"#fb9f3a\"],[0.8888888888888888,\"#fdca26\"],[1.0,\"#f0f921\"]]}],\"contourcarpet\":[{\"type\":\"contourcarpet\",\"colorbar\":{\"outlinewidth\":0,\"ticks\":\"\"}}],\"contour\":[{\"type\":\"contour\",\"colorbar\":{\"outlinewidth\":0,\"ticks\":\"\"},\"colorscale\":[[0.0,\"#0d0887\"],[0.1111111111111111,\"#46039f\"],[0.2222222222222222,\"#7201a8\"],[0.3333333333333333,\"#9c179e\"],[0.4444444444444444,\"#bd3786\"],[0.5555555555555556,\"#d8576b\"],[0.6666666666666666,\"#ed7953\"],[0.7777777777777778,\"#fb9f3a\"],[0.8888888888888888,\"#fdca26\"],[1.0,\"#f0f921\"]]}],\"surface\":[{\"type\":\"surface\",\"colorbar\":{\"outlinewidth\":0,\"ticks\":\"\"},\"colorscale\":[[0.0,\"#0d0887\"],[0.1111111111111111,\"#46039f\"],[0.2222222222222222,\"#7201a8\"],[0.3333333333333333,\"#9c179e\"],[0.4444444444444444,\"#bd3786\"],[0.5555555555555556,\"#d8576b\"],[0.6666666666666666,\"#ed7953\"],[0.7777777777777778,\"#fb9f3a\"],[0.8888888888888888,\"#fdca26\"],[1.0,\"#f0f921\"]]}],\"mesh3d\":[{\"type\":\"mesh3d\",\"colorbar\":{\"outlinewidth\":0,\"ticks\":\"\"}}],\"scatter\":[{\"fillpattern\":{\"fillmode\":\"overlay\",\"size\":10,\"solidity\":0.2},\"type\":\"scatter\"}],\"parcoords\":[{\"type\":\"parcoords\",\"line\":{\"colorbar\":{\"outlinewidth\":0,\"ticks\":\"\"}}}],\"scatterpolargl\":[{\"type\":\"scatterpolargl\",\"marker\":{\"colorbar\":{\"outlinewidth\":0,\"ticks\":\"\"}}}],\"bar\":[{\"error_x\":{\"color\":\"#2a3f5f\"},\"error_y\":{\"color\":\"#2a3f5f\"},\"marker\":{\"line\":{\"color\":\"#E5ECF6\",\"width\":0.5},\"pattern\":{\"fillmode\":\"overlay\",\"size\":10,\"solidity\":0.2}},\"type\":\"bar\"}],\"scattergeo\":[{\"type\":\"scattergeo\",\"marker\":{\"colorbar\":{\"outlinewidth\":0,\"ticks\":\"\"}}}],\"scatterpolar\":[{\"type\":\"scatterpolar\",\"marker\":{\"colorbar\":{\"outlinewidth\":0,\"ticks\":\"\"}}}],\"histogram\":[{\"marker\":{\"pattern\":{\"fillmode\":\"overlay\",\"size\":10,\"solidity\":0.2}},\"type\":\"histogram\"}],\"scattergl\":[{\"type\":\"scattergl\",\"marker\":{\"colorbar\":{\"outlinewidth\":0,\"ticks\":\"\"}}}],\"scatter3d\":[{\"type\":\"scatter3d\",\"line\":{\"colorbar\":{\"outlinewidth\":0,\"ticks\":\"\"}},\"marker\":{\"colorbar\":{\"outlinewidth\":0,\"ticks\":\"\"}}}],\"scattermapbox\":[{\"type\":\"scattermapbox\",\"marker\":{\"colorbar\":{\"outlinewidth\":0,\"ticks\":\"\"}}}],\"scatterternary\":[{\"type\":\"scatterternary\",\"marker\":{\"colorbar\":{\"outlinewidth\":0,\"ticks\":\"\"}}}],\"scattercarpet\":[{\"type\":\"scattercarpet\",\"marker\":{\"colorbar\":{\"outlinewidth\":0,\"ticks\":\"\"}}}],\"carpet\":[{\"aaxis\":{\"endlinecolor\":\"#2a3f5f\",\"gridcolor\":\"white\",\"linecolor\":\"white\",\"minorgridcolor\":\"white\",\"startlinecolor\":\"#2a3f5f\"},\"baxis\":{\"endlinecolor\":\"#2a3f5f\",\"gridcolor\":\"white\",\"linecolor\":\"white\",\"minorgridcolor\":\"white\",\"startlinecolor\":\"#2a3f5f\"},\"type\":\"carpet\"}],\"table\":[{\"cells\":{\"fill\":{\"color\":\"#EBF0F8\"},\"line\":{\"color\":\"white\"}},\"header\":{\"fill\":{\"color\":\"#C8D4E3\"},\"line\":{\"color\":\"white\"}},\"type\":\"table\"}],\"barpolar\":[{\"marker\":{\"line\":{\"color\":\"#E5ECF6\",\"width\":0.5},\"pattern\":{\"fillmode\":\"overlay\",\"size\":10,\"solidity\":0.2}},\"type\":\"barpolar\"}],\"pie\":[{\"automargin\":true,\"type\":\"pie\"}]},\"layout\":{\"autotypenumbers\":\"strict\",\"colorway\":[\"#636efa\",\"#EF553B\",\"#00cc96\",\"#ab63fa\",\"#FFA15A\",\"#19d3f3\",\"#FF6692\",\"#B6E880\",\"#FF97FF\",\"#FECB52\"],\"font\":{\"color\":\"#2a3f5f\"},\"hovermode\":\"closest\",\"hoverlabel\":{\"align\":\"left\"},\"paper_bgcolor\":\"white\",\"plot_bgcolor\":\"#E5ECF6\",\"polar\":{\"bgcolor\":\"#E5ECF6\",\"angularaxis\":{\"gridcolor\":\"white\",\"linecolor\":\"white\",\"ticks\":\"\"},\"radialaxis\":{\"gridcolor\":\"white\",\"linecolor\":\"white\",\"ticks\":\"\"}},\"ternary\":{\"bgcolor\":\"#E5ECF6\",\"aaxis\":{\"gridcolor\":\"white\",\"linecolor\":\"white\",\"ticks\":\"\"},\"baxis\":{\"gridcolor\":\"white\",\"linecolor\":\"white\",\"ticks\":\"\"},\"caxis\":{\"gridcolor\":\"white\",\"linecolor\":\"white\",\"ticks\":\"\"}},\"coloraxis\":{\"colorbar\":{\"outlinewidth\":0,\"ticks\":\"\"}},\"colorscale\":{\"sequential\":[[0.0,\"#0d0887\"],[0.1111111111111111,\"#46039f\"],[0.2222222222222222,\"#7201a8\"],[0.3333333333333333,\"#9c179e\"],[0.4444444444444444,\"#bd3786\"],[0.5555555555555556,\"#d8576b\"],[0.6666666666666666,\"#ed7953\"],[0.7777777777777778,\"#fb9f3a\"],[0.8888888888888888,\"#fdca26\"],[1.0,\"#f0f921\"]],\"sequentialminus\":[[0.0,\"#0d0887\"],[0.1111111111111111,\"#46039f\"],[0.2222222222222222,\"#7201a8\"],[0.3333333333333333,\"#9c179e\"],[0.4444444444444444,\"#bd3786\"],[0.5555555555555556,\"#d8576b\"],[0.6666666666666666,\"#ed7953\"],[0.7777777777777778,\"#fb9f3a\"],[0.8888888888888888,\"#fdca26\"],[1.0,\"#f0f921\"]],\"diverging\":[[0,\"#8e0152\"],[0.1,\"#c51b7d\"],[0.2,\"#de77ae\"],[0.3,\"#f1b6da\"],[0.4,\"#fde0ef\"],[0.5,\"#f7f7f7\"],[0.6,\"#e6f5d0\"],[0.7,\"#b8e186\"],[0.8,\"#7fbc41\"],[0.9,\"#4d9221\"],[1,\"#276419\"]]},\"xaxis\":{\"gridcolor\":\"white\",\"linecolor\":\"white\",\"ticks\":\"\",\"title\":{\"standoff\":15},\"zerolinecolor\":\"white\",\"automargin\":true,\"zerolinewidth\":2},\"yaxis\":{\"gridcolor\":\"white\",\"linecolor\":\"white\",\"ticks\":\"\",\"title\":{\"standoff\":15},\"zerolinecolor\":\"white\",\"automargin\":true,\"zerolinewidth\":2},\"scene\":{\"xaxis\":{\"backgroundcolor\":\"#E5ECF6\",\"gridcolor\":\"white\",\"linecolor\":\"white\",\"showbackground\":true,\"ticks\":\"\",\"zerolinecolor\":\"white\",\"gridwidth\":2},\"yaxis\":{\"backgroundcolor\":\"#E5ECF6\",\"gridcolor\":\"white\",\"linecolor\":\"white\",\"showbackground\":true,\"ticks\":\"\",\"zerolinecolor\":\"white\",\"gridwidth\":2},\"zaxis\":{\"backgroundcolor\":\"#E5ECF6\",\"gridcolor\":\"white\",\"linecolor\":\"white\",\"showbackground\":true,\"ticks\":\"\",\"zerolinecolor\":\"white\",\"gridwidth\":2}},\"shapedefaults\":{\"line\":{\"color\":\"#2a3f5f\"}},\"annotationdefaults\":{\"arrowcolor\":\"#2a3f5f\",\"arrowhead\":0,\"arrowwidth\":1},\"geo\":{\"bgcolor\":\"white\",\"landcolor\":\"#E5ECF6\",\"subunitcolor\":\"white\",\"showland\":true,\"showlakes\":true,\"lakecolor\":\"white\"},\"title\":{\"x\":0.05},\"mapbox\":{\"style\":\"light\"}}},\"geo\":{\"domain\":{\"x\":[0.0,1.0],\"y\":[0.0,1.0]},\"center\":{}},\"legend\":{\"title\":{\"text\":\"\"},\"tracegroupgap\":0,\"orientation\":\"h\",\"yanchor\":\"bottom\",\"y\":0.9,\"xanchor\":\"right\",\"x\":1},\"margin\":{\"t\":50,\"l\":10,\"r\":10,\"b\":10,\"pad\":0},\"font\":{\"color\":\"#7b6b59\"},\"width\":750,\"title\":{\"text\":\"<span style='font-size:30px; font-family:Times New Roman'>Highly used Cloud Computing Platform in each Country</span><br><span style='font-size:14px; font-family:Helvetica'></b></span>\"},\"dragmode\":false},                        {\"responsive\": true}                    ).then(function(){\n",
       "                            \n",
       "var gd = document.getElementById('fc37b914-babc-4aa8-a6d2-94742b485f46');\n",
       "var x = new MutationObserver(function (mutations, observer) {{\n",
       "        var display = window.getComputedStyle(gd).display;\n",
       "        if (!display || display === 'none') {{\n",
       "            console.log([gd, 'removed!']);\n",
       "            Plotly.purge(gd);\n",
       "            observer.disconnect();\n",
       "        }}\n",
       "}});\n",
       "\n",
       "// Listen for the removal of the full notebook cells\n",
       "var notebookContainer = gd.closest('#notebook-container');\n",
       "if (notebookContainer) {{\n",
       "    x.observe(notebookContainer, {childList: true});\n",
       "}}\n",
       "\n",
       "// Listen for the clearing of the current output cell\n",
       "var outputEl = gd.closest('.output');\n",
       "if (outputEl) {{\n",
       "    x.observe(outputEl, {childList: true});\n",
       "}}\n",
       "\n",
       "                        })                };                });            </script>        </div>"
      ]
     },
     "metadata": {},
     "output_type": "display_data"
    }
   ],
   "source": [
    "cloud_computing_questions = [col for col in scope_df.columns if col.startswith(\"Q31\")]\n",
    "country_totals = scope_df[\"Q4\"].value_counts().to_dict()\n",
    "\n",
    "dfs_list = []\n",
    "for col in cloud_computing_questions:\n",
    "    dfs_list.append(scope_df.groupby([\"Q4\", col]).agg({\"Q2\" : \"count\"}).reset_index().rename(columns={col: \"Q31\", \"Q2\": \"counts\"}))\n",
    "\n",
    "cloud_computing_platforms = pd.concat(dfs_list)\n",
    "cloud_computing_platforms[\"relative_percent\"] = cloud_computing_platforms.apply(lambda x : x[\"counts\"] / country_totals[x[\"Q4\"]], axis = 1)\n",
    "cloud_computing_platforms = cloud_computing_platforms[~cloud_computing_platforms[\"Q31\"].isin([\"None\", \"Other\"])]\n",
    "\n",
    "# For each country keep the last row which keeps the cloud computing platform used most in that country \n",
    "cloud_computing_platforms = cloud_computing_platforms.sort_values(by=[\"Q4\", \"counts\"], ascending=True)\n",
    "cloud_computing_platforms = cloud_computing_platforms.drop_duplicates(subset=[\"Q4\"],keep='last')\n",
    "cloud_computing_platforms[\"Q31\"] = cloud_computing_platforms[\"Q31\"].str.strip()\n",
    "\n",
    "\n",
    "fig = px.choropleth(locations=cloud_computing_platforms['Q4'], \n",
    "                    locationmode=\"country names\",\n",
    "                    color=cloud_computing_platforms[\"Q31\"] ,\n",
    "                    color_discrete_map={'Google Cloud Platform (GCP)' : '#a43725',\n",
    "                                        'Amazon Web Services (AWS)': '#cfbd9b',\n",
    "                                        'Microsoft Azure': '#edc860',\n",
    "                                        'Alibaba Cloud': '#E6b6a4'}\n",
    "                   )\n",
    "\n",
    "large_title_format = \"<span style='font-size:30px; font-family:Times New Roman'>Highly used Cloud Computing Platform in each Country</span>\"\n",
    "small_title_format = \"<span style='font-size:14px; font-family:Helvetica'></b></span>\"\n",
    "\n",
    "\n",
    "fig.update_layout(\n",
    "    width=750,\n",
    "    legend=dict(\n",
    "        orientation=\"h\",\n",
    "        yanchor=\"bottom\",\n",
    "        y=0.9,\n",
    "        xanchor=\"right\",\n",
    "        x=1, \n",
    "        title='',\n",
    "    ),\n",
    "\n",
    "    title = large_title_format + \"<br>\" + small_title_format,\n",
    "    font = dict(color = '#7b6b59'),\n",
    "    dragmode=False,\n",
    "    margin = dict(\n",
    "        l = 10,\n",
    "        r = 10,\n",
    "        b = 10,\n",
    "        t = 50,\n",
    "        pad = 0)\n",
    ")\n",
    "\n",
    "fig.show()"
   ]
  },
  {
   "cell_type": "code",
   "execution_count": 85,
   "id": "2d615ed8",
   "metadata": {},
   "outputs": [
    {
     "data": {
      "application/vnd.plotly.v1+json": {
       "config": {
        "plotlyServerURL": "https://plot.ly"
       },
       "data": [
        {
         "branchvalues": "total",
         "customdata": [
          [
           0.028700241917747966
          ],
          [
           0.035517923905872
          ],
          [
           0.020233120738948757
          ],
          [
           0.013305476138113042
          ],
          [
           0.17692984385308996
          ],
          [
           0.04915328788212008
          ],
          [
           0.061689025731251367
          ],
          [
           0.04959313833296679
          ],
          [
           0.033428634264350124
          ],
          [
           0.1785792830437651
          ],
          [
           0.25797228942159667
          ],
          [
           0.0435451946338245
          ],
          [
           0.050912689685506926
          ],
          [
           0.14526061139212668
          ],
          [
           0.05289201671431713
          ],
          [
           0.22608313173521002
          ],
          [
           0.03848691444908731
          ],
          [
           0.03177919507367495
          ],
          [
           0.014075214427094787
          ],
          [
           0.031559269848251595
          ],
          [
           0.037167363096547175
          ],
          [
           0.1557070595997361
          ],
          [
           0.05619089509566747
          ],
          [
           0.0975368374752584
          ],
          [
           0.022652298218605673
          ],
          [
           0.039146690125357375
          ],
          [
           0.02463162524741588
          ],
          [
           0.0555311194193974
          ],
          [
           0.04178579283043765
          ],
          [
           0.045964372113481415
          ],
          [
           0.07587420277105784
          ],
          [
           0.04827358698042666
          ],
          [
           0.1416318451726413
          ],
          [
           0.04266549373213108
          ],
          [
           0.07070595997360897
          ],
          [
           0.021112821640642182
          ],
          [
           0.067627006817682
          ],
          [
           0.057180558610072575
          ],
          [
           0.01836375632285023
          ],
          [
           0.18231801187596217
          ],
          [
           0.13228502309214868
          ],
          [
           0.1435189246794466
          ],
          [
           0.12444929760988781
          ],
          [
           0.02907446388862707
          ],
          [
           0.1110719927340089
          ],
          [
           0.12361040165814155
          ]
         ],
         "domain": {
          "x": [
           0,
           1
          ],
          "y": [
           0,
           1
          ]
         },
         "hovertemplate": "labels=%{label}<br>counts=%{value}<br>parent=%{parent}<br>id=%{id}<br>relative_percent=%{color}<extra></extra>",
         "ids": [
          "Tech Stack for Artificial Intelligence/Amazon/  Amazon Sagemaker Autopilot ",
          "Tech Stack for Artificial Intelligence/Microsoft/  Azure Automated Machine Learning ",
          "Tech Stack for Artificial Intelligence/Amazon/ Amazon AI Ethics Tools (Clarify, A2I, etc) ",
          "Tech Stack for Artificial Intelligence/Amazon/ Amazon EMR Notebooks ",
          "Tech Stack for Artificial Intelligence/Amazon/ Amazon Elastic Compute Cloud (EC2) ",
          "Tech Stack for Artificial Intelligence/Amazon/ Amazon Elastic File System (EFS)  ",
          "Tech Stack for Artificial Intelligence/Amazon/ Amazon SageMaker ",
          "Tech Stack for Artificial Intelligence/Amazon/ Amazon Sagemaker Studio ",
          "Tech Stack for Artificial Intelligence/Amazon/ Amazon Sagemaker Studio Lab ",
          "Tech Stack for Artificial Intelligence/Amazon/ Amazon Simple Storage Service (S3)  ",
          "Tech Stack for Artificial Intelligence/Amazon/ Amazon Web Services (AWS) ",
          "Tech Stack for Artificial Intelligence/Microsoft/ Azure Machine Learning Studio ",
          "Tech Stack for Artificial Intelligence/Google/ Google Cloud AutoML ",
          "Tech Stack for Artificial Intelligence/Google/ Google Cloud Compute Engine ",
          "Tech Stack for Artificial Intelligence/Google/ Google Cloud Filestore ",
          "Tech Stack for Artificial Intelligence/Google/ Google Cloud Platform (GCP) ",
          "Tech Stack for Artificial Intelligence/Google/ Google Cloud Vertex AI",
          "Tech Stack for Artificial Intelligence/Google/ Google Responsible AI Toolkit (LIT, What-if, Fairness Indicator, etc) ",
          "Tech Stack for Artificial Intelligence/IBM/ IBM AI Ethics tools (AI Fairness 360, Adversarial Robustness Toolbox, etc ",
          "Tech Stack for Artificial Intelligence/IBM/ IBM Cloud / Red Hat ",
          "Tech Stack for Artificial Intelligence/IBM/ IBM Watson Studio ",
          "Tech Stack for Artificial Intelligence/Microsoft/ Microsoft Azure ",
          "Tech Stack for Artificial Intelligence/Microsoft/ Microsoft Azure Files ",
          "Tech Stack for Artificial Intelligence/Microsoft/ Microsoft Azure Virtual Machines ",
          "Tech Stack for Artificial Intelligence/Microsoft/ Microsoft Responsible AI Resources (Fairlearn, Counterfit, InterpretML, etc) ",
          "Tech Stack for Artificial Intelligence/Amazon/Amazon DynamoDB ",
          "Tech Stack for Artificial Intelligence/Amazon/Amazon QuickSight",
          "Tech Stack for Artificial Intelligence/Amazon/Amazon RDS ",
          "Tech Stack for Artificial Intelligence/Amazon/Amazon Redshift ",
          "Tech Stack for Artificial Intelligence/Microsoft/Azure Notebooks",
          "Tech Stack for Artificial Intelligence/Google/Google Cloud BigQuery ",
          "Tech Stack for Artificial Intelligence/Google/Google Cloud SQL ",
          "Tech Stack for Artificial Intelligence/Google/Google Cloud Storage (GCS)   ",
          "Tech Stack for Artificial Intelligence/Google/Google Cloud Vertex AI Workbench ",
          "Tech Stack for Artificial Intelligence/Google/Google Data Studio",
          "Tech Stack for Artificial Intelligence/IBM/IBM Db2 ",
          "Tech Stack for Artificial Intelligence/Microsoft/Microsoft Azure Blob Storage",
          "Tech Stack for Artificial Intelligence/Microsoft/Microsoft Azure SQL Database ",
          "Tech Stack for Artificial Intelligence/Microsoft/Microsoft Azure Synapse ",
          "Tech Stack for Artificial Intelligence/Microsoft/Microsoft Power BI",
          "Tech Stack for Artificial Intelligence/Microsoft/Microsoft SQL Server ",
          "Tech Stack for Artificial Intelligence/Amazon",
          "Tech Stack for Artificial Intelligence/Google",
          "Tech Stack for Artificial Intelligence/IBM",
          "Tech Stack for Artificial Intelligence/Microsoft",
          "Tech Stack for Artificial Intelligence"
         ],
         "labels": [
          "  Amazon Sagemaker Autopilot ",
          "  Azure Automated Machine Learning ",
          " Amazon AI Ethics Tools (Clarify, A2I, etc) ",
          " Amazon EMR Notebooks ",
          " Amazon Elastic Compute Cloud (EC2) ",
          " Amazon Elastic File System (EFS)  ",
          " Amazon SageMaker ",
          " Amazon Sagemaker Studio ",
          " Amazon Sagemaker Studio Lab ",
          " Amazon Simple Storage Service (S3)  ",
          " Amazon Web Services (AWS) ",
          " Azure Machine Learning Studio ",
          " Google Cloud AutoML ",
          " Google Cloud Compute Engine ",
          " Google Cloud Filestore ",
          " Google Cloud Platform (GCP) ",
          " Google Cloud Vertex AI",
          " Google Responsible AI Toolkit (LIT, What-if, Fairness Indicator, etc) ",
          " IBM AI Ethics tools (AI Fairness 360, Adversarial Robustness Toolbox, etc ",
          " IBM Cloud / Red Hat ",
          " IBM Watson Studio ",
          " Microsoft Azure ",
          " Microsoft Azure Files ",
          " Microsoft Azure Virtual Machines ",
          " Microsoft Responsible AI Resources (Fairlearn, Counterfit, InterpretML, etc) ",
          "Amazon DynamoDB ",
          "Amazon QuickSight",
          "Amazon RDS ",
          "Amazon Redshift ",
          "Azure Notebooks",
          "Google Cloud BigQuery ",
          "Google Cloud SQL ",
          "Google Cloud Storage (GCS)   ",
          "Google Cloud Vertex AI Workbench ",
          "Google Data Studio",
          "IBM Db2 ",
          "Microsoft Azure Blob Storage",
          "Microsoft Azure SQL Database ",
          "Microsoft Azure Synapse ",
          "Microsoft Power BI",
          "Microsoft SQL Server ",
          "Amazon",
          "Google",
          "IBM",
          "Microsoft",
          "Tech Stack for Artificial Intelligence"
         ],
         "marker": {
          "coloraxis": "coloraxis",
          "colors": [
           0.028700241917747966,
           0.035517923905872,
           0.020233120738948757,
           0.013305476138113042,
           0.17692984385308996,
           0.04915328788212008,
           0.061689025731251367,
           0.04959313833296679,
           0.033428634264350124,
           0.1785792830437651,
           0.25797228942159667,
           0.0435451946338245,
           0.050912689685506926,
           0.14526061139212668,
           0.05289201671431713,
           0.22608313173521002,
           0.03848691444908731,
           0.03177919507367495,
           0.014075214427094787,
           0.031559269848251595,
           0.037167363096547175,
           0.1557070595997361,
           0.05619089509566747,
           0.0975368374752584,
           0.022652298218605673,
           0.039146690125357375,
           0.02463162524741588,
           0.0555311194193974,
           0.04178579283043765,
           0.045964372113481415,
           0.07587420277105784,
           0.04827358698042666,
           0.1416318451726413,
           0.04266549373213108,
           0.07070595997360897,
           0.021112821640642182,
           0.067627006817682,
           0.057180558610072575,
           0.01836375632285023,
           0.18231801187596217,
           0.13228502309214868,
           0.1435189246794466,
           0.12444929760988781,
           0.02907446388862707,
           0.1110719927340089,
           0.12361040165814155
          ]
         },
         "name": "",
         "parents": [
          "Tech Stack for Artificial Intelligence/Amazon",
          "Tech Stack for Artificial Intelligence/Microsoft",
          "Tech Stack for Artificial Intelligence/Amazon",
          "Tech Stack for Artificial Intelligence/Amazon",
          "Tech Stack for Artificial Intelligence/Amazon",
          "Tech Stack for Artificial Intelligence/Amazon",
          "Tech Stack for Artificial Intelligence/Amazon",
          "Tech Stack for Artificial Intelligence/Amazon",
          "Tech Stack for Artificial Intelligence/Amazon",
          "Tech Stack for Artificial Intelligence/Amazon",
          "Tech Stack for Artificial Intelligence/Amazon",
          "Tech Stack for Artificial Intelligence/Microsoft",
          "Tech Stack for Artificial Intelligence/Google",
          "Tech Stack for Artificial Intelligence/Google",
          "Tech Stack for Artificial Intelligence/Google",
          "Tech Stack for Artificial Intelligence/Google",
          "Tech Stack for Artificial Intelligence/Google",
          "Tech Stack for Artificial Intelligence/Google",
          "Tech Stack for Artificial Intelligence/IBM",
          "Tech Stack for Artificial Intelligence/IBM",
          "Tech Stack for Artificial Intelligence/IBM",
          "Tech Stack for Artificial Intelligence/Microsoft",
          "Tech Stack for Artificial Intelligence/Microsoft",
          "Tech Stack for Artificial Intelligence/Microsoft",
          "Tech Stack for Artificial Intelligence/Microsoft",
          "Tech Stack for Artificial Intelligence/Amazon",
          "Tech Stack for Artificial Intelligence/Amazon",
          "Tech Stack for Artificial Intelligence/Amazon",
          "Tech Stack for Artificial Intelligence/Amazon",
          "Tech Stack for Artificial Intelligence/Microsoft",
          "Tech Stack for Artificial Intelligence/Google",
          "Tech Stack for Artificial Intelligence/Google",
          "Tech Stack for Artificial Intelligence/Google",
          "Tech Stack for Artificial Intelligence/Google",
          "Tech Stack for Artificial Intelligence/Google",
          "Tech Stack for Artificial Intelligence/IBM",
          "Tech Stack for Artificial Intelligence/Microsoft",
          "Tech Stack for Artificial Intelligence/Microsoft",
          "Tech Stack for Artificial Intelligence/Microsoft",
          "Tech Stack for Artificial Intelligence/Microsoft",
          "Tech Stack for Artificial Intelligence/Microsoft",
          "Tech Stack for Artificial Intelligence",
          "Tech Stack for Artificial Intelligence",
          "Tech Stack for Artificial Intelligence",
          "Tech Stack for Artificial Intelligence",
          ""
         ],
         "root": {
          "color": "lightgreen"
         },
         "type": "treemap",
         "values": [
          261,
          323,
          184,
          121,
          1609,
          447,
          561,
          451,
          304,
          1624,
          2346,
          396,
          463,
          1321,
          481,
          2056,
          350,
          289,
          128,
          287,
          338,
          1416,
          511,
          887,
          206,
          356,
          224,
          505,
          380,
          418,
          690,
          439,
          1288,
          388,
          643,
          192,
          615,
          520,
          167,
          1658,
          1203,
          9373,
          8408,
          945,
          8320,
          27046
         ]
        }
       ],
       "layout": {
        "coloraxis": {
         "colorbar": {
          "title": {
           "text": "relative_percent"
          }
         },
         "colorscale": [
          [
           0,
           "#000004"
          ],
          [
           0.1111111111111111,
           "#1b0c41"
          ],
          [
           0.2222222222222222,
           "#4a0c6b"
          ],
          [
           0.3333333333333333,
           "#781c6d"
          ],
          [
           0.4444444444444444,
           "#a52c60"
          ],
          [
           0.5555555555555556,
           "#cf4446"
          ],
          [
           0.6666666666666666,
           "#ed6925"
          ],
          [
           0.7777777777777778,
           "#fb9b06"
          ],
          [
           0.8888888888888888,
           "#f7d13d"
          ],
          [
           1,
           "#fcffa4"
          ]
         ]
        },
        "height": 650,
        "legend": {
         "tracegroupgap": 0
        },
        "margin": {
         "b": 25,
         "l": 25,
         "r": 25,
         "t": 50
        },
        "template": {
         "data": {
          "bar": [
           {
            "error_x": {
             "color": "#2a3f5f"
            },
            "error_y": {
             "color": "#2a3f5f"
            },
            "marker": {
             "line": {
              "color": "#E5ECF6",
              "width": 0.5
             },
             "pattern": {
              "fillmode": "overlay",
              "size": 10,
              "solidity": 0.2
             }
            },
            "type": "bar"
           }
          ],
          "barpolar": [
           {
            "marker": {
             "line": {
              "color": "#E5ECF6",
              "width": 0.5
             },
             "pattern": {
              "fillmode": "overlay",
              "size": 10,
              "solidity": 0.2
             }
            },
            "type": "barpolar"
           }
          ],
          "carpet": [
           {
            "aaxis": {
             "endlinecolor": "#2a3f5f",
             "gridcolor": "white",
             "linecolor": "white",
             "minorgridcolor": "white",
             "startlinecolor": "#2a3f5f"
            },
            "baxis": {
             "endlinecolor": "#2a3f5f",
             "gridcolor": "white",
             "linecolor": "white",
             "minorgridcolor": "white",
             "startlinecolor": "#2a3f5f"
            },
            "type": "carpet"
           }
          ],
          "choropleth": [
           {
            "colorbar": {
             "outlinewidth": 0,
             "ticks": ""
            },
            "type": "choropleth"
           }
          ],
          "contour": [
           {
            "colorbar": {
             "outlinewidth": 0,
             "ticks": ""
            },
            "colorscale": [
             [
              0,
              "#0d0887"
             ],
             [
              0.1111111111111111,
              "#46039f"
             ],
             [
              0.2222222222222222,
              "#7201a8"
             ],
             [
              0.3333333333333333,
              "#9c179e"
             ],
             [
              0.4444444444444444,
              "#bd3786"
             ],
             [
              0.5555555555555556,
              "#d8576b"
             ],
             [
              0.6666666666666666,
              "#ed7953"
             ],
             [
              0.7777777777777778,
              "#fb9f3a"
             ],
             [
              0.8888888888888888,
              "#fdca26"
             ],
             [
              1,
              "#f0f921"
             ]
            ],
            "type": "contour"
           }
          ],
          "contourcarpet": [
           {
            "colorbar": {
             "outlinewidth": 0,
             "ticks": ""
            },
            "type": "contourcarpet"
           }
          ],
          "heatmap": [
           {
            "colorbar": {
             "outlinewidth": 0,
             "ticks": ""
            },
            "colorscale": [
             [
              0,
              "#0d0887"
             ],
             [
              0.1111111111111111,
              "#46039f"
             ],
             [
              0.2222222222222222,
              "#7201a8"
             ],
             [
              0.3333333333333333,
              "#9c179e"
             ],
             [
              0.4444444444444444,
              "#bd3786"
             ],
             [
              0.5555555555555556,
              "#d8576b"
             ],
             [
              0.6666666666666666,
              "#ed7953"
             ],
             [
              0.7777777777777778,
              "#fb9f3a"
             ],
             [
              0.8888888888888888,
              "#fdca26"
             ],
             [
              1,
              "#f0f921"
             ]
            ],
            "type": "heatmap"
           }
          ],
          "heatmapgl": [
           {
            "colorbar": {
             "outlinewidth": 0,
             "ticks": ""
            },
            "colorscale": [
             [
              0,
              "#0d0887"
             ],
             [
              0.1111111111111111,
              "#46039f"
             ],
             [
              0.2222222222222222,
              "#7201a8"
             ],
             [
              0.3333333333333333,
              "#9c179e"
             ],
             [
              0.4444444444444444,
              "#bd3786"
             ],
             [
              0.5555555555555556,
              "#d8576b"
             ],
             [
              0.6666666666666666,
              "#ed7953"
             ],
             [
              0.7777777777777778,
              "#fb9f3a"
             ],
             [
              0.8888888888888888,
              "#fdca26"
             ],
             [
              1,
              "#f0f921"
             ]
            ],
            "type": "heatmapgl"
           }
          ],
          "histogram": [
           {
            "marker": {
             "pattern": {
              "fillmode": "overlay",
              "size": 10,
              "solidity": 0.2
             }
            },
            "type": "histogram"
           }
          ],
          "histogram2d": [
           {
            "colorbar": {
             "outlinewidth": 0,
             "ticks": ""
            },
            "colorscale": [
             [
              0,
              "#0d0887"
             ],
             [
              0.1111111111111111,
              "#46039f"
             ],
             [
              0.2222222222222222,
              "#7201a8"
             ],
             [
              0.3333333333333333,
              "#9c179e"
             ],
             [
              0.4444444444444444,
              "#bd3786"
             ],
             [
              0.5555555555555556,
              "#d8576b"
             ],
             [
              0.6666666666666666,
              "#ed7953"
             ],
             [
              0.7777777777777778,
              "#fb9f3a"
             ],
             [
              0.8888888888888888,
              "#fdca26"
             ],
             [
              1,
              "#f0f921"
             ]
            ],
            "type": "histogram2d"
           }
          ],
          "histogram2dcontour": [
           {
            "colorbar": {
             "outlinewidth": 0,
             "ticks": ""
            },
            "colorscale": [
             [
              0,
              "#0d0887"
             ],
             [
              0.1111111111111111,
              "#46039f"
             ],
             [
              0.2222222222222222,
              "#7201a8"
             ],
             [
              0.3333333333333333,
              "#9c179e"
             ],
             [
              0.4444444444444444,
              "#bd3786"
             ],
             [
              0.5555555555555556,
              "#d8576b"
             ],
             [
              0.6666666666666666,
              "#ed7953"
             ],
             [
              0.7777777777777778,
              "#fb9f3a"
             ],
             [
              0.8888888888888888,
              "#fdca26"
             ],
             [
              1,
              "#f0f921"
             ]
            ],
            "type": "histogram2dcontour"
           }
          ],
          "mesh3d": [
           {
            "colorbar": {
             "outlinewidth": 0,
             "ticks": ""
            },
            "type": "mesh3d"
           }
          ],
          "parcoords": [
           {
            "line": {
             "colorbar": {
              "outlinewidth": 0,
              "ticks": ""
             }
            },
            "type": "parcoords"
           }
          ],
          "pie": [
           {
            "automargin": true,
            "type": "pie"
           }
          ],
          "scatter": [
           {
            "fillpattern": {
             "fillmode": "overlay",
             "size": 10,
             "solidity": 0.2
            },
            "type": "scatter"
           }
          ],
          "scatter3d": [
           {
            "line": {
             "colorbar": {
              "outlinewidth": 0,
              "ticks": ""
             }
            },
            "marker": {
             "colorbar": {
              "outlinewidth": 0,
              "ticks": ""
             }
            },
            "type": "scatter3d"
           }
          ],
          "scattercarpet": [
           {
            "marker": {
             "colorbar": {
              "outlinewidth": 0,
              "ticks": ""
             }
            },
            "type": "scattercarpet"
           }
          ],
          "scattergeo": [
           {
            "marker": {
             "colorbar": {
              "outlinewidth": 0,
              "ticks": ""
             }
            },
            "type": "scattergeo"
           }
          ],
          "scattergl": [
           {
            "marker": {
             "colorbar": {
              "outlinewidth": 0,
              "ticks": ""
             }
            },
            "type": "scattergl"
           }
          ],
          "scattermapbox": [
           {
            "marker": {
             "colorbar": {
              "outlinewidth": 0,
              "ticks": ""
             }
            },
            "type": "scattermapbox"
           }
          ],
          "scatterpolar": [
           {
            "marker": {
             "colorbar": {
              "outlinewidth": 0,
              "ticks": ""
             }
            },
            "type": "scatterpolar"
           }
          ],
          "scatterpolargl": [
           {
            "marker": {
             "colorbar": {
              "outlinewidth": 0,
              "ticks": ""
             }
            },
            "type": "scatterpolargl"
           }
          ],
          "scatterternary": [
           {
            "marker": {
             "colorbar": {
              "outlinewidth": 0,
              "ticks": ""
             }
            },
            "type": "scatterternary"
           }
          ],
          "surface": [
           {
            "colorbar": {
             "outlinewidth": 0,
             "ticks": ""
            },
            "colorscale": [
             [
              0,
              "#0d0887"
             ],
             [
              0.1111111111111111,
              "#46039f"
             ],
             [
              0.2222222222222222,
              "#7201a8"
             ],
             [
              0.3333333333333333,
              "#9c179e"
             ],
             [
              0.4444444444444444,
              "#bd3786"
             ],
             [
              0.5555555555555556,
              "#d8576b"
             ],
             [
              0.6666666666666666,
              "#ed7953"
             ],
             [
              0.7777777777777778,
              "#fb9f3a"
             ],
             [
              0.8888888888888888,
              "#fdca26"
             ],
             [
              1,
              "#f0f921"
             ]
            ],
            "type": "surface"
           }
          ],
          "table": [
           {
            "cells": {
             "fill": {
              "color": "#EBF0F8"
             },
             "line": {
              "color": "white"
             }
            },
            "header": {
             "fill": {
              "color": "#C8D4E3"
             },
             "line": {
              "color": "white"
             }
            },
            "type": "table"
           }
          ]
         },
         "layout": {
          "annotationdefaults": {
           "arrowcolor": "#2a3f5f",
           "arrowhead": 0,
           "arrowwidth": 1
          },
          "autotypenumbers": "strict",
          "coloraxis": {
           "colorbar": {
            "outlinewidth": 0,
            "ticks": ""
           }
          },
          "colorscale": {
           "diverging": [
            [
             0,
             "#8e0152"
            ],
            [
             0.1,
             "#c51b7d"
            ],
            [
             0.2,
             "#de77ae"
            ],
            [
             0.3,
             "#f1b6da"
            ],
            [
             0.4,
             "#fde0ef"
            ],
            [
             0.5,
             "#f7f7f7"
            ],
            [
             0.6,
             "#e6f5d0"
            ],
            [
             0.7,
             "#b8e186"
            ],
            [
             0.8,
             "#7fbc41"
            ],
            [
             0.9,
             "#4d9221"
            ],
            [
             1,
             "#276419"
            ]
           ],
           "sequential": [
            [
             0,
             "#0d0887"
            ],
            [
             0.1111111111111111,
             "#46039f"
            ],
            [
             0.2222222222222222,
             "#7201a8"
            ],
            [
             0.3333333333333333,
             "#9c179e"
            ],
            [
             0.4444444444444444,
             "#bd3786"
            ],
            [
             0.5555555555555556,
             "#d8576b"
            ],
            [
             0.6666666666666666,
             "#ed7953"
            ],
            [
             0.7777777777777778,
             "#fb9f3a"
            ],
            [
             0.8888888888888888,
             "#fdca26"
            ],
            [
             1,
             "#f0f921"
            ]
           ],
           "sequentialminus": [
            [
             0,
             "#0d0887"
            ],
            [
             0.1111111111111111,
             "#46039f"
            ],
            [
             0.2222222222222222,
             "#7201a8"
            ],
            [
             0.3333333333333333,
             "#9c179e"
            ],
            [
             0.4444444444444444,
             "#bd3786"
            ],
            [
             0.5555555555555556,
             "#d8576b"
            ],
            [
             0.6666666666666666,
             "#ed7953"
            ],
            [
             0.7777777777777778,
             "#fb9f3a"
            ],
            [
             0.8888888888888888,
             "#fdca26"
            ],
            [
             1,
             "#f0f921"
            ]
           ]
          },
          "colorway": [
           "#636efa",
           "#EF553B",
           "#00cc96",
           "#ab63fa",
           "#FFA15A",
           "#19d3f3",
           "#FF6692",
           "#B6E880",
           "#FF97FF",
           "#FECB52"
          ],
          "font": {
           "color": "#2a3f5f"
          },
          "geo": {
           "bgcolor": "white",
           "lakecolor": "white",
           "landcolor": "#E5ECF6",
           "showlakes": true,
           "showland": true,
           "subunitcolor": "white"
          },
          "hoverlabel": {
           "align": "left"
          },
          "hovermode": "closest",
          "mapbox": {
           "style": "light"
          },
          "paper_bgcolor": "white",
          "plot_bgcolor": "#E5ECF6",
          "polar": {
           "angularaxis": {
            "gridcolor": "white",
            "linecolor": "white",
            "ticks": ""
           },
           "bgcolor": "#E5ECF6",
           "radialaxis": {
            "gridcolor": "white",
            "linecolor": "white",
            "ticks": ""
           }
          },
          "scene": {
           "xaxis": {
            "backgroundcolor": "#E5ECF6",
            "gridcolor": "white",
            "gridwidth": 2,
            "linecolor": "white",
            "showbackground": true,
            "ticks": "",
            "zerolinecolor": "white"
           },
           "yaxis": {
            "backgroundcolor": "#E5ECF6",
            "gridcolor": "white",
            "gridwidth": 2,
            "linecolor": "white",
            "showbackground": true,
            "ticks": "",
            "zerolinecolor": "white"
           },
           "zaxis": {
            "backgroundcolor": "#E5ECF6",
            "gridcolor": "white",
            "gridwidth": 2,
            "linecolor": "white",
            "showbackground": true,
            "ticks": "",
            "zerolinecolor": "white"
           }
          },
          "shapedefaults": {
           "line": {
            "color": "#2a3f5f"
           }
          },
          "ternary": {
           "aaxis": {
            "gridcolor": "white",
            "linecolor": "white",
            "ticks": ""
           },
           "baxis": {
            "gridcolor": "white",
            "linecolor": "white",
            "ticks": ""
           },
           "bgcolor": "#E5ECF6",
           "caxis": {
            "gridcolor": "white",
            "linecolor": "white",
            "ticks": ""
           }
          },
          "title": {
           "x": 0.05
          },
          "xaxis": {
           "automargin": true,
           "gridcolor": "white",
           "linecolor": "white",
           "ticks": "",
           "title": {
            "standoff": 15
           },
           "zerolinecolor": "white",
           "zerolinewidth": 2
          },
          "yaxis": {
           "automargin": true,
           "gridcolor": "white",
           "linecolor": "white",
           "ticks": "",
           "title": {
            "standoff": 15
           },
           "zerolinecolor": "white",
           "zerolinewidth": 2
          }
         }
        }
       }
      },
      "text/html": [
       "<div>                            <div id=\"c0aa8e8c-7c4e-4181-92a9-2d50783f3b93\" class=\"plotly-graph-div\" style=\"height:650px; width:100%;\"></div>            <script type=\"text/javascript\">                require([\"plotly\"], function(Plotly) {                    window.PLOTLYENV=window.PLOTLYENV || {};                                    if (document.getElementById(\"c0aa8e8c-7c4e-4181-92a9-2d50783f3b93\")) {                    Plotly.newPlot(                        \"c0aa8e8c-7c4e-4181-92a9-2d50783f3b93\",                        [{\"branchvalues\":\"total\",\"customdata\":[[0.028700241917747966],[0.035517923905872],[0.020233120738948757],[0.013305476138113042],[0.17692984385308996],[0.04915328788212008],[0.061689025731251367],[0.04959313833296679],[0.033428634264350124],[0.1785792830437651],[0.25797228942159667],[0.0435451946338245],[0.050912689685506926],[0.14526061139212668],[0.05289201671431713],[0.22608313173521002],[0.03848691444908731],[0.03177919507367495],[0.014075214427094787],[0.031559269848251595],[0.037167363096547175],[0.1557070595997361],[0.05619089509566747],[0.0975368374752584],[0.022652298218605673],[0.039146690125357375],[0.02463162524741588],[0.0555311194193974],[0.04178579283043765],[0.045964372113481415],[0.07587420277105784],[0.04827358698042666],[0.1416318451726413],[0.04266549373213108],[0.07070595997360897],[0.021112821640642182],[0.067627006817682],[0.057180558610072575],[0.01836375632285023],[0.18231801187596217],[0.13228502309214868],[0.1435189246794466],[0.12444929760988781],[0.02907446388862707],[0.1110719927340089],[0.12361040165814155]],\"domain\":{\"x\":[0.0,1.0],\"y\":[0.0,1.0]},\"hovertemplate\":\"labels=%{label}<br>counts=%{value}<br>parent=%{parent}<br>id=%{id}<br>relative_percent=%{color}<extra></extra>\",\"ids\":[\"Tech Stack for Artificial Intelligence/Amazon/  Amazon Sagemaker Autopilot \",\"Tech Stack for Artificial Intelligence/Microsoft/  Azure Automated Machine Learning \",\"Tech Stack for Artificial Intelligence/Amazon/ Amazon AI Ethics Tools (Clarify, A2I, etc) \",\"Tech Stack for Artificial Intelligence/Amazon/ Amazon EMR Notebooks \",\"Tech Stack for Artificial Intelligence/Amazon/ Amazon Elastic Compute Cloud (EC2) \",\"Tech Stack for Artificial Intelligence/Amazon/ Amazon Elastic File System (EFS)  \",\"Tech Stack for Artificial Intelligence/Amazon/ Amazon SageMaker \",\"Tech Stack for Artificial Intelligence/Amazon/ Amazon Sagemaker Studio \",\"Tech Stack for Artificial Intelligence/Amazon/ Amazon Sagemaker Studio Lab \",\"Tech Stack for Artificial Intelligence/Amazon/ Amazon Simple Storage Service (S3)  \",\"Tech Stack for Artificial Intelligence/Amazon/ Amazon Web Services (AWS) \",\"Tech Stack for Artificial Intelligence/Microsoft/ Azure Machine Learning Studio \",\"Tech Stack for Artificial Intelligence/Google/ Google Cloud AutoML \",\"Tech Stack for Artificial Intelligence/Google/ Google Cloud Compute Engine \",\"Tech Stack for Artificial Intelligence/Google/ Google Cloud Filestore \",\"Tech Stack for Artificial Intelligence/Google/ Google Cloud Platform (GCP) \",\"Tech Stack for Artificial Intelligence/Google/ Google Cloud Vertex AI\",\"Tech Stack for Artificial Intelligence/Google/ Google Responsible AI Toolkit (LIT, What-if, Fairness Indicator, etc) \",\"Tech Stack for Artificial Intelligence/IBM/ IBM AI Ethics tools (AI Fairness 360, Adversarial Robustness Toolbox, etc \",\"Tech Stack for Artificial Intelligence/IBM/ IBM Cloud / Red Hat \",\"Tech Stack for Artificial Intelligence/IBM/ IBM Watson Studio \",\"Tech Stack for Artificial Intelligence/Microsoft/ Microsoft Azure \",\"Tech Stack for Artificial Intelligence/Microsoft/ Microsoft Azure Files \",\"Tech Stack for Artificial Intelligence/Microsoft/ Microsoft Azure Virtual Machines \",\"Tech Stack for Artificial Intelligence/Microsoft/ Microsoft Responsible AI Resources (Fairlearn, Counterfit, InterpretML, etc) \",\"Tech Stack for Artificial Intelligence/Amazon/Amazon DynamoDB \",\"Tech Stack for Artificial Intelligence/Amazon/Amazon QuickSight\",\"Tech Stack for Artificial Intelligence/Amazon/Amazon RDS \",\"Tech Stack for Artificial Intelligence/Amazon/Amazon Redshift \",\"Tech Stack for Artificial Intelligence/Microsoft/Azure Notebooks\",\"Tech Stack for Artificial Intelligence/Google/Google Cloud BigQuery \",\"Tech Stack for Artificial Intelligence/Google/Google Cloud SQL \",\"Tech Stack for Artificial Intelligence/Google/Google Cloud Storage (GCS)   \",\"Tech Stack for Artificial Intelligence/Google/Google Cloud Vertex AI Workbench \",\"Tech Stack for Artificial Intelligence/Google/Google Data Studio\",\"Tech Stack for Artificial Intelligence/IBM/IBM Db2 \",\"Tech Stack for Artificial Intelligence/Microsoft/Microsoft Azure Blob Storage\",\"Tech Stack for Artificial Intelligence/Microsoft/Microsoft Azure SQL Database \",\"Tech Stack for Artificial Intelligence/Microsoft/Microsoft Azure Synapse \",\"Tech Stack for Artificial Intelligence/Microsoft/Microsoft Power BI\",\"Tech Stack for Artificial Intelligence/Microsoft/Microsoft SQL Server \",\"Tech Stack for Artificial Intelligence/Amazon\",\"Tech Stack for Artificial Intelligence/Google\",\"Tech Stack for Artificial Intelligence/IBM\",\"Tech Stack for Artificial Intelligence/Microsoft\",\"Tech Stack for Artificial Intelligence\"],\"labels\":[\"  Amazon Sagemaker Autopilot \",\"  Azure Automated Machine Learning \",\" Amazon AI Ethics Tools (Clarify, A2I, etc) \",\" Amazon EMR Notebooks \",\" Amazon Elastic Compute Cloud (EC2) \",\" Amazon Elastic File System (EFS)  \",\" Amazon SageMaker \",\" Amazon Sagemaker Studio \",\" Amazon Sagemaker Studio Lab \",\" Amazon Simple Storage Service (S3)  \",\" Amazon Web Services (AWS) \",\" Azure Machine Learning Studio \",\" Google Cloud AutoML \",\" Google Cloud Compute Engine \",\" Google Cloud Filestore \",\" Google Cloud Platform (GCP) \",\" Google Cloud Vertex AI\",\" Google Responsible AI Toolkit (LIT, What-if, Fairness Indicator, etc) \",\" IBM AI Ethics tools (AI Fairness 360, Adversarial Robustness Toolbox, etc \",\" IBM Cloud / Red Hat \",\" IBM Watson Studio \",\" Microsoft Azure \",\" Microsoft Azure Files \",\" Microsoft Azure Virtual Machines \",\" Microsoft Responsible AI Resources (Fairlearn, Counterfit, InterpretML, etc) \",\"Amazon DynamoDB \",\"Amazon QuickSight\",\"Amazon RDS \",\"Amazon Redshift \",\"Azure Notebooks\",\"Google Cloud BigQuery \",\"Google Cloud SQL \",\"Google Cloud Storage (GCS)   \",\"Google Cloud Vertex AI Workbench \",\"Google Data Studio\",\"IBM Db2 \",\"Microsoft Azure Blob Storage\",\"Microsoft Azure SQL Database \",\"Microsoft Azure Synapse \",\"Microsoft Power BI\",\"Microsoft SQL Server \",\"Amazon\",\"Google\",\"IBM\",\"Microsoft\",\"Tech Stack for Artificial Intelligence\"],\"marker\":{\"coloraxis\":\"coloraxis\",\"colors\":[0.028700241917747966,0.035517923905872,0.020233120738948757,0.013305476138113042,0.17692984385308996,0.04915328788212008,0.061689025731251367,0.04959313833296679,0.033428634264350124,0.1785792830437651,0.25797228942159667,0.0435451946338245,0.050912689685506926,0.14526061139212668,0.05289201671431713,0.22608313173521002,0.03848691444908731,0.03177919507367495,0.014075214427094787,0.031559269848251595,0.037167363096547175,0.1557070595997361,0.05619089509566747,0.0975368374752584,0.022652298218605673,0.039146690125357375,0.02463162524741588,0.0555311194193974,0.04178579283043765,0.045964372113481415,0.07587420277105784,0.04827358698042666,0.1416318451726413,0.04266549373213108,0.07070595997360897,0.021112821640642182,0.067627006817682,0.057180558610072575,0.01836375632285023,0.18231801187596217,0.13228502309214868,0.1435189246794466,0.12444929760988781,0.02907446388862707,0.1110719927340089,0.12361040165814155]},\"name\":\"\",\"parents\":[\"Tech Stack for Artificial Intelligence/Amazon\",\"Tech Stack for Artificial Intelligence/Microsoft\",\"Tech Stack for Artificial Intelligence/Amazon\",\"Tech Stack for Artificial Intelligence/Amazon\",\"Tech Stack for Artificial Intelligence/Amazon\",\"Tech Stack for Artificial Intelligence/Amazon\",\"Tech Stack for Artificial Intelligence/Amazon\",\"Tech Stack for Artificial Intelligence/Amazon\",\"Tech Stack for Artificial Intelligence/Amazon\",\"Tech Stack for Artificial Intelligence/Amazon\",\"Tech Stack for Artificial Intelligence/Amazon\",\"Tech Stack for Artificial Intelligence/Microsoft\",\"Tech Stack for Artificial Intelligence/Google\",\"Tech Stack for Artificial Intelligence/Google\",\"Tech Stack for Artificial Intelligence/Google\",\"Tech Stack for Artificial Intelligence/Google\",\"Tech Stack for Artificial Intelligence/Google\",\"Tech Stack for Artificial Intelligence/Google\",\"Tech Stack for Artificial Intelligence/IBM\",\"Tech Stack for Artificial Intelligence/IBM\",\"Tech Stack for Artificial Intelligence/IBM\",\"Tech Stack for Artificial Intelligence/Microsoft\",\"Tech Stack for Artificial Intelligence/Microsoft\",\"Tech Stack for Artificial Intelligence/Microsoft\",\"Tech Stack for Artificial Intelligence/Microsoft\",\"Tech Stack for Artificial Intelligence/Amazon\",\"Tech Stack for Artificial Intelligence/Amazon\",\"Tech Stack for Artificial Intelligence/Amazon\",\"Tech Stack for Artificial Intelligence/Amazon\",\"Tech Stack for Artificial Intelligence/Microsoft\",\"Tech Stack for Artificial Intelligence/Google\",\"Tech Stack for Artificial Intelligence/Google\",\"Tech Stack for Artificial Intelligence/Google\",\"Tech Stack for Artificial Intelligence/Google\",\"Tech Stack for Artificial Intelligence/Google\",\"Tech Stack for Artificial Intelligence/IBM\",\"Tech Stack for Artificial Intelligence/Microsoft\",\"Tech Stack for Artificial Intelligence/Microsoft\",\"Tech Stack for Artificial Intelligence/Microsoft\",\"Tech Stack for Artificial Intelligence/Microsoft\",\"Tech Stack for Artificial Intelligence/Microsoft\",\"Tech Stack for Artificial Intelligence\",\"Tech Stack for Artificial Intelligence\",\"Tech Stack for Artificial Intelligence\",\"Tech Stack for Artificial Intelligence\",\"\"],\"values\":[261,323,184,121,1609,447,561,451,304,1624,2346,396,463,1321,481,2056,350,289,128,287,338,1416,511,887,206,356,224,505,380,418,690,439,1288,388,643,192,615,520,167,1658,1203,9373,8408,945,8320,27046],\"type\":\"treemap\",\"root\":{\"color\":\"lightgreen\"}}],                        {\"template\":{\"data\":{\"histogram2dcontour\":[{\"type\":\"histogram2dcontour\",\"colorbar\":{\"outlinewidth\":0,\"ticks\":\"\"},\"colorscale\":[[0.0,\"#0d0887\"],[0.1111111111111111,\"#46039f\"],[0.2222222222222222,\"#7201a8\"],[0.3333333333333333,\"#9c179e\"],[0.4444444444444444,\"#bd3786\"],[0.5555555555555556,\"#d8576b\"],[0.6666666666666666,\"#ed7953\"],[0.7777777777777778,\"#fb9f3a\"],[0.8888888888888888,\"#fdca26\"],[1.0,\"#f0f921\"]]}],\"choropleth\":[{\"type\":\"choropleth\",\"colorbar\":{\"outlinewidth\":0,\"ticks\":\"\"}}],\"histogram2d\":[{\"type\":\"histogram2d\",\"colorbar\":{\"outlinewidth\":0,\"ticks\":\"\"},\"colorscale\":[[0.0,\"#0d0887\"],[0.1111111111111111,\"#46039f\"],[0.2222222222222222,\"#7201a8\"],[0.3333333333333333,\"#9c179e\"],[0.4444444444444444,\"#bd3786\"],[0.5555555555555556,\"#d8576b\"],[0.6666666666666666,\"#ed7953\"],[0.7777777777777778,\"#fb9f3a\"],[0.8888888888888888,\"#fdca26\"],[1.0,\"#f0f921\"]]}],\"heatmap\":[{\"type\":\"heatmap\",\"colorbar\":{\"outlinewidth\":0,\"ticks\":\"\"},\"colorscale\":[[0.0,\"#0d0887\"],[0.1111111111111111,\"#46039f\"],[0.2222222222222222,\"#7201a8\"],[0.3333333333333333,\"#9c179e\"],[0.4444444444444444,\"#bd3786\"],[0.5555555555555556,\"#d8576b\"],[0.6666666666666666,\"#ed7953\"],[0.7777777777777778,\"#fb9f3a\"],[0.8888888888888888,\"#fdca26\"],[1.0,\"#f0f921\"]]}],\"heatmapgl\":[{\"type\":\"heatmapgl\",\"colorbar\":{\"outlinewidth\":0,\"ticks\":\"\"},\"colorscale\":[[0.0,\"#0d0887\"],[0.1111111111111111,\"#46039f\"],[0.2222222222222222,\"#7201a8\"],[0.3333333333333333,\"#9c179e\"],[0.4444444444444444,\"#bd3786\"],[0.5555555555555556,\"#d8576b\"],[0.6666666666666666,\"#ed7953\"],[0.7777777777777778,\"#fb9f3a\"],[0.8888888888888888,\"#fdca26\"],[1.0,\"#f0f921\"]]}],\"contourcarpet\":[{\"type\":\"contourcarpet\",\"colorbar\":{\"outlinewidth\":0,\"ticks\":\"\"}}],\"contour\":[{\"type\":\"contour\",\"colorbar\":{\"outlinewidth\":0,\"ticks\":\"\"},\"colorscale\":[[0.0,\"#0d0887\"],[0.1111111111111111,\"#46039f\"],[0.2222222222222222,\"#7201a8\"],[0.3333333333333333,\"#9c179e\"],[0.4444444444444444,\"#bd3786\"],[0.5555555555555556,\"#d8576b\"],[0.6666666666666666,\"#ed7953\"],[0.7777777777777778,\"#fb9f3a\"],[0.8888888888888888,\"#fdca26\"],[1.0,\"#f0f921\"]]}],\"surface\":[{\"type\":\"surface\",\"colorbar\":{\"outlinewidth\":0,\"ticks\":\"\"},\"colorscale\":[[0.0,\"#0d0887\"],[0.1111111111111111,\"#46039f\"],[0.2222222222222222,\"#7201a8\"],[0.3333333333333333,\"#9c179e\"],[0.4444444444444444,\"#bd3786\"],[0.5555555555555556,\"#d8576b\"],[0.6666666666666666,\"#ed7953\"],[0.7777777777777778,\"#fb9f3a\"],[0.8888888888888888,\"#fdca26\"],[1.0,\"#f0f921\"]]}],\"mesh3d\":[{\"type\":\"mesh3d\",\"colorbar\":{\"outlinewidth\":0,\"ticks\":\"\"}}],\"scatter\":[{\"fillpattern\":{\"fillmode\":\"overlay\",\"size\":10,\"solidity\":0.2},\"type\":\"scatter\"}],\"parcoords\":[{\"type\":\"parcoords\",\"line\":{\"colorbar\":{\"outlinewidth\":0,\"ticks\":\"\"}}}],\"scatterpolargl\":[{\"type\":\"scatterpolargl\",\"marker\":{\"colorbar\":{\"outlinewidth\":0,\"ticks\":\"\"}}}],\"bar\":[{\"error_x\":{\"color\":\"#2a3f5f\"},\"error_y\":{\"color\":\"#2a3f5f\"},\"marker\":{\"line\":{\"color\":\"#E5ECF6\",\"width\":0.5},\"pattern\":{\"fillmode\":\"overlay\",\"size\":10,\"solidity\":0.2}},\"type\":\"bar\"}],\"scattergeo\":[{\"type\":\"scattergeo\",\"marker\":{\"colorbar\":{\"outlinewidth\":0,\"ticks\":\"\"}}}],\"scatterpolar\":[{\"type\":\"scatterpolar\",\"marker\":{\"colorbar\":{\"outlinewidth\":0,\"ticks\":\"\"}}}],\"histogram\":[{\"marker\":{\"pattern\":{\"fillmode\":\"overlay\",\"size\":10,\"solidity\":0.2}},\"type\":\"histogram\"}],\"scattergl\":[{\"type\":\"scattergl\",\"marker\":{\"colorbar\":{\"outlinewidth\":0,\"ticks\":\"\"}}}],\"scatter3d\":[{\"type\":\"scatter3d\",\"line\":{\"colorbar\":{\"outlinewidth\":0,\"ticks\":\"\"}},\"marker\":{\"colorbar\":{\"outlinewidth\":0,\"ticks\":\"\"}}}],\"scattermapbox\":[{\"type\":\"scattermapbox\",\"marker\":{\"colorbar\":{\"outlinewidth\":0,\"ticks\":\"\"}}}],\"scatterternary\":[{\"type\":\"scatterternary\",\"marker\":{\"colorbar\":{\"outlinewidth\":0,\"ticks\":\"\"}}}],\"scattercarpet\":[{\"type\":\"scattercarpet\",\"marker\":{\"colorbar\":{\"outlinewidth\":0,\"ticks\":\"\"}}}],\"carpet\":[{\"aaxis\":{\"endlinecolor\":\"#2a3f5f\",\"gridcolor\":\"white\",\"linecolor\":\"white\",\"minorgridcolor\":\"white\",\"startlinecolor\":\"#2a3f5f\"},\"baxis\":{\"endlinecolor\":\"#2a3f5f\",\"gridcolor\":\"white\",\"linecolor\":\"white\",\"minorgridcolor\":\"white\",\"startlinecolor\":\"#2a3f5f\"},\"type\":\"carpet\"}],\"table\":[{\"cells\":{\"fill\":{\"color\":\"#EBF0F8\"},\"line\":{\"color\":\"white\"}},\"header\":{\"fill\":{\"color\":\"#C8D4E3\"},\"line\":{\"color\":\"white\"}},\"type\":\"table\"}],\"barpolar\":[{\"marker\":{\"line\":{\"color\":\"#E5ECF6\",\"width\":0.5},\"pattern\":{\"fillmode\":\"overlay\",\"size\":10,\"solidity\":0.2}},\"type\":\"barpolar\"}],\"pie\":[{\"automargin\":true,\"type\":\"pie\"}]},\"layout\":{\"autotypenumbers\":\"strict\",\"colorway\":[\"#636efa\",\"#EF553B\",\"#00cc96\",\"#ab63fa\",\"#FFA15A\",\"#19d3f3\",\"#FF6692\",\"#B6E880\",\"#FF97FF\",\"#FECB52\"],\"font\":{\"color\":\"#2a3f5f\"},\"hovermode\":\"closest\",\"hoverlabel\":{\"align\":\"left\"},\"paper_bgcolor\":\"white\",\"plot_bgcolor\":\"#E5ECF6\",\"polar\":{\"bgcolor\":\"#E5ECF6\",\"angularaxis\":{\"gridcolor\":\"white\",\"linecolor\":\"white\",\"ticks\":\"\"},\"radialaxis\":{\"gridcolor\":\"white\",\"linecolor\":\"white\",\"ticks\":\"\"}},\"ternary\":{\"bgcolor\":\"#E5ECF6\",\"aaxis\":{\"gridcolor\":\"white\",\"linecolor\":\"white\",\"ticks\":\"\"},\"baxis\":{\"gridcolor\":\"white\",\"linecolor\":\"white\",\"ticks\":\"\"},\"caxis\":{\"gridcolor\":\"white\",\"linecolor\":\"white\",\"ticks\":\"\"}},\"coloraxis\":{\"colorbar\":{\"outlinewidth\":0,\"ticks\":\"\"}},\"colorscale\":{\"sequential\":[[0.0,\"#0d0887\"],[0.1111111111111111,\"#46039f\"],[0.2222222222222222,\"#7201a8\"],[0.3333333333333333,\"#9c179e\"],[0.4444444444444444,\"#bd3786\"],[0.5555555555555556,\"#d8576b\"],[0.6666666666666666,\"#ed7953\"],[0.7777777777777778,\"#fb9f3a\"],[0.8888888888888888,\"#fdca26\"],[1.0,\"#f0f921\"]],\"sequentialminus\":[[0.0,\"#0d0887\"],[0.1111111111111111,\"#46039f\"],[0.2222222222222222,\"#7201a8\"],[0.3333333333333333,\"#9c179e\"],[0.4444444444444444,\"#bd3786\"],[0.5555555555555556,\"#d8576b\"],[0.6666666666666666,\"#ed7953\"],[0.7777777777777778,\"#fb9f3a\"],[0.8888888888888888,\"#fdca26\"],[1.0,\"#f0f921\"]],\"diverging\":[[0,\"#8e0152\"],[0.1,\"#c51b7d\"],[0.2,\"#de77ae\"],[0.3,\"#f1b6da\"],[0.4,\"#fde0ef\"],[0.5,\"#f7f7f7\"],[0.6,\"#e6f5d0\"],[0.7,\"#b8e186\"],[0.8,\"#7fbc41\"],[0.9,\"#4d9221\"],[1,\"#276419\"]]},\"xaxis\":{\"gridcolor\":\"white\",\"linecolor\":\"white\",\"ticks\":\"\",\"title\":{\"standoff\":15},\"zerolinecolor\":\"white\",\"automargin\":true,\"zerolinewidth\":2},\"yaxis\":{\"gridcolor\":\"white\",\"linecolor\":\"white\",\"ticks\":\"\",\"title\":{\"standoff\":15},\"zerolinecolor\":\"white\",\"automargin\":true,\"zerolinewidth\":2},\"scene\":{\"xaxis\":{\"backgroundcolor\":\"#E5ECF6\",\"gridcolor\":\"white\",\"linecolor\":\"white\",\"showbackground\":true,\"ticks\":\"\",\"zerolinecolor\":\"white\",\"gridwidth\":2},\"yaxis\":{\"backgroundcolor\":\"#E5ECF6\",\"gridcolor\":\"white\",\"linecolor\":\"white\",\"showbackground\":true,\"ticks\":\"\",\"zerolinecolor\":\"white\",\"gridwidth\":2},\"zaxis\":{\"backgroundcolor\":\"#E5ECF6\",\"gridcolor\":\"white\",\"linecolor\":\"white\",\"showbackground\":true,\"ticks\":\"\",\"zerolinecolor\":\"white\",\"gridwidth\":2}},\"shapedefaults\":{\"line\":{\"color\":\"#2a3f5f\"}},\"annotationdefaults\":{\"arrowcolor\":\"#2a3f5f\",\"arrowhead\":0,\"arrowwidth\":1},\"geo\":{\"bgcolor\":\"white\",\"landcolor\":\"#E5ECF6\",\"subunitcolor\":\"white\",\"showland\":true,\"showlakes\":true,\"lakecolor\":\"white\"},\"title\":{\"x\":0.05},\"mapbox\":{\"style\":\"light\"}}},\"coloraxis\":{\"colorbar\":{\"title\":{\"text\":\"relative_percent\"}},\"colorscale\":[[0.0,\"#000004\"],[0.1111111111111111,\"#1b0c41\"],[0.2222222222222222,\"#4a0c6b\"],[0.3333333333333333,\"#781c6d\"],[0.4444444444444444,\"#a52c60\"],[0.5555555555555556,\"#cf4446\"],[0.6666666666666666,\"#ed6925\"],[0.7777777777777778,\"#fb9b06\"],[0.8888888888888888,\"#f7d13d\"],[1.0,\"#fcffa4\"]]},\"legend\":{\"tracegroupgap\":0},\"margin\":{\"t\":50,\"l\":25,\"r\":25,\"b\":25},\"height\":650},                        {\"responsive\": true}                    ).then(function(){\n",
       "                            \n",
       "var gd = document.getElementById('c0aa8e8c-7c4e-4181-92a9-2d50783f3b93');\n",
       "var x = new MutationObserver(function (mutations, observer) {{\n",
       "        var display = window.getComputedStyle(gd).display;\n",
       "        if (!display || display === 'none') {{\n",
       "            console.log([gd, 'removed!']);\n",
       "            Plotly.purge(gd);\n",
       "            observer.disconnect();\n",
       "        }}\n",
       "}});\n",
       "\n",
       "// Listen for the removal of the full notebook cells\n",
       "var notebookContainer = gd.closest('#notebook-container');\n",
       "if (notebookContainer) {{\n",
       "    x.observe(notebookContainer, {childList: true});\n",
       "}}\n",
       "\n",
       "// Listen for the clearing of the current output cell\n",
       "var outputEl = gd.closest('.output');\n",
       "if (outputEl) {{\n",
       "    x.observe(outputEl, {childList: true});\n",
       "}}\n",
       "\n",
       "                        })                };                });            </script>        </div>"
      ]
     },
     "metadata": {},
     "output_type": "display_data"
    }
   ],
   "source": [
    "product_questions = [\"Q14\", \"Q31\", \"Q33\", \"Q34\", \"Q35\", \"Q36\",\"Q37\", \"Q38\", \"Q41\"]\n",
    "\n",
    "dfs_list = []\n",
    "for product in product_questions:\n",
    "    result = extract_and_count_all_the_multiple_choice_answers(product, scope_df)\n",
    "    result = result.rename(columns={product: \"Service\"})\n",
    "    dfs_list.append(result)\n",
    "\n",
    "products_df = pd.concat(dfs_list)\n",
    "\n",
    "\n",
    "products_df[\"Label\"] = products_df[\"Service\"].apply(lambda x : assign_label(x))\n",
    "\n",
    "products_df = products_df[products_df[\"Label\"].isin([\"Google\", \"Amazon\", \"IBM\", \"Microsoft\"])]\n",
    "\n",
    "fig = px.treemap(products_df, path=[\n",
    "    px.Constant(\"Tech Stack for Artificial Intelligence\"),\n",
    "    'Label',\n",
    "    'Service'], values='counts', color = 'relative_percent', color_continuous_scale = 'Inferno', height = 650)\n",
    "\n",
    "fig.update_traces(root_color=\"lightgreen\")\n",
    "fig.update_layout(margin = dict(t=50, l=25, r=25, b=25))\n",
    "fig.show()"
   ]
  },
  {
   "cell_type": "code",
   "execution_count": 86,
   "id": "8606cedd",
   "metadata": {},
   "outputs": [
    {
     "data": {
      "application/vnd.plotly.v1+json": {
       "config": {
        "plotlyServerURL": "https://plot.ly"
       },
       "data": [
        {
         "link": {
          "source": [
           0,
           0,
           0,
           0,
           4,
           4,
           4,
           4,
           4,
           4,
           5,
           5,
           5,
           5,
           5,
           5,
           6,
           6,
           6,
           6,
           6,
           6,
           7,
           7,
           7,
           7,
           7,
           7,
           1,
           1,
           1,
           1,
           4,
           4,
           4,
           4,
           4,
           4,
           5,
           5,
           5,
           5,
           5,
           5,
           6,
           6,
           6,
           6,
           6,
           6,
           7,
           7,
           7,
           7,
           7,
           7,
           2,
           2,
           2,
           2,
           4,
           4,
           4,
           4,
           4,
           4,
           5,
           5,
           5,
           5,
           5,
           5,
           6,
           6,
           6,
           6,
           6,
           6,
           7,
           7,
           7,
           7,
           7,
           7,
           3,
           3,
           3,
           3,
           4,
           4,
           4,
           4,
           4,
           4,
           5,
           5,
           5,
           5,
           5,
           5,
           6,
           6,
           6,
           6,
           6,
           6,
           7,
           7,
           7,
           7,
           7,
           7
          ],
          "target": [
           4,
           5,
           6,
           7,
           8,
           9,
           10,
           11,
           12,
           13,
           8,
           9,
           10,
           11,
           12,
           13,
           8,
           9,
           10,
           11,
           12,
           13,
           8,
           9,
           10,
           11,
           12,
           13,
           4,
           5,
           6,
           7,
           8,
           9,
           10,
           11,
           12,
           13,
           8,
           9,
           10,
           11,
           12,
           13,
           8,
           9,
           10,
           11,
           12,
           13,
           8,
           9,
           10,
           11,
           12,
           13,
           4,
           5,
           6,
           7,
           8,
           9,
           10,
           11,
           12,
           13,
           8,
           9,
           10,
           11,
           12,
           13,
           8,
           9,
           10,
           11,
           12,
           13,
           8,
           9,
           10,
           11,
           12,
           13,
           4,
           5,
           6,
           7,
           8,
           9,
           10,
           11,
           12,
           13,
           8,
           9,
           10,
           11,
           12,
           13,
           8,
           9,
           10,
           11,
           12,
           13,
           8,
           9,
           10,
           11,
           12,
           13
          ],
          "value": [
           1053,
           139,
           275,
           264,
           830,
           447,
           765,
           608,
           707,
           288,
           63,
           38,
           28,
           24,
           24,
           20,
           195,
           118,
           134,
           87,
           81,
           62,
           200,
           106,
           151,
           101,
           105,
           59,
           278,
           421,
           339,
           175,
           240,
           104,
           88,
           69,
           58,
           37,
           322,
           107,
           21,
           14,
           9,
           15,
           296,
           120,
           72,
           46,
           35,
           44,
           145,
           75,
           47,
           28,
           26,
           27,
           216,
           84,
           116,
           71,
           107,
           63,
           138,
           82,
           129,
           121,
           43,
           10,
           20,
           6,
           12,
           15,
           69,
           35,
           56,
           26,
           39,
           48,
           47,
           23,
           43,
           15,
           28,
           27,
           349,
           30,
           101,
           50,
           173,
           161,
           238,
           237,
           235,
           120,
           5,
           4,
           7,
           2,
           5,
           3,
           62,
           42,
           58,
           39,
           48,
           24,
           29,
           20,
           27,
           19,
           17,
           11
          ]
         },
         "node": {
          "color": [
           "#EE6363",
           "#68838B",
           "#8B5F65",
           "#8470FF",
           "#800000",
           "#800000",
           "#800000",
           "#800000",
           "#CD6889",
           "#CD6889",
           "#CD6889",
           "#CD6889",
           "#CD6889",
           "#CD6889"
          ],
          "label": [
           "Data Scientist",
           "Data Analyst",
           "Research Scientist",
           "Machine Learning Engineer",
           "Models in Production",
           "Not Started",
           "Exploration Stage",
           "Generating Insights",
           "Analyze and Understand Data",
           "Build and run data infrastructure",
           "Create ML to explore new areas",
           "Build and run ML",
           "Improve ML Models",
           "Research to advance the state of ML"
          ],
          "line": {
           "color": "#CDAD00",
           "width": 0.8
          },
          "pad": 15,
          "thickness": 25
         },
         "type": "sankey"
        }
       ],
       "layout": {
        "font": {
         "color": "#000000"
        },
        "template": {
         "data": {
          "bar": [
           {
            "error_x": {
             "color": "#2a3f5f"
            },
            "error_y": {
             "color": "#2a3f5f"
            },
            "marker": {
             "line": {
              "color": "#E5ECF6",
              "width": 0.5
             },
             "pattern": {
              "fillmode": "overlay",
              "size": 10,
              "solidity": 0.2
             }
            },
            "type": "bar"
           }
          ],
          "barpolar": [
           {
            "marker": {
             "line": {
              "color": "#E5ECF6",
              "width": 0.5
             },
             "pattern": {
              "fillmode": "overlay",
              "size": 10,
              "solidity": 0.2
             }
            },
            "type": "barpolar"
           }
          ],
          "carpet": [
           {
            "aaxis": {
             "endlinecolor": "#2a3f5f",
             "gridcolor": "white",
             "linecolor": "white",
             "minorgridcolor": "white",
             "startlinecolor": "#2a3f5f"
            },
            "baxis": {
             "endlinecolor": "#2a3f5f",
             "gridcolor": "white",
             "linecolor": "white",
             "minorgridcolor": "white",
             "startlinecolor": "#2a3f5f"
            },
            "type": "carpet"
           }
          ],
          "choropleth": [
           {
            "colorbar": {
             "outlinewidth": 0,
             "ticks": ""
            },
            "type": "choropleth"
           }
          ],
          "contour": [
           {
            "colorbar": {
             "outlinewidth": 0,
             "ticks": ""
            },
            "colorscale": [
             [
              0,
              "#0d0887"
             ],
             [
              0.1111111111111111,
              "#46039f"
             ],
             [
              0.2222222222222222,
              "#7201a8"
             ],
             [
              0.3333333333333333,
              "#9c179e"
             ],
             [
              0.4444444444444444,
              "#bd3786"
             ],
             [
              0.5555555555555556,
              "#d8576b"
             ],
             [
              0.6666666666666666,
              "#ed7953"
             ],
             [
              0.7777777777777778,
              "#fb9f3a"
             ],
             [
              0.8888888888888888,
              "#fdca26"
             ],
             [
              1,
              "#f0f921"
             ]
            ],
            "type": "contour"
           }
          ],
          "contourcarpet": [
           {
            "colorbar": {
             "outlinewidth": 0,
             "ticks": ""
            },
            "type": "contourcarpet"
           }
          ],
          "heatmap": [
           {
            "colorbar": {
             "outlinewidth": 0,
             "ticks": ""
            },
            "colorscale": [
             [
              0,
              "#0d0887"
             ],
             [
              0.1111111111111111,
              "#46039f"
             ],
             [
              0.2222222222222222,
              "#7201a8"
             ],
             [
              0.3333333333333333,
              "#9c179e"
             ],
             [
              0.4444444444444444,
              "#bd3786"
             ],
             [
              0.5555555555555556,
              "#d8576b"
             ],
             [
              0.6666666666666666,
              "#ed7953"
             ],
             [
              0.7777777777777778,
              "#fb9f3a"
             ],
             [
              0.8888888888888888,
              "#fdca26"
             ],
             [
              1,
              "#f0f921"
             ]
            ],
            "type": "heatmap"
           }
          ],
          "heatmapgl": [
           {
            "colorbar": {
             "outlinewidth": 0,
             "ticks": ""
            },
            "colorscale": [
             [
              0,
              "#0d0887"
             ],
             [
              0.1111111111111111,
              "#46039f"
             ],
             [
              0.2222222222222222,
              "#7201a8"
             ],
             [
              0.3333333333333333,
              "#9c179e"
             ],
             [
              0.4444444444444444,
              "#bd3786"
             ],
             [
              0.5555555555555556,
              "#d8576b"
             ],
             [
              0.6666666666666666,
              "#ed7953"
             ],
             [
              0.7777777777777778,
              "#fb9f3a"
             ],
             [
              0.8888888888888888,
              "#fdca26"
             ],
             [
              1,
              "#f0f921"
             ]
            ],
            "type": "heatmapgl"
           }
          ],
          "histogram": [
           {
            "marker": {
             "pattern": {
              "fillmode": "overlay",
              "size": 10,
              "solidity": 0.2
             }
            },
            "type": "histogram"
           }
          ],
          "histogram2d": [
           {
            "colorbar": {
             "outlinewidth": 0,
             "ticks": ""
            },
            "colorscale": [
             [
              0,
              "#0d0887"
             ],
             [
              0.1111111111111111,
              "#46039f"
             ],
             [
              0.2222222222222222,
              "#7201a8"
             ],
             [
              0.3333333333333333,
              "#9c179e"
             ],
             [
              0.4444444444444444,
              "#bd3786"
             ],
             [
              0.5555555555555556,
              "#d8576b"
             ],
             [
              0.6666666666666666,
              "#ed7953"
             ],
             [
              0.7777777777777778,
              "#fb9f3a"
             ],
             [
              0.8888888888888888,
              "#fdca26"
             ],
             [
              1,
              "#f0f921"
             ]
            ],
            "type": "histogram2d"
           }
          ],
          "histogram2dcontour": [
           {
            "colorbar": {
             "outlinewidth": 0,
             "ticks": ""
            },
            "colorscale": [
             [
              0,
              "#0d0887"
             ],
             [
              0.1111111111111111,
              "#46039f"
             ],
             [
              0.2222222222222222,
              "#7201a8"
             ],
             [
              0.3333333333333333,
              "#9c179e"
             ],
             [
              0.4444444444444444,
              "#bd3786"
             ],
             [
              0.5555555555555556,
              "#d8576b"
             ],
             [
              0.6666666666666666,
              "#ed7953"
             ],
             [
              0.7777777777777778,
              "#fb9f3a"
             ],
             [
              0.8888888888888888,
              "#fdca26"
             ],
             [
              1,
              "#f0f921"
             ]
            ],
            "type": "histogram2dcontour"
           }
          ],
          "mesh3d": [
           {
            "colorbar": {
             "outlinewidth": 0,
             "ticks": ""
            },
            "type": "mesh3d"
           }
          ],
          "parcoords": [
           {
            "line": {
             "colorbar": {
              "outlinewidth": 0,
              "ticks": ""
             }
            },
            "type": "parcoords"
           }
          ],
          "pie": [
           {
            "automargin": true,
            "type": "pie"
           }
          ],
          "scatter": [
           {
            "fillpattern": {
             "fillmode": "overlay",
             "size": 10,
             "solidity": 0.2
            },
            "type": "scatter"
           }
          ],
          "scatter3d": [
           {
            "line": {
             "colorbar": {
              "outlinewidth": 0,
              "ticks": ""
             }
            },
            "marker": {
             "colorbar": {
              "outlinewidth": 0,
              "ticks": ""
             }
            },
            "type": "scatter3d"
           }
          ],
          "scattercarpet": [
           {
            "marker": {
             "colorbar": {
              "outlinewidth": 0,
              "ticks": ""
             }
            },
            "type": "scattercarpet"
           }
          ],
          "scattergeo": [
           {
            "marker": {
             "colorbar": {
              "outlinewidth": 0,
              "ticks": ""
             }
            },
            "type": "scattergeo"
           }
          ],
          "scattergl": [
           {
            "marker": {
             "colorbar": {
              "outlinewidth": 0,
              "ticks": ""
             }
            },
            "type": "scattergl"
           }
          ],
          "scattermapbox": [
           {
            "marker": {
             "colorbar": {
              "outlinewidth": 0,
              "ticks": ""
             }
            },
            "type": "scattermapbox"
           }
          ],
          "scatterpolar": [
           {
            "marker": {
             "colorbar": {
              "outlinewidth": 0,
              "ticks": ""
             }
            },
            "type": "scatterpolar"
           }
          ],
          "scatterpolargl": [
           {
            "marker": {
             "colorbar": {
              "outlinewidth": 0,
              "ticks": ""
             }
            },
            "type": "scatterpolargl"
           }
          ],
          "scatterternary": [
           {
            "marker": {
             "colorbar": {
              "outlinewidth": 0,
              "ticks": ""
             }
            },
            "type": "scatterternary"
           }
          ],
          "surface": [
           {
            "colorbar": {
             "outlinewidth": 0,
             "ticks": ""
            },
            "colorscale": [
             [
              0,
              "#0d0887"
             ],
             [
              0.1111111111111111,
              "#46039f"
             ],
             [
              0.2222222222222222,
              "#7201a8"
             ],
             [
              0.3333333333333333,
              "#9c179e"
             ],
             [
              0.4444444444444444,
              "#bd3786"
             ],
             [
              0.5555555555555556,
              "#d8576b"
             ],
             [
              0.6666666666666666,
              "#ed7953"
             ],
             [
              0.7777777777777778,
              "#fb9f3a"
             ],
             [
              0.8888888888888888,
              "#fdca26"
             ],
             [
              1,
              "#f0f921"
             ]
            ],
            "type": "surface"
           }
          ],
          "table": [
           {
            "cells": {
             "fill": {
              "color": "#EBF0F8"
             },
             "line": {
              "color": "white"
             }
            },
            "header": {
             "fill": {
              "color": "#C8D4E3"
             },
             "line": {
              "color": "white"
             }
            },
            "type": "table"
           }
          ]
         },
         "layout": {
          "annotationdefaults": {
           "arrowcolor": "#2a3f5f",
           "arrowhead": 0,
           "arrowwidth": 1
          },
          "autotypenumbers": "strict",
          "coloraxis": {
           "colorbar": {
            "outlinewidth": 0,
            "ticks": ""
           }
          },
          "colorscale": {
           "diverging": [
            [
             0,
             "#8e0152"
            ],
            [
             0.1,
             "#c51b7d"
            ],
            [
             0.2,
             "#de77ae"
            ],
            [
             0.3,
             "#f1b6da"
            ],
            [
             0.4,
             "#fde0ef"
            ],
            [
             0.5,
             "#f7f7f7"
            ],
            [
             0.6,
             "#e6f5d0"
            ],
            [
             0.7,
             "#b8e186"
            ],
            [
             0.8,
             "#7fbc41"
            ],
            [
             0.9,
             "#4d9221"
            ],
            [
             1,
             "#276419"
            ]
           ],
           "sequential": [
            [
             0,
             "#0d0887"
            ],
            [
             0.1111111111111111,
             "#46039f"
            ],
            [
             0.2222222222222222,
             "#7201a8"
            ],
            [
             0.3333333333333333,
             "#9c179e"
            ],
            [
             0.4444444444444444,
             "#bd3786"
            ],
            [
             0.5555555555555556,
             "#d8576b"
            ],
            [
             0.6666666666666666,
             "#ed7953"
            ],
            [
             0.7777777777777778,
             "#fb9f3a"
            ],
            [
             0.8888888888888888,
             "#fdca26"
            ],
            [
             1,
             "#f0f921"
            ]
           ],
           "sequentialminus": [
            [
             0,
             "#0d0887"
            ],
            [
             0.1111111111111111,
             "#46039f"
            ],
            [
             0.2222222222222222,
             "#7201a8"
            ],
            [
             0.3333333333333333,
             "#9c179e"
            ],
            [
             0.4444444444444444,
             "#bd3786"
            ],
            [
             0.5555555555555556,
             "#d8576b"
            ],
            [
             0.6666666666666666,
             "#ed7953"
            ],
            [
             0.7777777777777778,
             "#fb9f3a"
            ],
            [
             0.8888888888888888,
             "#fdca26"
            ],
            [
             1,
             "#f0f921"
            ]
           ]
          },
          "colorway": [
           "#636efa",
           "#EF553B",
           "#00cc96",
           "#ab63fa",
           "#FFA15A",
           "#19d3f3",
           "#FF6692",
           "#B6E880",
           "#FF97FF",
           "#FECB52"
          ],
          "font": {
           "color": "#2a3f5f"
          },
          "geo": {
           "bgcolor": "white",
           "lakecolor": "white",
           "landcolor": "#E5ECF6",
           "showlakes": true,
           "showland": true,
           "subunitcolor": "white"
          },
          "hoverlabel": {
           "align": "left"
          },
          "hovermode": "closest",
          "mapbox": {
           "style": "light"
          },
          "paper_bgcolor": "white",
          "plot_bgcolor": "#E5ECF6",
          "polar": {
           "angularaxis": {
            "gridcolor": "white",
            "linecolor": "white",
            "ticks": ""
           },
           "bgcolor": "#E5ECF6",
           "radialaxis": {
            "gridcolor": "white",
            "linecolor": "white",
            "ticks": ""
           }
          },
          "scene": {
           "xaxis": {
            "backgroundcolor": "#E5ECF6",
            "gridcolor": "white",
            "gridwidth": 2,
            "linecolor": "white",
            "showbackground": true,
            "ticks": "",
            "zerolinecolor": "white"
           },
           "yaxis": {
            "backgroundcolor": "#E5ECF6",
            "gridcolor": "white",
            "gridwidth": 2,
            "linecolor": "white",
            "showbackground": true,
            "ticks": "",
            "zerolinecolor": "white"
           },
           "zaxis": {
            "backgroundcolor": "#E5ECF6",
            "gridcolor": "white",
            "gridwidth": 2,
            "linecolor": "white",
            "showbackground": true,
            "ticks": "",
            "zerolinecolor": "white"
           }
          },
          "shapedefaults": {
           "line": {
            "color": "#2a3f5f"
           }
          },
          "ternary": {
           "aaxis": {
            "gridcolor": "white",
            "linecolor": "white",
            "ticks": ""
           },
           "baxis": {
            "gridcolor": "white",
            "linecolor": "white",
            "ticks": ""
           },
           "bgcolor": "#E5ECF6",
           "caxis": {
            "gridcolor": "white",
            "linecolor": "white",
            "ticks": ""
           }
          },
          "title": {
           "x": 0.05
          },
          "xaxis": {
           "automargin": true,
           "gridcolor": "white",
           "linecolor": "white",
           "ticks": "",
           "title": {
            "standoff": 15
           },
           "zerolinecolor": "white",
           "zerolinewidth": 2
          },
          "yaxis": {
           "automargin": true,
           "gridcolor": "white",
           "linecolor": "white",
           "ticks": "",
           "title": {
            "standoff": 15
           },
           "zerolinecolor": "white",
           "zerolinewidth": 2
          }
         }
        }
       }
      },
      "text/html": [
       "<div>                            <div id=\"c9120acd-b978-4fd7-9381-60dd420b3f94\" class=\"plotly-graph-div\" style=\"height:525px; width:100%;\"></div>            <script type=\"text/javascript\">                require([\"plotly\"], function(Plotly) {                    window.PLOTLYENV=window.PLOTLYENV || {};                                    if (document.getElementById(\"c9120acd-b978-4fd7-9381-60dd420b3f94\")) {                    Plotly.newPlot(                        \"c9120acd-b978-4fd7-9381-60dd420b3f94\",                        [{\"link\":{\"source\":[0,0,0,0,4,4,4,4,4,4,5,5,5,5,5,5,6,6,6,6,6,6,7,7,7,7,7,7,1,1,1,1,4,4,4,4,4,4,5,5,5,5,5,5,6,6,6,6,6,6,7,7,7,7,7,7,2,2,2,2,4,4,4,4,4,4,5,5,5,5,5,5,6,6,6,6,6,6,7,7,7,7,7,7,3,3,3,3,4,4,4,4,4,4,5,5,5,5,5,5,6,6,6,6,6,6,7,7,7,7,7,7],\"target\":[4,5,6,7,8,9,10,11,12,13,8,9,10,11,12,13,8,9,10,11,12,13,8,9,10,11,12,13,4,5,6,7,8,9,10,11,12,13,8,9,10,11,12,13,8,9,10,11,12,13,8,9,10,11,12,13,4,5,6,7,8,9,10,11,12,13,8,9,10,11,12,13,8,9,10,11,12,13,8,9,10,11,12,13,4,5,6,7,8,9,10,11,12,13,8,9,10,11,12,13,8,9,10,11,12,13,8,9,10,11,12,13],\"value\":[1053,139,275,264,830,447,765,608,707,288,63,38,28,24,24,20,195,118,134,87,81,62,200,106,151,101,105,59,278,421,339,175,240,104,88,69,58,37,322,107,21,14,9,15,296,120,72,46,35,44,145,75,47,28,26,27,216,84,116,71,107,63,138,82,129,121,43,10,20,6,12,15,69,35,56,26,39,48,47,23,43,15,28,27,349,30,101,50,173,161,238,237,235,120,5,4,7,2,5,3,62,42,58,39,48,24,29,20,27,19,17,11]},\"node\":{\"color\":[\"#EE6363\",\"#68838B\",\"#8B5F65\",\"#8470FF\",\"#800000\",\"#800000\",\"#800000\",\"#800000\",\"#CD6889\",\"#CD6889\",\"#CD6889\",\"#CD6889\",\"#CD6889\",\"#CD6889\"],\"label\":[\"Data Scientist\",\"Data Analyst\",\"Research Scientist\",\"Machine Learning Engineer\",\"Models in Production\",\"Not Started\",\"Exploration Stage\",\"Generating Insights\",\"Analyze and Understand Data\",\"Build and run data infrastructure\",\"Create ML to explore new areas\",\"Build and run ML\",\"Improve ML Models\",\"Research to advance the state of ML\"],\"line\":{\"color\":\"#CDAD00\",\"width\":0.8},\"pad\":15,\"thickness\":25},\"type\":\"sankey\"}],                        {\"template\":{\"data\":{\"histogram2dcontour\":[{\"type\":\"histogram2dcontour\",\"colorbar\":{\"outlinewidth\":0,\"ticks\":\"\"},\"colorscale\":[[0.0,\"#0d0887\"],[0.1111111111111111,\"#46039f\"],[0.2222222222222222,\"#7201a8\"],[0.3333333333333333,\"#9c179e\"],[0.4444444444444444,\"#bd3786\"],[0.5555555555555556,\"#d8576b\"],[0.6666666666666666,\"#ed7953\"],[0.7777777777777778,\"#fb9f3a\"],[0.8888888888888888,\"#fdca26\"],[1.0,\"#f0f921\"]]}],\"choropleth\":[{\"type\":\"choropleth\",\"colorbar\":{\"outlinewidth\":0,\"ticks\":\"\"}}],\"histogram2d\":[{\"type\":\"histogram2d\",\"colorbar\":{\"outlinewidth\":0,\"ticks\":\"\"},\"colorscale\":[[0.0,\"#0d0887\"],[0.1111111111111111,\"#46039f\"],[0.2222222222222222,\"#7201a8\"],[0.3333333333333333,\"#9c179e\"],[0.4444444444444444,\"#bd3786\"],[0.5555555555555556,\"#d8576b\"],[0.6666666666666666,\"#ed7953\"],[0.7777777777777778,\"#fb9f3a\"],[0.8888888888888888,\"#fdca26\"],[1.0,\"#f0f921\"]]}],\"heatmap\":[{\"type\":\"heatmap\",\"colorbar\":{\"outlinewidth\":0,\"ticks\":\"\"},\"colorscale\":[[0.0,\"#0d0887\"],[0.1111111111111111,\"#46039f\"],[0.2222222222222222,\"#7201a8\"],[0.3333333333333333,\"#9c179e\"],[0.4444444444444444,\"#bd3786\"],[0.5555555555555556,\"#d8576b\"],[0.6666666666666666,\"#ed7953\"],[0.7777777777777778,\"#fb9f3a\"],[0.8888888888888888,\"#fdca26\"],[1.0,\"#f0f921\"]]}],\"heatmapgl\":[{\"type\":\"heatmapgl\",\"colorbar\":{\"outlinewidth\":0,\"ticks\":\"\"},\"colorscale\":[[0.0,\"#0d0887\"],[0.1111111111111111,\"#46039f\"],[0.2222222222222222,\"#7201a8\"],[0.3333333333333333,\"#9c179e\"],[0.4444444444444444,\"#bd3786\"],[0.5555555555555556,\"#d8576b\"],[0.6666666666666666,\"#ed7953\"],[0.7777777777777778,\"#fb9f3a\"],[0.8888888888888888,\"#fdca26\"],[1.0,\"#f0f921\"]]}],\"contourcarpet\":[{\"type\":\"contourcarpet\",\"colorbar\":{\"outlinewidth\":0,\"ticks\":\"\"}}],\"contour\":[{\"type\":\"contour\",\"colorbar\":{\"outlinewidth\":0,\"ticks\":\"\"},\"colorscale\":[[0.0,\"#0d0887\"],[0.1111111111111111,\"#46039f\"],[0.2222222222222222,\"#7201a8\"],[0.3333333333333333,\"#9c179e\"],[0.4444444444444444,\"#bd3786\"],[0.5555555555555556,\"#d8576b\"],[0.6666666666666666,\"#ed7953\"],[0.7777777777777778,\"#fb9f3a\"],[0.8888888888888888,\"#fdca26\"],[1.0,\"#f0f921\"]]}],\"surface\":[{\"type\":\"surface\",\"colorbar\":{\"outlinewidth\":0,\"ticks\":\"\"},\"colorscale\":[[0.0,\"#0d0887\"],[0.1111111111111111,\"#46039f\"],[0.2222222222222222,\"#7201a8\"],[0.3333333333333333,\"#9c179e\"],[0.4444444444444444,\"#bd3786\"],[0.5555555555555556,\"#d8576b\"],[0.6666666666666666,\"#ed7953\"],[0.7777777777777778,\"#fb9f3a\"],[0.8888888888888888,\"#fdca26\"],[1.0,\"#f0f921\"]]}],\"mesh3d\":[{\"type\":\"mesh3d\",\"colorbar\":{\"outlinewidth\":0,\"ticks\":\"\"}}],\"scatter\":[{\"fillpattern\":{\"fillmode\":\"overlay\",\"size\":10,\"solidity\":0.2},\"type\":\"scatter\"}],\"parcoords\":[{\"type\":\"parcoords\",\"line\":{\"colorbar\":{\"outlinewidth\":0,\"ticks\":\"\"}}}],\"scatterpolargl\":[{\"type\":\"scatterpolargl\",\"marker\":{\"colorbar\":{\"outlinewidth\":0,\"ticks\":\"\"}}}],\"bar\":[{\"error_x\":{\"color\":\"#2a3f5f\"},\"error_y\":{\"color\":\"#2a3f5f\"},\"marker\":{\"line\":{\"color\":\"#E5ECF6\",\"width\":0.5},\"pattern\":{\"fillmode\":\"overlay\",\"size\":10,\"solidity\":0.2}},\"type\":\"bar\"}],\"scattergeo\":[{\"type\":\"scattergeo\",\"marker\":{\"colorbar\":{\"outlinewidth\":0,\"ticks\":\"\"}}}],\"scatterpolar\":[{\"type\":\"scatterpolar\",\"marker\":{\"colorbar\":{\"outlinewidth\":0,\"ticks\":\"\"}}}],\"histogram\":[{\"marker\":{\"pattern\":{\"fillmode\":\"overlay\",\"size\":10,\"solidity\":0.2}},\"type\":\"histogram\"}],\"scattergl\":[{\"type\":\"scattergl\",\"marker\":{\"colorbar\":{\"outlinewidth\":0,\"ticks\":\"\"}}}],\"scatter3d\":[{\"type\":\"scatter3d\",\"line\":{\"colorbar\":{\"outlinewidth\":0,\"ticks\":\"\"}},\"marker\":{\"colorbar\":{\"outlinewidth\":0,\"ticks\":\"\"}}}],\"scattermapbox\":[{\"type\":\"scattermapbox\",\"marker\":{\"colorbar\":{\"outlinewidth\":0,\"ticks\":\"\"}}}],\"scatterternary\":[{\"type\":\"scatterternary\",\"marker\":{\"colorbar\":{\"outlinewidth\":0,\"ticks\":\"\"}}}],\"scattercarpet\":[{\"type\":\"scattercarpet\",\"marker\":{\"colorbar\":{\"outlinewidth\":0,\"ticks\":\"\"}}}],\"carpet\":[{\"aaxis\":{\"endlinecolor\":\"#2a3f5f\",\"gridcolor\":\"white\",\"linecolor\":\"white\",\"minorgridcolor\":\"white\",\"startlinecolor\":\"#2a3f5f\"},\"baxis\":{\"endlinecolor\":\"#2a3f5f\",\"gridcolor\":\"white\",\"linecolor\":\"white\",\"minorgridcolor\":\"white\",\"startlinecolor\":\"#2a3f5f\"},\"type\":\"carpet\"}],\"table\":[{\"cells\":{\"fill\":{\"color\":\"#EBF0F8\"},\"line\":{\"color\":\"white\"}},\"header\":{\"fill\":{\"color\":\"#C8D4E3\"},\"line\":{\"color\":\"white\"}},\"type\":\"table\"}],\"barpolar\":[{\"marker\":{\"line\":{\"color\":\"#E5ECF6\",\"width\":0.5},\"pattern\":{\"fillmode\":\"overlay\",\"size\":10,\"solidity\":0.2}},\"type\":\"barpolar\"}],\"pie\":[{\"automargin\":true,\"type\":\"pie\"}]},\"layout\":{\"autotypenumbers\":\"strict\",\"colorway\":[\"#636efa\",\"#EF553B\",\"#00cc96\",\"#ab63fa\",\"#FFA15A\",\"#19d3f3\",\"#FF6692\",\"#B6E880\",\"#FF97FF\",\"#FECB52\"],\"font\":{\"color\":\"#2a3f5f\"},\"hovermode\":\"closest\",\"hoverlabel\":{\"align\":\"left\"},\"paper_bgcolor\":\"white\",\"plot_bgcolor\":\"#E5ECF6\",\"polar\":{\"bgcolor\":\"#E5ECF6\",\"angularaxis\":{\"gridcolor\":\"white\",\"linecolor\":\"white\",\"ticks\":\"\"},\"radialaxis\":{\"gridcolor\":\"white\",\"linecolor\":\"white\",\"ticks\":\"\"}},\"ternary\":{\"bgcolor\":\"#E5ECF6\",\"aaxis\":{\"gridcolor\":\"white\",\"linecolor\":\"white\",\"ticks\":\"\"},\"baxis\":{\"gridcolor\":\"white\",\"linecolor\":\"white\",\"ticks\":\"\"},\"caxis\":{\"gridcolor\":\"white\",\"linecolor\":\"white\",\"ticks\":\"\"}},\"coloraxis\":{\"colorbar\":{\"outlinewidth\":0,\"ticks\":\"\"}},\"colorscale\":{\"sequential\":[[0.0,\"#0d0887\"],[0.1111111111111111,\"#46039f\"],[0.2222222222222222,\"#7201a8\"],[0.3333333333333333,\"#9c179e\"],[0.4444444444444444,\"#bd3786\"],[0.5555555555555556,\"#d8576b\"],[0.6666666666666666,\"#ed7953\"],[0.7777777777777778,\"#fb9f3a\"],[0.8888888888888888,\"#fdca26\"],[1.0,\"#f0f921\"]],\"sequentialminus\":[[0.0,\"#0d0887\"],[0.1111111111111111,\"#46039f\"],[0.2222222222222222,\"#7201a8\"],[0.3333333333333333,\"#9c179e\"],[0.4444444444444444,\"#bd3786\"],[0.5555555555555556,\"#d8576b\"],[0.6666666666666666,\"#ed7953\"],[0.7777777777777778,\"#fb9f3a\"],[0.8888888888888888,\"#fdca26\"],[1.0,\"#f0f921\"]],\"diverging\":[[0,\"#8e0152\"],[0.1,\"#c51b7d\"],[0.2,\"#de77ae\"],[0.3,\"#f1b6da\"],[0.4,\"#fde0ef\"],[0.5,\"#f7f7f7\"],[0.6,\"#e6f5d0\"],[0.7,\"#b8e186\"],[0.8,\"#7fbc41\"],[0.9,\"#4d9221\"],[1,\"#276419\"]]},\"xaxis\":{\"gridcolor\":\"white\",\"linecolor\":\"white\",\"ticks\":\"\",\"title\":{\"standoff\":15},\"zerolinecolor\":\"white\",\"automargin\":true,\"zerolinewidth\":2},\"yaxis\":{\"gridcolor\":\"white\",\"linecolor\":\"white\",\"ticks\":\"\",\"title\":{\"standoff\":15},\"zerolinecolor\":\"white\",\"automargin\":true,\"zerolinewidth\":2},\"scene\":{\"xaxis\":{\"backgroundcolor\":\"#E5ECF6\",\"gridcolor\":\"white\",\"linecolor\":\"white\",\"showbackground\":true,\"ticks\":\"\",\"zerolinecolor\":\"white\",\"gridwidth\":2},\"yaxis\":{\"backgroundcolor\":\"#E5ECF6\",\"gridcolor\":\"white\",\"linecolor\":\"white\",\"showbackground\":true,\"ticks\":\"\",\"zerolinecolor\":\"white\",\"gridwidth\":2},\"zaxis\":{\"backgroundcolor\":\"#E5ECF6\",\"gridcolor\":\"white\",\"linecolor\":\"white\",\"showbackground\":true,\"ticks\":\"\",\"zerolinecolor\":\"white\",\"gridwidth\":2}},\"shapedefaults\":{\"line\":{\"color\":\"#2a3f5f\"}},\"annotationdefaults\":{\"arrowcolor\":\"#2a3f5f\",\"arrowhead\":0,\"arrowwidth\":1},\"geo\":{\"bgcolor\":\"white\",\"landcolor\":\"#E5ECF6\",\"subunitcolor\":\"white\",\"showland\":true,\"showlakes\":true,\"lakecolor\":\"white\"},\"title\":{\"x\":0.05},\"mapbox\":{\"style\":\"light\"}}},\"font\":{\"color\":\"#000000\"}},                        {\"responsive\": true}                    ).then(function(){\n",
       "                            \n",
       "var gd = document.getElementById('c9120acd-b978-4fd7-9381-60dd420b3f94');\n",
       "var x = new MutationObserver(function (mutations, observer) {{\n",
       "        var display = window.getComputedStyle(gd).display;\n",
       "        if (!display || display === 'none') {{\n",
       "            console.log([gd, 'removed!']);\n",
       "            Plotly.purge(gd);\n",
       "            observer.disconnect();\n",
       "        }}\n",
       "}});\n",
       "\n",
       "// Listen for the removal of the full notebook cells\n",
       "var notebookContainer = gd.closest('#notebook-container');\n",
       "if (notebookContainer) {{\n",
       "    x.observe(notebookContainer, {childList: true});\n",
       "}}\n",
       "\n",
       "// Listen for the clearing of the current output cell\n",
       "var outputEl = gd.closest('.output');\n",
       "if (outputEl) {{\n",
       "    x.observe(outputEl, {childList: true});\n",
       "}}\n",
       "\n",
       "                        })                };                });            </script>        </div>"
      ]
     },
     "metadata": {},
     "output_type": "display_data"
    }
   ],
   "source": [
    "# SANKEY GRAPH\n",
    "\n",
    "jobs_in_scope = [\n",
    "    \"Data Scientist\",\n",
    "    \"Data Analyst (Business, Marketing, Financial, Quantitative, etc)\",\n",
    "    \"Research Scientist\",\n",
    "    \"Machine Learning/ MLops Engineer\"\n",
    "]\n",
    "\n",
    "models_in_scope = [\n",
    "    \"Models in Production\",\n",
    "    \"Not Started\",\n",
    "    \"Exploration Stage\",\n",
    "    \"Generating Insights\"\n",
    "\n",
    "]\n",
    "tasks_in_scope = [\n",
    "    \"Q28_1\",\n",
    "    \"Q28_2\",\n",
    "    \"Q28_3\",\n",
    "    \"Q28_4\",\n",
    "    \"Q28_5\",\n",
    "    \"Q28_6\",\n",
    "]\n",
    "\n",
    "label = [\n",
    "    \"Data Scientist\", #0\n",
    "    \"Data Analyst\", #1\n",
    "    \"Research Scientist\", #2\n",
    "    \"Machine Learning Engineer\", #3\n",
    "    \"Models in Production\", #4\n",
    "    \"Not Started\", #5\n",
    "    \"Exploration Stage\", #6\n",
    "    \"Generating Insights\", #7\n",
    "    'Analyze and Understand Data', #8\n",
    "    'Build and run data infrastructure', #9\n",
    "    'Create ML to explore new areas', #10\n",
    "    'Build and run ML', #11\n",
    "    'Improve ML Models', #12 \n",
    "    'Research to advance the state of ML' #13\n",
    "    \n",
    "]\n",
    "source = [0, 0, 0, 0, 4,4,4,4,4,4, 5,5,5,5,5,5, 6,6,6,6,6,6, 7,7,7,7,7,7,  \n",
    "         1, 1, 1, 1, 4,4,4,4,4,4, 5,5,5,5,5,5, 6,6,6,6,6,6, 7,7,7,7,7,7,\n",
    "            2, 2, 2, 2, 4,4,4,4,4,4, 5,5,5,5,5,5, 6,6,6,6,6,6, 7,7,7,7,7,7,\n",
    "          3,3,3,3, 4,4,4,4,4,4, 5,5,5,5,5,5, 6,6,6,6,6,6, 7,7,7,7,7,7,\n",
    "         ]\n",
    "target = [4, 5, 6, 7,  8,9,10,11,12,13, 8,9,10,11,12,13, 8,9,10,11,12,13, 8,9,10,11,12,13, \n",
    "          4, 5, 6, 7,  8,9,10,11,12,13, 8,9,10,11,12,13, 8,9,10,11,12,13, 8,9,10,11,12,13, \n",
    "          4, 5, 6, 7,  8,9,10,11,12,13, 8,9,10,11,12,13, 8,9,10,11,12,13, 8,9,10,11,12,13, \n",
    "          4, 5, 6, 7,  8,9,10,11,12,13, 8,9,10,11,12,13, 8,9,10,11,12,13, 8,9,10,11,12,13, ]\n",
    "value = []\n",
    "for job in jobs_in_scope:\n",
    "    for model in models_in_scope:\n",
    "        value.append(\n",
    "            scope_df[\n",
    "                (scope_df[\"Q23\"] == job) &\n",
    "                (scope_df[\"ML_adoption_class\"] == model)\n",
    "            ].shape[0])\n",
    "    for model in models_in_scope:\n",
    "        for col in tasks_in_scope:\n",
    "        \n",
    "            value.append(\n",
    "               scope_df[\n",
    "                (scope_df[\"Q23\"] == job) &\n",
    "                (scope_df[\"ML_adoption_class\"] == model)\n",
    "            ][col].count())\n",
    "        \n",
    "\n",
    "        \n",
    "# Colors\n",
    "color_node = [\"#EE6363\", \"#68838B\",  \"#8B5F65\", \"#8470FF\"] + [\"#800000\"]*4 + [\"#CD6889\"]*6 \n",
    "\n",
    "\n",
    "color_link = [\"#458B74\"]*4 + [\"#A52A2A\"]*24 +[\"#8EE5EE\"]*4 +[\"#DC143C\"]*24 + [\"#68228B\"] * 4 + [\"#528B8B\"]*24 + [\"#B22222\"] * 4 + [\"pink\"]*24 \n",
    " \n",
    "fig = go.Figure(data=[go.Sankey(\n",
    "    node = dict(\n",
    "      pad = 15,\n",
    "      thickness = 25,\n",
    "      line = dict(color = \"#CDAD00\", width = 0.8),\n",
    "      label = label,\n",
    "     color=color_node,\n",
    "        \n",
    "        \n",
    "    ),\n",
    "    link = dict(\n",
    "      source = source, # indices correspond to labels, eg A1, A2, A1, B1, ...\n",
    "      target = target,\n",
    "      value = value,\n",
    "       # color = color_link\n",
    "  ))])\n",
    "\n",
    "\n",
    "# title format\n",
    "large_title_format = \"<span style='font-size:80px; font-family:MS Sans Serif'>Tasks among ML and Data Science Roles</span>\"\n",
    "\n",
    "layout = dict(\n",
    "    \n",
    "    font = dict(color = '#000000'),\n",
    "\n",
    ")\n",
    "\n",
    "fig.update_layout(layout)\n",
    "fig.show()"
   ]
  },
  {
   "cell_type": "code",
   "execution_count": 87,
   "id": "64d7bcbb",
   "metadata": {},
   "outputs": [
    {
     "data": {
      "application/vnd.plotly.v1+json": {
       "config": {
        "plotlyServerURL": "https://plot.ly"
       },
       "data": [
        {
         "colorscale": [
          [
           0,
           "#440154"
          ],
          [
           0.1111111111111111,
           "#482878"
          ],
          [
           0.2222222222222222,
           "#3e4989"
          ],
          [
           0.3333333333333333,
           "#31688e"
          ],
          [
           0.4444444444444444,
           "#26828e"
          ],
          [
           0.5555555555555556,
           "#1f9e89"
          ],
          [
           0.6666666666666666,
           "#35b779"
          ],
          [
           0.7777777777777778,
           "#6ece58"
          ],
          [
           0.8888888888888888,
           "#b5de2b"
          ],
          [
           1,
           "#fde725"
          ]
         ],
         "reversescale": false,
         "showscale": false,
         "type": "heatmap",
         "x": [
          "1. 0 years",
          "2. < 1 years",
          "3. 1-2 years",
          "4. 2-3 years",
          "5. 3-4 years",
          "6. 4-5 years",
          "7. 5-10 years",
          "8. 10-20 years"
         ],
         "y": [
          "Do research that advances <br> the state of the art of machine learning",
          "Experimentation and iteration<br> to improve existing ML models",
          "Build and/or run a machine learning <br>service that operationally improves my product or workflows",
          "Build prototypes to explore <br>applying machine learning to new areas",
          "Build and/or run the data infrastructure that my<br> business uses for storing, analyzing, and operationalizing data",
          "Analyze and understand data to <br>influence product or business decisions"
         ],
         "z": [
          [
           0.05,
           0.11,
           0.19,
           0.22,
           0.27,
           0.29,
           0.32,
           0.43
          ],
          [
           0.04,
           0.12,
           0.23,
           0.31,
           0.44,
           0.47,
           0.56,
           0.57
          ],
          [
           0.05,
           0.11,
           0.25,
           0.31,
           0.4,
           0.41,
           0.47,
           0.42
          ],
          [
           0.07,
           0.17,
           0.33,
           0.46,
           0.53,
           0.58,
           0.67,
           0.65
          ],
          [
           0.23,
           0.22,
           0.33,
           0.35,
           0.34,
           0.37,
           0.39,
           0.36
          ],
          [
           0.5,
           0.48,
           0.57,
           0.59,
           0.61,
           0.61,
           0.65,
           0.63
          ]
         ]
        }
       ],
       "layout": {
        "annotations": [
         {
          "font": {
           "color": "#FFFFFF"
          },
          "showarrow": false,
          "text": "0.05",
          "x": "1. 0 years",
          "xref": "x",
          "y": "Do research that advances <br> the state of the art of machine learning",
          "yref": "y"
         },
         {
          "font": {
           "color": "#FFFFFF"
          },
          "showarrow": false,
          "text": "0.11",
          "x": "2. < 1 years",
          "xref": "x",
          "y": "Do research that advances <br> the state of the art of machine learning",
          "yref": "y"
         },
         {
          "font": {
           "color": "#FFFFFF"
          },
          "showarrow": false,
          "text": "0.19",
          "x": "3. 1-2 years",
          "xref": "x",
          "y": "Do research that advances <br> the state of the art of machine learning",
          "yref": "y"
         },
         {
          "font": {
           "color": "#FFFFFF"
          },
          "showarrow": false,
          "text": "0.22",
          "x": "4. 2-3 years",
          "xref": "x",
          "y": "Do research that advances <br> the state of the art of machine learning",
          "yref": "y"
         },
         {
          "font": {
           "color": "#FFFFFF"
          },
          "showarrow": false,
          "text": "0.27",
          "x": "5. 3-4 years",
          "xref": "x",
          "y": "Do research that advances <br> the state of the art of machine learning",
          "yref": "y"
         },
         {
          "font": {
           "color": "#FFFFFF"
          },
          "showarrow": false,
          "text": "0.29",
          "x": "6. 4-5 years",
          "xref": "x",
          "y": "Do research that advances <br> the state of the art of machine learning",
          "yref": "y"
         },
         {
          "font": {
           "color": "#FFFFFF"
          },
          "showarrow": false,
          "text": "0.32",
          "x": "7. 5-10 years",
          "xref": "x",
          "y": "Do research that advances <br> the state of the art of machine learning",
          "yref": "y"
         },
         {
          "font": {
           "color": "#000000"
          },
          "showarrow": false,
          "text": "0.43",
          "x": "8. 10-20 years",
          "xref": "x",
          "y": "Do research that advances <br> the state of the art of machine learning",
          "yref": "y"
         },
         {
          "font": {
           "color": "#FFFFFF"
          },
          "showarrow": false,
          "text": "0.04",
          "x": "1. 0 years",
          "xref": "x",
          "y": "Experimentation and iteration<br> to improve existing ML models",
          "yref": "y"
         },
         {
          "font": {
           "color": "#FFFFFF"
          },
          "showarrow": false,
          "text": "0.12",
          "x": "2. < 1 years",
          "xref": "x",
          "y": "Experimentation and iteration<br> to improve existing ML models",
          "yref": "y"
         },
         {
          "font": {
           "color": "#FFFFFF"
          },
          "showarrow": false,
          "text": "0.23",
          "x": "3. 1-2 years",
          "xref": "x",
          "y": "Experimentation and iteration<br> to improve existing ML models",
          "yref": "y"
         },
         {
          "font": {
           "color": "#FFFFFF"
          },
          "showarrow": false,
          "text": "0.31",
          "x": "4. 2-3 years",
          "xref": "x",
          "y": "Experimentation and iteration<br> to improve existing ML models",
          "yref": "y"
         },
         {
          "font": {
           "color": "#000000"
          },
          "showarrow": false,
          "text": "0.44",
          "x": "5. 3-4 years",
          "xref": "x",
          "y": "Experimentation and iteration<br> to improve existing ML models",
          "yref": "y"
         },
         {
          "font": {
           "color": "#000000"
          },
          "showarrow": false,
          "text": "0.47",
          "x": "6. 4-5 years",
          "xref": "x",
          "y": "Experimentation and iteration<br> to improve existing ML models",
          "yref": "y"
         },
         {
          "font": {
           "color": "#000000"
          },
          "showarrow": false,
          "text": "0.56",
          "x": "7. 5-10 years",
          "xref": "x",
          "y": "Experimentation and iteration<br> to improve existing ML models",
          "yref": "y"
         },
         {
          "font": {
           "color": "#000000"
          },
          "showarrow": false,
          "text": "0.57",
          "x": "8. 10-20 years",
          "xref": "x",
          "y": "Experimentation and iteration<br> to improve existing ML models",
          "yref": "y"
         },
         {
          "font": {
           "color": "#FFFFFF"
          },
          "showarrow": false,
          "text": "0.05",
          "x": "1. 0 years",
          "xref": "x",
          "y": "Build and/or run a machine learning <br>service that operationally improves my product or workflows",
          "yref": "y"
         },
         {
          "font": {
           "color": "#FFFFFF"
          },
          "showarrow": false,
          "text": "0.11",
          "x": "2. < 1 years",
          "xref": "x",
          "y": "Build and/or run a machine learning <br>service that operationally improves my product or workflows",
          "yref": "y"
         },
         {
          "font": {
           "color": "#FFFFFF"
          },
          "showarrow": false,
          "text": "0.25",
          "x": "3. 1-2 years",
          "xref": "x",
          "y": "Build and/or run a machine learning <br>service that operationally improves my product or workflows",
          "yref": "y"
         },
         {
          "font": {
           "color": "#FFFFFF"
          },
          "showarrow": false,
          "text": "0.31",
          "x": "4. 2-3 years",
          "xref": "x",
          "y": "Build and/or run a machine learning <br>service that operationally improves my product or workflows",
          "yref": "y"
         },
         {
          "font": {
           "color": "#000000"
          },
          "showarrow": false,
          "text": "0.4",
          "x": "5. 3-4 years",
          "xref": "x",
          "y": "Build and/or run a machine learning <br>service that operationally improves my product or workflows",
          "yref": "y"
         },
         {
          "font": {
           "color": "#000000"
          },
          "showarrow": false,
          "text": "0.41",
          "x": "6. 4-5 years",
          "xref": "x",
          "y": "Build and/or run a machine learning <br>service that operationally improves my product or workflows",
          "yref": "y"
         },
         {
          "font": {
           "color": "#000000"
          },
          "showarrow": false,
          "text": "0.47",
          "x": "7. 5-10 years",
          "xref": "x",
          "y": "Build and/or run a machine learning <br>service that operationally improves my product or workflows",
          "yref": "y"
         },
         {
          "font": {
           "color": "#000000"
          },
          "showarrow": false,
          "text": "0.42",
          "x": "8. 10-20 years",
          "xref": "x",
          "y": "Build and/or run a machine learning <br>service that operationally improves my product or workflows",
          "yref": "y"
         },
         {
          "font": {
           "color": "#FFFFFF"
          },
          "showarrow": false,
          "text": "0.07",
          "x": "1. 0 years",
          "xref": "x",
          "y": "Build prototypes to explore <br>applying machine learning to new areas",
          "yref": "y"
         },
         {
          "font": {
           "color": "#FFFFFF"
          },
          "showarrow": false,
          "text": "0.17",
          "x": "2. < 1 years",
          "xref": "x",
          "y": "Build prototypes to explore <br>applying machine learning to new areas",
          "yref": "y"
         },
         {
          "font": {
           "color": "#FFFFFF"
          },
          "showarrow": false,
          "text": "0.33",
          "x": "3. 1-2 years",
          "xref": "x",
          "y": "Build prototypes to explore <br>applying machine learning to new areas",
          "yref": "y"
         },
         {
          "font": {
           "color": "#000000"
          },
          "showarrow": false,
          "text": "0.46",
          "x": "4. 2-3 years",
          "xref": "x",
          "y": "Build prototypes to explore <br>applying machine learning to new areas",
          "yref": "y"
         },
         {
          "font": {
           "color": "#000000"
          },
          "showarrow": false,
          "text": "0.53",
          "x": "5. 3-4 years",
          "xref": "x",
          "y": "Build prototypes to explore <br>applying machine learning to new areas",
          "yref": "y"
         },
         {
          "font": {
           "color": "#000000"
          },
          "showarrow": false,
          "text": "0.58",
          "x": "6. 4-5 years",
          "xref": "x",
          "y": "Build prototypes to explore <br>applying machine learning to new areas",
          "yref": "y"
         },
         {
          "font": {
           "color": "#000000"
          },
          "showarrow": false,
          "text": "0.67",
          "x": "7. 5-10 years",
          "xref": "x",
          "y": "Build prototypes to explore <br>applying machine learning to new areas",
          "yref": "y"
         },
         {
          "font": {
           "color": "#000000"
          },
          "showarrow": false,
          "text": "0.65",
          "x": "8. 10-20 years",
          "xref": "x",
          "y": "Build prototypes to explore <br>applying machine learning to new areas",
          "yref": "y"
         },
         {
          "font": {
           "color": "#FFFFFF"
          },
          "showarrow": false,
          "text": "0.23",
          "x": "1. 0 years",
          "xref": "x",
          "y": "Build and/or run the data infrastructure that my<br> business uses for storing, analyzing, and operationalizing data",
          "yref": "y"
         },
         {
          "font": {
           "color": "#FFFFFF"
          },
          "showarrow": false,
          "text": "0.22",
          "x": "2. < 1 years",
          "xref": "x",
          "y": "Build and/or run the data infrastructure that my<br> business uses for storing, analyzing, and operationalizing data",
          "yref": "y"
         },
         {
          "font": {
           "color": "#FFFFFF"
          },
          "showarrow": false,
          "text": "0.33",
          "x": "3. 1-2 years",
          "xref": "x",
          "y": "Build and/or run the data infrastructure that my<br> business uses for storing, analyzing, and operationalizing data",
          "yref": "y"
         },
         {
          "font": {
           "color": "#FFFFFF"
          },
          "showarrow": false,
          "text": "0.35",
          "x": "4. 2-3 years",
          "xref": "x",
          "y": "Build and/or run the data infrastructure that my<br> business uses for storing, analyzing, and operationalizing data",
          "yref": "y"
         },
         {
          "font": {
           "color": "#FFFFFF"
          },
          "showarrow": false,
          "text": "0.34",
          "x": "5. 3-4 years",
          "xref": "x",
          "y": "Build and/or run the data infrastructure that my<br> business uses for storing, analyzing, and operationalizing data",
          "yref": "y"
         },
         {
          "font": {
           "color": "#000000"
          },
          "showarrow": false,
          "text": "0.37",
          "x": "6. 4-5 years",
          "xref": "x",
          "y": "Build and/or run the data infrastructure that my<br> business uses for storing, analyzing, and operationalizing data",
          "yref": "y"
         },
         {
          "font": {
           "color": "#000000"
          },
          "showarrow": false,
          "text": "0.39",
          "x": "7. 5-10 years",
          "xref": "x",
          "y": "Build and/or run the data infrastructure that my<br> business uses for storing, analyzing, and operationalizing data",
          "yref": "y"
         },
         {
          "font": {
           "color": "#000000"
          },
          "showarrow": false,
          "text": "0.36",
          "x": "8. 10-20 years",
          "xref": "x",
          "y": "Build and/or run the data infrastructure that my<br> business uses for storing, analyzing, and operationalizing data",
          "yref": "y"
         },
         {
          "font": {
           "color": "#000000"
          },
          "showarrow": false,
          "text": "0.5",
          "x": "1. 0 years",
          "xref": "x",
          "y": "Analyze and understand data to <br>influence product or business decisions",
          "yref": "y"
         },
         {
          "font": {
           "color": "#000000"
          },
          "showarrow": false,
          "text": "0.48",
          "x": "2. < 1 years",
          "xref": "x",
          "y": "Analyze and understand data to <br>influence product or business decisions",
          "yref": "y"
         },
         {
          "font": {
           "color": "#000000"
          },
          "showarrow": false,
          "text": "0.57",
          "x": "3. 1-2 years",
          "xref": "x",
          "y": "Analyze and understand data to <br>influence product or business decisions",
          "yref": "y"
         },
         {
          "font": {
           "color": "#000000"
          },
          "showarrow": false,
          "text": "0.59",
          "x": "4. 2-3 years",
          "xref": "x",
          "y": "Analyze and understand data to <br>influence product or business decisions",
          "yref": "y"
         },
         {
          "font": {
           "color": "#000000"
          },
          "showarrow": false,
          "text": "0.61",
          "x": "5. 3-4 years",
          "xref": "x",
          "y": "Analyze and understand data to <br>influence product or business decisions",
          "yref": "y"
         },
         {
          "font": {
           "color": "#000000"
          },
          "showarrow": false,
          "text": "0.61",
          "x": "6. 4-5 years",
          "xref": "x",
          "y": "Analyze and understand data to <br>influence product or business decisions",
          "yref": "y"
         },
         {
          "font": {
           "color": "#000000"
          },
          "showarrow": false,
          "text": "0.65",
          "x": "7. 5-10 years",
          "xref": "x",
          "y": "Analyze and understand data to <br>influence product or business decisions",
          "yref": "y"
         },
         {
          "font": {
           "color": "#000000"
          },
          "showarrow": false,
          "text": "0.63",
          "x": "8. 10-20 years",
          "xref": "x",
          "y": "Analyze and understand data to <br>influence product or business decisions",
          "yref": "y"
         }
        ],
        "font": {
         "color": "#7b6b59"
        },
        "template": {
         "data": {
          "bar": [
           {
            "error_x": {
             "color": "#2a3f5f"
            },
            "error_y": {
             "color": "#2a3f5f"
            },
            "marker": {
             "line": {
              "color": "#E5ECF6",
              "width": 0.5
             },
             "pattern": {
              "fillmode": "overlay",
              "size": 10,
              "solidity": 0.2
             }
            },
            "type": "bar"
           }
          ],
          "barpolar": [
           {
            "marker": {
             "line": {
              "color": "#E5ECF6",
              "width": 0.5
             },
             "pattern": {
              "fillmode": "overlay",
              "size": 10,
              "solidity": 0.2
             }
            },
            "type": "barpolar"
           }
          ],
          "carpet": [
           {
            "aaxis": {
             "endlinecolor": "#2a3f5f",
             "gridcolor": "white",
             "linecolor": "white",
             "minorgridcolor": "white",
             "startlinecolor": "#2a3f5f"
            },
            "baxis": {
             "endlinecolor": "#2a3f5f",
             "gridcolor": "white",
             "linecolor": "white",
             "minorgridcolor": "white",
             "startlinecolor": "#2a3f5f"
            },
            "type": "carpet"
           }
          ],
          "choropleth": [
           {
            "colorbar": {
             "outlinewidth": 0,
             "ticks": ""
            },
            "type": "choropleth"
           }
          ],
          "contour": [
           {
            "colorbar": {
             "outlinewidth": 0,
             "ticks": ""
            },
            "colorscale": [
             [
              0,
              "#0d0887"
             ],
             [
              0.1111111111111111,
              "#46039f"
             ],
             [
              0.2222222222222222,
              "#7201a8"
             ],
             [
              0.3333333333333333,
              "#9c179e"
             ],
             [
              0.4444444444444444,
              "#bd3786"
             ],
             [
              0.5555555555555556,
              "#d8576b"
             ],
             [
              0.6666666666666666,
              "#ed7953"
             ],
             [
              0.7777777777777778,
              "#fb9f3a"
             ],
             [
              0.8888888888888888,
              "#fdca26"
             ],
             [
              1,
              "#f0f921"
             ]
            ],
            "type": "contour"
           }
          ],
          "contourcarpet": [
           {
            "colorbar": {
             "outlinewidth": 0,
             "ticks": ""
            },
            "type": "contourcarpet"
           }
          ],
          "heatmap": [
           {
            "colorbar": {
             "outlinewidth": 0,
             "ticks": ""
            },
            "colorscale": [
             [
              0,
              "#0d0887"
             ],
             [
              0.1111111111111111,
              "#46039f"
             ],
             [
              0.2222222222222222,
              "#7201a8"
             ],
             [
              0.3333333333333333,
              "#9c179e"
             ],
             [
              0.4444444444444444,
              "#bd3786"
             ],
             [
              0.5555555555555556,
              "#d8576b"
             ],
             [
              0.6666666666666666,
              "#ed7953"
             ],
             [
              0.7777777777777778,
              "#fb9f3a"
             ],
             [
              0.8888888888888888,
              "#fdca26"
             ],
             [
              1,
              "#f0f921"
             ]
            ],
            "type": "heatmap"
           }
          ],
          "heatmapgl": [
           {
            "colorbar": {
             "outlinewidth": 0,
             "ticks": ""
            },
            "colorscale": [
             [
              0,
              "#0d0887"
             ],
             [
              0.1111111111111111,
              "#46039f"
             ],
             [
              0.2222222222222222,
              "#7201a8"
             ],
             [
              0.3333333333333333,
              "#9c179e"
             ],
             [
              0.4444444444444444,
              "#bd3786"
             ],
             [
              0.5555555555555556,
              "#d8576b"
             ],
             [
              0.6666666666666666,
              "#ed7953"
             ],
             [
              0.7777777777777778,
              "#fb9f3a"
             ],
             [
              0.8888888888888888,
              "#fdca26"
             ],
             [
              1,
              "#f0f921"
             ]
            ],
            "type": "heatmapgl"
           }
          ],
          "histogram": [
           {
            "marker": {
             "pattern": {
              "fillmode": "overlay",
              "size": 10,
              "solidity": 0.2
             }
            },
            "type": "histogram"
           }
          ],
          "histogram2d": [
           {
            "colorbar": {
             "outlinewidth": 0,
             "ticks": ""
            },
            "colorscale": [
             [
              0,
              "#0d0887"
             ],
             [
              0.1111111111111111,
              "#46039f"
             ],
             [
              0.2222222222222222,
              "#7201a8"
             ],
             [
              0.3333333333333333,
              "#9c179e"
             ],
             [
              0.4444444444444444,
              "#bd3786"
             ],
             [
              0.5555555555555556,
              "#d8576b"
             ],
             [
              0.6666666666666666,
              "#ed7953"
             ],
             [
              0.7777777777777778,
              "#fb9f3a"
             ],
             [
              0.8888888888888888,
              "#fdca26"
             ],
             [
              1,
              "#f0f921"
             ]
            ],
            "type": "histogram2d"
           }
          ],
          "histogram2dcontour": [
           {
            "colorbar": {
             "outlinewidth": 0,
             "ticks": ""
            },
            "colorscale": [
             [
              0,
              "#0d0887"
             ],
             [
              0.1111111111111111,
              "#46039f"
             ],
             [
              0.2222222222222222,
              "#7201a8"
             ],
             [
              0.3333333333333333,
              "#9c179e"
             ],
             [
              0.4444444444444444,
              "#bd3786"
             ],
             [
              0.5555555555555556,
              "#d8576b"
             ],
             [
              0.6666666666666666,
              "#ed7953"
             ],
             [
              0.7777777777777778,
              "#fb9f3a"
             ],
             [
              0.8888888888888888,
              "#fdca26"
             ],
             [
              1,
              "#f0f921"
             ]
            ],
            "type": "histogram2dcontour"
           }
          ],
          "mesh3d": [
           {
            "colorbar": {
             "outlinewidth": 0,
             "ticks": ""
            },
            "type": "mesh3d"
           }
          ],
          "parcoords": [
           {
            "line": {
             "colorbar": {
              "outlinewidth": 0,
              "ticks": ""
             }
            },
            "type": "parcoords"
           }
          ],
          "pie": [
           {
            "automargin": true,
            "type": "pie"
           }
          ],
          "scatter": [
           {
            "fillpattern": {
             "fillmode": "overlay",
             "size": 10,
             "solidity": 0.2
            },
            "type": "scatter"
           }
          ],
          "scatter3d": [
           {
            "line": {
             "colorbar": {
              "outlinewidth": 0,
              "ticks": ""
             }
            },
            "marker": {
             "colorbar": {
              "outlinewidth": 0,
              "ticks": ""
             }
            },
            "type": "scatter3d"
           }
          ],
          "scattercarpet": [
           {
            "marker": {
             "colorbar": {
              "outlinewidth": 0,
              "ticks": ""
             }
            },
            "type": "scattercarpet"
           }
          ],
          "scattergeo": [
           {
            "marker": {
             "colorbar": {
              "outlinewidth": 0,
              "ticks": ""
             }
            },
            "type": "scattergeo"
           }
          ],
          "scattergl": [
           {
            "marker": {
             "colorbar": {
              "outlinewidth": 0,
              "ticks": ""
             }
            },
            "type": "scattergl"
           }
          ],
          "scattermapbox": [
           {
            "marker": {
             "colorbar": {
              "outlinewidth": 0,
              "ticks": ""
             }
            },
            "type": "scattermapbox"
           }
          ],
          "scatterpolar": [
           {
            "marker": {
             "colorbar": {
              "outlinewidth": 0,
              "ticks": ""
             }
            },
            "type": "scatterpolar"
           }
          ],
          "scatterpolargl": [
           {
            "marker": {
             "colorbar": {
              "outlinewidth": 0,
              "ticks": ""
             }
            },
            "type": "scatterpolargl"
           }
          ],
          "scatterternary": [
           {
            "marker": {
             "colorbar": {
              "outlinewidth": 0,
              "ticks": ""
             }
            },
            "type": "scatterternary"
           }
          ],
          "surface": [
           {
            "colorbar": {
             "outlinewidth": 0,
             "ticks": ""
            },
            "colorscale": [
             [
              0,
              "#0d0887"
             ],
             [
              0.1111111111111111,
              "#46039f"
             ],
             [
              0.2222222222222222,
              "#7201a8"
             ],
             [
              0.3333333333333333,
              "#9c179e"
             ],
             [
              0.4444444444444444,
              "#bd3786"
             ],
             [
              0.5555555555555556,
              "#d8576b"
             ],
             [
              0.6666666666666666,
              "#ed7953"
             ],
             [
              0.7777777777777778,
              "#fb9f3a"
             ],
             [
              0.8888888888888888,
              "#fdca26"
             ],
             [
              1,
              "#f0f921"
             ]
            ],
            "type": "surface"
           }
          ],
          "table": [
           {
            "cells": {
             "fill": {
              "color": "#EBF0F8"
             },
             "line": {
              "color": "white"
             }
            },
            "header": {
             "fill": {
              "color": "#C8D4E3"
             },
             "line": {
              "color": "white"
             }
            },
            "type": "table"
           }
          ]
         },
         "layout": {
          "annotationdefaults": {
           "arrowcolor": "#2a3f5f",
           "arrowhead": 0,
           "arrowwidth": 1
          },
          "autotypenumbers": "strict",
          "coloraxis": {
           "colorbar": {
            "outlinewidth": 0,
            "ticks": ""
           }
          },
          "colorscale": {
           "diverging": [
            [
             0,
             "#8e0152"
            ],
            [
             0.1,
             "#c51b7d"
            ],
            [
             0.2,
             "#de77ae"
            ],
            [
             0.3,
             "#f1b6da"
            ],
            [
             0.4,
             "#fde0ef"
            ],
            [
             0.5,
             "#f7f7f7"
            ],
            [
             0.6,
             "#e6f5d0"
            ],
            [
             0.7,
             "#b8e186"
            ],
            [
             0.8,
             "#7fbc41"
            ],
            [
             0.9,
             "#4d9221"
            ],
            [
             1,
             "#276419"
            ]
           ],
           "sequential": [
            [
             0,
             "#0d0887"
            ],
            [
             0.1111111111111111,
             "#46039f"
            ],
            [
             0.2222222222222222,
             "#7201a8"
            ],
            [
             0.3333333333333333,
             "#9c179e"
            ],
            [
             0.4444444444444444,
             "#bd3786"
            ],
            [
             0.5555555555555556,
             "#d8576b"
            ],
            [
             0.6666666666666666,
             "#ed7953"
            ],
            [
             0.7777777777777778,
             "#fb9f3a"
            ],
            [
             0.8888888888888888,
             "#fdca26"
            ],
            [
             1,
             "#f0f921"
            ]
           ],
           "sequentialminus": [
            [
             0,
             "#0d0887"
            ],
            [
             0.1111111111111111,
             "#46039f"
            ],
            [
             0.2222222222222222,
             "#7201a8"
            ],
            [
             0.3333333333333333,
             "#9c179e"
            ],
            [
             0.4444444444444444,
             "#bd3786"
            ],
            [
             0.5555555555555556,
             "#d8576b"
            ],
            [
             0.6666666666666666,
             "#ed7953"
            ],
            [
             0.7777777777777778,
             "#fb9f3a"
            ],
            [
             0.8888888888888888,
             "#fdca26"
            ],
            [
             1,
             "#f0f921"
            ]
           ]
          },
          "colorway": [
           "#636efa",
           "#EF553B",
           "#00cc96",
           "#ab63fa",
           "#FFA15A",
           "#19d3f3",
           "#FF6692",
           "#B6E880",
           "#FF97FF",
           "#FECB52"
          ],
          "font": {
           "color": "#2a3f5f"
          },
          "geo": {
           "bgcolor": "white",
           "lakecolor": "white",
           "landcolor": "#E5ECF6",
           "showlakes": true,
           "showland": true,
           "subunitcolor": "white"
          },
          "hoverlabel": {
           "align": "left"
          },
          "hovermode": "closest",
          "mapbox": {
           "style": "light"
          },
          "paper_bgcolor": "white",
          "plot_bgcolor": "#E5ECF6",
          "polar": {
           "angularaxis": {
            "gridcolor": "white",
            "linecolor": "white",
            "ticks": ""
           },
           "bgcolor": "#E5ECF6",
           "radialaxis": {
            "gridcolor": "white",
            "linecolor": "white",
            "ticks": ""
           }
          },
          "scene": {
           "xaxis": {
            "backgroundcolor": "#E5ECF6",
            "gridcolor": "white",
            "gridwidth": 2,
            "linecolor": "white",
            "showbackground": true,
            "ticks": "",
            "zerolinecolor": "white"
           },
           "yaxis": {
            "backgroundcolor": "#E5ECF6",
            "gridcolor": "white",
            "gridwidth": 2,
            "linecolor": "white",
            "showbackground": true,
            "ticks": "",
            "zerolinecolor": "white"
           },
           "zaxis": {
            "backgroundcolor": "#E5ECF6",
            "gridcolor": "white",
            "gridwidth": 2,
            "linecolor": "white",
            "showbackground": true,
            "ticks": "",
            "zerolinecolor": "white"
           }
          },
          "shapedefaults": {
           "line": {
            "color": "#2a3f5f"
           }
          },
          "ternary": {
           "aaxis": {
            "gridcolor": "white",
            "linecolor": "white",
            "ticks": ""
           },
           "baxis": {
            "gridcolor": "white",
            "linecolor": "white",
            "ticks": ""
           },
           "bgcolor": "#E5ECF6",
           "caxis": {
            "gridcolor": "white",
            "linecolor": "white",
            "ticks": ""
           }
          },
          "title": {
           "x": 0.05
          },
          "xaxis": {
           "automargin": true,
           "gridcolor": "white",
           "linecolor": "white",
           "ticks": "",
           "title": {
            "standoff": 15
           },
           "zerolinecolor": "white",
           "zerolinewidth": 2
          },
          "yaxis": {
           "automargin": true,
           "gridcolor": "white",
           "linecolor": "white",
           "ticks": "",
           "title": {
            "standoff": 15
           },
           "zerolinecolor": "white",
           "zerolinewidth": 2
          }
         }
        },
        "title": {
         "text": "<span style='font-size:30px; font-family:Times New Roman'>Experience(years) for different responsibilities in Machine Learning domain </span><br><span style='font-size:14px; font-family:Helvetica'>This helps us understand the level of ML experience needed to perform an activity.</b></span>"
        },
        "xaxis": {
         "dtick": 1,
         "gridcolor": "rgb(0, 0, 0)",
         "side": "bottom",
         "ticks": "",
         "title": {
          "text": ""
         }
        },
        "yaxis": {
         "dtick": 1,
         "ticks": "",
         "ticksuffix": "  ",
         "title": {
          "text": ""
         }
        }
       }
      },
      "text/html": [
       "<div>                            <div id=\"b0e6b85f-7798-4d99-837c-4190d6a6e436\" class=\"plotly-graph-div\" style=\"height:525px; width:100%;\"></div>            <script type=\"text/javascript\">                require([\"plotly\"], function(Plotly) {                    window.PLOTLYENV=window.PLOTLYENV || {};                                    if (document.getElementById(\"b0e6b85f-7798-4d99-837c-4190d6a6e436\")) {                    Plotly.newPlot(                        \"b0e6b85f-7798-4d99-837c-4190d6a6e436\",                        [{\"colorscale\":[[0.0,\"#440154\"],[0.1111111111111111,\"#482878\"],[0.2222222222222222,\"#3e4989\"],[0.3333333333333333,\"#31688e\"],[0.4444444444444444,\"#26828e\"],[0.5555555555555556,\"#1f9e89\"],[0.6666666666666666,\"#35b779\"],[0.7777777777777778,\"#6ece58\"],[0.8888888888888888,\"#b5de2b\"],[1.0,\"#fde725\"]],\"reversescale\":false,\"showscale\":false,\"x\":[\"1. 0 years\",\"2. < 1 years\",\"3. 1-2 years\",\"4. 2-3 years\",\"5. 3-4 years\",\"6. 4-5 years\",\"7. 5-10 years\",\"8. 10-20 years\"],\"y\":[\"Do research that advances <br> the state of the art of machine learning\",\"Experimentation and iteration<br> to improve existing ML models\",\"Build and/or run a machine learning <br>service that operationally improves my product or workflows\",\"Build prototypes to explore <br>applying machine learning to new areas\",\"Build and/or run the data infrastructure that my<br> business uses for storing, analyzing, and operationalizing data\",\"Analyze and understand data to <br>influence product or business decisions\"],\"z\":[[0.05,0.11,0.19,0.22,0.27,0.29,0.32,0.43],[0.04,0.12,0.23,0.31,0.44,0.47,0.56,0.57],[0.05,0.11,0.25,0.31,0.4,0.41,0.47,0.42],[0.07,0.17,0.33,0.46,0.53,0.58,0.67,0.65],[0.23,0.22,0.33,0.35,0.34,0.37,0.39,0.36],[0.5,0.48,0.57,0.59,0.61,0.61,0.65,0.63]],\"type\":\"heatmap\"}],                        {\"annotations\":[{\"font\":{\"color\":\"#FFFFFF\"},\"showarrow\":false,\"text\":\"0.05\",\"x\":\"1. 0 years\",\"xref\":\"x\",\"y\":\"Do research that advances <br> the state of the art of machine learning\",\"yref\":\"y\"},{\"font\":{\"color\":\"#FFFFFF\"},\"showarrow\":false,\"text\":\"0.11\",\"x\":\"2. < 1 years\",\"xref\":\"x\",\"y\":\"Do research that advances <br> the state of the art of machine learning\",\"yref\":\"y\"},{\"font\":{\"color\":\"#FFFFFF\"},\"showarrow\":false,\"text\":\"0.19\",\"x\":\"3. 1-2 years\",\"xref\":\"x\",\"y\":\"Do research that advances <br> the state of the art of machine learning\",\"yref\":\"y\"},{\"font\":{\"color\":\"#FFFFFF\"},\"showarrow\":false,\"text\":\"0.22\",\"x\":\"4. 2-3 years\",\"xref\":\"x\",\"y\":\"Do research that advances <br> the state of the art of machine learning\",\"yref\":\"y\"},{\"font\":{\"color\":\"#FFFFFF\"},\"showarrow\":false,\"text\":\"0.27\",\"x\":\"5. 3-4 years\",\"xref\":\"x\",\"y\":\"Do research that advances <br> the state of the art of machine learning\",\"yref\":\"y\"},{\"font\":{\"color\":\"#FFFFFF\"},\"showarrow\":false,\"text\":\"0.29\",\"x\":\"6. 4-5 years\",\"xref\":\"x\",\"y\":\"Do research that advances <br> the state of the art of machine learning\",\"yref\":\"y\"},{\"font\":{\"color\":\"#FFFFFF\"},\"showarrow\":false,\"text\":\"0.32\",\"x\":\"7. 5-10 years\",\"xref\":\"x\",\"y\":\"Do research that advances <br> the state of the art of machine learning\",\"yref\":\"y\"},{\"font\":{\"color\":\"#000000\"},\"showarrow\":false,\"text\":\"0.43\",\"x\":\"8. 10-20 years\",\"xref\":\"x\",\"y\":\"Do research that advances <br> the state of the art of machine learning\",\"yref\":\"y\"},{\"font\":{\"color\":\"#FFFFFF\"},\"showarrow\":false,\"text\":\"0.04\",\"x\":\"1. 0 years\",\"xref\":\"x\",\"y\":\"Experimentation and iteration<br> to improve existing ML models\",\"yref\":\"y\"},{\"font\":{\"color\":\"#FFFFFF\"},\"showarrow\":false,\"text\":\"0.12\",\"x\":\"2. < 1 years\",\"xref\":\"x\",\"y\":\"Experimentation and iteration<br> to improve existing ML models\",\"yref\":\"y\"},{\"font\":{\"color\":\"#FFFFFF\"},\"showarrow\":false,\"text\":\"0.23\",\"x\":\"3. 1-2 years\",\"xref\":\"x\",\"y\":\"Experimentation and iteration<br> to improve existing ML models\",\"yref\":\"y\"},{\"font\":{\"color\":\"#FFFFFF\"},\"showarrow\":false,\"text\":\"0.31\",\"x\":\"4. 2-3 years\",\"xref\":\"x\",\"y\":\"Experimentation and iteration<br> to improve existing ML models\",\"yref\":\"y\"},{\"font\":{\"color\":\"#000000\"},\"showarrow\":false,\"text\":\"0.44\",\"x\":\"5. 3-4 years\",\"xref\":\"x\",\"y\":\"Experimentation and iteration<br> to improve existing ML models\",\"yref\":\"y\"},{\"font\":{\"color\":\"#000000\"},\"showarrow\":false,\"text\":\"0.47\",\"x\":\"6. 4-5 years\",\"xref\":\"x\",\"y\":\"Experimentation and iteration<br> to improve existing ML models\",\"yref\":\"y\"},{\"font\":{\"color\":\"#000000\"},\"showarrow\":false,\"text\":\"0.56\",\"x\":\"7. 5-10 years\",\"xref\":\"x\",\"y\":\"Experimentation and iteration<br> to improve existing ML models\",\"yref\":\"y\"},{\"font\":{\"color\":\"#000000\"},\"showarrow\":false,\"text\":\"0.57\",\"x\":\"8. 10-20 years\",\"xref\":\"x\",\"y\":\"Experimentation and iteration<br> to improve existing ML models\",\"yref\":\"y\"},{\"font\":{\"color\":\"#FFFFFF\"},\"showarrow\":false,\"text\":\"0.05\",\"x\":\"1. 0 years\",\"xref\":\"x\",\"y\":\"Build and/or run a machine learning <br>service that operationally improves my product or workflows\",\"yref\":\"y\"},{\"font\":{\"color\":\"#FFFFFF\"},\"showarrow\":false,\"text\":\"0.11\",\"x\":\"2. < 1 years\",\"xref\":\"x\",\"y\":\"Build and/or run a machine learning <br>service that operationally improves my product or workflows\",\"yref\":\"y\"},{\"font\":{\"color\":\"#FFFFFF\"},\"showarrow\":false,\"text\":\"0.25\",\"x\":\"3. 1-2 years\",\"xref\":\"x\",\"y\":\"Build and/or run a machine learning <br>service that operationally improves my product or workflows\",\"yref\":\"y\"},{\"font\":{\"color\":\"#FFFFFF\"},\"showarrow\":false,\"text\":\"0.31\",\"x\":\"4. 2-3 years\",\"xref\":\"x\",\"y\":\"Build and/or run a machine learning <br>service that operationally improves my product or workflows\",\"yref\":\"y\"},{\"font\":{\"color\":\"#000000\"},\"showarrow\":false,\"text\":\"0.4\",\"x\":\"5. 3-4 years\",\"xref\":\"x\",\"y\":\"Build and/or run a machine learning <br>service that operationally improves my product or workflows\",\"yref\":\"y\"},{\"font\":{\"color\":\"#000000\"},\"showarrow\":false,\"text\":\"0.41\",\"x\":\"6. 4-5 years\",\"xref\":\"x\",\"y\":\"Build and/or run a machine learning <br>service that operationally improves my product or workflows\",\"yref\":\"y\"},{\"font\":{\"color\":\"#000000\"},\"showarrow\":false,\"text\":\"0.47\",\"x\":\"7. 5-10 years\",\"xref\":\"x\",\"y\":\"Build and/or run a machine learning <br>service that operationally improves my product or workflows\",\"yref\":\"y\"},{\"font\":{\"color\":\"#000000\"},\"showarrow\":false,\"text\":\"0.42\",\"x\":\"8. 10-20 years\",\"xref\":\"x\",\"y\":\"Build and/or run a machine learning <br>service that operationally improves my product or workflows\",\"yref\":\"y\"},{\"font\":{\"color\":\"#FFFFFF\"},\"showarrow\":false,\"text\":\"0.07\",\"x\":\"1. 0 years\",\"xref\":\"x\",\"y\":\"Build prototypes to explore <br>applying machine learning to new areas\",\"yref\":\"y\"},{\"font\":{\"color\":\"#FFFFFF\"},\"showarrow\":false,\"text\":\"0.17\",\"x\":\"2. < 1 years\",\"xref\":\"x\",\"y\":\"Build prototypes to explore <br>applying machine learning to new areas\",\"yref\":\"y\"},{\"font\":{\"color\":\"#FFFFFF\"},\"showarrow\":false,\"text\":\"0.33\",\"x\":\"3. 1-2 years\",\"xref\":\"x\",\"y\":\"Build prototypes to explore <br>applying machine learning to new areas\",\"yref\":\"y\"},{\"font\":{\"color\":\"#000000\"},\"showarrow\":false,\"text\":\"0.46\",\"x\":\"4. 2-3 years\",\"xref\":\"x\",\"y\":\"Build prototypes to explore <br>applying machine learning to new areas\",\"yref\":\"y\"},{\"font\":{\"color\":\"#000000\"},\"showarrow\":false,\"text\":\"0.53\",\"x\":\"5. 3-4 years\",\"xref\":\"x\",\"y\":\"Build prototypes to explore <br>applying machine learning to new areas\",\"yref\":\"y\"},{\"font\":{\"color\":\"#000000\"},\"showarrow\":false,\"text\":\"0.58\",\"x\":\"6. 4-5 years\",\"xref\":\"x\",\"y\":\"Build prototypes to explore <br>applying machine learning to new areas\",\"yref\":\"y\"},{\"font\":{\"color\":\"#000000\"},\"showarrow\":false,\"text\":\"0.67\",\"x\":\"7. 5-10 years\",\"xref\":\"x\",\"y\":\"Build prototypes to explore <br>applying machine learning to new areas\",\"yref\":\"y\"},{\"font\":{\"color\":\"#000000\"},\"showarrow\":false,\"text\":\"0.65\",\"x\":\"8. 10-20 years\",\"xref\":\"x\",\"y\":\"Build prototypes to explore <br>applying machine learning to new areas\",\"yref\":\"y\"},{\"font\":{\"color\":\"#FFFFFF\"},\"showarrow\":false,\"text\":\"0.23\",\"x\":\"1. 0 years\",\"xref\":\"x\",\"y\":\"Build and/or run the data infrastructure that my<br> business uses for storing, analyzing, and operationalizing data\",\"yref\":\"y\"},{\"font\":{\"color\":\"#FFFFFF\"},\"showarrow\":false,\"text\":\"0.22\",\"x\":\"2. < 1 years\",\"xref\":\"x\",\"y\":\"Build and/or run the data infrastructure that my<br> business uses for storing, analyzing, and operationalizing data\",\"yref\":\"y\"},{\"font\":{\"color\":\"#FFFFFF\"},\"showarrow\":false,\"text\":\"0.33\",\"x\":\"3. 1-2 years\",\"xref\":\"x\",\"y\":\"Build and/or run the data infrastructure that my<br> business uses for storing, analyzing, and operationalizing data\",\"yref\":\"y\"},{\"font\":{\"color\":\"#FFFFFF\"},\"showarrow\":false,\"text\":\"0.35\",\"x\":\"4. 2-3 years\",\"xref\":\"x\",\"y\":\"Build and/or run the data infrastructure that my<br> business uses for storing, analyzing, and operationalizing data\",\"yref\":\"y\"},{\"font\":{\"color\":\"#FFFFFF\"},\"showarrow\":false,\"text\":\"0.34\",\"x\":\"5. 3-4 years\",\"xref\":\"x\",\"y\":\"Build and/or run the data infrastructure that my<br> business uses for storing, analyzing, and operationalizing data\",\"yref\":\"y\"},{\"font\":{\"color\":\"#000000\"},\"showarrow\":false,\"text\":\"0.37\",\"x\":\"6. 4-5 years\",\"xref\":\"x\",\"y\":\"Build and/or run the data infrastructure that my<br> business uses for storing, analyzing, and operationalizing data\",\"yref\":\"y\"},{\"font\":{\"color\":\"#000000\"},\"showarrow\":false,\"text\":\"0.39\",\"x\":\"7. 5-10 years\",\"xref\":\"x\",\"y\":\"Build and/or run the data infrastructure that my<br> business uses for storing, analyzing, and operationalizing data\",\"yref\":\"y\"},{\"font\":{\"color\":\"#000000\"},\"showarrow\":false,\"text\":\"0.36\",\"x\":\"8. 10-20 years\",\"xref\":\"x\",\"y\":\"Build and/or run the data infrastructure that my<br> business uses for storing, analyzing, and operationalizing data\",\"yref\":\"y\"},{\"font\":{\"color\":\"#000000\"},\"showarrow\":false,\"text\":\"0.5\",\"x\":\"1. 0 years\",\"xref\":\"x\",\"y\":\"Analyze and understand data to <br>influence product or business decisions\",\"yref\":\"y\"},{\"font\":{\"color\":\"#000000\"},\"showarrow\":false,\"text\":\"0.48\",\"x\":\"2. < 1 years\",\"xref\":\"x\",\"y\":\"Analyze and understand data to <br>influence product or business decisions\",\"yref\":\"y\"},{\"font\":{\"color\":\"#000000\"},\"showarrow\":false,\"text\":\"0.57\",\"x\":\"3. 1-2 years\",\"xref\":\"x\",\"y\":\"Analyze and understand data to <br>influence product or business decisions\",\"yref\":\"y\"},{\"font\":{\"color\":\"#000000\"},\"showarrow\":false,\"text\":\"0.59\",\"x\":\"4. 2-3 years\",\"xref\":\"x\",\"y\":\"Analyze and understand data to <br>influence product or business decisions\",\"yref\":\"y\"},{\"font\":{\"color\":\"#000000\"},\"showarrow\":false,\"text\":\"0.61\",\"x\":\"5. 3-4 years\",\"xref\":\"x\",\"y\":\"Analyze and understand data to <br>influence product or business decisions\",\"yref\":\"y\"},{\"font\":{\"color\":\"#000000\"},\"showarrow\":false,\"text\":\"0.61\",\"x\":\"6. 4-5 years\",\"xref\":\"x\",\"y\":\"Analyze and understand data to <br>influence product or business decisions\",\"yref\":\"y\"},{\"font\":{\"color\":\"#000000\"},\"showarrow\":false,\"text\":\"0.65\",\"x\":\"7. 5-10 years\",\"xref\":\"x\",\"y\":\"Analyze and understand data to <br>influence product or business decisions\",\"yref\":\"y\"},{\"font\":{\"color\":\"#000000\"},\"showarrow\":false,\"text\":\"0.63\",\"x\":\"8. 10-20 years\",\"xref\":\"x\",\"y\":\"Analyze and understand data to <br>influence product or business decisions\",\"yref\":\"y\"}],\"xaxis\":{\"dtick\":1,\"gridcolor\":\"rgb(0, 0, 0)\",\"side\":\"bottom\",\"ticks\":\"\",\"title\":{\"text\":\"\"}},\"yaxis\":{\"dtick\":1,\"ticks\":\"\",\"ticksuffix\":\"  \",\"title\":{\"text\":\"\"}},\"template\":{\"data\":{\"histogram2dcontour\":[{\"type\":\"histogram2dcontour\",\"colorbar\":{\"outlinewidth\":0,\"ticks\":\"\"},\"colorscale\":[[0.0,\"#0d0887\"],[0.1111111111111111,\"#46039f\"],[0.2222222222222222,\"#7201a8\"],[0.3333333333333333,\"#9c179e\"],[0.4444444444444444,\"#bd3786\"],[0.5555555555555556,\"#d8576b\"],[0.6666666666666666,\"#ed7953\"],[0.7777777777777778,\"#fb9f3a\"],[0.8888888888888888,\"#fdca26\"],[1.0,\"#f0f921\"]]}],\"choropleth\":[{\"type\":\"choropleth\",\"colorbar\":{\"outlinewidth\":0,\"ticks\":\"\"}}],\"histogram2d\":[{\"type\":\"histogram2d\",\"colorbar\":{\"outlinewidth\":0,\"ticks\":\"\"},\"colorscale\":[[0.0,\"#0d0887\"],[0.1111111111111111,\"#46039f\"],[0.2222222222222222,\"#7201a8\"],[0.3333333333333333,\"#9c179e\"],[0.4444444444444444,\"#bd3786\"],[0.5555555555555556,\"#d8576b\"],[0.6666666666666666,\"#ed7953\"],[0.7777777777777778,\"#fb9f3a\"],[0.8888888888888888,\"#fdca26\"],[1.0,\"#f0f921\"]]}],\"heatmap\":[{\"type\":\"heatmap\",\"colorbar\":{\"outlinewidth\":0,\"ticks\":\"\"},\"colorscale\":[[0.0,\"#0d0887\"],[0.1111111111111111,\"#46039f\"],[0.2222222222222222,\"#7201a8\"],[0.3333333333333333,\"#9c179e\"],[0.4444444444444444,\"#bd3786\"],[0.5555555555555556,\"#d8576b\"],[0.6666666666666666,\"#ed7953\"],[0.7777777777777778,\"#fb9f3a\"],[0.8888888888888888,\"#fdca26\"],[1.0,\"#f0f921\"]]}],\"heatmapgl\":[{\"type\":\"heatmapgl\",\"colorbar\":{\"outlinewidth\":0,\"ticks\":\"\"},\"colorscale\":[[0.0,\"#0d0887\"],[0.1111111111111111,\"#46039f\"],[0.2222222222222222,\"#7201a8\"],[0.3333333333333333,\"#9c179e\"],[0.4444444444444444,\"#bd3786\"],[0.5555555555555556,\"#d8576b\"],[0.6666666666666666,\"#ed7953\"],[0.7777777777777778,\"#fb9f3a\"],[0.8888888888888888,\"#fdca26\"],[1.0,\"#f0f921\"]]}],\"contourcarpet\":[{\"type\":\"contourcarpet\",\"colorbar\":{\"outlinewidth\":0,\"ticks\":\"\"}}],\"contour\":[{\"type\":\"contour\",\"colorbar\":{\"outlinewidth\":0,\"ticks\":\"\"},\"colorscale\":[[0.0,\"#0d0887\"],[0.1111111111111111,\"#46039f\"],[0.2222222222222222,\"#7201a8\"],[0.3333333333333333,\"#9c179e\"],[0.4444444444444444,\"#bd3786\"],[0.5555555555555556,\"#d8576b\"],[0.6666666666666666,\"#ed7953\"],[0.7777777777777778,\"#fb9f3a\"],[0.8888888888888888,\"#fdca26\"],[1.0,\"#f0f921\"]]}],\"surface\":[{\"type\":\"surface\",\"colorbar\":{\"outlinewidth\":0,\"ticks\":\"\"},\"colorscale\":[[0.0,\"#0d0887\"],[0.1111111111111111,\"#46039f\"],[0.2222222222222222,\"#7201a8\"],[0.3333333333333333,\"#9c179e\"],[0.4444444444444444,\"#bd3786\"],[0.5555555555555556,\"#d8576b\"],[0.6666666666666666,\"#ed7953\"],[0.7777777777777778,\"#fb9f3a\"],[0.8888888888888888,\"#fdca26\"],[1.0,\"#f0f921\"]]}],\"mesh3d\":[{\"type\":\"mesh3d\",\"colorbar\":{\"outlinewidth\":0,\"ticks\":\"\"}}],\"scatter\":[{\"fillpattern\":{\"fillmode\":\"overlay\",\"size\":10,\"solidity\":0.2},\"type\":\"scatter\"}],\"parcoords\":[{\"type\":\"parcoords\",\"line\":{\"colorbar\":{\"outlinewidth\":0,\"ticks\":\"\"}}}],\"scatterpolargl\":[{\"type\":\"scatterpolargl\",\"marker\":{\"colorbar\":{\"outlinewidth\":0,\"ticks\":\"\"}}}],\"bar\":[{\"error_x\":{\"color\":\"#2a3f5f\"},\"error_y\":{\"color\":\"#2a3f5f\"},\"marker\":{\"line\":{\"color\":\"#E5ECF6\",\"width\":0.5},\"pattern\":{\"fillmode\":\"overlay\",\"size\":10,\"solidity\":0.2}},\"type\":\"bar\"}],\"scattergeo\":[{\"type\":\"scattergeo\",\"marker\":{\"colorbar\":{\"outlinewidth\":0,\"ticks\":\"\"}}}],\"scatterpolar\":[{\"type\":\"scatterpolar\",\"marker\":{\"colorbar\":{\"outlinewidth\":0,\"ticks\":\"\"}}}],\"histogram\":[{\"marker\":{\"pattern\":{\"fillmode\":\"overlay\",\"size\":10,\"solidity\":0.2}},\"type\":\"histogram\"}],\"scattergl\":[{\"type\":\"scattergl\",\"marker\":{\"colorbar\":{\"outlinewidth\":0,\"ticks\":\"\"}}}],\"scatter3d\":[{\"type\":\"scatter3d\",\"line\":{\"colorbar\":{\"outlinewidth\":0,\"ticks\":\"\"}},\"marker\":{\"colorbar\":{\"outlinewidth\":0,\"ticks\":\"\"}}}],\"scattermapbox\":[{\"type\":\"scattermapbox\",\"marker\":{\"colorbar\":{\"outlinewidth\":0,\"ticks\":\"\"}}}],\"scatterternary\":[{\"type\":\"scatterternary\",\"marker\":{\"colorbar\":{\"outlinewidth\":0,\"ticks\":\"\"}}}],\"scattercarpet\":[{\"type\":\"scattercarpet\",\"marker\":{\"colorbar\":{\"outlinewidth\":0,\"ticks\":\"\"}}}],\"carpet\":[{\"aaxis\":{\"endlinecolor\":\"#2a3f5f\",\"gridcolor\":\"white\",\"linecolor\":\"white\",\"minorgridcolor\":\"white\",\"startlinecolor\":\"#2a3f5f\"},\"baxis\":{\"endlinecolor\":\"#2a3f5f\",\"gridcolor\":\"white\",\"linecolor\":\"white\",\"minorgridcolor\":\"white\",\"startlinecolor\":\"#2a3f5f\"},\"type\":\"carpet\"}],\"table\":[{\"cells\":{\"fill\":{\"color\":\"#EBF0F8\"},\"line\":{\"color\":\"white\"}},\"header\":{\"fill\":{\"color\":\"#C8D4E3\"},\"line\":{\"color\":\"white\"}},\"type\":\"table\"}],\"barpolar\":[{\"marker\":{\"line\":{\"color\":\"#E5ECF6\",\"width\":0.5},\"pattern\":{\"fillmode\":\"overlay\",\"size\":10,\"solidity\":0.2}},\"type\":\"barpolar\"}],\"pie\":[{\"automargin\":true,\"type\":\"pie\"}]},\"layout\":{\"autotypenumbers\":\"strict\",\"colorway\":[\"#636efa\",\"#EF553B\",\"#00cc96\",\"#ab63fa\",\"#FFA15A\",\"#19d3f3\",\"#FF6692\",\"#B6E880\",\"#FF97FF\",\"#FECB52\"],\"font\":{\"color\":\"#2a3f5f\"},\"hovermode\":\"closest\",\"hoverlabel\":{\"align\":\"left\"},\"paper_bgcolor\":\"white\",\"plot_bgcolor\":\"#E5ECF6\",\"polar\":{\"bgcolor\":\"#E5ECF6\",\"angularaxis\":{\"gridcolor\":\"white\",\"linecolor\":\"white\",\"ticks\":\"\"},\"radialaxis\":{\"gridcolor\":\"white\",\"linecolor\":\"white\",\"ticks\":\"\"}},\"ternary\":{\"bgcolor\":\"#E5ECF6\",\"aaxis\":{\"gridcolor\":\"white\",\"linecolor\":\"white\",\"ticks\":\"\"},\"baxis\":{\"gridcolor\":\"white\",\"linecolor\":\"white\",\"ticks\":\"\"},\"caxis\":{\"gridcolor\":\"white\",\"linecolor\":\"white\",\"ticks\":\"\"}},\"coloraxis\":{\"colorbar\":{\"outlinewidth\":0,\"ticks\":\"\"}},\"colorscale\":{\"sequential\":[[0.0,\"#0d0887\"],[0.1111111111111111,\"#46039f\"],[0.2222222222222222,\"#7201a8\"],[0.3333333333333333,\"#9c179e\"],[0.4444444444444444,\"#bd3786\"],[0.5555555555555556,\"#d8576b\"],[0.6666666666666666,\"#ed7953\"],[0.7777777777777778,\"#fb9f3a\"],[0.8888888888888888,\"#fdca26\"],[1.0,\"#f0f921\"]],\"sequentialminus\":[[0.0,\"#0d0887\"],[0.1111111111111111,\"#46039f\"],[0.2222222222222222,\"#7201a8\"],[0.3333333333333333,\"#9c179e\"],[0.4444444444444444,\"#bd3786\"],[0.5555555555555556,\"#d8576b\"],[0.6666666666666666,\"#ed7953\"],[0.7777777777777778,\"#fb9f3a\"],[0.8888888888888888,\"#fdca26\"],[1.0,\"#f0f921\"]],\"diverging\":[[0,\"#8e0152\"],[0.1,\"#c51b7d\"],[0.2,\"#de77ae\"],[0.3,\"#f1b6da\"],[0.4,\"#fde0ef\"],[0.5,\"#f7f7f7\"],[0.6,\"#e6f5d0\"],[0.7,\"#b8e186\"],[0.8,\"#7fbc41\"],[0.9,\"#4d9221\"],[1,\"#276419\"]]},\"xaxis\":{\"gridcolor\":\"white\",\"linecolor\":\"white\",\"ticks\":\"\",\"title\":{\"standoff\":15},\"zerolinecolor\":\"white\",\"automargin\":true,\"zerolinewidth\":2},\"yaxis\":{\"gridcolor\":\"white\",\"linecolor\":\"white\",\"ticks\":\"\",\"title\":{\"standoff\":15},\"zerolinecolor\":\"white\",\"automargin\":true,\"zerolinewidth\":2},\"scene\":{\"xaxis\":{\"backgroundcolor\":\"#E5ECF6\",\"gridcolor\":\"white\",\"linecolor\":\"white\",\"showbackground\":true,\"ticks\":\"\",\"zerolinecolor\":\"white\",\"gridwidth\":2},\"yaxis\":{\"backgroundcolor\":\"#E5ECF6\",\"gridcolor\":\"white\",\"linecolor\":\"white\",\"showbackground\":true,\"ticks\":\"\",\"zerolinecolor\":\"white\",\"gridwidth\":2},\"zaxis\":{\"backgroundcolor\":\"#E5ECF6\",\"gridcolor\":\"white\",\"linecolor\":\"white\",\"showbackground\":true,\"ticks\":\"\",\"zerolinecolor\":\"white\",\"gridwidth\":2}},\"shapedefaults\":{\"line\":{\"color\":\"#2a3f5f\"}},\"annotationdefaults\":{\"arrowcolor\":\"#2a3f5f\",\"arrowhead\":0,\"arrowwidth\":1},\"geo\":{\"bgcolor\":\"white\",\"landcolor\":\"#E5ECF6\",\"subunitcolor\":\"white\",\"showland\":true,\"showlakes\":true,\"lakecolor\":\"white\"},\"title\":{\"x\":0.05},\"mapbox\":{\"style\":\"light\"}}},\"font\":{\"color\":\"#7b6b59\"},\"title\":{\"text\":\"<span style='font-size:30px; font-family:Times New Roman'>Experience(years) for different responsibilities in Machine Learning domain </span><br><span style='font-size:14px; font-family:Helvetica'>This helps us understand the level of ML experience needed to perform an activity.</b></span>\"}},                        {\"responsive\": true}                    ).then(function(){\n",
       "                            \n",
       "var gd = document.getElementById('b0e6b85f-7798-4d99-837c-4190d6a6e436');\n",
       "var x = new MutationObserver(function (mutations, observer) {{\n",
       "        var display = window.getComputedStyle(gd).display;\n",
       "        if (!display || display === 'none') {{\n",
       "            console.log([gd, 'removed!']);\n",
       "            Plotly.purge(gd);\n",
       "            observer.disconnect();\n",
       "        }}\n",
       "}});\n",
       "\n",
       "// Listen for the removal of the full notebook cells\n",
       "var notebookContainer = gd.closest('#notebook-container');\n",
       "if (notebookContainer) {{\n",
       "    x.observe(notebookContainer, {childList: true});\n",
       "}}\n",
       "\n",
       "// Listen for the clearing of the current output cell\n",
       "var outputEl = gd.closest('.output');\n",
       "if (outputEl) {{\n",
       "    x.observe(outputEl, {childList: true});\n",
       "}}\n",
       "\n",
       "                        })                };                });            </script>        </div>"
      ]
     },
     "metadata": {},
     "output_type": "display_data"
    }
   ],
   "source": [
    "# HEATMAP\n",
    "\n",
    "years_ml_in_scope = list(map_ml_experience.values())[0:-1]\n",
    "years_ml_in_scope = years_ml_in_scope[0:-1]\n",
    "\n",
    "ml_activities = [col for col in scope_df.columns if col.startswith(\"Q28\")]\n",
    "# Exclude None and others\n",
    "ml_activities = ml_activities[:-2]\n",
    "\n",
    "ml_activities.reverse()\n",
    "x = years_ml_in_scope\n",
    "y = ['Do research that advances <br> the state of the art of machine learning',\n",
    " 'Experimentation and iteration<br> to improve existing ML models',\n",
    " 'Build and/or run a machine learning <br>service that operationally improves my product or workflows',\n",
    " 'Build prototypes to explore <br>applying machine learning to new areas',\n",
    " 'Build and/or run the data infrastructure that my<br> business uses for storing, analyzing, and operationalizing data',\n",
    " 'Analyze and understand data to <br>influence product or business decisions']\n",
    "\n",
    "z = []\n",
    "\n",
    "for activity in ml_activities:\n",
    "    tmp = []\n",
    "    for years in years_ml_in_scope:\n",
    "        tmp.append(round((scope_df[scope_df[\"Q16\"] == years][activity].count() / scope_df[scope_df[\"Q16\"] == years].shape[0]),2)) \n",
    "    z.append(tmp)\n",
    "\n",
    "create_heatmap(z, x, y, z, \"viridis\", \"Experience(years) for different responsibilities in Machine Learning domain \", subtitle=\"This helps us understand the level of ML experience needed to perform an activity.\")"
   ]
  }
 ],
 "metadata": {
  "kernelspec": {
   "display_name": "Python 3 (ipykernel)",
   "language": "python",
   "name": "python3"
  },
  "language_info": {
   "codemirror_mode": {
    "name": "ipython",
    "version": 3
   },
   "file_extension": ".py",
   "mimetype": "text/x-python",
   "name": "python",
   "nbconvert_exporter": "python",
   "pygments_lexer": "ipython3",
   "version": "3.11.5"
  }
 },
 "nbformat": 4,
 "nbformat_minor": 5
}
